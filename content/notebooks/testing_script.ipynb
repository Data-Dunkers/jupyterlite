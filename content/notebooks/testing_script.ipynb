{
  "cells": [
    {
      "cell_type": "code",
      "execution_count": null,
      "metadata": {},
      "outputs": [],
      "source": [
        "import pandas as pd\n",
        "df = pd.read_csv(pyodide.http.open_url('https://docs.google.com/spreadsheets/d/1U4K0hI3NRbfRJgS1-JiRRqScaeNZ4OsNhYgUlS2wLpY/export?format=csv'))\n"
      ]
    }
  ],
  "metadata": {
    "kernelspec": {
      "display_name": "Python 3",
      "name": "python3"
    },
    "language_info": {
      "name": "python"
    }
  },
  "nbformat": 4,
  "nbformat_minor": 0
}