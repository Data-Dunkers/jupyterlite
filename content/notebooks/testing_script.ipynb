{
  "cells": [
    {
      "cell_type": "code",
      "execution_count": null,
      "metadata": {},
      "outputs": [],
      "source": [
        "import piplite, pyodide_http, pyodide\n",
        "await piplite.install(['pandas', 'plotly', 'nbformat', 'statsmodels'])\n",
        "pyodide_http.patch_all()\n",
        "import pandas as pd\n",
        "df = pd.read_csv(pyodide.http.open_url('https://docs.google.com/spreadsheets/d/1U4K0hI3NRbfRJgS1-JiRRqScaeNZ4OsNhYgUlS2wLpY/export?format=csv'))\n"
      ]
    }
  ],
  "metadata": {
    "kernelspec": {
      "display_name": "Python 3",
      "name": "python3"
    },
    "language_info": {
      "name": "python"
    }
  },
  "nbformat": 4,
  "nbformat_minor": 0
}