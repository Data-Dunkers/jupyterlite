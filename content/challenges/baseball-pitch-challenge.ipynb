{
 "cells": [
  {
   "cell_type": "markdown",
   "id": "82edd93d-fc37-4e97-b118-6a7ff72718f4",
   "metadata": {},
   "source": [
    "![DataDunkers.ca Banner](https://github.com/Data-Dunkers/lessons/blob/main/images/top-banner.jpg?raw=true)"
   ]
  },
  {
   "cell_type": "markdown",
   "id": "c1f3d788-af33-48c1-a96c-8ede5bb22666",
   "metadata": {},
   "source": [
    "# Baseball Challenge\n",
    "\n",
    "Submitted by: \n",
    "\n",
    "## Introduction\n",
    "\n",
    "In this notebook we will...\n",
    "\n",
    "\n",
    "### Suggested Goals\n",
    "  \n",
    "1. Group the data by a column and calculate mean pitch speed for that column.\n",
    "    1. e.g. `pitch_data.groupby(by='player_name')['release_speed'].mean()`\n",
    "1. Find the maximum pitch speed for a column\n",
    "1. How many pitchers can throw sinkers over 95 mph?\n",
    "1. Which pitcher throws, on average, the fastest?\n",
    "1. Which pitcher threw the hardest pitch in the dataset?\n",
    "1. What is the highest average velocity for each pitch?\n",
    "1. How many pitches over 100mph are strikes?"
   ]
  },
  {
   "cell_type": "code",
   "execution_count": null,
   "id": "a88d3ac8-49ad-4f3c-82af-8802caf80c61",
   "metadata": {},
   "outputs": [],
   "source": [
    "import piplite, pyodide_http, pyodide\n",
    "await piplite.install(['pandas', 'plotly', 'nbformat', 'statsmodels'])\n",
    "pyodide_http.patch_all()\n",
    "import plotly.express as px\n",
    "import pandas as pd\n",
    "\n",
    "pitch_data = pd.read_csv('baseball-pitch-data.csv')\n",
    "pitch_data"
   ]
  },
  {
   "cell_type": "markdown",
   "id": "cf18dc6d",
   "metadata": {},
   "source": [
    "Visualizing the strike zone"
   ]
  },
  {
   "cell_type": "code",
   "execution_count": null,
   "id": "88315c57-b7f2-4729-be34-32d26798e85c",
   "metadata": {},
   "outputs": [],
   "source": [
    "fig1 = px.scatter(data_frame=pitch_data,x='plate_x', y='plate_z', color='p_throws', opacity=0.4,\n",
    "                  title='Pitched ball location (all balls)',\n",
    "                  labels={'plate_x':\"Horizontal position (feet)\", \n",
    "                          \"plate_z\":\"Height (feet)\", \n",
    "                          'p_throws':'Pitcher throws'},\n",
    "                          height=800, width=800)\n",
    "fig1.add_shape(type='rect', x0=-0.708, x1=0.708, y0=pitch_data['sz_bot'].mean(), y1=pitch_data['sz_top'].mean())\n",
    "fig1.update_yaxes(scaleanchor='x', scaleratio=1)\n",
    "fig1"
   ]
  },
  {
   "cell_type": "markdown",
   "id": "57b54c6d",
   "metadata": {},
   "source": []
  },
  {
   "cell_type": "code",
   "execution_count": null,
   "id": "bac8edf8",
   "metadata": {},
   "outputs": [],
   "source": []
  },
  {
   "cell_type": "markdown",
   "id": "26fa3c49-5488-4a97-b3c1-bb9334065174",
   "metadata": {},
   "source": [
    "## Reflections\n",
    "\n",
    "Write about some or all of the following questions:\n",
    "\n",
    "- What is something you learned through this process?\n",
    "- How well did your group work together? Why do you think that is?\n",
    "- What were some of the hardest parts?\n",
    "- What are you proud of? What would you like to show others?\n",
    "- Are you curious about anything else related to this? Did anything surprise you?\n",
    "- How can you apply your learning to future activities?"
   ]
  },
  {
   "cell_type": "markdown",
   "id": "01da2518-51b6-46bc-809a-31b1e3023c84",
   "metadata": {},
   "source": [
    "[![Data Dunkers License](https://github.com/Data-Dunkers/lessons/blob/main/images/bottom-banner.jpg?raw=true)](https://github.com/Data-Dunkers/lessons/blob/main/LICENSE.md)"
   ]
  }
 ],
 "metadata": {
  "kernelspec": {
   "display_name": "Python 3 (ipykernel)",
   "language": "python",
   "name": "python3"
  },
  "language_info": {
   "codemirror_mode": {
    "name": "ipython",
    "version": 3
   },
   "file_extension": ".py",
   "mimetype": "text/x-python",
   "name": "python",
   "nbconvert_exporter": "python",
   "pygments_lexer": "ipython3",
   "version": "3.10.8"
  },
  "vscode": {
   "interpreter": {
    "hash": "d1ca6d17674200220921376aaeb3d36cffe15ecab2470a9a5e7a456cdbf61425"
   }
  }
 },
 "nbformat": 4,
 "nbformat_minor": 5
}
