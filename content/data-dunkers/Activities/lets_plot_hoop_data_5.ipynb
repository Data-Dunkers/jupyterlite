{
 "cells": [
  {
   "cell_type": "markdown",
   "metadata": {},
   "source": [
    "# Let's Plot Hoop Data!"
   ]
  },
  {
   "cell_type": "markdown",
   "metadata": {},
   "source": [
    "## Imports"
   ]
  },
  {
   "cell_type": "markdown",
   "metadata": {},
   "source": [
    "| [Importing from Sheets Lesson](../Demos/data-from-google-sheet.ipynb) |\n",
    "\n",
    "First we have to import Plotly Express and pandas and then import and display the data."
   ]
  },
  {
   "cell_type": "code",
   "execution_count": null,
   "metadata": {},
   "outputs": [],
   "source": [
    "import piplite, pyodide_http, pyodide\n",
    "await piplite.install(['pandas', 'plotly', 'nbformat', 'statsmodels'])\n",
    "pyodide_http.patch_all()\n",
    "import plotly.express as px\n",
    "import pandas as pd\n",
    "\n",
    "url = 'https://docs.google.com/spreadsheets/d/1BFQvIypVAtZTxELURWg69qCXPdkD0c4Lc0CXM4WVIxo/export?format=csv'\n",
    "df = pd.read_csv(pyodide.http.open_url(url))\n",
    "df"
   ]
  },
  {
   "cell_type": "markdown",
   "metadata": {},
   "source": [
    "Now let's create a plot. Insert column labels for the x-axis and the y-axis."
   ]
  },
  {
   "cell_type": "code",
   "execution_count": null,
   "metadata": {},
   "outputs": [],
   "source": [
    "px.line(df, x='Shot Distance (feet)', y='# Out of 5', title='All Data Dunkers Data')"
   ]
  },
  {
   "cell_type": "markdown",
   "metadata": {},
   "source": [
    "## Filtering Data\n",
    "\n",
    "| [Filtering Data Lesson](../Demos/filtering-data.ipynb) |\n",
    "\n",
    "Next we're going to create a filter to get our own data. From `df.columns` we know that our name is in the `Initials` field. \n",
    "\n",
    "To create the filter *and* sort the data, we do this:\n",
    "\n",
    "```\n",
    "filter = df['Initials'] == 'PB'\n",
    "student_df = df[filter].sort_values('Shot Distance (feet)')\n",
    "```\n",
    "\n",
    "Note that this creates a new dataframe named `student_df`.\n",
    "\n",
    "Use the cell below to filter and sort your data for your name. You can display your data with `student_df`."
   ]
  },
  {
   "cell_type": "code",
   "execution_count": null,
   "metadata": {},
   "outputs": [],
   "source": [
    "filter = df['Initials'] == 'PB'\n",
    "student_df = df[filter].sort_values('Shot Distance (feet)')\n",
    "student_df"
   ]
  },
  {
   "cell_type": "markdown",
   "metadata": {},
   "source": [
    "This next part will convert our data to *Percentage of Shots Made* and put it in a new dataframe named `graph_df`, which we will plot."
   ]
  },
  {
   "cell_type": "markdown",
   "metadata": {},
   "source": [
    "## Graph Output"
   ]
  },
  {
   "cell_type": "markdown",
   "metadata": {},
   "source": [
    "| [Bar Graphs Lesson](../Demos/bar-graphs.ipynb) |\n",
    "\n",
    "In this next cell we're doing something we haven't learned yet, and that is grouping all the distance data together and taking the average (mean) of each. We then put this in a new dataframe named `graph_df` and use that from then on. "
   ]
  },
  {
   "cell_type": "code",
   "execution_count": null,
   "metadata": {},
   "outputs": [],
   "source": [
    "graph_df = student_df.groupby('Shot Distance (feet)')['# Out of 5'].mean()*20\n",
    "graph_df"
   ]
  },
  {
   "cell_type": "markdown",
   "metadata": {},
   "source": [
    "Modify and fix the code below, replacing YOURNAMEHERE with your name. Run the code and save your graph!"
   ]
  },
  {
   "cell_type": "code",
   "execution_count": null,
   "metadata": {},
   "outputs": [],
   "source": [
    "fig = px.???(graph_df, title='Percentage of Shots Made versus Distance for YOURNAMEHERE')\n",
    "fig.update_layout(yaxis_title=\"Percentage of Shots Made\")\n",
    "fig.update_yaxes(range=[0, 100])\n",
    "fig.show()"
   ]
  },
  {
   "cell_type": "markdown",
   "metadata": {},
   "source": [
    "When you're done, don't forget to save your graph! "
   ]
  }
 ],
 "metadata": {
  "kernelspec": {
   "display_name": ".venv",
   "language": "python",
   "name": "python3"
  },
  "language_info": {
   "codemirror_mode": {
    "name": "ipython",
    "version": 3
   },
   "file_extension": ".py",
   "mimetype": "text/x-python",
   "name": "python",
   "nbconvert_exporter": "python",
   "pygments_lexer": "ipython3",
   "version": "3.10.5"
  }
 },
 "nbformat": 4,
 "nbformat_minor": 2
}
