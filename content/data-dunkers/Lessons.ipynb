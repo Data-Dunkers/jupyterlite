{
 "cells": [
  {
   "cell_type": "markdown",
   "metadata": {},
   "source": [
    "# Lesson Suggestions"
   ]
  },
  {
   "cell_type": "markdown",
   "metadata": {},
   "source": [
    "The lessons have been designed to be done in this order, but you may wish to adapt the order, depending on the audience, your needs, or time constraints. \n",
    "\n",
    "A summary of the code snippets covered in these lessons are compiled into this [cheatsheet](cheatsheet.md). You may find this valuable to refer to while doing the lessons."
   ]
  },
  {
   "cell_type": "markdown",
   "metadata": {},
   "source": [
    "## Intro to Jupyter Notebooks"
   ]
  },
  {
   "cell_type": "markdown",
   "metadata": {},
   "source": [
    "1. [Demo: Jupyter Notebooks](Demos/jupyter-notebook-demo.ipynb)\n",
    "   * Basics of Markdown\n",
    "   * Code Cells vs Markdown Cells (Pay attention to \"Hello world\" example program!) \n",
    "   * How to run code in a code cell\n",
    "   * Optional Class Activity: [hello-world](Activities/hello-world.ipynb)\n",
    "     * Discussion of Basic Python syntax\n",
    "\n",
    "*Note: A teacher's guide to this demo is available [here](Demos/Guides/jupyter-notebook-demo-guide.md). It is also available in [PDF](Demos/Guides/jupyter-notebook-demo-guide.pdf) format for download.*"
   ]
  },
  {
   "cell_type": "markdown",
   "metadata": {},
   "source": [
    "## Getting the Data (Input Stage)"
   ]
  },
  {
   "cell_type": "markdown",
   "metadata": {},
   "source": [
    "2. [Getting Data From Within the Notebook](Demos/data-from-internal.ipynb) ([Teacher's Guide](Demos/Guides/where-can-we-get-data-from-internal-guide.md) | [Teacher's Guide (PDF)](Demos/Guides/where-can-we-get-data-from-internal-guide.pdf))\n",
    "2. [Getting Data from a CSV file](Demos/data-from-csv.ipynb)\n",
    "3. [Getting Data from an Excel file](Demos/data-from-excel.ipynb)\n",
    "4. [Getting Data from a Webpage](Demos/data-from-webpage.ipynb)\n",
    "5. [Getting Data from a Google Sheet](Demos/data-from-google-sheet.ipynb)"
   ]
  },
  {
   "cell_type": "markdown",
   "metadata": {},
   "source": [
    "## Processing the Data (Process Stage)"
   ]
  },
  {
   "cell_type": "markdown",
   "metadata": {},
   "source": [
    "7. [Playing with Columns](Demos/columns.ipynb)\n",
    "2. [Filtering Our Data](Demos/filtering-data.ipynb)\n",
    "3. [Sorting Our Data](Demos/sorting-data.ipynb)\n",
    "4. [Adding New Columns](Demos/new-columns.ipynb)"
   ]
  },
  {
   "cell_type": "markdown",
   "metadata": {},
   "source": [
    "## Plotting the Data (Output Stage)"
   ]
  },
  {
   "cell_type": "markdown",
   "metadata": {},
   "source": [
    "11. [Bar Graphs](Demos/bar-graphs.ipynb)\n",
    "2. [Scatter Plots](Demos/scatter-plots.ipynb)\n",
    "3. [Pie Charts](Demos/pie-charts.ipynb)\n",
    "4. [Histograms](Demos/histograms.ipynb)\n",
    "5. [Statistics](Demos/statistics.ipynb)"
   ]
  }
 ],
 "metadata": {
  "language_info": {
   "name": "python"
  }
 },
 "nbformat": 4,
 "nbformat_minor": 2
}
