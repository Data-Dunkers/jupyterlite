{
 "cells": [
  {
   "attachments": {},
   "cell_type": "markdown",
   "metadata": {},
   "source": [
    "![Data Dunkers Banner](https://github.com/PS43Foundation/data-dunkers/blob/main/docs/top-banner.jpg?raw=true)"
   ]
  },
  {
   "attachments": {},
   "cell_type": "markdown",
   "metadata": {},
   "source": [
    "# Introduction to Python Programming\n",
    "\n",
    "This notebook is an optional notebook for people who want to familiarize themselves with basic Python or are in need of a refresher. Specifically, we will be exploring *variables*, *basic syntax*, *conditional statements*, *loops*, and more.\n"
   ]
  },
  {
   "attachments": {},
   "cell_type": "markdown",
   "metadata": {},
   "source": [
    "# What is Python?\n",
    "\n",
    "Python is a high-level, interpreted programming language known for its simplicity and readability. It has a wide range of applications and is popular in various domains, including web development, data analysis, machine learning, and more. Python emphasizes code readability, making it easy to understand and write.\n",
    "\n",
    " Throughout this notebook, if you'd like to learn about a particular Python concept more in depth, refer to Python's [documentation](https://docs.python.org/3/)."
   ]
  },
  {
   "attachments": {},
   "cell_type": "markdown",
   "metadata": {},
   "source": [
    "## Variables and Data Types\n",
    "\n",
    "In Python, variables are used to store and manipulate data values. They can hold different types of data, and their values can be changed throughout the program. Unlike some other programming languages, Python does not require explicit variable declaration. You can assign a value to a variable on the fly."
   ]
  },
  {
   "attachments": {},
   "cell_type": "markdown",
   "metadata": {},
   "source": [
    "### Assigning Values to Variables\n",
    "\n",
    "You can assign values to variables using the assignment operator (`=`)."
   ]
  },
  {
   "cell_type": "code",
   "execution_count": null,
   "metadata": {},
   "outputs": [],
   "source": [
    "name = \"John\"     # a string\n",
    "age = 25          # an integer\n",
    "salary = 2500.50  # a float (floating point number)\n",
    "is_student = True # a Boolean\n",
    "\n",
    "print(name, age, salary, is_student)"
   ]
  },
  {
   "cell_type": "markdown",
   "metadata": {},
   "source": [
    "### Checking Values\n",
    "\n",
    "`\"==\"` is a comparison operator, it checks whether the left value is equal to the right value.\n",
    "\n",
    "What do you think will be the outputs of the following print statements?"
   ]
  },
  {
   "cell_type": "code",
   "execution_count": null,
   "metadata": {},
   "outputs": [],
   "source": [
    "print(\"42\" == '42')\n",
    "\n",
    "print('42' == 42)\n",
    "\n",
    "print(42 == 41)\n",
    "\n",
    "print('fourty-two' == \"fourty-two\")"
   ]
  },
  {
   "attachments": {},
   "cell_type": "markdown",
   "metadata": {},
   "source": [
    "### Variable Naming\n",
    "\n",
    "When naming variables, you should follow certain rules:\n",
    "\n",
    "- Variable names are case-sensitive (**age** and **Age** are different variables)\n",
    "- Variable names can contain letters (a-z, A-Z), digits (0-9), and underscores (_)\n",
    "- Variable names cannot start with a digit\n",
    "- Variable names should be descriptive (e.g., num_students instead of n)"
   ]
  },
  {
   "attachments": {},
   "cell_type": "markdown",
   "metadata": {},
   "source": [
    "### Common Data Types\n",
    "Python supports various data types, including:\n",
    "\n",
    "**Numeric Types**\n",
    "- Integer: a whole number (e.g., `5`, `-10`, `0`)\n",
    "- Float: a real number with a decimal point (e.g., `3.14`, `-2.5`, `0.0`)\n",
    "  \n",
    "**Strings**\n",
    "- String: a sequence of characters enclosed in quotes (e.g., `\"Hello, World!\"`, `'Python'`, `\"42\"`)\n",
    "  \n",
    "**Booleans**\n",
    "- Boolean: `True` or `False`\n",
    "  \n",
    "**Collections**\n",
    "- List: an ordered collection of items (e.g., `[1, 2, 3]`, `['apple', 'banana', 'cherry']`)\n",
    "- Tuple: an ordered, immutable collection of items (e.g., `(1, 2, 3)`, `('red', 'green', 'blue')`)\n",
    "- Dictionary: collection of key-value pairs (e.g., `{'name':'John', 'age':25, 'city':'London'}`)"
   ]
  },
  {
   "attachments": {},
   "cell_type": "markdown",
   "metadata": {},
   "source": [
    "### Examples\n",
    "\n",
    "Numeric Types:"
   ]
  },
  {
   "cell_type": "code",
   "execution_count": null,
   "metadata": {},
   "outputs": [],
   "source": [
    "students_count = 50 # integer\n",
    "temperature = 25.5 # float\n",
    "print(students_count, temperature)"
   ]
  },
  {
   "cell_type": "markdown",
   "metadata": {},
   "source": [
    "Strings:"
   ]
  },
  {
   "cell_type": "code",
   "execution_count": null,
   "metadata": {},
   "outputs": [],
   "source": [
    "greeting = \"Hello\" # String with \"\"\n",
    "name = 'John' # String with ''\n",
    "print(greeting, name)"
   ]
  },
  {
   "cell_type": "markdown",
   "metadata": {},
   "source": [
    "Booleans:"
   ]
  },
  {
   "cell_type": "code",
   "execution_count": null,
   "metadata": {},
   "outputs": [],
   "source": [
    "is_raining = True \n",
    "is_sunny = False\n",
    "print(is_raining)"
   ]
  },
  {
   "cell_type": "markdown",
   "metadata": {},
   "source": [
    "Lists:"
   ]
  },
  {
   "cell_type": "code",
   "execution_count": null,
   "metadata": {},
   "outputs": [],
   "source": [
    "numbers = [1, 2, 3, 4, 5] # Contains Integers\n",
    "fruits = ['apple', 'banana', 'cherry'] # Contains Strings\n",
    "numbers_and_fruits = numbers + fruits\n",
    "print(numbers_and_fruits)"
   ]
  },
  {
   "cell_type": "markdown",
   "metadata": {},
   "source": [
    "Tuples:"
   ]
  },
  {
   "cell_type": "code",
   "execution_count": null,
   "metadata": {},
   "outputs": [],
   "source": [
    "coordinates = (10, 20)\n",
    "colors = ('red', 'green', 'blue')\n",
    "print(coordinates, colors)"
   ]
  },
  {
   "cell_type": "markdown",
   "metadata": {},
   "source": [
    "Dictionaries"
   ]
  },
  {
   "cell_type": "code",
   "execution_count": null,
   "metadata": {},
   "outputs": [],
   "source": [
    "person = {'name': 'John', 'age': 25, 'city': 'London'}\n",
    "print(person['name'], person['age'], person['city'])"
   ]
  },
  {
   "attachments": {},
   "cell_type": "markdown",
   "metadata": {},
   "source": [
    "Remember, you can change the value of a variable at any point in your program by assigning a new value to it. Python automatically determines the appropriate data type based on the assigned value. \n",
    "\n",
    "Understanding data types and working with variables is essential for performing various operations and manipulating data effectively."
   ]
  },
  {
   "attachments": {},
   "cell_type": "markdown",
   "metadata": {},
   "source": [
    "# Control Flow and Decision-Making\n",
    "\n",
    "In programming, control flow allows you to determine the order in which statements are executed. It enables you to make decisions based on conditions and repeat certain actions multiple times. Let's explore some important concepts in control flow."
   ]
  },
  {
   "attachments": {},
   "cell_type": "markdown",
   "metadata": {},
   "source": [
    "### Conditional Statements (if-else)\n",
    "\n",
    "Conditional statements are used to make decisions based on certain conditions. The most common conditional statement is the if statement, which executes a block of code `if` a specific condition is true. Optionally, a `else` statement can be used to specify a block of code to execute when the condition is false."
   ]
  },
  {
   "cell_type": "code",
   "execution_count": null,
   "metadata": {},
   "outputs": [],
   "source": [
    "is_sunny = True \n",
    "\n",
    "if is_sunny:        # Checks if is_sunny is True\n",
    "    print(\"It's sunny\")\n",
    "else:\n",
    "    print(\"It's raining\")"
   ]
  },
  {
   "cell_type": "markdown",
   "metadata": {},
   "source": [
    "The word `not` can also be used to check for the opposite."
   ]
  },
  {
   "cell_type": "code",
   "execution_count": null,
   "metadata": {},
   "outputs": [],
   "source": [
    "if not is_sunny:        # Checks if is_sunny is not True\n",
    "    print(\"It's sunny\")\n",
    "else:\n",
    "    print(\"It's raining\")"
   ]
  },
  {
   "attachments": {},
   "cell_type": "markdown",
   "metadata": {},
   "source": [
    "### elif Statements\n",
    "\n",
    "The elif statement is used to specify additional conditions to be checked if the preceding condition is False."
   ]
  },
  {
   "cell_type": "code",
   "execution_count": null,
   "metadata": {},
   "outputs": [],
   "source": [
    "animal = 'cat'\n",
    "\n",
    "if animal == 'dog':\n",
    "    print(\"Woof!\")\n",
    "elif animal == 'cat':\n",
    "    print(\"Meow...\")\n",
    "else:\n",
    "    print(\"It's not an animal\")"
   ]
  },
  {
   "attachments": {},
   "cell_type": "markdown",
   "metadata": {},
   "source": [
    "### Comparison Operators\n",
    "\n",
    "Comparison operators are used to evaluate conditions in conditional statements. They include:\n",
    "\n",
    "- == (equal to)\n",
    "- != (not equal to)\n",
    "- < (less than)\n",
    "- \\> (greater than)\n",
    "- <= (less than or equal to)\n",
    "- \\>= (greater than or equal to)"
   ]
  },
  {
   "cell_type": "code",
   "execution_count": null,
   "metadata": {},
   "outputs": [],
   "source": [
    "x = 10\n",
    "y = 9\n",
    "\n",
    "print(x == y)"
   ]
  },
  {
   "cell_type": "code",
   "execution_count": null,
   "metadata": {},
   "outputs": [],
   "source": [
    "print(x != y)"
   ]
  },
  {
   "cell_type": "code",
   "execution_count": null,
   "metadata": {},
   "outputs": [],
   "source": [
    "print(x < y)"
   ]
  },
  {
   "cell_type": "code",
   "execution_count": null,
   "metadata": {},
   "outputs": [],
   "source": [
    "print(x > y)"
   ]
  },
  {
   "cell_type": "code",
   "execution_count": null,
   "metadata": {},
   "outputs": [],
   "source": [
    "print(x <= y)"
   ]
  },
  {
   "cell_type": "code",
   "execution_count": null,
   "metadata": {},
   "outputs": [],
   "source": [
    "print(x >= y)"
   ]
  },
  {
   "cell_type": "markdown",
   "metadata": {},
   "source": [
    "### Logical Operators\n",
    "\n",
    "Logical operators allow you to combine multiple conditions in conditional statements. The three main logical operators are:\n",
    "\n",
    "- and (logical AND)\n",
    "- or (logical OR)\n",
    "- not (logical NOT)"
   ]
  },
  {
   "cell_type": "code",
   "execution_count": null,
   "metadata": {},
   "outputs": [],
   "source": [
    "is_raining = True\n",
    "is_sunny = False\n",
    "\n",
    "print(is_raining and is_sunny) "
   ]
  },
  {
   "cell_type": "code",
   "execution_count": null,
   "metadata": {},
   "outputs": [],
   "source": [
    "print(is_raining or is_sunny)"
   ]
  },
  {
   "cell_type": "code",
   "execution_count": null,
   "metadata": {},
   "outputs": [],
   "source": [
    "print(not is_raining)\n",
    "print(not is_sunny)"
   ]
  },
  {
   "cell_type": "markdown",
   "metadata": {},
   "source": [
    "## Markdown - What is It?"
   ]
  },
  {
   "cell_type": "markdown",
   "metadata": {},
   "source": [
    "**Markdown** is a lightweight markup language that allows you to format text using simple, easy-to-read syntax.\n",
    "\n",
    "In Jupyter notebooks, Markdown can be used within Markdown cells (like this current cell!) to provide explanations, instructions, or any other type of text-based content. Additionally, Markdown can also be used within code cells to create formatted comments or annotations."
   ]
  },
  {
   "cell_type": "markdown",
   "metadata": {},
   "source": [
    "Take a look at some Markdown examples below:\n",
    "\n",
    "```\n",
    "# This is a heading\n",
    "```\n",
    "# This is a heading\n",
    "```\n",
    "## This is a subheading\n",
    "```\n",
    "## This is a subheading\n",
    "```\n",
    "*This text is italicized*\n",
    "```\n",
    "*This text is italicized*\n",
    "```\n",
    "**This text is bold**\n",
    "```\n",
    "**This text is bold**"
   ]
  },
  {
   "attachments": {},
   "cell_type": "markdown",
   "metadata": {},
   "source": [
    "# Conclusion"
   ]
  },
  {
   "attachments": {},
   "cell_type": "markdown",
   "metadata": {},
   "source": [
    "Congratulations! You have completed this optional notebook to Python programming. Throughout this notebook, we covered fundamental concepts and syntax, including variables, basic data types, comparison and logical operators, loops, and basic coding practices. By mastering these concepts, you have gained a solid foundation in Python programming.\n",
    "\n",
    "Remember, practice is key to becoming proficient in any programming language. Keep coding at home, experiment with different examples, and challenge yourself with various coding exercises and projects. Here are some useful Python videos to consider watching to continue improving over time:\n",
    "\n",
    "- [Programming with Mosh - Python Tutorial](https://www.youtube.com/watch?v=kqtD5dpn9C8)\n",
    "- [Tech with Tim - Python Projects](https://www.youtube.com/watch?v=DLn3jOsNRVE)"
   ]
  }
 ],
 "metadata": {
  "kernelspec": {
   "display_name": "Python 3",
   "language": "python",
   "name": "python3"
  },
  "language_info": {
   "codemirror_mode": {
    "name": "ipython",
    "version": 3
   },
   "file_extension": ".py",
   "mimetype": "text/x-python",
   "name": "python",
   "nbconvert_exporter": "python",
   "pygments_lexer": "ipython3",
   "version": "3.10.12"
  }
 },
 "nbformat": 4,
 "nbformat_minor": 2
}
