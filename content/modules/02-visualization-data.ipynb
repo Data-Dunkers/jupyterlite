{
 "cells": [
  {
   "cell_type": "markdown",
   "metadata": {},
   "source": [
    "![Data Dunkers Banner](https://github.com/PS43Foundation/data-dunkers/blob/main/docs/top-banner.jpg?raw=true)"
   ]
  },
  {
   "cell_type": "markdown",
   "metadata": {},
   "source": [
    "# Visualizing Data\n",
    "\n",
    "In this notebook, we'll visualize data using the [Plotly Express](https://plotly.com/python/plotly-express/) library, imported as `px`."
   ]
  },
  {
   "cell_type": "markdown",
   "metadata": {},
   "source": [
    "## Bar Graphs\n",
    "\n",
    "We will start with the same dataset from our last notebook and create a bar graph."
   ]
  },
  {
   "cell_type": "code",
   "execution_count": 1,
   "metadata": {},
   "outputs": [
    {
     "data": {
      "application/vnd.plotly.v1+json": {
       "config": {
        "plotlyServerURL": "https://plot.ly"
       },
       "data": [
        {
         "alignmentgroup": "True",
         "hovertemplate": "PLAYER_NAME=%{x}<br>PTS=%{y}<extra></extra>",
         "legendgroup": "",
         "marker": {
          "color": "#636efa",
          "pattern": {
           "shape": ""
          }
         },
         "name": "",
         "offsetgroup": "",
         "orientation": "v",
         "showlegend": false,
         "textposition": "auto",
         "type": "bar",
         "x": [
          "A.J. Lawson",
          "AJ Green",
          "AJ Griffin",
          "Aaron Gordon",
          "Aaron Holiday",
          "Aaron Nesmith",
          "Aaron Wiggins",
          "Adam Flagler",
          "Adama Sanogo",
          "Admiral Schofield",
          "Al Horford",
          "Alec Burks",
          "Aleksej Pokusevski",
          "Alex Caruso",
          "Alex Fudge",
          "Alex Len",
          "Alondes Williams",
          "Alperen Sengun",
          "Amari Bailey",
          "Amen Thompson",
          "Amir Coffey",
          "Andre Drummond",
          "Andre Jackson Jr.",
          "Andrew Funk",
          "Andrew Nembhard",
          "Andrew Wiggins",
          "Anfernee Simons",
          "Anthony Black",
          "Anthony Davis",
          "Anthony Edwards",
          "Anthony Gill",
          "Armoni Brooks",
          "Ashton Hagans",
          "Ausar Thompson",
          "Austin Reaves",
          "Ayo Dosunmu",
          "Bam Adebayo",
          "Ben Sheppard",
          "Ben Simmons",
          "Bennedict Mathurin",
          "Bilal Coulibaly",
          "Bismack Biyombo",
          "Blake Wesley",
          "Boban Marjanovic",
          "Bobby Portis",
          "Bogdan Bogdanovic",
          "Bojan Bogdanovic",
          "Bol Bol",
          "Bones Hyland",
          "Bradley Beal",
          "Brandin Podziemski",
          "Brandon Boston Jr.",
          "Brandon Clarke",
          "Brandon Ingram",
          "Brandon Miller",
          "Brandon Williams",
          "Braxton Key",
          "Brice Sensabaugh",
          "Brook Lopez",
          "Bruce Brown",
          "Bruno Fernando",
          "Bryce McGowens",
          "Buddy Boeheim",
          "Buddy Hield",
          "CJ McCollum",
          "Cade Cunningham",
          "Caleb Houstan",
          "Caleb Martin",
          "Cam Reddish",
          "Cam Thomas",
          "Cam Whitmore",
          "Cameron Johnson",
          "Cameron Payne",
          "Caris LeVert",
          "Cason Wallace",
          "Cedi Osman",
          "Charles Bassey",
          "Charlie Brown Jr.",
          "Chet Holmgren",
          "Chimezie Metu",
          "Chris Boucher",
          "Chris Duarte",
          "Chris Livingston",
          "Chris Paul",
          "Christian Braun",
          "Christian Wood",
          "Chuma Okeke",
          "Clint Capela",
          "Coby White",
          "Cody Martin",
          "Cody Zeller",
          "Colby Jones",
          "Cole Anthony",
          "Cole Swider",
          "Colin Castleton",
          "Collin Gillespie",
          "Collin Sexton",
          "Corey Kispert",
          "Cory Joseph",
          "Craig Porter Jr.",
          "D'Angelo Russell",
          "D'Moi Hodge",
          "D.J. Carton",
          "D.J. Wilson",
          "DaQuan Jeffries",
          "Daishen Nix",
          "Dalano Banton",
          "Dalen Terry",
          "Damian Jones",
          "Damian Lillard",
          "Daniel Gafford",
          "Daniel Theis",
          "Danilo Gallinari",
          "Danny Green",
          "Dante Exum",
          "Danuel House Jr.",
          "Dario Saric",
          "Dariq Whitehead",
          "Darius Bazley",
          "Darius Garland",
          "David Roddy",
          "Davion Mitchell",
          "Davis Bertans",
          "Day'Ron Sharpe",
          "De'Aaron Fox",
          "De'Andre Hunter",
          "De'Anthony Melton",
          "DeAndre Jordan",
          "DeJon Jarreau",
          "DeMar DeRozan",
          "Dean Wade",
          "Deandre Ayton",
          "Dejounte Murray",
          "Delon Wright",
          "Deni Avdija",
          "Dennis Schroder",
          "Dennis Smith Jr.",
          "Dereck Lively II",
          "Dereon Seabron",
          "Derrick Jones Jr.",
          "Derrick Rose",
          "Derrick White",
          "Desmond Bane",
          "Devin Booker",
          "Devin Vassell",
          "Devonte' Graham",
          "Dexter Dennis",
          "Dillon Brooks",
          "Dmytro Skapintsev",
          "Domantas Sabonis",
          "Dominick Barlow",
          "Donovan Mitchell",
          "Donte DiVincenzo",
          "Dorian Finney-Smith",
          "Doug McDermott",
          "Draymond Green",
          "Drew Eubanks",
          "Drew Peterson",
          "Dru Smith",
          "Duncan Robinson",
          "Duop Reath",
          "Dwight Powell",
          "Dylan Windler",
          "Dyson Daniels",
          "E.J. Liddell",
          "Emoni Bates",
          "Eric Gordon",
          "Eugene Omoruyi",
          "Evan Fournier",
          "Evan Mobley",
          "Filip Petrusev",
          "Frank Ntilikina",
          "Franz Wagner",
          "Fred VanVleet",
          "Furkan Korkmaz",
          "GG Jackson",
          "Gabe Vincent",
          "Garrett Temple",
          "Garrison Mathews",
          "Gary Harris",
          "Gary Payton II",
          "Gary Trent Jr.",
          "Georges Niang",
          "Giannis Antetokounmpo",
          "Goga Bitadze",
          "Gordon Hayward",
          "Gradey Dick",
          "Grant Williams",
          "Grayson Allen",
          "Greg Brown III",
          "Gui Santos",
          "Hamidou Diallo",
          "Harrison Barnes",
          "Harry Giles III",
          "Haywood Highsmith",
          "Henri Drell",
          "Herbert Jones",
          "Hunter Tyson",
          "Ibou Badji",
          "Immanuel Quickley",
          "Isaac Okoro",
          "Isaiah Hartenstein",
          "Isaiah Jackson",
          "Isaiah Joe",
          "Isaiah Livers",
          "Isaiah Mobley",
          "Isaiah Stewart",
          "Isaiah Thomas",
          "Ish Smith",
          "Ish Wainright",
          "Ivica Zubac",
          "Izaiah Brockington",
          "JD Davison",
          "JT Thor",
          "Ja Morant",
          "JaVale McGee",
          "Jabari Smith Jr.",
          "Jabari Walker",
          "Jacob Gilyard",
          "Jacob Toppin",
          "Jaden Hardy",
          "Jaden Ivey",
          "Jaden McDaniels",
          "Jaden Springer",
          "Jae Crowder",
          "Jae'Sean Tate",
          "Jahmi'us Ramsey",
          "Jaime Jaquez Jr.",
          "Jake LaRavia",
          "Jakob Poeltl",
          "Jalen Brunson",
          "Jalen Crutcher",
          "Jalen Duren",
          "Jalen Green",
          "Jalen Hood-Schifino",
          "Jalen Johnson",
          "Jalen McDaniels",
          "Jalen Pickett",
          "Jalen Slawson",
          "Jalen Smith",
          "Jalen Suggs",
          "Jalen Williams",
          "Jalen Wilson",
          "Jamal Cain",
          "Jamal Murray",
          "Jamaree Bouyea",
          "James Bouknight",
          "James Harden",
          "James Johnson",
          "James Wiseman",
          "Jarace Walker",
          "Jared Butler",
          "Jared Rhoden",
          "Jaren Jackson Jr.",
          "Jarred Vanderbilt",
          "Jarrett Allen",
          "Jason Preston",
          "Javon Freeman-Liberty",
          "Javonte Green",
          "Javonte Smart",
          "Jaxson Hayes",
          "Jay Huff",
          "Jaylen Brown",
          "Jaylen Nowell",
          "Jaylin Williams",
          "Jayson Tatum",
          "Jeff Dowtin Jr.",
          "Jeff Green",
          "Jerami Grant",
          "Jeremiah Robinson-Earl",
          "Jeremy Sochan",
          "Jericho Sims",
          "Jermaine Samuels Jr.",
          "Jerome Robinson",
          "Jett Howard",
          "Jevon Carter",
          "Jimmy Butler",
          "Jock Landale",
          "Joe Harris",
          "Joe Ingles",
          "Joel Embiid",
          "John Collins",
          "John Konchar",
          "Johnny Davis",
          "Johnny Juzang",
          "Jonas Valanciunas",
          "Jonathan Isaac",
          "Jonathan Kuminga",
          "Jontay Porter",
          "Jordan Clarkson",
          "Jordan Ford",
          "Jordan Goodwin",
          "Jordan Hawkins",
          "Jordan McLaughlin",
          "Jordan Miller",
          "Jordan Nwora",
          "Jordan Poole",
          "Jordan Walsh",
          "Jose Alvarado",
          "Josh Giddey",
          "Josh Green",
          "Josh Hart",
          "Josh Minott",
          "Josh Okogie",
          "Josh Richardson",
          "Joshua Primo",
          "Jrue Holiday",
          "Juan Toscano-Anderson",
          "Jules Bernard",
          "Julian Champagnie",
          "Julian Phillips",
          "Julian Strawther",
          "Julius Randle",
          "Justin Champagnie",
          "Justin Holiday",
          "Justin Jackson",
          "Justin Minaya",
          "Jusuf Nurkic",
          "KJ Martin",
          "Kaiser Gates",
          "Karl-Anthony Towns",
          "Kawhi Leonard",
          "Keegan Murray",
          "Keita Bates-Diop",
          "Keldon Johnson",
          "Kelly Olynyk",
          "Kelly Oubre Jr.",
          "Kendall Brown",
          "Kenneth Lofton Jr.",
          "Kenrich Williams",
          "Kentavious Caldwell-Pope",
          "Keon Ellis",
          "Keon Johnson",
          "Kessler Edwards",
          "Kevin Durant",
          "Kevin Huerter",
          "Kevin Knox II",
          "Kevin Love",
          "Kevon Harris",
          "Kevon Looney",
          "Keyontae Johnson",
          "Keyonte George",
          "Khris Middleton",
          "Killian Hayes",
          "Kira Lewis Jr.",
          "Klay Thompson",
          "Kobe Brown",
          "Kobe Bufkin",
          "Kobi Simmons",
          "Kris Dunn",
          "Kris Murray",
          "Kristaps Porzingis",
          "Kyle Anderson",
          "Kyle Kuzma",
          "Kyle Lowry",
          "Kyrie Irving",
          "LaMelo Ball",
          "Lamar Stevens",
          "Landry Shamet",
          "Larry Nance Jr.",
          "Lauri Markkanen",
          "LeBron James",
          "Leaky Black",
          "Leonard Miller",
          "Lester Quinones",
          "Lindell Wigginton",
          "Lindy Waters III",
          "Lonnie Walker IV",
          "Luguentz Dort",
          "Luka Doncic",
          "Luka Garza",
          "Luka Samanic",
          "Luke Kennard",
          "Luke Kornet",
          "Malachi Flynn",
          "Malaki Branham",
          "Malcolm Brogdon",
          "Malcolm Cazalon",
          "Malik Beasley",
          "Malik Monk",
          "Mamadi Diakite",
          "Maozinha Pereira",
          "MarJon Beauchamp",
          "Marcus Morris Sr.",
          "Marcus Sasser",
          "Marcus Smart",
          "Mark Williams",
          "Markelle Fultz",
          "Markieff Morris",
          "Markquis Nowell",
          "Marques Bolden",
          "Marvin Bagley III",
          "Mason Jones",
          "Mason Plumlee",
          "Matisse Thybulle",
          "Matt Hurt",
          "Matt Ryan",
          "Max Christie",
          "Max Strus",
          "Maxi Kleber",
          "Maxwell Lewis",
          "Micah Potter",
          "Michael Porter Jr.",
          "Mikal Bridges",
          "Mike Conley",
          "Mike Muscala",
          "Miles Bridges",
          "Miles McBride",
          "Mitchell Robinson",
          "Mo Bamba",
          "Monte Morris",
          "Moritz Wagner",
          "Moses Brown",
          "Moses Moody",
          "Mouhamadou Gueye",
          "Mouhamed Gueye",
          "Moussa Diabate",
          "Myles Turner",
          "Naji Marshall",
          "Nassir Little",
          "Nate Hinton",
          "Nate Williams",
          "Nathan Mensah",
          "Naz Reid",
          "Neemias Queta",
          "Nic Claxton",
          "Nick Richards",
          "Nick Smith Jr.",
          "Nickeil Alexander-Walker",
          "Nicolas Batum",
          "Nikola Jokic",
          "Nikola Jovic",
          "Nikola Vucevic",
          "Noah Clowney",
          "Norman Powell",
          "OG Anunoby",
          "Obi Toppin",
          "Ochai Agbaji",
          "Olivier Sarr",
          "Olivier-Maxence Prosper",
          "Omer Yurtseven",
          "Onuralp Bitim",
          "Onyeka Okongwu",
          "Orlando Robinson",
          "Oscar Tshiebwe",
          "Oshae Brissett",
          "Otto Porter Jr.",
          "Ousmane Dieng",
          "P.J. Tucker",
          "P.J. Washington",
          "Paolo Banchero",
          "Pascal Siakam",
          "Pat Connaughton",
          "Pat Spencer",
          "Patrick Baldwin Jr.",
          "Patrick Beverley",
          "Patrick Williams",
          "Patty Mills",
          "Paul George",
          "Paul Reed",
          "Payton Pritchard",
          "Pete Nance",
          "Peyton Watson",
          "Precious Achiuwa",
          "Quentin Grimes",
          "Quenton Jackson",
          "R.J. Hampton",
          "RJ Barrett",
          "Rayan Rupert",
          "Reggie Bullock Jr.",
          "Reggie Jackson",
          "Richaun Holmes",
          "Ricky Council IV",
          "Robert Covington",
          "Robert Williams III",
          "Robin Lopez",
          "Ron Harper Jr.",
          "Royce O'Neale",
          "Rudy Gobert",
          "Rui Hachimura",
          "Russell Westbrook",
          "Ryan Arcidiacono",
          "Ryan Rollins",
          "Saben Lee",
          "Saddiq Bey",
          "Sam Hauser",
          "Sam Merrill",
          "Sandro Mamukelashvili",
          "Santi Aldama",
          "Sasha Vezenkov",
          "Scoot Henderson",
          "Scottie Barnes",
          "Scotty Pippen Jr.",
          "Seth Curry",
          "Seth Lundy",
          "Shaedon Sharpe",
          "Shai Gilgeous-Alexander",
          "Shake Milton",
          "Shaquille Harrison",
          "Sidy Cissoko",
          "Simone Fontecchio",
          "Skylar Mays",
          "Spencer Dinwiddie",
          "Stanley Umude",
          "Stephen Curry",
          "Svi Mykhailiuk",
          "T.J. McConnell",
          "T.J. Warren",
          "Taj Gibson",
          "Talen Horton-Tucker",
          "Tari Eason",
          "Taurean Prince",
          "Taylor Hendricks",
          "Taze Moore",
          "Terance Mann",
          "Terquavion Smith",
          "Terry Rozier",
          "Terry Taylor",
          "Thaddeus Young",
          "Thanasis Antetokounmpo",
          "Theo Maledon",
          "Thomas Bryant",
          "Tim Hardaway Jr.",
          "Tobias Harris",
          "Torrey Craig",
          "Tosan Evbuomwan",
          "Toumani Camara",
          "Trae Young",
          "Trayce Jackson-Davis",
          "Tre Jones",
          "Tre Mann",
          "Trendon Watford",
          "Trent Forrest",
          "Trevelin Queen",
          "Trey Jemison",
          "Trey Lyles",
          "Trey Murphy III",
          "Tristan Thompson",
          "Tristan Vukcevic",
          "Troy Brown Jr.",
          "Ty Jerome",
          "TyTy Washington Jr.",
          "Tyler Herro",
          "Tyrese Haliburton",
          "Tyrese Maxey",
          "Tyus Jones",
          "Udoka Azubuike",
          "Usman Garuba",
          "Vasilije Micic",
          "Victor Wembanyama",
          "Vince Williams Jr.",
          "Vit Krejci",
          "Walker Kessler",
          "Wendell Carter Jr.",
          "Wendell Moore Jr.",
          "Wenyen Gabriel",
          "Wesley Matthews",
          "Xavier Moon",
          "Xavier Tillman",
          "Yuta Watanabe",
          "Zach Collins",
          "Zach LaVine",
          "Zavier Simpson",
          "Zeke Nnaji",
          "Ziaire Williams",
          "Zion Williamson"
         ],
         "xaxis": "x",
         "y": [
          3.3,
          4.4,
          2.1,
          13.8,
          6.6,
          12.2,
          6.3,
          0,
          2.5,
          1.1,
          8.5,
          11,
          3.9,
          10.1,
          1,
          2.7,
          0.8,
          21.1,
          0.9,
          9.2,
          6.1,
          8.3,
          2.3,
          0,
          9.3,
          12.9,
          22.6,
          4.7,
          24.7,
          26.1,
          3,
          4.2,
          4.6,
          8.8,
          16,
          11.9,
          19.8,
          4.2,
          6.1,
          14.5,
          8.4,
          4.3,
          4.1,
          2.3,
          13.4,
          16.9,
          15.9,
          5.5,
          5.8,
          17.7,
          9.2,
          4.1,
          9.5,
          20.9,
          17,
          2,
          1.1,
          6.2,
          12.4,
          10.9,
          5.8,
          4.9,
          5,
          12.3,
          18.9,
          22.4,
          4.4,
          10.1,
          5.5,
          22,
          12.1,
          13.5,
          7.6,
          13.6,
          6.9,
          6.7,
          3.3,
          0.8,
          16.6,
          5.4,
          6.4,
          4.2,
          1.1,
          9.1,
          7.1,
          6.9,
          2.4,
          11.4,
          19.3,
          7.5,
          1.9,
          1.9,
          11.9,
          2.8,
          1.8,
          3.6,
          18.8,
          12.8,
          2.4,
          5.9,
          18.1,
          2,
          2.8,
          5,
          0.9,
          1.8,
          8.8,
          2.6,
          2.9,
          24.4,
          11,
          6,
          5.9,
          0,
          8.2,
          4.2,
          8.1,
          1.5,
          0,
          18,
          6.9,
          4.7,
          6.2,
          7,
          26.4,
          15.6,
          11.5,
          4.2,
          4.8,
          23.5,
          5.4,
          15.8,
          22.7,
          4.2,
          14.3,
          14.1,
          6.6,
          8.8,
          2.3,
          8.7,
          8,
          15.5,
          23.7,
          27,
          19.5,
          3.4,
          5.5,
          12.7,
          0,
          19.6,
          4.4,
          26.8,
          15,
          8.7,
          5.5,
          8.9,
          5.3,
          3,
          4.3,
          13.4,
          9.3,
          3.4,
          1.9,
          5.5,
          0.5,
          2.6,
          11.6,
          4.2,
          6.8,
          15.8,
          1,
          1,
          19.5,
          16.7,
          2.5,
          13.3,
          4.8,
          2.5,
          4.4,
          7.1,
          5.1,
          13.4,
          9.6,
          30.8,
          5.3,
          10,
          7.8,
          9.9,
          13.5,
          2.5,
          3.4,
          1,
          12.4,
          2.5,
          6,
          2,
          11.2,
          1.3,
          1.5,
          16.4,
          9.4,
          7.5,
          6.6,
          8.1,
          5,
          2,
          10.9,
          2.5,
          3.2,
          2.3,
          11.6,
          4,
          1.3,
          2.6,
          25.1,
          4.1,
          13.6,
          8.5,
          4.4,
          1.4,
          7.4,
          15.2,
          10.8,
          3.2,
          6.4,
          4.1,
          6.7,
          12.2,
          8.9,
          11.1,
          27.9,
          0,
          13.9,
          19.9,
          1.6,
          16.1,
          3.1,
          1.6,
          0.7,
          9.9,
          12.4,
          19.5,
          4.5,
          4.4,
          20.9,
          1.7,
          3.6,
          16.8,
          1,
          6.9,
          3.6,
          5.2,
          3.2,
          22,
          5.2,
          16.3,
          1,
          6,
          5,
          0,
          4.1,
          1.1,
          23.2,
          5.7,
          3.7,
          27.3,
          4.4,
          6.3,
          21,
          3.3,
          11.6,
          2.1,
          1.6,
          1.4,
          1.6,
          4.9,
          21,
          4.1,
          2.4,
          4.4,
          35.3,
          15.1,
          4.3,
          2.6,
          5.2,
          12.4,
          6.9,
          16.3,
          4.4,
          17.1,
          2,
          5.6,
          8.2,
          3.3,
          1.6,
          6.8,
          17,
          1,
          6.9,
          12.2,
          8.5,
          9,
          1.5,
          4.9,
          9.9,
          1,
          12.8,
          0.6,
          3.7,
          6.2,
          2.2,
          4.9,
          24,
          6,
          3.9,
          0,
          1.2,
          11.2,
          3.6,
          0,
          22.1,
          23.7,
          15,
          3.7,
          15.8,
          9.4,
          15,
          1.4,
          2.4,
          4.4,
          10,
          4.6,
          7,
          1.8,
          27.6,
          10.2,
          7.2,
          9,
          2,
          4.6,
          1.2,
          12.8,
          14.9,
          6.9,
          2.8,
          17.3,
          1.7,
          3.7,
          5,
          5.4,
          5.4,
          20.2,
          6.6,
          22.3,
          8.4,
          25.3,
          23.9,
          6.6,
          7.1,
          5.6,
          23.2,
          25.4,
          2.3,
          1.4,
          4.3,
          2,
          2.6,
          9.7,
          10.6,
          34,
          3.6,
          2.9,
          11,
          5.2,
          4.5,
          8.8,
          15.7,
          0,
          11.7,
          15.4,
          2.4,
          3.6,
          4.3,
          6.7,
          7.6,
          14.5,
          12.7,
          7.7,
          2.5,
          2,
          0,
          11.8,
          2.3,
          5.4,
          5.4,
          4,
          6.3,
          4.4,
          12.3,
          4.2,
          0.3,
          2.8,
          16.9,
          20.3,
          11.3,
          3.2,
          21.3,
          7.9,
          6.3,
          4.6,
          5,
          10.8,
          2.8,
          8.1,
          1.8,
          0,
          2.6,
          16.9,
          7.3,
          3.7,
          2.8,
          2.4,
          1.3,
          13.1,
          4.6,
          12.1,
          9.8,
          5.6,
          7.6,
          5.4,
          26.1,
          6.7,
          18,
          3,
          14,
          14.9,
          10,
          5.8,
          2.4,
          2.4,
          3.6,
          3.9,
          10.2,
          3,
          3.3,
          3.7,
          2.6,
          3.9,
          1.6,
          12.6,
          22.4,
          21.8,
          5.6,
          0.7,
          3,
          6,
          10,
          4,
          22.6,
          7.2,
          8.6,
          0,
          6.6,
          8.2,
          7,
          0,
          1.3,
          19.5,
          3.4,
          2.4,
          10.2,
          5,
          5.7,
          4.4,
          6.8,
          1.1,
          0,
          7.8,
          13.8,
          13.2,
          10.9,
          0,
          4.1,
          3.2,
          13.7,
          8.6,
          8.2,
          2.8,
          10.9,
          5.6,
          13.3,
          19.9,
          11.5,
          5.1,
          1.6,
          15.9,
          30.3,
          4.6,
          0.7,
          1,
          10.5,
          4.4,
          10.7,
          5.3,
          26.6,
          3.2,
          9.7,
          3.6,
          1.1,
          9.5,
          9.8,
          9,
          6.9,
          2,
          8.4,
          3.8,
          19.9,
          1.4,
          4.6,
          0.9,
          3.5,
          5.4,
          15.1,
          17.2,
          6.1,
          5.3,
          7.5,
          26.4,
          7.6,
          9.8,
          8.6,
          6.2,
          2.1,
          3.1,
          6.2,
          7.2,
          14,
          3.4,
          1.8,
          4.1,
          2,
          0.6,
          20.8,
          20.3,
          25.6,
          12,
          2.5,
          0,
          6.8,
          21.2,
          10,
          5.9,
          8.1,
          11.1,
          0.5,
          3.4,
          3.2,
          1.2,
          5.3,
          3.4,
          11,
          19.5,
          0,
          3.2,
          8.2,
          22.8
         ],
         "yaxis": "y"
        }
       ],
       "layout": {
        "barmode": "relative",
        "legend": {
         "tracegroupgap": 0
        },
        "margin": {
         "t": 60
        },
        "template": {
         "data": {
          "bar": [
           {
            "error_x": {
             "color": "#2a3f5f"
            },
            "error_y": {
             "color": "#2a3f5f"
            },
            "marker": {
             "line": {
              "color": "#E5ECF6",
              "width": 0.5
             },
             "pattern": {
              "fillmode": "overlay",
              "size": 10,
              "solidity": 0.2
             }
            },
            "type": "bar"
           }
          ],
          "barpolar": [
           {
            "marker": {
             "line": {
              "color": "#E5ECF6",
              "width": 0.5
             },
             "pattern": {
              "fillmode": "overlay",
              "size": 10,
              "solidity": 0.2
             }
            },
            "type": "barpolar"
           }
          ],
          "carpet": [
           {
            "aaxis": {
             "endlinecolor": "#2a3f5f",
             "gridcolor": "white",
             "linecolor": "white",
             "minorgridcolor": "white",
             "startlinecolor": "#2a3f5f"
            },
            "baxis": {
             "endlinecolor": "#2a3f5f",
             "gridcolor": "white",
             "linecolor": "white",
             "minorgridcolor": "white",
             "startlinecolor": "#2a3f5f"
            },
            "type": "carpet"
           }
          ],
          "choropleth": [
           {
            "colorbar": {
             "outlinewidth": 0,
             "ticks": ""
            },
            "type": "choropleth"
           }
          ],
          "contour": [
           {
            "colorbar": {
             "outlinewidth": 0,
             "ticks": ""
            },
            "colorscale": [
             [
              0,
              "#0d0887"
             ],
             [
              0.1111111111111111,
              "#46039f"
             ],
             [
              0.2222222222222222,
              "#7201a8"
             ],
             [
              0.3333333333333333,
              "#9c179e"
             ],
             [
              0.4444444444444444,
              "#bd3786"
             ],
             [
              0.5555555555555556,
              "#d8576b"
             ],
             [
              0.6666666666666666,
              "#ed7953"
             ],
             [
              0.7777777777777778,
              "#fb9f3a"
             ],
             [
              0.8888888888888888,
              "#fdca26"
             ],
             [
              1,
              "#f0f921"
             ]
            ],
            "type": "contour"
           }
          ],
          "contourcarpet": [
           {
            "colorbar": {
             "outlinewidth": 0,
             "ticks": ""
            },
            "type": "contourcarpet"
           }
          ],
          "heatmap": [
           {
            "colorbar": {
             "outlinewidth": 0,
             "ticks": ""
            },
            "colorscale": [
             [
              0,
              "#0d0887"
             ],
             [
              0.1111111111111111,
              "#46039f"
             ],
             [
              0.2222222222222222,
              "#7201a8"
             ],
             [
              0.3333333333333333,
              "#9c179e"
             ],
             [
              0.4444444444444444,
              "#bd3786"
             ],
             [
              0.5555555555555556,
              "#d8576b"
             ],
             [
              0.6666666666666666,
              "#ed7953"
             ],
             [
              0.7777777777777778,
              "#fb9f3a"
             ],
             [
              0.8888888888888888,
              "#fdca26"
             ],
             [
              1,
              "#f0f921"
             ]
            ],
            "type": "heatmap"
           }
          ],
          "heatmapgl": [
           {
            "colorbar": {
             "outlinewidth": 0,
             "ticks": ""
            },
            "colorscale": [
             [
              0,
              "#0d0887"
             ],
             [
              0.1111111111111111,
              "#46039f"
             ],
             [
              0.2222222222222222,
              "#7201a8"
             ],
             [
              0.3333333333333333,
              "#9c179e"
             ],
             [
              0.4444444444444444,
              "#bd3786"
             ],
             [
              0.5555555555555556,
              "#d8576b"
             ],
             [
              0.6666666666666666,
              "#ed7953"
             ],
             [
              0.7777777777777778,
              "#fb9f3a"
             ],
             [
              0.8888888888888888,
              "#fdca26"
             ],
             [
              1,
              "#f0f921"
             ]
            ],
            "type": "heatmapgl"
           }
          ],
          "histogram": [
           {
            "marker": {
             "pattern": {
              "fillmode": "overlay",
              "size": 10,
              "solidity": 0.2
             }
            },
            "type": "histogram"
           }
          ],
          "histogram2d": [
           {
            "colorbar": {
             "outlinewidth": 0,
             "ticks": ""
            },
            "colorscale": [
             [
              0,
              "#0d0887"
             ],
             [
              0.1111111111111111,
              "#46039f"
             ],
             [
              0.2222222222222222,
              "#7201a8"
             ],
             [
              0.3333333333333333,
              "#9c179e"
             ],
             [
              0.4444444444444444,
              "#bd3786"
             ],
             [
              0.5555555555555556,
              "#d8576b"
             ],
             [
              0.6666666666666666,
              "#ed7953"
             ],
             [
              0.7777777777777778,
              "#fb9f3a"
             ],
             [
              0.8888888888888888,
              "#fdca26"
             ],
             [
              1,
              "#f0f921"
             ]
            ],
            "type": "histogram2d"
           }
          ],
          "histogram2dcontour": [
           {
            "colorbar": {
             "outlinewidth": 0,
             "ticks": ""
            },
            "colorscale": [
             [
              0,
              "#0d0887"
             ],
             [
              0.1111111111111111,
              "#46039f"
             ],
             [
              0.2222222222222222,
              "#7201a8"
             ],
             [
              0.3333333333333333,
              "#9c179e"
             ],
             [
              0.4444444444444444,
              "#bd3786"
             ],
             [
              0.5555555555555556,
              "#d8576b"
             ],
             [
              0.6666666666666666,
              "#ed7953"
             ],
             [
              0.7777777777777778,
              "#fb9f3a"
             ],
             [
              0.8888888888888888,
              "#fdca26"
             ],
             [
              1,
              "#f0f921"
             ]
            ],
            "type": "histogram2dcontour"
           }
          ],
          "mesh3d": [
           {
            "colorbar": {
             "outlinewidth": 0,
             "ticks": ""
            },
            "type": "mesh3d"
           }
          ],
          "parcoords": [
           {
            "line": {
             "colorbar": {
              "outlinewidth": 0,
              "ticks": ""
             }
            },
            "type": "parcoords"
           }
          ],
          "pie": [
           {
            "automargin": true,
            "type": "pie"
           }
          ],
          "scatter": [
           {
            "fillpattern": {
             "fillmode": "overlay",
             "size": 10,
             "solidity": 0.2
            },
            "type": "scatter"
           }
          ],
          "scatter3d": [
           {
            "line": {
             "colorbar": {
              "outlinewidth": 0,
              "ticks": ""
             }
            },
            "marker": {
             "colorbar": {
              "outlinewidth": 0,
              "ticks": ""
             }
            },
            "type": "scatter3d"
           }
          ],
          "scattercarpet": [
           {
            "marker": {
             "colorbar": {
              "outlinewidth": 0,
              "ticks": ""
             }
            },
            "type": "scattercarpet"
           }
          ],
          "scattergeo": [
           {
            "marker": {
             "colorbar": {
              "outlinewidth": 0,
              "ticks": ""
             }
            },
            "type": "scattergeo"
           }
          ],
          "scattergl": [
           {
            "marker": {
             "colorbar": {
              "outlinewidth": 0,
              "ticks": ""
             }
            },
            "type": "scattergl"
           }
          ],
          "scattermapbox": [
           {
            "marker": {
             "colorbar": {
              "outlinewidth": 0,
              "ticks": ""
             }
            },
            "type": "scattermapbox"
           }
          ],
          "scatterpolar": [
           {
            "marker": {
             "colorbar": {
              "outlinewidth": 0,
              "ticks": ""
             }
            },
            "type": "scatterpolar"
           }
          ],
          "scatterpolargl": [
           {
            "marker": {
             "colorbar": {
              "outlinewidth": 0,
              "ticks": ""
             }
            },
            "type": "scatterpolargl"
           }
          ],
          "scatterternary": [
           {
            "marker": {
             "colorbar": {
              "outlinewidth": 0,
              "ticks": ""
             }
            },
            "type": "scatterternary"
           }
          ],
          "surface": [
           {
            "colorbar": {
             "outlinewidth": 0,
             "ticks": ""
            },
            "colorscale": [
             [
              0,
              "#0d0887"
             ],
             [
              0.1111111111111111,
              "#46039f"
             ],
             [
              0.2222222222222222,
              "#7201a8"
             ],
             [
              0.3333333333333333,
              "#9c179e"
             ],
             [
              0.4444444444444444,
              "#bd3786"
             ],
             [
              0.5555555555555556,
              "#d8576b"
             ],
             [
              0.6666666666666666,
              "#ed7953"
             ],
             [
              0.7777777777777778,
              "#fb9f3a"
             ],
             [
              0.8888888888888888,
              "#fdca26"
             ],
             [
              1,
              "#f0f921"
             ]
            ],
            "type": "surface"
           }
          ],
          "table": [
           {
            "cells": {
             "fill": {
              "color": "#EBF0F8"
             },
             "line": {
              "color": "white"
             }
            },
            "header": {
             "fill": {
              "color": "#C8D4E3"
             },
             "line": {
              "color": "white"
             }
            },
            "type": "table"
           }
          ]
         },
         "layout": {
          "annotationdefaults": {
           "arrowcolor": "#2a3f5f",
           "arrowhead": 0,
           "arrowwidth": 1
          },
          "autotypenumbers": "strict",
          "coloraxis": {
           "colorbar": {
            "outlinewidth": 0,
            "ticks": ""
           }
          },
          "colorscale": {
           "diverging": [
            [
             0,
             "#8e0152"
            ],
            [
             0.1,
             "#c51b7d"
            ],
            [
             0.2,
             "#de77ae"
            ],
            [
             0.3,
             "#f1b6da"
            ],
            [
             0.4,
             "#fde0ef"
            ],
            [
             0.5,
             "#f7f7f7"
            ],
            [
             0.6,
             "#e6f5d0"
            ],
            [
             0.7,
             "#b8e186"
            ],
            [
             0.8,
             "#7fbc41"
            ],
            [
             0.9,
             "#4d9221"
            ],
            [
             1,
             "#276419"
            ]
           ],
           "sequential": [
            [
             0,
             "#0d0887"
            ],
            [
             0.1111111111111111,
             "#46039f"
            ],
            [
             0.2222222222222222,
             "#7201a8"
            ],
            [
             0.3333333333333333,
             "#9c179e"
            ],
            [
             0.4444444444444444,
             "#bd3786"
            ],
            [
             0.5555555555555556,
             "#d8576b"
            ],
            [
             0.6666666666666666,
             "#ed7953"
            ],
            [
             0.7777777777777778,
             "#fb9f3a"
            ],
            [
             0.8888888888888888,
             "#fdca26"
            ],
            [
             1,
             "#f0f921"
            ]
           ],
           "sequentialminus": [
            [
             0,
             "#0d0887"
            ],
            [
             0.1111111111111111,
             "#46039f"
            ],
            [
             0.2222222222222222,
             "#7201a8"
            ],
            [
             0.3333333333333333,
             "#9c179e"
            ],
            [
             0.4444444444444444,
             "#bd3786"
            ],
            [
             0.5555555555555556,
             "#d8576b"
            ],
            [
             0.6666666666666666,
             "#ed7953"
            ],
            [
             0.7777777777777778,
             "#fb9f3a"
            ],
            [
             0.8888888888888888,
             "#fdca26"
            ],
            [
             1,
             "#f0f921"
            ]
           ]
          },
          "colorway": [
           "#636efa",
           "#EF553B",
           "#00cc96",
           "#ab63fa",
           "#FFA15A",
           "#19d3f3",
           "#FF6692",
           "#B6E880",
           "#FF97FF",
           "#FECB52"
          ],
          "font": {
           "color": "#2a3f5f"
          },
          "geo": {
           "bgcolor": "white",
           "lakecolor": "white",
           "landcolor": "#E5ECF6",
           "showlakes": true,
           "showland": true,
           "subunitcolor": "white"
          },
          "hoverlabel": {
           "align": "left"
          },
          "hovermode": "closest",
          "mapbox": {
           "style": "light"
          },
          "paper_bgcolor": "white",
          "plot_bgcolor": "#E5ECF6",
          "polar": {
           "angularaxis": {
            "gridcolor": "white",
            "linecolor": "white",
            "ticks": ""
           },
           "bgcolor": "#E5ECF6",
           "radialaxis": {
            "gridcolor": "white",
            "linecolor": "white",
            "ticks": ""
           }
          },
          "scene": {
           "xaxis": {
            "backgroundcolor": "#E5ECF6",
            "gridcolor": "white",
            "gridwidth": 2,
            "linecolor": "white",
            "showbackground": true,
            "ticks": "",
            "zerolinecolor": "white"
           },
           "yaxis": {
            "backgroundcolor": "#E5ECF6",
            "gridcolor": "white",
            "gridwidth": 2,
            "linecolor": "white",
            "showbackground": true,
            "ticks": "",
            "zerolinecolor": "white"
           },
           "zaxis": {
            "backgroundcolor": "#E5ECF6",
            "gridcolor": "white",
            "gridwidth": 2,
            "linecolor": "white",
            "showbackground": true,
            "ticks": "",
            "zerolinecolor": "white"
           }
          },
          "shapedefaults": {
           "line": {
            "color": "#2a3f5f"
           }
          },
          "ternary": {
           "aaxis": {
            "gridcolor": "white",
            "linecolor": "white",
            "ticks": ""
           },
           "baxis": {
            "gridcolor": "white",
            "linecolor": "white",
            "ticks": ""
           },
           "bgcolor": "#E5ECF6",
           "caxis": {
            "gridcolor": "white",
            "linecolor": "white",
            "ticks": ""
           }
          },
          "title": {
           "x": 0.05
          },
          "xaxis": {
           "automargin": true,
           "gridcolor": "white",
           "linecolor": "white",
           "ticks": "",
           "title": {
            "standoff": 15
           },
           "zerolinecolor": "white",
           "zerolinewidth": 2
          },
          "yaxis": {
           "automargin": true,
           "gridcolor": "white",
           "linecolor": "white",
           "ticks": "",
           "title": {
            "standoff": 15
           },
           "zerolinecolor": "white",
           "zerolinewidth": 2
          }
         }
        },
        "xaxis": {
         "anchor": "y",
         "domain": [
          0,
          1
         ],
         "title": {
          "text": "PLAYER_NAME"
         }
        },
        "yaxis": {
         "anchor": "x",
         "domain": [
          0,
          1
         ],
         "title": {
          "text": "PTS"
         }
        }
       }
      }
     },
     "metadata": {},
     "output_type": "display_data"
    }
   ],
   "source": [
    "#import piplite\n",
    "#await piplite.install(['pandas', 'plotly', 'nbformat', 'statsmodels'])\n",
    "import pandas as pd\n",
    "import plotly.express as px\n",
    "\n",
    "df = pd.read_csv('data/player_stats_2023_24.csv')\n",
    "\n",
    "px.bar(df, x='PLAYER_NAME', y='PTS')"
   ]
  },
  {
   "cell_type": "markdown",
   "metadata": {},
   "source": [
    "We can also adjust different parameters in our graph. These adjustments not only enhance visual clarity but also provide essential context. For example, adjusting `x` and `y` label names and adding a title."
   ]
  },
  {
   "cell_type": "code",
   "execution_count": null,
   "metadata": {},
   "outputs": [],
   "source": [
    "labels={\"PLAYER_NAME\":\"Player Name\",\"PTS\":\"Points Scored\"}\n",
    "title = \"Points Scored by NBA Player in 2023-24\"\n",
    "px.bar(df, x='PLAYER_NAME', y='PTS', labels=labels, title=title)"
   ]
  },
  {
   "cell_type": "markdown",
   "metadata": {},
   "source": [
    "If we prefer a horizontal bar graph we can use `orientation='h'` and switch the `x` and `y` columns.\n",
    "\n",
    "We'll also use `df.head()` to include just the first 5 entries of our dataframe."
   ]
  },
  {
   "cell_type": "code",
   "execution_count": null,
   "metadata": {},
   "outputs": [],
   "source": [
    "\n",
    "px.bar(df.head(), x='PTS', y='PLAYER_NAME', orientation='h', labels={\"PLAYER_NAME\":\"Player Name\",\"PTS\":\"Points Scored\"}, title=\"Points Scored by NBA Player in 2023-24\")"
   ]
  },
  {
   "cell_type": "markdown",
   "metadata": {},
   "source": [
    "Let's take another look at the columns in our dataframe."
   ]
  },
  {
   "cell_type": "code",
   "execution_count": null,
   "metadata": {},
   "outputs": [],
   "source": [
    "df.columns"
   ]
  },
  {
   "cell_type": "markdown",
   "metadata": {},
   "source": [
    "If we want to include multiple columns from our dataset, we can put them in a list using `[]` brackets."
   ]
  },
  {
   "cell_type": "code",
   "execution_count": null,
   "metadata": {},
   "outputs": [],
   "source": [
    "px.bar(df, x='PLAYER_NAME', y=['PTS', 'REB'], labels={\"PLAYER_NAME\":\"Player Name\",\"value\":\"Points and Rebounds\"}, title=\"Points and Rebounds by NBA Player in 2023-24\")"
   ]
  },
  {
   "cell_type": "markdown",
   "metadata": {},
   "source": [
    "By default it will stack the bars, we can use `barmode='group'` to put them side by side.\n",
    "\n",
    "We'll use `df.head(15)` to display the first 15 entries of our dataframe."
   ]
  },
  {
   "cell_type": "code",
   "execution_count": null,
   "metadata": {},
   "outputs": [],
   "source": [
    "px.bar(df.head(15), x='PLAYER_NAME', y=['PTS', 'REB'], barmode='group', labels={\"PLAYER_NAME\":\"Player Name\",\"value\":\"Points and Rebounds\"}, title=\"Points and Rebounds by NBA Player in 2023-24\")"
   ]
  },
  {
   "cell_type": "markdown",
   "metadata": {},
   "source": [
    "## Exercise\n",
    "\n",
    "---\n",
    "\n",
    "Create a bar graph using your `df` dataframe:\n",
    "\n",
    "* display the name of the NBA player on the x-axis\n",
    "* display the number of assists they have on the y-axis\n",
    "* add an appropriate title and appropriate labels to your plot\n",
    "* add `, color = 'TEAM_ABBREIVATION'`"
   ]
  },
  {
   "cell_type": "code",
   "execution_count": null,
   "metadata": {},
   "outputs": [],
   "source": [
    "# Write your code in this cell.\n",
    "\n",
    "\n"
   ]
  },
  {
   "cell_type": "markdown",
   "metadata": {},
   "source": [
    "## Scatter Plots\n",
    "\n",
    "Another way to visualize your data is using a scatter plot. We will choose two of the columns for the dataframe:\n",
    "\n",
    "| Column Name        | Description                                              |\n",
    "|--------------------|----------------------------------------------------------|\n",
    "| PLAYER_ID          | Unique ID for a player                                   |\n",
    "| PLAYER_NAME        | Player's full name                                       |\n",
    "| NICKNAME           | Player's nickname (if applicable)                        |\n",
    "| TEAM_ID            | Unique ID for the player's team                          |\n",
    "| TEAM_ABBREVIATION  | Abbreviation of the player's team                        |\n",
    "| AGE                | Player's age                                             |\n",
    "| GP                 | Games played                                             |\n",
    "| W                  | Wins                                                     |\n",
    "| L                  | Losses                                                   |\n",
    "| W_PCT              | Winning percentage                                       |\n",
    "| MIN                | Minutes played                                           |\n",
    "| FGM                | Field goals made                                         |\n",
    "| FGA                | Field goals attempted                                    |\n",
    "| FG_PCT             | Field goal percentage                                    |\n",
    "| FG3M               | Three-point field goals made                             |\n",
    "| FG3A               | Three-point field goals attempted                        |\n",
    "| FG3_PCT            | Three-point field goal percentage                        |\n",
    "| FTM                | Free throws made                                         |\n",
    "| FTA                | Free throws attempted                                    |\n",
    "| FT_PCT             | Free throw percentage                                    |\n",
    "| OREB               | Offensive rebounds                                       |\n",
    "| DREB               | Defensive rebounds                                       |\n",
    "| REB                | Total rebounds                                           |\n",
    "| AST                | Assists                                                  |\n",
    "| TOV                | Turnovers                                                |\n",
    "| STL                | Steals                                                   |\n",
    "| BLK                | Blocks                                                   |\n",
    "| BLKA               | Blocked attempts against                                 |\n",
    "| PF                 | Personal fouls                                           |\n",
    "| PFD                | Personal fouls drawn                                     |\n",
    "| PTS                | Points scored                                            |\n",
    "| PLUS_MINUS         | Plus/minus rating (player's team points scored vs. opponent's team points scored while player is on the court) |"
   ]
  },
  {
   "cell_type": "code",
   "execution_count": 3,
   "metadata": {},
   "outputs": [
    {
     "data": {
      "application/vnd.plotly.v1+json": {
       "config": {
        "plotlyServerURL": "https://plot.ly"
       },
       "data": [
        {
         "hovertemplate": "Field Goal Attempts=%{x}<br>Field Goal Made=%{y}<extra></extra>",
         "legendgroup": "",
         "marker": {
          "color": "#636efa",
          "symbol": "circle"
         },
         "mode": "markers",
         "name": "",
         "orientation": "v",
         "showlegend": false,
         "type": "scatter",
         "x": [
          2.7,
          3.4,
          2.5,
          9.9,
          5.4,
          8.9,
          4.3,
          3,
          1,
          1.1,
          6.4,
          9,
          3.6,
          7.6,
          1.5,
          1.8,
          1,
          15.6,
          1.5,
          7.1,
          4.4,
          6.1,
          1.8,
          0.5,
          7.8,
          10.9,
          18.2,
          3.7,
          17,
          19.9,
          2.4,
          4.6,
          3.9,
          7.6,
          11.5,
          9.3,
          14.6,
          3.7,
          4.9,
          11.2,
          6.9,
          3.3,
          3.2,
          2,
          10.9,
          14.1,
          12.5,
          3.7,
          5.9,
          13.9,
          8.2,
          3.7,
          8,
          16,
          14.7,
          1.8,
          0.9,
          6,
          9.4,
          8.8,
          3.9,
          3.7,
          4,
          10.2,
          15.3,
          18.8,
          3.6,
          8.7,
          5,
          17.8,
          9.7,
          10.8,
          6.2,
          12.1,
          5.3,
          5.3,
          2.1,
          1.3,
          11.7,
          4,
          4.3,
          3.7,
          1.1,
          7.8,
          5.8,
          5.3,
          2.5,
          8.5,
          15.3,
          7.7,
          1.5,
          2.3,
          9.6,
          2.4,
          1.1,
          2.9,
          13.3,
          9.6,
          2.5,
          4.7,
          14.2,
          2.1,
          2,
          3,
          1.1,
          1.7,
          7.7,
          2.4,
          1.9,
          17.6,
          6.5,
          4.7,
          4,
          1,
          5.6,
          3.1,
          6.1,
          2.5,
          0.3,
          14.6,
          6.6,
          4,
          5,
          4.8,
          20.8,
          11.4,
          9.7,
          2.7,
          5.6,
          16.8,
          4.3,
          12.6,
          18.7,
          3.9,
          10.5,
          11.6,
          6,
          5.4,
          2.2,
          6.5,
          6.9,
          11.6,
          18.5,
          19.4,
          15.5,
          2.8,
          4.8,
          10.6,
          0.5,
          13,
          3.4,
          19.9,
          12.1,
          7.6,
          4.5,
          7,
          3.4,
          1,
          3.7,
          10.2,
          7.3,
          1.7,
          1.4,
          4.9,
          0.8,
          2.8,
          9.4,
          3.3,
          6.7,
          11,
          0.7,
          1.8,
          15.3,
          13.5,
          2.2,
          10.4,
          6,
          1.9,
          3,
          5.5,
          4,
          11.6,
          7.8,
          18.8,
          3.6,
          8.3,
          6.8,
          7.7,
          8.9,
          1.8,
          2.2,
          1,
          9,
          2.3,
          4.9,
          2,
          7.8,
          1.2,
          1,
          13,
          7.1,
          4.8,
          4,
          6.2,
          5,
          2.2,
          8.3,
          2.5,
          3.7,
          2.4,
          7.4,
          5,
          0.5,
          2.8,
          18.9,
          2.9,
          10.8,
          6.6,
          3.7,
          1,
          6.6,
          12.4,
          8.9,
          3,
          5.3,
          3.6,
          5.9,
          9.7,
          7.6,
          7.6,
          21,
          1,
          9.3,
          16.3,
          2.1,
          12.5,
          3.5,
          1.4,
          0.6,
          6.4,
          9.6,
          14.2,
          3.7,
          3.6,
          16.7,
          3.5,
          2.9,
          11.4,
          1.1,
          4.6,
          3.4,
          4.2,
          2.5,
          17.4,
          3.9,
          10.5,
          1.5,
          5.1,
          3.7,
          0,
          2.4,
          0.8,
          18,
          6.1,
          3.1,
          19.5,
          2.9,
          4.5,
          15.7,
          2.6,
          10.5,
          1.3,
          1,
          1.5,
          1.6,
          4.9,
          13.4,
          3.3,
          2.4,
          3.5,
          22.2,
          11,
          3.8,
          3,
          4.7,
          8.9,
          4.9,
          11.8,
          4,
          14.8,
          1.2,
          5.8,
          7.1,
          2.5,
          1.1,
          5.6,
          14.9,
          1.3,
          6.1,
          10.5,
          6.6,
          8.3,
          1,
          3.6,
          8.1,
          1.5,
          10,
          1.1,
          3.3,
          5,
          1.9,
          4.8,
          18.2,
          5,
          3.3,
          0,
          1.5,
          8.5,
          2.9,
          4,
          15.5,
          17.1,
          12.3,
          3.1,
          12.6,
          6.2,
          12.7,
          0.8,
          2.5,
          3.8,
          7.7,
          3.5,
          4.8,
          1.5,
          19.1,
          8.8,
          6,
          6.5,
          1.5,
          3.1,
          1.8,
          10.7,
          11.7,
          6.7,
          2.9,
          14.5,
          1.7,
          4.1,
          6,
          4.8,
          5.3,
          13.4,
          5.5,
          18.8,
          6.5,
          19.6,
          19.2,
          5.7,
          6,
          3.8,
          16.2,
          17.8,
          1.8,
          1,
          3.7,
          1.7,
          2.2,
          8.3,
          8.2,
          23.6,
          2.9,
          2.6,
          8,
          3.2,
          3.9,
          8,
          12.7,
          0,
          9.2,
          12.4,
          1.2,
          3.2,
          3.4,
          5.6,
          6.5,
          11.9,
          7.9,
          7.6,
          2.5,
          1,
          0.3,
          8.2,
          2,
          3.1,
          4.9,
          4.3,
          4.7,
          3.7,
          10.6,
          3.4,
          0.5,
          1.8,
          13.2,
          16.3,
          8.4,
          3.2,
          17.8,
          6.4,
          4.8,
          3.5,
          4.8,
          6.9,
          2.7,
          6.4,
          2.5,
          0.5,
          1.7,
          11.9,
          5.7,
          2.9,
          1.8,
          2,
          1.1,
          10.2,
          3.2,
          8.4,
          5.7,
          5.3,
          6.4,
          4.2,
          17.8,
          5.5,
          16,
          2.5,
          10.1,
          11.5,
          6.9,
          5.5,
          1.4,
          2.1,
          2.9,
          3.7,
          6.6,
          2.2,
          2.5,
          2.7,
          2.2,
          3.4,
          1.6,
          11,
          17.3,
          15.9,
          4.3,
          0.3,
          3.3,
          5.1,
          8.3,
          4.1,
          16.9,
          5.8,
          7.1,
          0.5,
          5.6,
          6.7,
          6.4,
          0,
          1.8,
          14.9,
          3.1,
          2.1,
          9.1,
          3.7,
          3.6,
          3.4,
          4.3,
          1.2,
          0,
          6.9,
          8.1,
          9.7,
          9.7,
          0.3,
          2.5,
          2.5,
          11.1,
          6.5,
          6.5,
          2.3,
          9.4,
          4.7,
          12.3,
          15.7,
          8,
          4.6,
          1.9,
          13.6,
          19.9,
          4.1,
          0.7,
          1,
          8.3,
          4.5,
          8.8,
          3.5,
          19.6,
          2.9,
          8,
          4.3,
          1.5,
          8.6,
          8.6,
          7.4,
          5.9,
          1.7,
          6.5,
          3.3,
          16.6,
          1.2,
          3.6,
          0.9,
          4.1,
          3.8,
          12.8,
          13.6,
          5,
          4,
          6.3,
          19.3,
          4.7,
          7.4,
          7.2,
          4.4,
          2.4,
          2.9,
          4.6,
          5.4,
          10.7,
          2.4,
          2,
          3.5,
          2,
          1.4,
          18,
          15.4,
          20.1,
          10.1,
          1.6,
          0.3,
          5.9,
          16.3,
          7.3,
          4.6,
          5.5,
          7.8,
          0.6,
          4.4,
          2.8,
          1.6,
          5.3,
          3.4,
          8.8,
          15,
          1,
          2.6,
          7.4,
          15.2
         ],
         "xaxis": "x",
         "y": [
          1.3,
          1.5,
          0.7,
          5.5,
          2.4,
          4.4,
          2.5,
          0,
          1,
          0.4,
          3.2,
          3.4,
          1.4,
          3.6,
          0.3,
          1.1,
          0.3,
          8.4,
          0.4,
          3.7,
          2.2,
          3.3,
          0.9,
          0,
          3.9,
          4.9,
          7.8,
          1.7,
          9.4,
          9.2,
          1.1,
          1.5,
          1.7,
          3.7,
          5.6,
          4.6,
          7.6,
          1.5,
          2.9,
          5,
          3,
          1.8,
          1.6,
          0.9,
          5.5,
          6,
          5.6,
          2.3,
          2.2,
          6.9,
          3.7,
          1.6,
          4.5,
          7.8,
          6.4,
          0.7,
          0.4,
          2.2,
          4.6,
          4.1,
          2.3,
          1.7,
          1.4,
          4.5,
          6.9,
          8.4,
          1.4,
          3.8,
          1.9,
          7.9,
          4.5,
          4.8,
          2.7,
          4.9,
          2.7,
          2.5,
          1.5,
          0.3,
          6.2,
          1.9,
          2.2,
          1.4,
          0.5,
          3.5,
          2.6,
          2.5,
          0.9,
          4.8,
          6.8,
          2.9,
          0.6,
          0.9,
          4.2,
          1,
          0.7,
          1.3,
          6.6,
          4.6,
          0.9,
          2.4,
          6.5,
          0.7,
          0.8,
          2,
          0.4,
          0.7,
          3.2,
          1,
          1.1,
          7.5,
          4.6,
          2.5,
          1.8,
          0,
          3.1,
          1.4,
          2.9,
          0.5,
          0,
          6.5,
          2.7,
          1.8,
          1.9,
          2.8,
          9.7,
          5.3,
          3.8,
          1.7,
          1.9,
          8,
          1.8,
          7.3,
          8.7,
          1.5,
          5.3,
          5.1,
          2.6,
          4,
          0.7,
          3.2,
          3.2,
          5.4,
          8.6,
          9.5,
          7.3,
          1.1,
          2.5,
          4.6,
          0,
          7.8,
          1.7,
          9.2,
          5.3,
          3.2,
          1.9,
          3.4,
          2.1,
          1,
          1.7,
          4.7,
          3.5,
          1.2,
          0.7,
          2.1,
          0.1,
          0.9,
          4.3,
          1.6,
          2.4,
          6.5,
          0.3,
          0.2,
          7.3,
          5.6,
          0.9,
          4.5,
          2.2,
          0.9,
          1.4,
          2.5,
          2.2,
          4.9,
          3.5,
          11.5,
          2.2,
          3.8,
          2.8,
          3.4,
          4.5,
          0.8,
          1.1,
          0.5,
          4.4,
          1,
          2.2,
          1,
          3.9,
          0.5,
          0.6,
          5.6,
          3.4,
          3,
          2.7,
          2.8,
          1.7,
          0.8,
          4,
          1,
          1.5,
          0.7,
          4.9,
          2,
          0.3,
          1.1,
          8.9,
          1.7,
          4.9,
          3.2,
          1.5,
          0.6,
          2.7,
          5.3,
          4.4,
          1.2,
          2.3,
          1.7,
          2.6,
          4.7,
          2.8,
          5,
          10,
          0,
          5.8,
          7,
          0.5,
          6.4,
          1.2,
          0.6,
          0.3,
          3.9,
          4.4,
          7.7,
          1.6,
          1.5,
          7.9,
          0.8,
          1.3,
          5,
          0.4,
          2.9,
          1.3,
          2,
          1.3,
          7.6,
          2,
          6.6,
          0.5,
          2.1,
          2,
          0,
          1.7,
          0.4,
          9,
          2.4,
          1.3,
          9.2,
          1.6,
          2.1,
          7.1,
          1.3,
          4.6,
          0.9,
          0.7,
          0.5,
          0.6,
          1.9,
          6.7,
          1.6,
          0.9,
          1.5,
          11.8,
          5.8,
          1.6,
          1.1,
          2,
          5,
          2.6,
          6.3,
          1.5,
          6.1,
          0.7,
          2.2,
          2.7,
          1.2,
          0.6,
          2.6,
          6.1,
          0.5,
          2.5,
          5,
          3.2,
          3.5,
          0.5,
          1.5,
          3.6,
          0.5,
          4.9,
          0.3,
          1.4,
          2,
          0.8,
          1.8,
          8.6,
          2,
          1.5,
          0,
          0.4,
          4.4,
          1.5,
          0,
          7.9,
          9,
          5.7,
          1.4,
          5.7,
          3.4,
          5.6,
          0.5,
          0.9,
          1.8,
          3.5,
          1.6,
          1.8,
          0.6,
          10.1,
          3.9,
          2.8,
          2.9,
          1,
          1.9,
          0.6,
          4.2,
          5.7,
          2.8,
          1,
          6.2,
          0.7,
          1.4,
          2.3,
          2.2,
          2.1,
          6.8,
          2.6,
          8.7,
          2.8,
          9.7,
          8.3,
          2.6,
          2.6,
          2.2,
          7.8,
          9.5,
          0.8,
          0.6,
          1.5,
          0.7,
          0.9,
          3.5,
          3.6,
          11.6,
          1.3,
          1,
          3.6,
          2.2,
          1.6,
          3.4,
          5.6,
          0,
          4.2,
          5.5,
          0.8,
          1.4,
          1.6,
          2.5,
          2.8,
          5.1,
          5.2,
          3.5,
          0.9,
          0,
          0,
          4.8,
          0.7,
          1.9,
          1.9,
          1.5,
          2,
          1.6,
          4.4,
          1.4,
          0.1,
          1,
          6.5,
          7.1,
          3.8,
          1.1,
          8.2,
          2.9,
          2.8,
          1.8,
          1.9,
          4.1,
          1.3,
          3,
          0.8,
          0,
          0.9,
          6.1,
          2.6,
          1.4,
          0.9,
          1,
          0.5,
          4.9,
          2,
          5.2,
          3.9,
          2.1,
          2.7,
          2,
          10.3,
          2.4,
          7.7,
          1.1,
          5,
          5.7,
          3.9,
          2.3,
          0.8,
          0.7,
          1.6,
          1.6,
          4.1,
          1.1,
          1.3,
          1.2,
          0.9,
          1.4,
          0.5,
          4.8,
          8,
          8.5,
          2,
          0.3,
          1,
          2.1,
          3.7,
          1.5,
          8,
          3.1,
          3.2,
          0,
          2.6,
          3.4,
          2.4,
          0,
          0.5,
          7.3,
          1.2,
          0.8,
          4,
          2.1,
          1.7,
          1.5,
          2.8,
          0.4,
          0,
          2.7,
          5.3,
          5.2,
          4.4,
          0,
          1.3,
          0.9,
          4.6,
          3,
          2.7,
          1.1,
          4.1,
          2.1,
          4.7,
          7.5,
          3.9,
          1.8,
          0.4,
          5.5,
          10.7,
          1.7,
          0.3,
          0.2,
          3.8,
          1.8,
          3.4,
          1.5,
          8.8,
          1.1,
          4.4,
          1.6,
          0.5,
          3.3,
          4,
          3.3,
          2.5,
          1,
          3.2,
          1.3,
          7.4,
          0.6,
          2.2,
          0.4,
          1.2,
          2.1,
          5.2,
          6.7,
          2.2,
          1.9,
          2.8,
          8.2,
          3.3,
          3.8,
          3.3,
          2.4,
          0.9,
          1.1,
          2.7,
          2.4,
          4.6,
          1.6,
          0.6,
          1.4,
          1,
          0.2,
          7.9,
          7.3,
          9,
          4.9,
          1.1,
          0,
          2.6,
          7.7,
          3.3,
          2.2,
          3.6,
          4.1,
          0.3,
          1.6,
          1,
          0.6,
          2.2,
          1.2,
          4.2,
          6.8,
          0,
          1.2,
          2.9,
          8.9
         ],
         "yaxis": "y"
        }
       ],
       "layout": {
        "legend": {
         "tracegroupgap": 0
        },
        "template": {
         "data": {
          "bar": [
           {
            "error_x": {
             "color": "#2a3f5f"
            },
            "error_y": {
             "color": "#2a3f5f"
            },
            "marker": {
             "line": {
              "color": "#E5ECF6",
              "width": 0.5
             },
             "pattern": {
              "fillmode": "overlay",
              "size": 10,
              "solidity": 0.2
             }
            },
            "type": "bar"
           }
          ],
          "barpolar": [
           {
            "marker": {
             "line": {
              "color": "#E5ECF6",
              "width": 0.5
             },
             "pattern": {
              "fillmode": "overlay",
              "size": 10,
              "solidity": 0.2
             }
            },
            "type": "barpolar"
           }
          ],
          "carpet": [
           {
            "aaxis": {
             "endlinecolor": "#2a3f5f",
             "gridcolor": "white",
             "linecolor": "white",
             "minorgridcolor": "white",
             "startlinecolor": "#2a3f5f"
            },
            "baxis": {
             "endlinecolor": "#2a3f5f",
             "gridcolor": "white",
             "linecolor": "white",
             "minorgridcolor": "white",
             "startlinecolor": "#2a3f5f"
            },
            "type": "carpet"
           }
          ],
          "choropleth": [
           {
            "colorbar": {
             "outlinewidth": 0,
             "ticks": ""
            },
            "type": "choropleth"
           }
          ],
          "contour": [
           {
            "colorbar": {
             "outlinewidth": 0,
             "ticks": ""
            },
            "colorscale": [
             [
              0,
              "#0d0887"
             ],
             [
              0.1111111111111111,
              "#46039f"
             ],
             [
              0.2222222222222222,
              "#7201a8"
             ],
             [
              0.3333333333333333,
              "#9c179e"
             ],
             [
              0.4444444444444444,
              "#bd3786"
             ],
             [
              0.5555555555555556,
              "#d8576b"
             ],
             [
              0.6666666666666666,
              "#ed7953"
             ],
             [
              0.7777777777777778,
              "#fb9f3a"
             ],
             [
              0.8888888888888888,
              "#fdca26"
             ],
             [
              1,
              "#f0f921"
             ]
            ],
            "type": "contour"
           }
          ],
          "contourcarpet": [
           {
            "colorbar": {
             "outlinewidth": 0,
             "ticks": ""
            },
            "type": "contourcarpet"
           }
          ],
          "heatmap": [
           {
            "colorbar": {
             "outlinewidth": 0,
             "ticks": ""
            },
            "colorscale": [
             [
              0,
              "#0d0887"
             ],
             [
              0.1111111111111111,
              "#46039f"
             ],
             [
              0.2222222222222222,
              "#7201a8"
             ],
             [
              0.3333333333333333,
              "#9c179e"
             ],
             [
              0.4444444444444444,
              "#bd3786"
             ],
             [
              0.5555555555555556,
              "#d8576b"
             ],
             [
              0.6666666666666666,
              "#ed7953"
             ],
             [
              0.7777777777777778,
              "#fb9f3a"
             ],
             [
              0.8888888888888888,
              "#fdca26"
             ],
             [
              1,
              "#f0f921"
             ]
            ],
            "type": "heatmap"
           }
          ],
          "heatmapgl": [
           {
            "colorbar": {
             "outlinewidth": 0,
             "ticks": ""
            },
            "colorscale": [
             [
              0,
              "#0d0887"
             ],
             [
              0.1111111111111111,
              "#46039f"
             ],
             [
              0.2222222222222222,
              "#7201a8"
             ],
             [
              0.3333333333333333,
              "#9c179e"
             ],
             [
              0.4444444444444444,
              "#bd3786"
             ],
             [
              0.5555555555555556,
              "#d8576b"
             ],
             [
              0.6666666666666666,
              "#ed7953"
             ],
             [
              0.7777777777777778,
              "#fb9f3a"
             ],
             [
              0.8888888888888888,
              "#fdca26"
             ],
             [
              1,
              "#f0f921"
             ]
            ],
            "type": "heatmapgl"
           }
          ],
          "histogram": [
           {
            "marker": {
             "pattern": {
              "fillmode": "overlay",
              "size": 10,
              "solidity": 0.2
             }
            },
            "type": "histogram"
           }
          ],
          "histogram2d": [
           {
            "colorbar": {
             "outlinewidth": 0,
             "ticks": ""
            },
            "colorscale": [
             [
              0,
              "#0d0887"
             ],
             [
              0.1111111111111111,
              "#46039f"
             ],
             [
              0.2222222222222222,
              "#7201a8"
             ],
             [
              0.3333333333333333,
              "#9c179e"
             ],
             [
              0.4444444444444444,
              "#bd3786"
             ],
             [
              0.5555555555555556,
              "#d8576b"
             ],
             [
              0.6666666666666666,
              "#ed7953"
             ],
             [
              0.7777777777777778,
              "#fb9f3a"
             ],
             [
              0.8888888888888888,
              "#fdca26"
             ],
             [
              1,
              "#f0f921"
             ]
            ],
            "type": "histogram2d"
           }
          ],
          "histogram2dcontour": [
           {
            "colorbar": {
             "outlinewidth": 0,
             "ticks": ""
            },
            "colorscale": [
             [
              0,
              "#0d0887"
             ],
             [
              0.1111111111111111,
              "#46039f"
             ],
             [
              0.2222222222222222,
              "#7201a8"
             ],
             [
              0.3333333333333333,
              "#9c179e"
             ],
             [
              0.4444444444444444,
              "#bd3786"
             ],
             [
              0.5555555555555556,
              "#d8576b"
             ],
             [
              0.6666666666666666,
              "#ed7953"
             ],
             [
              0.7777777777777778,
              "#fb9f3a"
             ],
             [
              0.8888888888888888,
              "#fdca26"
             ],
             [
              1,
              "#f0f921"
             ]
            ],
            "type": "histogram2dcontour"
           }
          ],
          "mesh3d": [
           {
            "colorbar": {
             "outlinewidth": 0,
             "ticks": ""
            },
            "type": "mesh3d"
           }
          ],
          "parcoords": [
           {
            "line": {
             "colorbar": {
              "outlinewidth": 0,
              "ticks": ""
             }
            },
            "type": "parcoords"
           }
          ],
          "pie": [
           {
            "automargin": true,
            "type": "pie"
           }
          ],
          "scatter": [
           {
            "fillpattern": {
             "fillmode": "overlay",
             "size": 10,
             "solidity": 0.2
            },
            "type": "scatter"
           }
          ],
          "scatter3d": [
           {
            "line": {
             "colorbar": {
              "outlinewidth": 0,
              "ticks": ""
             }
            },
            "marker": {
             "colorbar": {
              "outlinewidth": 0,
              "ticks": ""
             }
            },
            "type": "scatter3d"
           }
          ],
          "scattercarpet": [
           {
            "marker": {
             "colorbar": {
              "outlinewidth": 0,
              "ticks": ""
             }
            },
            "type": "scattercarpet"
           }
          ],
          "scattergeo": [
           {
            "marker": {
             "colorbar": {
              "outlinewidth": 0,
              "ticks": ""
             }
            },
            "type": "scattergeo"
           }
          ],
          "scattergl": [
           {
            "marker": {
             "colorbar": {
              "outlinewidth": 0,
              "ticks": ""
             }
            },
            "type": "scattergl"
           }
          ],
          "scattermapbox": [
           {
            "marker": {
             "colorbar": {
              "outlinewidth": 0,
              "ticks": ""
             }
            },
            "type": "scattermapbox"
           }
          ],
          "scatterpolar": [
           {
            "marker": {
             "colorbar": {
              "outlinewidth": 0,
              "ticks": ""
             }
            },
            "type": "scatterpolar"
           }
          ],
          "scatterpolargl": [
           {
            "marker": {
             "colorbar": {
              "outlinewidth": 0,
              "ticks": ""
             }
            },
            "type": "scatterpolargl"
           }
          ],
          "scatterternary": [
           {
            "marker": {
             "colorbar": {
              "outlinewidth": 0,
              "ticks": ""
             }
            },
            "type": "scatterternary"
           }
          ],
          "surface": [
           {
            "colorbar": {
             "outlinewidth": 0,
             "ticks": ""
            },
            "colorscale": [
             [
              0,
              "#0d0887"
             ],
             [
              0.1111111111111111,
              "#46039f"
             ],
             [
              0.2222222222222222,
              "#7201a8"
             ],
             [
              0.3333333333333333,
              "#9c179e"
             ],
             [
              0.4444444444444444,
              "#bd3786"
             ],
             [
              0.5555555555555556,
              "#d8576b"
             ],
             [
              0.6666666666666666,
              "#ed7953"
             ],
             [
              0.7777777777777778,
              "#fb9f3a"
             ],
             [
              0.8888888888888888,
              "#fdca26"
             ],
             [
              1,
              "#f0f921"
             ]
            ],
            "type": "surface"
           }
          ],
          "table": [
           {
            "cells": {
             "fill": {
              "color": "#EBF0F8"
             },
             "line": {
              "color": "white"
             }
            },
            "header": {
             "fill": {
              "color": "#C8D4E3"
             },
             "line": {
              "color": "white"
             }
            },
            "type": "table"
           }
          ]
         },
         "layout": {
          "annotationdefaults": {
           "arrowcolor": "#2a3f5f",
           "arrowhead": 0,
           "arrowwidth": 1
          },
          "autotypenumbers": "strict",
          "coloraxis": {
           "colorbar": {
            "outlinewidth": 0,
            "ticks": ""
           }
          },
          "colorscale": {
           "diverging": [
            [
             0,
             "#8e0152"
            ],
            [
             0.1,
             "#c51b7d"
            ],
            [
             0.2,
             "#de77ae"
            ],
            [
             0.3,
             "#f1b6da"
            ],
            [
             0.4,
             "#fde0ef"
            ],
            [
             0.5,
             "#f7f7f7"
            ],
            [
             0.6,
             "#e6f5d0"
            ],
            [
             0.7,
             "#b8e186"
            ],
            [
             0.8,
             "#7fbc41"
            ],
            [
             0.9,
             "#4d9221"
            ],
            [
             1,
             "#276419"
            ]
           ],
           "sequential": [
            [
             0,
             "#0d0887"
            ],
            [
             0.1111111111111111,
             "#46039f"
            ],
            [
             0.2222222222222222,
             "#7201a8"
            ],
            [
             0.3333333333333333,
             "#9c179e"
            ],
            [
             0.4444444444444444,
             "#bd3786"
            ],
            [
             0.5555555555555556,
             "#d8576b"
            ],
            [
             0.6666666666666666,
             "#ed7953"
            ],
            [
             0.7777777777777778,
             "#fb9f3a"
            ],
            [
             0.8888888888888888,
             "#fdca26"
            ],
            [
             1,
             "#f0f921"
            ]
           ],
           "sequentialminus": [
            [
             0,
             "#0d0887"
            ],
            [
             0.1111111111111111,
             "#46039f"
            ],
            [
             0.2222222222222222,
             "#7201a8"
            ],
            [
             0.3333333333333333,
             "#9c179e"
            ],
            [
             0.4444444444444444,
             "#bd3786"
            ],
            [
             0.5555555555555556,
             "#d8576b"
            ],
            [
             0.6666666666666666,
             "#ed7953"
            ],
            [
             0.7777777777777778,
             "#fb9f3a"
            ],
            [
             0.8888888888888888,
             "#fdca26"
            ],
            [
             1,
             "#f0f921"
            ]
           ]
          },
          "colorway": [
           "#636efa",
           "#EF553B",
           "#00cc96",
           "#ab63fa",
           "#FFA15A",
           "#19d3f3",
           "#FF6692",
           "#B6E880",
           "#FF97FF",
           "#FECB52"
          ],
          "font": {
           "color": "#2a3f5f"
          },
          "geo": {
           "bgcolor": "white",
           "lakecolor": "white",
           "landcolor": "#E5ECF6",
           "showlakes": true,
           "showland": true,
           "subunitcolor": "white"
          },
          "hoverlabel": {
           "align": "left"
          },
          "hovermode": "closest",
          "mapbox": {
           "style": "light"
          },
          "paper_bgcolor": "white",
          "plot_bgcolor": "#E5ECF6",
          "polar": {
           "angularaxis": {
            "gridcolor": "white",
            "linecolor": "white",
            "ticks": ""
           },
           "bgcolor": "#E5ECF6",
           "radialaxis": {
            "gridcolor": "white",
            "linecolor": "white",
            "ticks": ""
           }
          },
          "scene": {
           "xaxis": {
            "backgroundcolor": "#E5ECF6",
            "gridcolor": "white",
            "gridwidth": 2,
            "linecolor": "white",
            "showbackground": true,
            "ticks": "",
            "zerolinecolor": "white"
           },
           "yaxis": {
            "backgroundcolor": "#E5ECF6",
            "gridcolor": "white",
            "gridwidth": 2,
            "linecolor": "white",
            "showbackground": true,
            "ticks": "",
            "zerolinecolor": "white"
           },
           "zaxis": {
            "backgroundcolor": "#E5ECF6",
            "gridcolor": "white",
            "gridwidth": 2,
            "linecolor": "white",
            "showbackground": true,
            "ticks": "",
            "zerolinecolor": "white"
           }
          },
          "shapedefaults": {
           "line": {
            "color": "#2a3f5f"
           }
          },
          "ternary": {
           "aaxis": {
            "gridcolor": "white",
            "linecolor": "white",
            "ticks": ""
           },
           "baxis": {
            "gridcolor": "white",
            "linecolor": "white",
            "ticks": ""
           },
           "bgcolor": "#E5ECF6",
           "caxis": {
            "gridcolor": "white",
            "linecolor": "white",
            "ticks": ""
           }
          },
          "title": {
           "x": 0.05
          },
          "xaxis": {
           "automargin": true,
           "gridcolor": "white",
           "linecolor": "white",
           "ticks": "",
           "title": {
            "standoff": 15
           },
           "zerolinecolor": "white",
           "zerolinewidth": 2
          },
          "yaxis": {
           "automargin": true,
           "gridcolor": "white",
           "linecolor": "white",
           "ticks": "",
           "title": {
            "standoff": 15
           },
           "zerolinecolor": "white",
           "zerolinewidth": 2
          }
         }
        },
        "title": {
         "text": "Field Goals Made versus Field Goal Attempts"
        },
        "xaxis": {
         "anchor": "y",
         "domain": [
          0,
          1
         ],
         "title": {
          "text": "Field Goal Attempts"
         }
        },
        "yaxis": {
         "anchor": "x",
         "domain": [
          0,
          1
         ],
         "title": {
          "text": "Field Goal Made"
         }
        }
       }
      }
     },
     "metadata": {},
     "output_type": "display_data"
    }
   ],
   "source": [
    "px.scatter(df, x='FGA', y='FGM', title='Field Goals Made versus Field Goal Attempts', labels={'FGA':'Field Goal Attempts', 'FGM':'Field Goals Made'})"
   ]
  },
  {
   "cell_type": "markdown",
   "metadata": {},
   "source": [
    "Looking at the plot, we see the number of field goal attempts by a player and the number of field goals they actually made. To add more *context* to this plot, we can use the `hover_data` parameter."
   ]
  },
  {
   "cell_type": "code",
   "execution_count": 4,
   "metadata": {},
   "outputs": [
    {
     "data": {
      "application/vnd.plotly.v1+json": {
       "config": {
        "plotlyServerURL": "https://plot.ly"
       },
       "data": [
        {
         "customdata": [
          [
           "A.J. Lawson"
          ],
          [
           "AJ Green"
          ],
          [
           "AJ Griffin"
          ],
          [
           "Aaron Gordon"
          ],
          [
           "Aaron Holiday"
          ],
          [
           "Aaron Nesmith"
          ],
          [
           "Aaron Wiggins"
          ],
          [
           "Adam Flagler"
          ],
          [
           "Adama Sanogo"
          ],
          [
           "Admiral Schofield"
          ],
          [
           "Al Horford"
          ],
          [
           "Alec Burks"
          ],
          [
           "Aleksej Pokusevski"
          ],
          [
           "Alex Caruso"
          ],
          [
           "Alex Fudge"
          ],
          [
           "Alex Len"
          ],
          [
           "Alondes Williams"
          ],
          [
           "Alperen Sengun"
          ],
          [
           "Amari Bailey"
          ],
          [
           "Amen Thompson"
          ],
          [
           "Amir Coffey"
          ],
          [
           "Andre Drummond"
          ],
          [
           "Andre Jackson Jr."
          ],
          [
           "Andrew Funk"
          ],
          [
           "Andrew Nembhard"
          ],
          [
           "Andrew Wiggins"
          ],
          [
           "Anfernee Simons"
          ],
          [
           "Anthony Black"
          ],
          [
           "Anthony Davis"
          ],
          [
           "Anthony Edwards"
          ],
          [
           "Anthony Gill"
          ],
          [
           "Armoni Brooks"
          ],
          [
           "Ashton Hagans"
          ],
          [
           "Ausar Thompson"
          ],
          [
           "Austin Reaves"
          ],
          [
           "Ayo Dosunmu"
          ],
          [
           "Bam Adebayo"
          ],
          [
           "Ben Sheppard"
          ],
          [
           "Ben Simmons"
          ],
          [
           "Bennedict Mathurin"
          ],
          [
           "Bilal Coulibaly"
          ],
          [
           "Bismack Biyombo"
          ],
          [
           "Blake Wesley"
          ],
          [
           "Boban Marjanovic"
          ],
          [
           "Bobby Portis"
          ],
          [
           "Bogdan Bogdanovic"
          ],
          [
           "Bojan Bogdanovic"
          ],
          [
           "Bol Bol"
          ],
          [
           "Bones Hyland"
          ],
          [
           "Bradley Beal"
          ],
          [
           "Brandin Podziemski"
          ],
          [
           "Brandon Boston Jr."
          ],
          [
           "Brandon Clarke"
          ],
          [
           "Brandon Ingram"
          ],
          [
           "Brandon Miller"
          ],
          [
           "Brandon Williams"
          ],
          [
           "Braxton Key"
          ],
          [
           "Brice Sensabaugh"
          ],
          [
           "Brook Lopez"
          ],
          [
           "Bruce Brown"
          ],
          [
           "Bruno Fernando"
          ],
          [
           "Bryce McGowens"
          ],
          [
           "Buddy Boeheim"
          ],
          [
           "Buddy Hield"
          ],
          [
           "CJ McCollum"
          ],
          [
           "Cade Cunningham"
          ],
          [
           "Caleb Houstan"
          ],
          [
           "Caleb Martin"
          ],
          [
           "Cam Reddish"
          ],
          [
           "Cam Thomas"
          ],
          [
           "Cam Whitmore"
          ],
          [
           "Cameron Johnson"
          ],
          [
           "Cameron Payne"
          ],
          [
           "Caris LeVert"
          ],
          [
           "Cason Wallace"
          ],
          [
           "Cedi Osman"
          ],
          [
           "Charles Bassey"
          ],
          [
           "Charlie Brown Jr."
          ],
          [
           "Chet Holmgren"
          ],
          [
           "Chimezie Metu"
          ],
          [
           "Chris Boucher"
          ],
          [
           "Chris Duarte"
          ],
          [
           "Chris Livingston"
          ],
          [
           "Chris Paul"
          ],
          [
           "Christian Braun"
          ],
          [
           "Christian Wood"
          ],
          [
           "Chuma Okeke"
          ],
          [
           "Clint Capela"
          ],
          [
           "Coby White"
          ],
          [
           "Cody Martin"
          ],
          [
           "Cody Zeller"
          ],
          [
           "Colby Jones"
          ],
          [
           "Cole Anthony"
          ],
          [
           "Cole Swider"
          ],
          [
           "Colin Castleton"
          ],
          [
           "Collin Gillespie"
          ],
          [
           "Collin Sexton"
          ],
          [
           "Corey Kispert"
          ],
          [
           "Cory Joseph"
          ],
          [
           "Craig Porter Jr."
          ],
          [
           "D'Angelo Russell"
          ],
          [
           "D'Moi Hodge"
          ],
          [
           "D.J. Carton"
          ],
          [
           "D.J. Wilson"
          ],
          [
           "DaQuan Jeffries"
          ],
          [
           "Daishen Nix"
          ],
          [
           "Dalano Banton"
          ],
          [
           "Dalen Terry"
          ],
          [
           "Damian Jones"
          ],
          [
           "Damian Lillard"
          ],
          [
           "Daniel Gafford"
          ],
          [
           "Daniel Theis"
          ],
          [
           "Danilo Gallinari"
          ],
          [
           "Danny Green"
          ],
          [
           "Dante Exum"
          ],
          [
           "Danuel House Jr."
          ],
          [
           "Dario Saric"
          ],
          [
           "Dariq Whitehead"
          ],
          [
           "Darius Bazley"
          ],
          [
           "Darius Garland"
          ],
          [
           "David Roddy"
          ],
          [
           "Davion Mitchell"
          ],
          [
           "Davis Bertans"
          ],
          [
           "Day'Ron Sharpe"
          ],
          [
           "De'Aaron Fox"
          ],
          [
           "De'Andre Hunter"
          ],
          [
           "De'Anthony Melton"
          ],
          [
           "DeAndre Jordan"
          ],
          [
           "DeJon Jarreau"
          ],
          [
           "DeMar DeRozan"
          ],
          [
           "Dean Wade"
          ],
          [
           "Deandre Ayton"
          ],
          [
           "Dejounte Murray"
          ],
          [
           "Delon Wright"
          ],
          [
           "Deni Avdija"
          ],
          [
           "Dennis Schroder"
          ],
          [
           "Dennis Smith Jr."
          ],
          [
           "Dereck Lively II"
          ],
          [
           "Dereon Seabron"
          ],
          [
           "Derrick Jones Jr."
          ],
          [
           "Derrick Rose"
          ],
          [
           "Derrick White"
          ],
          [
           "Desmond Bane"
          ],
          [
           "Devin Booker"
          ],
          [
           "Devin Vassell"
          ],
          [
           "Devonte' Graham"
          ],
          [
           "Dexter Dennis"
          ],
          [
           "Dillon Brooks"
          ],
          [
           "Dmytro Skapintsev"
          ],
          [
           "Domantas Sabonis"
          ],
          [
           "Dominick Barlow"
          ],
          [
           "Donovan Mitchell"
          ],
          [
           "Donte DiVincenzo"
          ],
          [
           "Dorian Finney-Smith"
          ],
          [
           "Doug McDermott"
          ],
          [
           "Draymond Green"
          ],
          [
           "Drew Eubanks"
          ],
          [
           "Drew Peterson"
          ],
          [
           "Dru Smith"
          ],
          [
           "Duncan Robinson"
          ],
          [
           "Duop Reath"
          ],
          [
           "Dwight Powell"
          ],
          [
           "Dylan Windler"
          ],
          [
           "Dyson Daniels"
          ],
          [
           "E.J. Liddell"
          ],
          [
           "Emoni Bates"
          ],
          [
           "Eric Gordon"
          ],
          [
           "Eugene Omoruyi"
          ],
          [
           "Evan Fournier"
          ],
          [
           "Evan Mobley"
          ],
          [
           "Filip Petrusev"
          ],
          [
           "Frank Ntilikina"
          ],
          [
           "Franz Wagner"
          ],
          [
           "Fred VanVleet"
          ],
          [
           "Furkan Korkmaz"
          ],
          [
           "GG Jackson"
          ],
          [
           "Gabe Vincent"
          ],
          [
           "Garrett Temple"
          ],
          [
           "Garrison Mathews"
          ],
          [
           "Gary Harris"
          ],
          [
           "Gary Payton II"
          ],
          [
           "Gary Trent Jr."
          ],
          [
           "Georges Niang"
          ],
          [
           "Giannis Antetokounmpo"
          ],
          [
           "Goga Bitadze"
          ],
          [
           "Gordon Hayward"
          ],
          [
           "Gradey Dick"
          ],
          [
           "Grant Williams"
          ],
          [
           "Grayson Allen"
          ],
          [
           "Greg Brown III"
          ],
          [
           "Gui Santos"
          ],
          [
           "Hamidou Diallo"
          ],
          [
           "Harrison Barnes"
          ],
          [
           "Harry Giles III"
          ],
          [
           "Haywood Highsmith"
          ],
          [
           "Henri Drell"
          ],
          [
           "Herbert Jones"
          ],
          [
           "Hunter Tyson"
          ],
          [
           "Ibou Badji"
          ],
          [
           "Immanuel Quickley"
          ],
          [
           "Isaac Okoro"
          ],
          [
           "Isaiah Hartenstein"
          ],
          [
           "Isaiah Jackson"
          ],
          [
           "Isaiah Joe"
          ],
          [
           "Isaiah Livers"
          ],
          [
           "Isaiah Mobley"
          ],
          [
           "Isaiah Stewart"
          ],
          [
           "Isaiah Thomas"
          ],
          [
           "Ish Smith"
          ],
          [
           "Ish Wainright"
          ],
          [
           "Ivica Zubac"
          ],
          [
           "Izaiah Brockington"
          ],
          [
           "JD Davison"
          ],
          [
           "JT Thor"
          ],
          [
           "Ja Morant"
          ],
          [
           "JaVale McGee"
          ],
          [
           "Jabari Smith Jr."
          ],
          [
           "Jabari Walker"
          ],
          [
           "Jacob Gilyard"
          ],
          [
           "Jacob Toppin"
          ],
          [
           "Jaden Hardy"
          ],
          [
           "Jaden Ivey"
          ],
          [
           "Jaden McDaniels"
          ],
          [
           "Jaden Springer"
          ],
          [
           "Jae Crowder"
          ],
          [
           "Jae'Sean Tate"
          ],
          [
           "Jahmi'us Ramsey"
          ],
          [
           "Jaime Jaquez Jr."
          ],
          [
           "Jake LaRavia"
          ],
          [
           "Jakob Poeltl"
          ],
          [
           "Jalen Brunson"
          ],
          [
           "Jalen Crutcher"
          ],
          [
           "Jalen Duren"
          ],
          [
           "Jalen Green"
          ],
          [
           "Jalen Hood-Schifino"
          ],
          [
           "Jalen Johnson"
          ],
          [
           "Jalen McDaniels"
          ],
          [
           "Jalen Pickett"
          ],
          [
           "Jalen Slawson"
          ],
          [
           "Jalen Smith"
          ],
          [
           "Jalen Suggs"
          ],
          [
           "Jalen Williams"
          ],
          [
           "Jalen Wilson"
          ],
          [
           "Jamal Cain"
          ],
          [
           "Jamal Murray"
          ],
          [
           "Jamaree Bouyea"
          ],
          [
           "James Bouknight"
          ],
          [
           "James Harden"
          ],
          [
           "James Johnson"
          ],
          [
           "James Wiseman"
          ],
          [
           "Jarace Walker"
          ],
          [
           "Jared Butler"
          ],
          [
           "Jared Rhoden"
          ],
          [
           "Jaren Jackson Jr."
          ],
          [
           "Jarred Vanderbilt"
          ],
          [
           "Jarrett Allen"
          ],
          [
           "Jason Preston"
          ],
          [
           "Javon Freeman-Liberty"
          ],
          [
           "Javonte Green"
          ],
          [
           "Javonte Smart"
          ],
          [
           "Jaxson Hayes"
          ],
          [
           "Jay Huff"
          ],
          [
           "Jaylen Brown"
          ],
          [
           "Jaylen Nowell"
          ],
          [
           "Jaylin Williams"
          ],
          [
           "Jayson Tatum"
          ],
          [
           "Jeff Dowtin Jr."
          ],
          [
           "Jeff Green"
          ],
          [
           "Jerami Grant"
          ],
          [
           "Jeremiah Robinson-Earl"
          ],
          [
           "Jeremy Sochan"
          ],
          [
           "Jericho Sims"
          ],
          [
           "Jermaine Samuels Jr."
          ],
          [
           "Jerome Robinson"
          ],
          [
           "Jett Howard"
          ],
          [
           "Jevon Carter"
          ],
          [
           "Jimmy Butler"
          ],
          [
           "Jock Landale"
          ],
          [
           "Joe Harris"
          ],
          [
           "Joe Ingles"
          ],
          [
           "Joel Embiid"
          ],
          [
           "John Collins"
          ],
          [
           "John Konchar"
          ],
          [
           "Johnny Davis"
          ],
          [
           "Johnny Juzang"
          ],
          [
           "Jonas Valanciunas"
          ],
          [
           "Jonathan Isaac"
          ],
          [
           "Jonathan Kuminga"
          ],
          [
           "Jontay Porter"
          ],
          [
           "Jordan Clarkson"
          ],
          [
           "Jordan Ford"
          ],
          [
           "Jordan Goodwin"
          ],
          [
           "Jordan Hawkins"
          ],
          [
           "Jordan McLaughlin"
          ],
          [
           "Jordan Miller"
          ],
          [
           "Jordan Nwora"
          ],
          [
           "Jordan Poole"
          ],
          [
           "Jordan Walsh"
          ],
          [
           "Jose Alvarado"
          ],
          [
           "Josh Giddey"
          ],
          [
           "Josh Green"
          ],
          [
           "Josh Hart"
          ],
          [
           "Josh Minott"
          ],
          [
           "Josh Okogie"
          ],
          [
           "Josh Richardson"
          ],
          [
           "Joshua Primo"
          ],
          [
           "Jrue Holiday"
          ],
          [
           "Juan Toscano-Anderson"
          ],
          [
           "Jules Bernard"
          ],
          [
           "Julian Champagnie"
          ],
          [
           "Julian Phillips"
          ],
          [
           "Julian Strawther"
          ],
          [
           "Julius Randle"
          ],
          [
           "Justin Champagnie"
          ],
          [
           "Justin Holiday"
          ],
          [
           "Justin Jackson"
          ],
          [
           "Justin Minaya"
          ],
          [
           "Jusuf Nurkic"
          ],
          [
           "KJ Martin"
          ],
          [
           "Kaiser Gates"
          ],
          [
           "Karl-Anthony Towns"
          ],
          [
           "Kawhi Leonard"
          ],
          [
           "Keegan Murray"
          ],
          [
           "Keita Bates-Diop"
          ],
          [
           "Keldon Johnson"
          ],
          [
           "Kelly Olynyk"
          ],
          [
           "Kelly Oubre Jr."
          ],
          [
           "Kendall Brown"
          ],
          [
           "Kenneth Lofton Jr."
          ],
          [
           "Kenrich Williams"
          ],
          [
           "Kentavious Caldwell-Pope"
          ],
          [
           "Keon Ellis"
          ],
          [
           "Keon Johnson"
          ],
          [
           "Kessler Edwards"
          ],
          [
           "Kevin Durant"
          ],
          [
           "Kevin Huerter"
          ],
          [
           "Kevin Knox II"
          ],
          [
           "Kevin Love"
          ],
          [
           "Kevon Harris"
          ],
          [
           "Kevon Looney"
          ],
          [
           "Keyontae Johnson"
          ],
          [
           "Keyonte George"
          ],
          [
           "Khris Middleton"
          ],
          [
           "Killian Hayes"
          ],
          [
           "Kira Lewis Jr."
          ],
          [
           "Klay Thompson"
          ],
          [
           "Kobe Brown"
          ],
          [
           "Kobe Bufkin"
          ],
          [
           "Kobi Simmons"
          ],
          [
           "Kris Dunn"
          ],
          [
           "Kris Murray"
          ],
          [
           "Kristaps Porzingis"
          ],
          [
           "Kyle Anderson"
          ],
          [
           "Kyle Kuzma"
          ],
          [
           "Kyle Lowry"
          ],
          [
           "Kyrie Irving"
          ],
          [
           "LaMelo Ball"
          ],
          [
           "Lamar Stevens"
          ],
          [
           "Landry Shamet"
          ],
          [
           "Larry Nance Jr."
          ],
          [
           "Lauri Markkanen"
          ],
          [
           "LeBron James"
          ],
          [
           "Leaky Black"
          ],
          [
           "Leonard Miller"
          ],
          [
           "Lester Quinones"
          ],
          [
           "Lindell Wigginton"
          ],
          [
           "Lindy Waters III"
          ],
          [
           "Lonnie Walker IV"
          ],
          [
           "Luguentz Dort"
          ],
          [
           "Luka Doncic"
          ],
          [
           "Luka Garza"
          ],
          [
           "Luka Samanic"
          ],
          [
           "Luke Kennard"
          ],
          [
           "Luke Kornet"
          ],
          [
           "Malachi Flynn"
          ],
          [
           "Malaki Branham"
          ],
          [
           "Malcolm Brogdon"
          ],
          [
           "Malcolm Cazalon"
          ],
          [
           "Malik Beasley"
          ],
          [
           "Malik Monk"
          ],
          [
           "Mamadi Diakite"
          ],
          [
           "Maozinha Pereira"
          ],
          [
           "MarJon Beauchamp"
          ],
          [
           "Marcus Morris Sr."
          ],
          [
           "Marcus Sasser"
          ],
          [
           "Marcus Smart"
          ],
          [
           "Mark Williams"
          ],
          [
           "Markelle Fultz"
          ],
          [
           "Markieff Morris"
          ],
          [
           "Markquis Nowell"
          ],
          [
           "Marques Bolden"
          ],
          [
           "Marvin Bagley III"
          ],
          [
           "Mason Jones"
          ],
          [
           "Mason Plumlee"
          ],
          [
           "Matisse Thybulle"
          ],
          [
           "Matt Hurt"
          ],
          [
           "Matt Ryan"
          ],
          [
           "Max Christie"
          ],
          [
           "Max Strus"
          ],
          [
           "Maxi Kleber"
          ],
          [
           "Maxwell Lewis"
          ],
          [
           "Micah Potter"
          ],
          [
           "Michael Porter Jr."
          ],
          [
           "Mikal Bridges"
          ],
          [
           "Mike Conley"
          ],
          [
           "Mike Muscala"
          ],
          [
           "Miles Bridges"
          ],
          [
           "Miles McBride"
          ],
          [
           "Mitchell Robinson"
          ],
          [
           "Mo Bamba"
          ],
          [
           "Monte Morris"
          ],
          [
           "Moritz Wagner"
          ],
          [
           "Moses Brown"
          ],
          [
           "Moses Moody"
          ],
          [
           "Mouhamadou Gueye"
          ],
          [
           "Mouhamed Gueye"
          ],
          [
           "Moussa Diabate"
          ],
          [
           "Myles Turner"
          ],
          [
           "Naji Marshall"
          ],
          [
           "Nassir Little"
          ],
          [
           "Nate Hinton"
          ],
          [
           "Nate Williams"
          ],
          [
           "Nathan Mensah"
          ],
          [
           "Naz Reid"
          ],
          [
           "Neemias Queta"
          ],
          [
           "Nic Claxton"
          ],
          [
           "Nick Richards"
          ],
          [
           "Nick Smith Jr."
          ],
          [
           "Nickeil Alexander-Walker"
          ],
          [
           "Nicolas Batum"
          ],
          [
           "Nikola Jokic"
          ],
          [
           "Nikola Jovic"
          ],
          [
           "Nikola Vucevic"
          ],
          [
           "Noah Clowney"
          ],
          [
           "Norman Powell"
          ],
          [
           "OG Anunoby"
          ],
          [
           "Obi Toppin"
          ],
          [
           "Ochai Agbaji"
          ],
          [
           "Olivier Sarr"
          ],
          [
           "Olivier-Maxence Prosper"
          ],
          [
           "Omer Yurtseven"
          ],
          [
           "Onuralp Bitim"
          ],
          [
           "Onyeka Okongwu"
          ],
          [
           "Orlando Robinson"
          ],
          [
           "Oscar Tshiebwe"
          ],
          [
           "Oshae Brissett"
          ],
          [
           "Otto Porter Jr."
          ],
          [
           "Ousmane Dieng"
          ],
          [
           "P.J. Tucker"
          ],
          [
           "P.J. Washington"
          ],
          [
           "Paolo Banchero"
          ],
          [
           "Pascal Siakam"
          ],
          [
           "Pat Connaughton"
          ],
          [
           "Pat Spencer"
          ],
          [
           "Patrick Baldwin Jr."
          ],
          [
           "Patrick Beverley"
          ],
          [
           "Patrick Williams"
          ],
          [
           "Patty Mills"
          ],
          [
           "Paul George"
          ],
          [
           "Paul Reed"
          ],
          [
           "Payton Pritchard"
          ],
          [
           "Pete Nance"
          ],
          [
           "Peyton Watson"
          ],
          [
           "Precious Achiuwa"
          ],
          [
           "Quentin Grimes"
          ],
          [
           "Quenton Jackson"
          ],
          [
           "R.J. Hampton"
          ],
          [
           "RJ Barrett"
          ],
          [
           "Rayan Rupert"
          ],
          [
           "Reggie Bullock Jr."
          ],
          [
           "Reggie Jackson"
          ],
          [
           "Richaun Holmes"
          ],
          [
           "Ricky Council IV"
          ],
          [
           "Robert Covington"
          ],
          [
           "Robert Williams III"
          ],
          [
           "Robin Lopez"
          ],
          [
           "Ron Harper Jr."
          ],
          [
           "Royce O'Neale"
          ],
          [
           "Rudy Gobert"
          ],
          [
           "Rui Hachimura"
          ],
          [
           "Russell Westbrook"
          ],
          [
           "Ryan Arcidiacono"
          ],
          [
           "Ryan Rollins"
          ],
          [
           "Saben Lee"
          ],
          [
           "Saddiq Bey"
          ],
          [
           "Sam Hauser"
          ],
          [
           "Sam Merrill"
          ],
          [
           "Sandro Mamukelashvili"
          ],
          [
           "Santi Aldama"
          ],
          [
           "Sasha Vezenkov"
          ],
          [
           "Scoot Henderson"
          ],
          [
           "Scottie Barnes"
          ],
          [
           "Scotty Pippen Jr."
          ],
          [
           "Seth Curry"
          ],
          [
           "Seth Lundy"
          ],
          [
           "Shaedon Sharpe"
          ],
          [
           "Shai Gilgeous-Alexander"
          ],
          [
           "Shake Milton"
          ],
          [
           "Shaquille Harrison"
          ],
          [
           "Sidy Cissoko"
          ],
          [
           "Simone Fontecchio"
          ],
          [
           "Skylar Mays"
          ],
          [
           "Spencer Dinwiddie"
          ],
          [
           "Stanley Umude"
          ],
          [
           "Stephen Curry"
          ],
          [
           "Svi Mykhailiuk"
          ],
          [
           "T.J. McConnell"
          ],
          [
           "T.J. Warren"
          ],
          [
           "Taj Gibson"
          ],
          [
           "Talen Horton-Tucker"
          ],
          [
           "Tari Eason"
          ],
          [
           "Taurean Prince"
          ],
          [
           "Taylor Hendricks"
          ],
          [
           "Taze Moore"
          ],
          [
           "Terance Mann"
          ],
          [
           "Terquavion Smith"
          ],
          [
           "Terry Rozier"
          ],
          [
           "Terry Taylor"
          ],
          [
           "Thaddeus Young"
          ],
          [
           "Thanasis Antetokounmpo"
          ],
          [
           "Theo Maledon"
          ],
          [
           "Thomas Bryant"
          ],
          [
           "Tim Hardaway Jr."
          ],
          [
           "Tobias Harris"
          ],
          [
           "Torrey Craig"
          ],
          [
           "Tosan Evbuomwan"
          ],
          [
           "Toumani Camara"
          ],
          [
           "Trae Young"
          ],
          [
           "Trayce Jackson-Davis"
          ],
          [
           "Tre Jones"
          ],
          [
           "Tre Mann"
          ],
          [
           "Trendon Watford"
          ],
          [
           "Trent Forrest"
          ],
          [
           "Trevelin Queen"
          ],
          [
           "Trey Jemison"
          ],
          [
           "Trey Lyles"
          ],
          [
           "Trey Murphy III"
          ],
          [
           "Tristan Thompson"
          ],
          [
           "Tristan Vukcevic"
          ],
          [
           "Troy Brown Jr."
          ],
          [
           "Ty Jerome"
          ],
          [
           "TyTy Washington Jr."
          ],
          [
           "Tyler Herro"
          ],
          [
           "Tyrese Haliburton"
          ],
          [
           "Tyrese Maxey"
          ],
          [
           "Tyus Jones"
          ],
          [
           "Udoka Azubuike"
          ],
          [
           "Usman Garuba"
          ],
          [
           "Vasilije Micic"
          ],
          [
           "Victor Wembanyama"
          ],
          [
           "Vince Williams Jr."
          ],
          [
           "Vit Krejci"
          ],
          [
           "Walker Kessler"
          ],
          [
           "Wendell Carter Jr."
          ],
          [
           "Wendell Moore Jr."
          ],
          [
           "Wenyen Gabriel"
          ],
          [
           "Wesley Matthews"
          ],
          [
           "Xavier Moon"
          ],
          [
           "Xavier Tillman"
          ],
          [
           "Yuta Watanabe"
          ],
          [
           "Zach Collins"
          ],
          [
           "Zach LaVine"
          ],
          [
           "Zavier Simpson"
          ],
          [
           "Zeke Nnaji"
          ],
          [
           "Ziaire Williams"
          ],
          [
           "Zion Williamson"
          ]
         ],
         "hovertemplate": "Field Goal Attempts=%{x}<br>Field Goals Made=%{y}<br>Player=%{customdata[0]}<extra></extra>",
         "legendgroup": "",
         "marker": {
          "color": "#636efa",
          "symbol": "circle"
         },
         "mode": "markers",
         "name": "",
         "orientation": "v",
         "showlegend": false,
         "type": "scatter",
         "x": [
          2.7,
          3.4,
          2.5,
          9.9,
          5.4,
          8.9,
          4.3,
          3,
          1,
          1.1,
          6.4,
          9,
          3.6,
          7.6,
          1.5,
          1.8,
          1,
          15.6,
          1.5,
          7.1,
          4.4,
          6.1,
          1.8,
          0.5,
          7.8,
          10.9,
          18.2,
          3.7,
          17,
          19.9,
          2.4,
          4.6,
          3.9,
          7.6,
          11.5,
          9.3,
          14.6,
          3.7,
          4.9,
          11.2,
          6.9,
          3.3,
          3.2,
          2,
          10.9,
          14.1,
          12.5,
          3.7,
          5.9,
          13.9,
          8.2,
          3.7,
          8,
          16,
          14.7,
          1.8,
          0.9,
          6,
          9.4,
          8.8,
          3.9,
          3.7,
          4,
          10.2,
          15.3,
          18.8,
          3.6,
          8.7,
          5,
          17.8,
          9.7,
          10.8,
          6.2,
          12.1,
          5.3,
          5.3,
          2.1,
          1.3,
          11.7,
          4,
          4.3,
          3.7,
          1.1,
          7.8,
          5.8,
          5.3,
          2.5,
          8.5,
          15.3,
          7.7,
          1.5,
          2.3,
          9.6,
          2.4,
          1.1,
          2.9,
          13.3,
          9.6,
          2.5,
          4.7,
          14.2,
          2.1,
          2,
          3,
          1.1,
          1.7,
          7.7,
          2.4,
          1.9,
          17.6,
          6.5,
          4.7,
          4,
          1,
          5.6,
          3.1,
          6.1,
          2.5,
          0.3,
          14.6,
          6.6,
          4,
          5,
          4.8,
          20.8,
          11.4,
          9.7,
          2.7,
          5.6,
          16.8,
          4.3,
          12.6,
          18.7,
          3.9,
          10.5,
          11.6,
          6,
          5.4,
          2.2,
          6.5,
          6.9,
          11.6,
          18.5,
          19.4,
          15.5,
          2.8,
          4.8,
          10.6,
          0.5,
          13,
          3.4,
          19.9,
          12.1,
          7.6,
          4.5,
          7,
          3.4,
          1,
          3.7,
          10.2,
          7.3,
          1.7,
          1.4,
          4.9,
          0.8,
          2.8,
          9.4,
          3.3,
          6.7,
          11,
          0.7,
          1.8,
          15.3,
          13.5,
          2.2,
          10.4,
          6,
          1.9,
          3,
          5.5,
          4,
          11.6,
          7.8,
          18.8,
          3.6,
          8.3,
          6.8,
          7.7,
          8.9,
          1.8,
          2.2,
          1,
          9,
          2.3,
          4.9,
          2,
          7.8,
          1.2,
          1,
          13,
          7.1,
          4.8,
          4,
          6.2,
          5,
          2.2,
          8.3,
          2.5,
          3.7,
          2.4,
          7.4,
          5,
          0.5,
          2.8,
          18.9,
          2.9,
          10.8,
          6.6,
          3.7,
          1,
          6.6,
          12.4,
          8.9,
          3,
          5.3,
          3.6,
          5.9,
          9.7,
          7.6,
          7.6,
          21,
          1,
          9.3,
          16.3,
          2.1,
          12.5,
          3.5,
          1.4,
          0.6,
          6.4,
          9.6,
          14.2,
          3.7,
          3.6,
          16.7,
          3.5,
          2.9,
          11.4,
          1.1,
          4.6,
          3.4,
          4.2,
          2.5,
          17.4,
          3.9,
          10.5,
          1.5,
          5.1,
          3.7,
          0,
          2.4,
          0.8,
          18,
          6.1,
          3.1,
          19.5,
          2.9,
          4.5,
          15.7,
          2.6,
          10.5,
          1.3,
          1,
          1.5,
          1.6,
          4.9,
          13.4,
          3.3,
          2.4,
          3.5,
          22.2,
          11,
          3.8,
          3,
          4.7,
          8.9,
          4.9,
          11.8,
          4,
          14.8,
          1.2,
          5.8,
          7.1,
          2.5,
          1.1,
          5.6,
          14.9,
          1.3,
          6.1,
          10.5,
          6.6,
          8.3,
          1,
          3.6,
          8.1,
          1.5,
          10,
          1.1,
          3.3,
          5,
          1.9,
          4.8,
          18.2,
          5,
          3.3,
          0,
          1.5,
          8.5,
          2.9,
          4,
          15.5,
          17.1,
          12.3,
          3.1,
          12.6,
          6.2,
          12.7,
          0.8,
          2.5,
          3.8,
          7.7,
          3.5,
          4.8,
          1.5,
          19.1,
          8.8,
          6,
          6.5,
          1.5,
          3.1,
          1.8,
          10.7,
          11.7,
          6.7,
          2.9,
          14.5,
          1.7,
          4.1,
          6,
          4.8,
          5.3,
          13.4,
          5.5,
          18.8,
          6.5,
          19.6,
          19.2,
          5.7,
          6,
          3.8,
          16.2,
          17.8,
          1.8,
          1,
          3.7,
          1.7,
          2.2,
          8.3,
          8.2,
          23.6,
          2.9,
          2.6,
          8,
          3.2,
          3.9,
          8,
          12.7,
          0,
          9.2,
          12.4,
          1.2,
          3.2,
          3.4,
          5.6,
          6.5,
          11.9,
          7.9,
          7.6,
          2.5,
          1,
          0.3,
          8.2,
          2,
          3.1,
          4.9,
          4.3,
          4.7,
          3.7,
          10.6,
          3.4,
          0.5,
          1.8,
          13.2,
          16.3,
          8.4,
          3.2,
          17.8,
          6.4,
          4.8,
          3.5,
          4.8,
          6.9,
          2.7,
          6.4,
          2.5,
          0.5,
          1.7,
          11.9,
          5.7,
          2.9,
          1.8,
          2,
          1.1,
          10.2,
          3.2,
          8.4,
          5.7,
          5.3,
          6.4,
          4.2,
          17.8,
          5.5,
          16,
          2.5,
          10.1,
          11.5,
          6.9,
          5.5,
          1.4,
          2.1,
          2.9,
          3.7,
          6.6,
          2.2,
          2.5,
          2.7,
          2.2,
          3.4,
          1.6,
          11,
          17.3,
          15.9,
          4.3,
          0.3,
          3.3,
          5.1,
          8.3,
          4.1,
          16.9,
          5.8,
          7.1,
          0.5,
          5.6,
          6.7,
          6.4,
          0,
          1.8,
          14.9,
          3.1,
          2.1,
          9.1,
          3.7,
          3.6,
          3.4,
          4.3,
          1.2,
          0,
          6.9,
          8.1,
          9.7,
          9.7,
          0.3,
          2.5,
          2.5,
          11.1,
          6.5,
          6.5,
          2.3,
          9.4,
          4.7,
          12.3,
          15.7,
          8,
          4.6,
          1.9,
          13.6,
          19.9,
          4.1,
          0.7,
          1,
          8.3,
          4.5,
          8.8,
          3.5,
          19.6,
          2.9,
          8,
          4.3,
          1.5,
          8.6,
          8.6,
          7.4,
          5.9,
          1.7,
          6.5,
          3.3,
          16.6,
          1.2,
          3.6,
          0.9,
          4.1,
          3.8,
          12.8,
          13.6,
          5,
          4,
          6.3,
          19.3,
          4.7,
          7.4,
          7.2,
          4.4,
          2.4,
          2.9,
          4.6,
          5.4,
          10.7,
          2.4,
          2,
          3.5,
          2,
          1.4,
          18,
          15.4,
          20.1,
          10.1,
          1.6,
          0.3,
          5.9,
          16.3,
          7.3,
          4.6,
          5.5,
          7.8,
          0.6,
          4.4,
          2.8,
          1.6,
          5.3,
          3.4,
          8.8,
          15,
          1,
          2.6,
          7.4,
          15.2
         ],
         "xaxis": "x",
         "y": [
          1.3,
          1.5,
          0.7,
          5.5,
          2.4,
          4.4,
          2.5,
          0,
          1,
          0.4,
          3.2,
          3.4,
          1.4,
          3.6,
          0.3,
          1.1,
          0.3,
          8.4,
          0.4,
          3.7,
          2.2,
          3.3,
          0.9,
          0,
          3.9,
          4.9,
          7.8,
          1.7,
          9.4,
          9.2,
          1.1,
          1.5,
          1.7,
          3.7,
          5.6,
          4.6,
          7.6,
          1.5,
          2.9,
          5,
          3,
          1.8,
          1.6,
          0.9,
          5.5,
          6,
          5.6,
          2.3,
          2.2,
          6.9,
          3.7,
          1.6,
          4.5,
          7.8,
          6.4,
          0.7,
          0.4,
          2.2,
          4.6,
          4.1,
          2.3,
          1.7,
          1.4,
          4.5,
          6.9,
          8.4,
          1.4,
          3.8,
          1.9,
          7.9,
          4.5,
          4.8,
          2.7,
          4.9,
          2.7,
          2.5,
          1.5,
          0.3,
          6.2,
          1.9,
          2.2,
          1.4,
          0.5,
          3.5,
          2.6,
          2.5,
          0.9,
          4.8,
          6.8,
          2.9,
          0.6,
          0.9,
          4.2,
          1,
          0.7,
          1.3,
          6.6,
          4.6,
          0.9,
          2.4,
          6.5,
          0.7,
          0.8,
          2,
          0.4,
          0.7,
          3.2,
          1,
          1.1,
          7.5,
          4.6,
          2.5,
          1.8,
          0,
          3.1,
          1.4,
          2.9,
          0.5,
          0,
          6.5,
          2.7,
          1.8,
          1.9,
          2.8,
          9.7,
          5.3,
          3.8,
          1.7,
          1.9,
          8,
          1.8,
          7.3,
          8.7,
          1.5,
          5.3,
          5.1,
          2.6,
          4,
          0.7,
          3.2,
          3.2,
          5.4,
          8.6,
          9.5,
          7.3,
          1.1,
          2.5,
          4.6,
          0,
          7.8,
          1.7,
          9.2,
          5.3,
          3.2,
          1.9,
          3.4,
          2.1,
          1,
          1.7,
          4.7,
          3.5,
          1.2,
          0.7,
          2.1,
          0.1,
          0.9,
          4.3,
          1.6,
          2.4,
          6.5,
          0.3,
          0.2,
          7.3,
          5.6,
          0.9,
          4.5,
          2.2,
          0.9,
          1.4,
          2.5,
          2.2,
          4.9,
          3.5,
          11.5,
          2.2,
          3.8,
          2.8,
          3.4,
          4.5,
          0.8,
          1.1,
          0.5,
          4.4,
          1,
          2.2,
          1,
          3.9,
          0.5,
          0.6,
          5.6,
          3.4,
          3,
          2.7,
          2.8,
          1.7,
          0.8,
          4,
          1,
          1.5,
          0.7,
          4.9,
          2,
          0.3,
          1.1,
          8.9,
          1.7,
          4.9,
          3.2,
          1.5,
          0.6,
          2.7,
          5.3,
          4.4,
          1.2,
          2.3,
          1.7,
          2.6,
          4.7,
          2.8,
          5,
          10,
          0,
          5.8,
          7,
          0.5,
          6.4,
          1.2,
          0.6,
          0.3,
          3.9,
          4.4,
          7.7,
          1.6,
          1.5,
          7.9,
          0.8,
          1.3,
          5,
          0.4,
          2.9,
          1.3,
          2,
          1.3,
          7.6,
          2,
          6.6,
          0.5,
          2.1,
          2,
          0,
          1.7,
          0.4,
          9,
          2.4,
          1.3,
          9.2,
          1.6,
          2.1,
          7.1,
          1.3,
          4.6,
          0.9,
          0.7,
          0.5,
          0.6,
          1.9,
          6.7,
          1.6,
          0.9,
          1.5,
          11.8,
          5.8,
          1.6,
          1.1,
          2,
          5,
          2.6,
          6.3,
          1.5,
          6.1,
          0.7,
          2.2,
          2.7,
          1.2,
          0.6,
          2.6,
          6.1,
          0.5,
          2.5,
          5,
          3.2,
          3.5,
          0.5,
          1.5,
          3.6,
          0.5,
          4.9,
          0.3,
          1.4,
          2,
          0.8,
          1.8,
          8.6,
          2,
          1.5,
          0,
          0.4,
          4.4,
          1.5,
          0,
          7.9,
          9,
          5.7,
          1.4,
          5.7,
          3.4,
          5.6,
          0.5,
          0.9,
          1.8,
          3.5,
          1.6,
          1.8,
          0.6,
          10.1,
          3.9,
          2.8,
          2.9,
          1,
          1.9,
          0.6,
          4.2,
          5.7,
          2.8,
          1,
          6.2,
          0.7,
          1.4,
          2.3,
          2.2,
          2.1,
          6.8,
          2.6,
          8.7,
          2.8,
          9.7,
          8.3,
          2.6,
          2.6,
          2.2,
          7.8,
          9.5,
          0.8,
          0.6,
          1.5,
          0.7,
          0.9,
          3.5,
          3.6,
          11.6,
          1.3,
          1,
          3.6,
          2.2,
          1.6,
          3.4,
          5.6,
          0,
          4.2,
          5.5,
          0.8,
          1.4,
          1.6,
          2.5,
          2.8,
          5.1,
          5.2,
          3.5,
          0.9,
          0,
          0,
          4.8,
          0.7,
          1.9,
          1.9,
          1.5,
          2,
          1.6,
          4.4,
          1.4,
          0.1,
          1,
          6.5,
          7.1,
          3.8,
          1.1,
          8.2,
          2.9,
          2.8,
          1.8,
          1.9,
          4.1,
          1.3,
          3,
          0.8,
          0,
          0.9,
          6.1,
          2.6,
          1.4,
          0.9,
          1,
          0.5,
          4.9,
          2,
          5.2,
          3.9,
          2.1,
          2.7,
          2,
          10.3,
          2.4,
          7.7,
          1.1,
          5,
          5.7,
          3.9,
          2.3,
          0.8,
          0.7,
          1.6,
          1.6,
          4.1,
          1.1,
          1.3,
          1.2,
          0.9,
          1.4,
          0.5,
          4.8,
          8,
          8.5,
          2,
          0.3,
          1,
          2.1,
          3.7,
          1.5,
          8,
          3.1,
          3.2,
          0,
          2.6,
          3.4,
          2.4,
          0,
          0.5,
          7.3,
          1.2,
          0.8,
          4,
          2.1,
          1.7,
          1.5,
          2.8,
          0.4,
          0,
          2.7,
          5.3,
          5.2,
          4.4,
          0,
          1.3,
          0.9,
          4.6,
          3,
          2.7,
          1.1,
          4.1,
          2.1,
          4.7,
          7.5,
          3.9,
          1.8,
          0.4,
          5.5,
          10.7,
          1.7,
          0.3,
          0.2,
          3.8,
          1.8,
          3.4,
          1.5,
          8.8,
          1.1,
          4.4,
          1.6,
          0.5,
          3.3,
          4,
          3.3,
          2.5,
          1,
          3.2,
          1.3,
          7.4,
          0.6,
          2.2,
          0.4,
          1.2,
          2.1,
          5.2,
          6.7,
          2.2,
          1.9,
          2.8,
          8.2,
          3.3,
          3.8,
          3.3,
          2.4,
          0.9,
          1.1,
          2.7,
          2.4,
          4.6,
          1.6,
          0.6,
          1.4,
          1,
          0.2,
          7.9,
          7.3,
          9,
          4.9,
          1.1,
          0,
          2.6,
          7.7,
          3.3,
          2.2,
          3.6,
          4.1,
          0.3,
          1.6,
          1,
          0.6,
          2.2,
          1.2,
          4.2,
          6.8,
          0,
          1.2,
          2.9,
          8.9
         ],
         "yaxis": "y"
        }
       ],
       "layout": {
        "legend": {
         "tracegroupgap": 0
        },
        "template": {
         "data": {
          "bar": [
           {
            "error_x": {
             "color": "#2a3f5f"
            },
            "error_y": {
             "color": "#2a3f5f"
            },
            "marker": {
             "line": {
              "color": "#E5ECF6",
              "width": 0.5
             },
             "pattern": {
              "fillmode": "overlay",
              "size": 10,
              "solidity": 0.2
             }
            },
            "type": "bar"
           }
          ],
          "barpolar": [
           {
            "marker": {
             "line": {
              "color": "#E5ECF6",
              "width": 0.5
             },
             "pattern": {
              "fillmode": "overlay",
              "size": 10,
              "solidity": 0.2
             }
            },
            "type": "barpolar"
           }
          ],
          "carpet": [
           {
            "aaxis": {
             "endlinecolor": "#2a3f5f",
             "gridcolor": "white",
             "linecolor": "white",
             "minorgridcolor": "white",
             "startlinecolor": "#2a3f5f"
            },
            "baxis": {
             "endlinecolor": "#2a3f5f",
             "gridcolor": "white",
             "linecolor": "white",
             "minorgridcolor": "white",
             "startlinecolor": "#2a3f5f"
            },
            "type": "carpet"
           }
          ],
          "choropleth": [
           {
            "colorbar": {
             "outlinewidth": 0,
             "ticks": ""
            },
            "type": "choropleth"
           }
          ],
          "contour": [
           {
            "colorbar": {
             "outlinewidth": 0,
             "ticks": ""
            },
            "colorscale": [
             [
              0,
              "#0d0887"
             ],
             [
              0.1111111111111111,
              "#46039f"
             ],
             [
              0.2222222222222222,
              "#7201a8"
             ],
             [
              0.3333333333333333,
              "#9c179e"
             ],
             [
              0.4444444444444444,
              "#bd3786"
             ],
             [
              0.5555555555555556,
              "#d8576b"
             ],
             [
              0.6666666666666666,
              "#ed7953"
             ],
             [
              0.7777777777777778,
              "#fb9f3a"
             ],
             [
              0.8888888888888888,
              "#fdca26"
             ],
             [
              1,
              "#f0f921"
             ]
            ],
            "type": "contour"
           }
          ],
          "contourcarpet": [
           {
            "colorbar": {
             "outlinewidth": 0,
             "ticks": ""
            },
            "type": "contourcarpet"
           }
          ],
          "heatmap": [
           {
            "colorbar": {
             "outlinewidth": 0,
             "ticks": ""
            },
            "colorscale": [
             [
              0,
              "#0d0887"
             ],
             [
              0.1111111111111111,
              "#46039f"
             ],
             [
              0.2222222222222222,
              "#7201a8"
             ],
             [
              0.3333333333333333,
              "#9c179e"
             ],
             [
              0.4444444444444444,
              "#bd3786"
             ],
             [
              0.5555555555555556,
              "#d8576b"
             ],
             [
              0.6666666666666666,
              "#ed7953"
             ],
             [
              0.7777777777777778,
              "#fb9f3a"
             ],
             [
              0.8888888888888888,
              "#fdca26"
             ],
             [
              1,
              "#f0f921"
             ]
            ],
            "type": "heatmap"
           }
          ],
          "heatmapgl": [
           {
            "colorbar": {
             "outlinewidth": 0,
             "ticks": ""
            },
            "colorscale": [
             [
              0,
              "#0d0887"
             ],
             [
              0.1111111111111111,
              "#46039f"
             ],
             [
              0.2222222222222222,
              "#7201a8"
             ],
             [
              0.3333333333333333,
              "#9c179e"
             ],
             [
              0.4444444444444444,
              "#bd3786"
             ],
             [
              0.5555555555555556,
              "#d8576b"
             ],
             [
              0.6666666666666666,
              "#ed7953"
             ],
             [
              0.7777777777777778,
              "#fb9f3a"
             ],
             [
              0.8888888888888888,
              "#fdca26"
             ],
             [
              1,
              "#f0f921"
             ]
            ],
            "type": "heatmapgl"
           }
          ],
          "histogram": [
           {
            "marker": {
             "pattern": {
              "fillmode": "overlay",
              "size": 10,
              "solidity": 0.2
             }
            },
            "type": "histogram"
           }
          ],
          "histogram2d": [
           {
            "colorbar": {
             "outlinewidth": 0,
             "ticks": ""
            },
            "colorscale": [
             [
              0,
              "#0d0887"
             ],
             [
              0.1111111111111111,
              "#46039f"
             ],
             [
              0.2222222222222222,
              "#7201a8"
             ],
             [
              0.3333333333333333,
              "#9c179e"
             ],
             [
              0.4444444444444444,
              "#bd3786"
             ],
             [
              0.5555555555555556,
              "#d8576b"
             ],
             [
              0.6666666666666666,
              "#ed7953"
             ],
             [
              0.7777777777777778,
              "#fb9f3a"
             ],
             [
              0.8888888888888888,
              "#fdca26"
             ],
             [
              1,
              "#f0f921"
             ]
            ],
            "type": "histogram2d"
           }
          ],
          "histogram2dcontour": [
           {
            "colorbar": {
             "outlinewidth": 0,
             "ticks": ""
            },
            "colorscale": [
             [
              0,
              "#0d0887"
             ],
             [
              0.1111111111111111,
              "#46039f"
             ],
             [
              0.2222222222222222,
              "#7201a8"
             ],
             [
              0.3333333333333333,
              "#9c179e"
             ],
             [
              0.4444444444444444,
              "#bd3786"
             ],
             [
              0.5555555555555556,
              "#d8576b"
             ],
             [
              0.6666666666666666,
              "#ed7953"
             ],
             [
              0.7777777777777778,
              "#fb9f3a"
             ],
             [
              0.8888888888888888,
              "#fdca26"
             ],
             [
              1,
              "#f0f921"
             ]
            ],
            "type": "histogram2dcontour"
           }
          ],
          "mesh3d": [
           {
            "colorbar": {
             "outlinewidth": 0,
             "ticks": ""
            },
            "type": "mesh3d"
           }
          ],
          "parcoords": [
           {
            "line": {
             "colorbar": {
              "outlinewidth": 0,
              "ticks": ""
             }
            },
            "type": "parcoords"
           }
          ],
          "pie": [
           {
            "automargin": true,
            "type": "pie"
           }
          ],
          "scatter": [
           {
            "fillpattern": {
             "fillmode": "overlay",
             "size": 10,
             "solidity": 0.2
            },
            "type": "scatter"
           }
          ],
          "scatter3d": [
           {
            "line": {
             "colorbar": {
              "outlinewidth": 0,
              "ticks": ""
             }
            },
            "marker": {
             "colorbar": {
              "outlinewidth": 0,
              "ticks": ""
             }
            },
            "type": "scatter3d"
           }
          ],
          "scattercarpet": [
           {
            "marker": {
             "colorbar": {
              "outlinewidth": 0,
              "ticks": ""
             }
            },
            "type": "scattercarpet"
           }
          ],
          "scattergeo": [
           {
            "marker": {
             "colorbar": {
              "outlinewidth": 0,
              "ticks": ""
             }
            },
            "type": "scattergeo"
           }
          ],
          "scattergl": [
           {
            "marker": {
             "colorbar": {
              "outlinewidth": 0,
              "ticks": ""
             }
            },
            "type": "scattergl"
           }
          ],
          "scattermapbox": [
           {
            "marker": {
             "colorbar": {
              "outlinewidth": 0,
              "ticks": ""
             }
            },
            "type": "scattermapbox"
           }
          ],
          "scatterpolar": [
           {
            "marker": {
             "colorbar": {
              "outlinewidth": 0,
              "ticks": ""
             }
            },
            "type": "scatterpolar"
           }
          ],
          "scatterpolargl": [
           {
            "marker": {
             "colorbar": {
              "outlinewidth": 0,
              "ticks": ""
             }
            },
            "type": "scatterpolargl"
           }
          ],
          "scatterternary": [
           {
            "marker": {
             "colorbar": {
              "outlinewidth": 0,
              "ticks": ""
             }
            },
            "type": "scatterternary"
           }
          ],
          "surface": [
           {
            "colorbar": {
             "outlinewidth": 0,
             "ticks": ""
            },
            "colorscale": [
             [
              0,
              "#0d0887"
             ],
             [
              0.1111111111111111,
              "#46039f"
             ],
             [
              0.2222222222222222,
              "#7201a8"
             ],
             [
              0.3333333333333333,
              "#9c179e"
             ],
             [
              0.4444444444444444,
              "#bd3786"
             ],
             [
              0.5555555555555556,
              "#d8576b"
             ],
             [
              0.6666666666666666,
              "#ed7953"
             ],
             [
              0.7777777777777778,
              "#fb9f3a"
             ],
             [
              0.8888888888888888,
              "#fdca26"
             ],
             [
              1,
              "#f0f921"
             ]
            ],
            "type": "surface"
           }
          ],
          "table": [
           {
            "cells": {
             "fill": {
              "color": "#EBF0F8"
             },
             "line": {
              "color": "white"
             }
            },
            "header": {
             "fill": {
              "color": "#C8D4E3"
             },
             "line": {
              "color": "white"
             }
            },
            "type": "table"
           }
          ]
         },
         "layout": {
          "annotationdefaults": {
           "arrowcolor": "#2a3f5f",
           "arrowhead": 0,
           "arrowwidth": 1
          },
          "autotypenumbers": "strict",
          "coloraxis": {
           "colorbar": {
            "outlinewidth": 0,
            "ticks": ""
           }
          },
          "colorscale": {
           "diverging": [
            [
             0,
             "#8e0152"
            ],
            [
             0.1,
             "#c51b7d"
            ],
            [
             0.2,
             "#de77ae"
            ],
            [
             0.3,
             "#f1b6da"
            ],
            [
             0.4,
             "#fde0ef"
            ],
            [
             0.5,
             "#f7f7f7"
            ],
            [
             0.6,
             "#e6f5d0"
            ],
            [
             0.7,
             "#b8e186"
            ],
            [
             0.8,
             "#7fbc41"
            ],
            [
             0.9,
             "#4d9221"
            ],
            [
             1,
             "#276419"
            ]
           ],
           "sequential": [
            [
             0,
             "#0d0887"
            ],
            [
             0.1111111111111111,
             "#46039f"
            ],
            [
             0.2222222222222222,
             "#7201a8"
            ],
            [
             0.3333333333333333,
             "#9c179e"
            ],
            [
             0.4444444444444444,
             "#bd3786"
            ],
            [
             0.5555555555555556,
             "#d8576b"
            ],
            [
             0.6666666666666666,
             "#ed7953"
            ],
            [
             0.7777777777777778,
             "#fb9f3a"
            ],
            [
             0.8888888888888888,
             "#fdca26"
            ],
            [
             1,
             "#f0f921"
            ]
           ],
           "sequentialminus": [
            [
             0,
             "#0d0887"
            ],
            [
             0.1111111111111111,
             "#46039f"
            ],
            [
             0.2222222222222222,
             "#7201a8"
            ],
            [
             0.3333333333333333,
             "#9c179e"
            ],
            [
             0.4444444444444444,
             "#bd3786"
            ],
            [
             0.5555555555555556,
             "#d8576b"
            ],
            [
             0.6666666666666666,
             "#ed7953"
            ],
            [
             0.7777777777777778,
             "#fb9f3a"
            ],
            [
             0.8888888888888888,
             "#fdca26"
            ],
            [
             1,
             "#f0f921"
            ]
           ]
          },
          "colorway": [
           "#636efa",
           "#EF553B",
           "#00cc96",
           "#ab63fa",
           "#FFA15A",
           "#19d3f3",
           "#FF6692",
           "#B6E880",
           "#FF97FF",
           "#FECB52"
          ],
          "font": {
           "color": "#2a3f5f"
          },
          "geo": {
           "bgcolor": "white",
           "lakecolor": "white",
           "landcolor": "#E5ECF6",
           "showlakes": true,
           "showland": true,
           "subunitcolor": "white"
          },
          "hoverlabel": {
           "align": "left"
          },
          "hovermode": "closest",
          "mapbox": {
           "style": "light"
          },
          "paper_bgcolor": "white",
          "plot_bgcolor": "#E5ECF6",
          "polar": {
           "angularaxis": {
            "gridcolor": "white",
            "linecolor": "white",
            "ticks": ""
           },
           "bgcolor": "#E5ECF6",
           "radialaxis": {
            "gridcolor": "white",
            "linecolor": "white",
            "ticks": ""
           }
          },
          "scene": {
           "xaxis": {
            "backgroundcolor": "#E5ECF6",
            "gridcolor": "white",
            "gridwidth": 2,
            "linecolor": "white",
            "showbackground": true,
            "ticks": "",
            "zerolinecolor": "white"
           },
           "yaxis": {
            "backgroundcolor": "#E5ECF6",
            "gridcolor": "white",
            "gridwidth": 2,
            "linecolor": "white",
            "showbackground": true,
            "ticks": "",
            "zerolinecolor": "white"
           },
           "zaxis": {
            "backgroundcolor": "#E5ECF6",
            "gridcolor": "white",
            "gridwidth": 2,
            "linecolor": "white",
            "showbackground": true,
            "ticks": "",
            "zerolinecolor": "white"
           }
          },
          "shapedefaults": {
           "line": {
            "color": "#2a3f5f"
           }
          },
          "ternary": {
           "aaxis": {
            "gridcolor": "white",
            "linecolor": "white",
            "ticks": ""
           },
           "baxis": {
            "gridcolor": "white",
            "linecolor": "white",
            "ticks": ""
           },
           "bgcolor": "#E5ECF6",
           "caxis": {
            "gridcolor": "white",
            "linecolor": "white",
            "ticks": ""
           }
          },
          "title": {
           "x": 0.05
          },
          "xaxis": {
           "automargin": true,
           "gridcolor": "white",
           "linecolor": "white",
           "ticks": "",
           "title": {
            "standoff": 15
           },
           "zerolinecolor": "white",
           "zerolinewidth": 2
          },
          "yaxis": {
           "automargin": true,
           "gridcolor": "white",
           "linecolor": "white",
           "ticks": "",
           "title": {
            "standoff": 15
           },
           "zerolinecolor": "white",
           "zerolinewidth": 2
          }
         }
        },
        "title": {
         "text": "Field Goals Made versus Field Goal Attempts"
        },
        "xaxis": {
         "anchor": "y",
         "domain": [
          0,
          1
         ],
         "title": {
          "text": "Field Goal Attempts"
         }
        },
        "yaxis": {
         "anchor": "x",
         "domain": [
          0,
          1
         ],
         "title": {
          "text": "Field Goals Made"
         }
        }
       }
      }
     },
     "metadata": {},
     "output_type": "display_data"
    }
   ],
   "source": [
    "px.scatter(df, x='FGA', y='FGM', hover_data=['PLAYER_NAME'], title='Field Goals Made versus Field Goal Attempts', labels={'FGA':'Field Goal Attempts','FGM':'Field Goals Made','PLAYER_NAME':'Player'})"
   ]
  },
  {
   "cell_type": "markdown",
   "metadata": {},
   "source": [
    "Or we could use `color='PLAYER_NAME'` to show player's names."
   ]
  },
  {
   "cell_type": "code",
   "execution_count": 6,
   "metadata": {},
   "outputs": [
    {
     "data": {
      "application/vnd.plotly.v1+json": {
       "config": {
        "plotlyServerURL": "https://plot.ly"
       },
       "data": [
        {
         "hovertemplate": "Player=A.J. Lawson<br>Field Goal Attempts=%{x}<br>Field Goals Made=%{y}<extra></extra>",
         "legendgroup": "A.J. Lawson",
         "marker": {
          "color": "#636efa",
          "symbol": "circle"
         },
         "mode": "markers",
         "name": "A.J. Lawson",
         "orientation": "v",
         "showlegend": true,
         "type": "scatter",
         "x": [
          2.7
         ],
         "xaxis": "x",
         "y": [
          1.3
         ],
         "yaxis": "y"
        },
        {
         "hovertemplate": "Player=AJ Green<br>Field Goal Attempts=%{x}<br>Field Goals Made=%{y}<extra></extra>",
         "legendgroup": "AJ Green",
         "marker": {
          "color": "#EF553B",
          "symbol": "circle"
         },
         "mode": "markers",
         "name": "AJ Green",
         "orientation": "v",
         "showlegend": true,
         "type": "scatter",
         "x": [
          3.4
         ],
         "xaxis": "x",
         "y": [
          1.5
         ],
         "yaxis": "y"
        },
        {
         "hovertemplate": "Player=AJ Griffin<br>Field Goal Attempts=%{x}<br>Field Goals Made=%{y}<extra></extra>",
         "legendgroup": "AJ Griffin",
         "marker": {
          "color": "#00cc96",
          "symbol": "circle"
         },
         "mode": "markers",
         "name": "AJ Griffin",
         "orientation": "v",
         "showlegend": true,
         "type": "scatter",
         "x": [
          2.5
         ],
         "xaxis": "x",
         "y": [
          0.7
         ],
         "yaxis": "y"
        },
        {
         "hovertemplate": "Player=Aaron Gordon<br>Field Goal Attempts=%{x}<br>Field Goals Made=%{y}<extra></extra>",
         "legendgroup": "Aaron Gordon",
         "marker": {
          "color": "#ab63fa",
          "symbol": "circle"
         },
         "mode": "markers",
         "name": "Aaron Gordon",
         "orientation": "v",
         "showlegend": true,
         "type": "scatter",
         "x": [
          9.9
         ],
         "xaxis": "x",
         "y": [
          5.5
         ],
         "yaxis": "y"
        },
        {
         "hovertemplate": "Player=Aaron Holiday<br>Field Goal Attempts=%{x}<br>Field Goals Made=%{y}<extra></extra>",
         "legendgroup": "Aaron Holiday",
         "marker": {
          "color": "#FFA15A",
          "symbol": "circle"
         },
         "mode": "markers",
         "name": "Aaron Holiday",
         "orientation": "v",
         "showlegend": true,
         "type": "scatter",
         "x": [
          5.4
         ],
         "xaxis": "x",
         "y": [
          2.4
         ],
         "yaxis": "y"
        },
        {
         "hovertemplate": "Player=Aaron Nesmith<br>Field Goal Attempts=%{x}<br>Field Goals Made=%{y}<extra></extra>",
         "legendgroup": "Aaron Nesmith",
         "marker": {
          "color": "#19d3f3",
          "symbol": "circle"
         },
         "mode": "markers",
         "name": "Aaron Nesmith",
         "orientation": "v",
         "showlegend": true,
         "type": "scatter",
         "x": [
          8.9
         ],
         "xaxis": "x",
         "y": [
          4.4
         ],
         "yaxis": "y"
        },
        {
         "hovertemplate": "Player=Aaron Wiggins<br>Field Goal Attempts=%{x}<br>Field Goals Made=%{y}<extra></extra>",
         "legendgroup": "Aaron Wiggins",
         "marker": {
          "color": "#FF6692",
          "symbol": "circle"
         },
         "mode": "markers",
         "name": "Aaron Wiggins",
         "orientation": "v",
         "showlegend": true,
         "type": "scatter",
         "x": [
          4.3
         ],
         "xaxis": "x",
         "y": [
          2.5
         ],
         "yaxis": "y"
        },
        {
         "hovertemplate": "Player=Adam Flagler<br>Field Goal Attempts=%{x}<br>Field Goals Made=%{y}<extra></extra>",
         "legendgroup": "Adam Flagler",
         "marker": {
          "color": "#B6E880",
          "symbol": "circle"
         },
         "mode": "markers",
         "name": "Adam Flagler",
         "orientation": "v",
         "showlegend": true,
         "type": "scatter",
         "x": [
          3
         ],
         "xaxis": "x",
         "y": [
          0
         ],
         "yaxis": "y"
        },
        {
         "hovertemplate": "Player=Adama Sanogo<br>Field Goal Attempts=%{x}<br>Field Goals Made=%{y}<extra></extra>",
         "legendgroup": "Adama Sanogo",
         "marker": {
          "color": "#FF97FF",
          "symbol": "circle"
         },
         "mode": "markers",
         "name": "Adama Sanogo",
         "orientation": "v",
         "showlegend": true,
         "type": "scatter",
         "x": [
          1
         ],
         "xaxis": "x",
         "y": [
          1
         ],
         "yaxis": "y"
        },
        {
         "hovertemplate": "Player=Admiral Schofield<br>Field Goal Attempts=%{x}<br>Field Goals Made=%{y}<extra></extra>",
         "legendgroup": "Admiral Schofield",
         "marker": {
          "color": "#FECB52",
          "symbol": "circle"
         },
         "mode": "markers",
         "name": "Admiral Schofield",
         "orientation": "v",
         "showlegend": true,
         "type": "scatter",
         "x": [
          1.1
         ],
         "xaxis": "x",
         "y": [
          0.4
         ],
         "yaxis": "y"
        },
        {
         "hovertemplate": "Player=Al Horford<br>Field Goal Attempts=%{x}<br>Field Goals Made=%{y}<extra></extra>",
         "legendgroup": "Al Horford",
         "marker": {
          "color": "#636efa",
          "symbol": "circle"
         },
         "mode": "markers",
         "name": "Al Horford",
         "orientation": "v",
         "showlegend": true,
         "type": "scatter",
         "x": [
          6.4
         ],
         "xaxis": "x",
         "y": [
          3.2
         ],
         "yaxis": "y"
        },
        {
         "hovertemplate": "Player=Alec Burks<br>Field Goal Attempts=%{x}<br>Field Goals Made=%{y}<extra></extra>",
         "legendgroup": "Alec Burks",
         "marker": {
          "color": "#EF553B",
          "symbol": "circle"
         },
         "mode": "markers",
         "name": "Alec Burks",
         "orientation": "v",
         "showlegend": true,
         "type": "scatter",
         "x": [
          9
         ],
         "xaxis": "x",
         "y": [
          3.4
         ],
         "yaxis": "y"
        },
        {
         "hovertemplate": "Player=Aleksej Pokusevski<br>Field Goal Attempts=%{x}<br>Field Goals Made=%{y}<extra></extra>",
         "legendgroup": "Aleksej Pokusevski",
         "marker": {
          "color": "#00cc96",
          "symbol": "circle"
         },
         "mode": "markers",
         "name": "Aleksej Pokusevski",
         "orientation": "v",
         "showlegend": true,
         "type": "scatter",
         "x": [
          3.6
         ],
         "xaxis": "x",
         "y": [
          1.4
         ],
         "yaxis": "y"
        },
        {
         "hovertemplate": "Player=Alex Caruso<br>Field Goal Attempts=%{x}<br>Field Goals Made=%{y}<extra></extra>",
         "legendgroup": "Alex Caruso",
         "marker": {
          "color": "#ab63fa",
          "symbol": "circle"
         },
         "mode": "markers",
         "name": "Alex Caruso",
         "orientation": "v",
         "showlegend": true,
         "type": "scatter",
         "x": [
          7.6
         ],
         "xaxis": "x",
         "y": [
          3.6
         ],
         "yaxis": "y"
        },
        {
         "hovertemplate": "Player=Alex Fudge<br>Field Goal Attempts=%{x}<br>Field Goals Made=%{y}<extra></extra>",
         "legendgroup": "Alex Fudge",
         "marker": {
          "color": "#FFA15A",
          "symbol": "circle"
         },
         "mode": "markers",
         "name": "Alex Fudge",
         "orientation": "v",
         "showlegend": true,
         "type": "scatter",
         "x": [
          1.5
         ],
         "xaxis": "x",
         "y": [
          0.3
         ],
         "yaxis": "y"
        },
        {
         "hovertemplate": "Player=Alex Len<br>Field Goal Attempts=%{x}<br>Field Goals Made=%{y}<extra></extra>",
         "legendgroup": "Alex Len",
         "marker": {
          "color": "#19d3f3",
          "symbol": "circle"
         },
         "mode": "markers",
         "name": "Alex Len",
         "orientation": "v",
         "showlegend": true,
         "type": "scatter",
         "x": [
          1.8
         ],
         "xaxis": "x",
         "y": [
          1.1
         ],
         "yaxis": "y"
        },
        {
         "hovertemplate": "Player=Alondes Williams<br>Field Goal Attempts=%{x}<br>Field Goals Made=%{y}<extra></extra>",
         "legendgroup": "Alondes Williams",
         "marker": {
          "color": "#FF6692",
          "symbol": "circle"
         },
         "mode": "markers",
         "name": "Alondes Williams",
         "orientation": "v",
         "showlegend": true,
         "type": "scatter",
         "x": [
          1
         ],
         "xaxis": "x",
         "y": [
          0.3
         ],
         "yaxis": "y"
        },
        {
         "hovertemplate": "Player=Alperen Sengun<br>Field Goal Attempts=%{x}<br>Field Goals Made=%{y}<extra></extra>",
         "legendgroup": "Alperen Sengun",
         "marker": {
          "color": "#B6E880",
          "symbol": "circle"
         },
         "mode": "markers",
         "name": "Alperen Sengun",
         "orientation": "v",
         "showlegend": true,
         "type": "scatter",
         "x": [
          15.6
         ],
         "xaxis": "x",
         "y": [
          8.4
         ],
         "yaxis": "y"
        },
        {
         "hovertemplate": "Player=Amari Bailey<br>Field Goal Attempts=%{x}<br>Field Goals Made=%{y}<extra></extra>",
         "legendgroup": "Amari Bailey",
         "marker": {
          "color": "#FF97FF",
          "symbol": "circle"
         },
         "mode": "markers",
         "name": "Amari Bailey",
         "orientation": "v",
         "showlegend": true,
         "type": "scatter",
         "x": [
          1.5
         ],
         "xaxis": "x",
         "y": [
          0.4
         ],
         "yaxis": "y"
        },
        {
         "hovertemplate": "Player=Amen Thompson<br>Field Goal Attempts=%{x}<br>Field Goals Made=%{y}<extra></extra>",
         "legendgroup": "Amen Thompson",
         "marker": {
          "color": "#FECB52",
          "symbol": "circle"
         },
         "mode": "markers",
         "name": "Amen Thompson",
         "orientation": "v",
         "showlegend": true,
         "type": "scatter",
         "x": [
          7.1
         ],
         "xaxis": "x",
         "y": [
          3.7
         ],
         "yaxis": "y"
        },
        {
         "hovertemplate": "Player=Amir Coffey<br>Field Goal Attempts=%{x}<br>Field Goals Made=%{y}<extra></extra>",
         "legendgroup": "Amir Coffey",
         "marker": {
          "color": "#636efa",
          "symbol": "circle"
         },
         "mode": "markers",
         "name": "Amir Coffey",
         "orientation": "v",
         "showlegend": true,
         "type": "scatter",
         "x": [
          4.4
         ],
         "xaxis": "x",
         "y": [
          2.2
         ],
         "yaxis": "y"
        },
        {
         "hovertemplate": "Player=Andre Drummond<br>Field Goal Attempts=%{x}<br>Field Goals Made=%{y}<extra></extra>",
         "legendgroup": "Andre Drummond",
         "marker": {
          "color": "#EF553B",
          "symbol": "circle"
         },
         "mode": "markers",
         "name": "Andre Drummond",
         "orientation": "v",
         "showlegend": true,
         "type": "scatter",
         "x": [
          6.1
         ],
         "xaxis": "x",
         "y": [
          3.3
         ],
         "yaxis": "y"
        },
        {
         "hovertemplate": "Player=Andre Jackson Jr.<br>Field Goal Attempts=%{x}<br>Field Goals Made=%{y}<extra></extra>",
         "legendgroup": "Andre Jackson Jr.",
         "marker": {
          "color": "#00cc96",
          "symbol": "circle"
         },
         "mode": "markers",
         "name": "Andre Jackson Jr.",
         "orientation": "v",
         "showlegend": true,
         "type": "scatter",
         "x": [
          1.8
         ],
         "xaxis": "x",
         "y": [
          0.9
         ],
         "yaxis": "y"
        },
        {
         "hovertemplate": "Player=Andrew Funk<br>Field Goal Attempts=%{x}<br>Field Goals Made=%{y}<extra></extra>",
         "legendgroup": "Andrew Funk",
         "marker": {
          "color": "#ab63fa",
          "symbol": "circle"
         },
         "mode": "markers",
         "name": "Andrew Funk",
         "orientation": "v",
         "showlegend": true,
         "type": "scatter",
         "x": [
          0.5
         ],
         "xaxis": "x",
         "y": [
          0
         ],
         "yaxis": "y"
        },
        {
         "hovertemplate": "Player=Andrew Nembhard<br>Field Goal Attempts=%{x}<br>Field Goals Made=%{y}<extra></extra>",
         "legendgroup": "Andrew Nembhard",
         "marker": {
          "color": "#FFA15A",
          "symbol": "circle"
         },
         "mode": "markers",
         "name": "Andrew Nembhard",
         "orientation": "v",
         "showlegend": true,
         "type": "scatter",
         "x": [
          7.8
         ],
         "xaxis": "x",
         "y": [
          3.9
         ],
         "yaxis": "y"
        },
        {
         "hovertemplate": "Player=Andrew Wiggins<br>Field Goal Attempts=%{x}<br>Field Goals Made=%{y}<extra></extra>",
         "legendgroup": "Andrew Wiggins",
         "marker": {
          "color": "#19d3f3",
          "symbol": "circle"
         },
         "mode": "markers",
         "name": "Andrew Wiggins",
         "orientation": "v",
         "showlegend": true,
         "type": "scatter",
         "x": [
          10.9
         ],
         "xaxis": "x",
         "y": [
          4.9
         ],
         "yaxis": "y"
        },
        {
         "hovertemplate": "Player=Anfernee Simons<br>Field Goal Attempts=%{x}<br>Field Goals Made=%{y}<extra></extra>",
         "legendgroup": "Anfernee Simons",
         "marker": {
          "color": "#FF6692",
          "symbol": "circle"
         },
         "mode": "markers",
         "name": "Anfernee Simons",
         "orientation": "v",
         "showlegend": true,
         "type": "scatter",
         "x": [
          18.2
         ],
         "xaxis": "x",
         "y": [
          7.8
         ],
         "yaxis": "y"
        },
        {
         "hovertemplate": "Player=Anthony Black<br>Field Goal Attempts=%{x}<br>Field Goals Made=%{y}<extra></extra>",
         "legendgroup": "Anthony Black",
         "marker": {
          "color": "#B6E880",
          "symbol": "circle"
         },
         "mode": "markers",
         "name": "Anthony Black",
         "orientation": "v",
         "showlegend": true,
         "type": "scatter",
         "x": [
          3.7
         ],
         "xaxis": "x",
         "y": [
          1.7
         ],
         "yaxis": "y"
        },
        {
         "hovertemplate": "Player=Anthony Davis<br>Field Goal Attempts=%{x}<br>Field Goals Made=%{y}<extra></extra>",
         "legendgroup": "Anthony Davis",
         "marker": {
          "color": "#FF97FF",
          "symbol": "circle"
         },
         "mode": "markers",
         "name": "Anthony Davis",
         "orientation": "v",
         "showlegend": true,
         "type": "scatter",
         "x": [
          17
         ],
         "xaxis": "x",
         "y": [
          9.4
         ],
         "yaxis": "y"
        },
        {
         "hovertemplate": "Player=Anthony Edwards<br>Field Goal Attempts=%{x}<br>Field Goals Made=%{y}<extra></extra>",
         "legendgroup": "Anthony Edwards",
         "marker": {
          "color": "#FECB52",
          "symbol": "circle"
         },
         "mode": "markers",
         "name": "Anthony Edwards",
         "orientation": "v",
         "showlegend": true,
         "type": "scatter",
         "x": [
          19.9
         ],
         "xaxis": "x",
         "y": [
          9.2
         ],
         "yaxis": "y"
        },
        {
         "hovertemplate": "Player=Anthony Gill<br>Field Goal Attempts=%{x}<br>Field Goals Made=%{y}<extra></extra>",
         "legendgroup": "Anthony Gill",
         "marker": {
          "color": "#636efa",
          "symbol": "circle"
         },
         "mode": "markers",
         "name": "Anthony Gill",
         "orientation": "v",
         "showlegend": true,
         "type": "scatter",
         "x": [
          2.4
         ],
         "xaxis": "x",
         "y": [
          1.1
         ],
         "yaxis": "y"
        },
        {
         "hovertemplate": "Player=Armoni Brooks<br>Field Goal Attempts=%{x}<br>Field Goals Made=%{y}<extra></extra>",
         "legendgroup": "Armoni Brooks",
         "marker": {
          "color": "#EF553B",
          "symbol": "circle"
         },
         "mode": "markers",
         "name": "Armoni Brooks",
         "orientation": "v",
         "showlegend": true,
         "type": "scatter",
         "x": [
          4.6
         ],
         "xaxis": "x",
         "y": [
          1.5
         ],
         "yaxis": "y"
        },
        {
         "hovertemplate": "Player=Ashton Hagans<br>Field Goal Attempts=%{x}<br>Field Goals Made=%{y}<extra></extra>",
         "legendgroup": "Ashton Hagans",
         "marker": {
          "color": "#00cc96",
          "symbol": "circle"
         },
         "mode": "markers",
         "name": "Ashton Hagans",
         "orientation": "v",
         "showlegend": true,
         "type": "scatter",
         "x": [
          3.9
         ],
         "xaxis": "x",
         "y": [
          1.7
         ],
         "yaxis": "y"
        },
        {
         "hovertemplate": "Player=Ausar Thompson<br>Field Goal Attempts=%{x}<br>Field Goals Made=%{y}<extra></extra>",
         "legendgroup": "Ausar Thompson",
         "marker": {
          "color": "#ab63fa",
          "symbol": "circle"
         },
         "mode": "markers",
         "name": "Ausar Thompson",
         "orientation": "v",
         "showlegend": true,
         "type": "scatter",
         "x": [
          7.6
         ],
         "xaxis": "x",
         "y": [
          3.7
         ],
         "yaxis": "y"
        },
        {
         "hovertemplate": "Player=Austin Reaves<br>Field Goal Attempts=%{x}<br>Field Goals Made=%{y}<extra></extra>",
         "legendgroup": "Austin Reaves",
         "marker": {
          "color": "#FFA15A",
          "symbol": "circle"
         },
         "mode": "markers",
         "name": "Austin Reaves",
         "orientation": "v",
         "showlegend": true,
         "type": "scatter",
         "x": [
          11.5
         ],
         "xaxis": "x",
         "y": [
          5.6
         ],
         "yaxis": "y"
        },
        {
         "hovertemplate": "Player=Ayo Dosunmu<br>Field Goal Attempts=%{x}<br>Field Goals Made=%{y}<extra></extra>",
         "legendgroup": "Ayo Dosunmu",
         "marker": {
          "color": "#19d3f3",
          "symbol": "circle"
         },
         "mode": "markers",
         "name": "Ayo Dosunmu",
         "orientation": "v",
         "showlegend": true,
         "type": "scatter",
         "x": [
          9.3
         ],
         "xaxis": "x",
         "y": [
          4.6
         ],
         "yaxis": "y"
        },
        {
         "hovertemplate": "Player=Bam Adebayo<br>Field Goal Attempts=%{x}<br>Field Goals Made=%{y}<extra></extra>",
         "legendgroup": "Bam Adebayo",
         "marker": {
          "color": "#FF6692",
          "symbol": "circle"
         },
         "mode": "markers",
         "name": "Bam Adebayo",
         "orientation": "v",
         "showlegend": true,
         "type": "scatter",
         "x": [
          14.6
         ],
         "xaxis": "x",
         "y": [
          7.6
         ],
         "yaxis": "y"
        },
        {
         "hovertemplate": "Player=Ben Sheppard<br>Field Goal Attempts=%{x}<br>Field Goals Made=%{y}<extra></extra>",
         "legendgroup": "Ben Sheppard",
         "marker": {
          "color": "#B6E880",
          "symbol": "circle"
         },
         "mode": "markers",
         "name": "Ben Sheppard",
         "orientation": "v",
         "showlegend": true,
         "type": "scatter",
         "x": [
          3.7
         ],
         "xaxis": "x",
         "y": [
          1.5
         ],
         "yaxis": "y"
        },
        {
         "hovertemplate": "Player=Ben Simmons<br>Field Goal Attempts=%{x}<br>Field Goals Made=%{y}<extra></extra>",
         "legendgroup": "Ben Simmons",
         "marker": {
          "color": "#FF97FF",
          "symbol": "circle"
         },
         "mode": "markers",
         "name": "Ben Simmons",
         "orientation": "v",
         "showlegend": true,
         "type": "scatter",
         "x": [
          4.9
         ],
         "xaxis": "x",
         "y": [
          2.9
         ],
         "yaxis": "y"
        },
        {
         "hovertemplate": "Player=Bennedict Mathurin<br>Field Goal Attempts=%{x}<br>Field Goals Made=%{y}<extra></extra>",
         "legendgroup": "Bennedict Mathurin",
         "marker": {
          "color": "#FECB52",
          "symbol": "circle"
         },
         "mode": "markers",
         "name": "Bennedict Mathurin",
         "orientation": "v",
         "showlegend": true,
         "type": "scatter",
         "x": [
          11.2
         ],
         "xaxis": "x",
         "y": [
          5
         ],
         "yaxis": "y"
        },
        {
         "hovertemplate": "Player=Bilal Coulibaly<br>Field Goal Attempts=%{x}<br>Field Goals Made=%{y}<extra></extra>",
         "legendgroup": "Bilal Coulibaly",
         "marker": {
          "color": "#636efa",
          "symbol": "circle"
         },
         "mode": "markers",
         "name": "Bilal Coulibaly",
         "orientation": "v",
         "showlegend": true,
         "type": "scatter",
         "x": [
          6.9
         ],
         "xaxis": "x",
         "y": [
          3
         ],
         "yaxis": "y"
        },
        {
         "hovertemplate": "Player=Bismack Biyombo<br>Field Goal Attempts=%{x}<br>Field Goals Made=%{y}<extra></extra>",
         "legendgroup": "Bismack Biyombo",
         "marker": {
          "color": "#EF553B",
          "symbol": "circle"
         },
         "mode": "markers",
         "name": "Bismack Biyombo",
         "orientation": "v",
         "showlegend": true,
         "type": "scatter",
         "x": [
          3.3
         ],
         "xaxis": "x",
         "y": [
          1.8
         ],
         "yaxis": "y"
        },
        {
         "hovertemplate": "Player=Blake Wesley<br>Field Goal Attempts=%{x}<br>Field Goals Made=%{y}<extra></extra>",
         "legendgroup": "Blake Wesley",
         "marker": {
          "color": "#00cc96",
          "symbol": "circle"
         },
         "mode": "markers",
         "name": "Blake Wesley",
         "orientation": "v",
         "showlegend": true,
         "type": "scatter",
         "x": [
          3.2
         ],
         "xaxis": "x",
         "y": [
          1.6
         ],
         "yaxis": "y"
        },
        {
         "hovertemplate": "Player=Boban Marjanovic<br>Field Goal Attempts=%{x}<br>Field Goals Made=%{y}<extra></extra>",
         "legendgroup": "Boban Marjanovic",
         "marker": {
          "color": "#ab63fa",
          "symbol": "circle"
         },
         "mode": "markers",
         "name": "Boban Marjanovic",
         "orientation": "v",
         "showlegend": true,
         "type": "scatter",
         "x": [
          2
         ],
         "xaxis": "x",
         "y": [
          0.9
         ],
         "yaxis": "y"
        },
        {
         "hovertemplate": "Player=Bobby Portis<br>Field Goal Attempts=%{x}<br>Field Goals Made=%{y}<extra></extra>",
         "legendgroup": "Bobby Portis",
         "marker": {
          "color": "#FFA15A",
          "symbol": "circle"
         },
         "mode": "markers",
         "name": "Bobby Portis",
         "orientation": "v",
         "showlegend": true,
         "type": "scatter",
         "x": [
          10.9
         ],
         "xaxis": "x",
         "y": [
          5.5
         ],
         "yaxis": "y"
        },
        {
         "hovertemplate": "Player=Bogdan Bogdanovic<br>Field Goal Attempts=%{x}<br>Field Goals Made=%{y}<extra></extra>",
         "legendgroup": "Bogdan Bogdanovic",
         "marker": {
          "color": "#19d3f3",
          "symbol": "circle"
         },
         "mode": "markers",
         "name": "Bogdan Bogdanovic",
         "orientation": "v",
         "showlegend": true,
         "type": "scatter",
         "x": [
          14.1
         ],
         "xaxis": "x",
         "y": [
          6
         ],
         "yaxis": "y"
        },
        {
         "hovertemplate": "Player=Bojan Bogdanovic<br>Field Goal Attempts=%{x}<br>Field Goals Made=%{y}<extra></extra>",
         "legendgroup": "Bojan Bogdanovic",
         "marker": {
          "color": "#FF6692",
          "symbol": "circle"
         },
         "mode": "markers",
         "name": "Bojan Bogdanovic",
         "orientation": "v",
         "showlegend": true,
         "type": "scatter",
         "x": [
          12.5
         ],
         "xaxis": "x",
         "y": [
          5.6
         ],
         "yaxis": "y"
        },
        {
         "hovertemplate": "Player=Bol Bol<br>Field Goal Attempts=%{x}<br>Field Goals Made=%{y}<extra></extra>",
         "legendgroup": "Bol Bol",
         "marker": {
          "color": "#B6E880",
          "symbol": "circle"
         },
         "mode": "markers",
         "name": "Bol Bol",
         "orientation": "v",
         "showlegend": true,
         "type": "scatter",
         "x": [
          3.7
         ],
         "xaxis": "x",
         "y": [
          2.3
         ],
         "yaxis": "y"
        },
        {
         "hovertemplate": "Player=Bones Hyland<br>Field Goal Attempts=%{x}<br>Field Goals Made=%{y}<extra></extra>",
         "legendgroup": "Bones Hyland",
         "marker": {
          "color": "#FF97FF",
          "symbol": "circle"
         },
         "mode": "markers",
         "name": "Bones Hyland",
         "orientation": "v",
         "showlegend": true,
         "type": "scatter",
         "x": [
          5.9
         ],
         "xaxis": "x",
         "y": [
          2.2
         ],
         "yaxis": "y"
        },
        {
         "hovertemplate": "Player=Bradley Beal<br>Field Goal Attempts=%{x}<br>Field Goals Made=%{y}<extra></extra>",
         "legendgroup": "Bradley Beal",
         "marker": {
          "color": "#FECB52",
          "symbol": "circle"
         },
         "mode": "markers",
         "name": "Bradley Beal",
         "orientation": "v",
         "showlegend": true,
         "type": "scatter",
         "x": [
          13.9
         ],
         "xaxis": "x",
         "y": [
          6.9
         ],
         "yaxis": "y"
        },
        {
         "hovertemplate": "Player=Brandin Podziemski<br>Field Goal Attempts=%{x}<br>Field Goals Made=%{y}<extra></extra>",
         "legendgroup": "Brandin Podziemski",
         "marker": {
          "color": "#636efa",
          "symbol": "circle"
         },
         "mode": "markers",
         "name": "Brandin Podziemski",
         "orientation": "v",
         "showlegend": true,
         "type": "scatter",
         "x": [
          8.2
         ],
         "xaxis": "x",
         "y": [
          3.7
         ],
         "yaxis": "y"
        },
        {
         "hovertemplate": "Player=Brandon Boston Jr.<br>Field Goal Attempts=%{x}<br>Field Goals Made=%{y}<extra></extra>",
         "legendgroup": "Brandon Boston Jr.",
         "marker": {
          "color": "#EF553B",
          "symbol": "circle"
         },
         "mode": "markers",
         "name": "Brandon Boston Jr.",
         "orientation": "v",
         "showlegend": true,
         "type": "scatter",
         "x": [
          3.7
         ],
         "xaxis": "x",
         "y": [
          1.6
         ],
         "yaxis": "y"
        },
        {
         "hovertemplate": "Player=Brandon Clarke<br>Field Goal Attempts=%{x}<br>Field Goals Made=%{y}<extra></extra>",
         "legendgroup": "Brandon Clarke",
         "marker": {
          "color": "#00cc96",
          "symbol": "circle"
         },
         "mode": "markers",
         "name": "Brandon Clarke",
         "orientation": "v",
         "showlegend": true,
         "type": "scatter",
         "x": [
          8
         ],
         "xaxis": "x",
         "y": [
          4.5
         ],
         "yaxis": "y"
        },
        {
         "hovertemplate": "Player=Brandon Ingram<br>Field Goal Attempts=%{x}<br>Field Goals Made=%{y}<extra></extra>",
         "legendgroup": "Brandon Ingram",
         "marker": {
          "color": "#ab63fa",
          "symbol": "circle"
         },
         "mode": "markers",
         "name": "Brandon Ingram",
         "orientation": "v",
         "showlegend": true,
         "type": "scatter",
         "x": [
          16
         ],
         "xaxis": "x",
         "y": [
          7.8
         ],
         "yaxis": "y"
        },
        {
         "hovertemplate": "Player=Brandon Miller<br>Field Goal Attempts=%{x}<br>Field Goals Made=%{y}<extra></extra>",
         "legendgroup": "Brandon Miller",
         "marker": {
          "color": "#FFA15A",
          "symbol": "circle"
         },
         "mode": "markers",
         "name": "Brandon Miller",
         "orientation": "v",
         "showlegend": true,
         "type": "scatter",
         "x": [
          14.7
         ],
         "xaxis": "x",
         "y": [
          6.4
         ],
         "yaxis": "y"
        },
        {
         "hovertemplate": "Player=Brandon Williams<br>Field Goal Attempts=%{x}<br>Field Goals Made=%{y}<extra></extra>",
         "legendgroup": "Brandon Williams",
         "marker": {
          "color": "#19d3f3",
          "symbol": "circle"
         },
         "mode": "markers",
         "name": "Brandon Williams",
         "orientation": "v",
         "showlegend": true,
         "type": "scatter",
         "x": [
          1.8
         ],
         "xaxis": "x",
         "y": [
          0.7
         ],
         "yaxis": "y"
        },
        {
         "hovertemplate": "Player=Braxton Key<br>Field Goal Attempts=%{x}<br>Field Goals Made=%{y}<extra></extra>",
         "legendgroup": "Braxton Key",
         "marker": {
          "color": "#FF6692",
          "symbol": "circle"
         },
         "mode": "markers",
         "name": "Braxton Key",
         "orientation": "v",
         "showlegend": true,
         "type": "scatter",
         "x": [
          0.9
         ],
         "xaxis": "x",
         "y": [
          0.4
         ],
         "yaxis": "y"
        },
        {
         "hovertemplate": "Player=Brice Sensabaugh<br>Field Goal Attempts=%{x}<br>Field Goals Made=%{y}<extra></extra>",
         "legendgroup": "Brice Sensabaugh",
         "marker": {
          "color": "#B6E880",
          "symbol": "circle"
         },
         "mode": "markers",
         "name": "Brice Sensabaugh",
         "orientation": "v",
         "showlegend": true,
         "type": "scatter",
         "x": [
          6
         ],
         "xaxis": "x",
         "y": [
          2.2
         ],
         "yaxis": "y"
        },
        {
         "hovertemplate": "Player=Brook Lopez<br>Field Goal Attempts=%{x}<br>Field Goals Made=%{y}<extra></extra>",
         "legendgroup": "Brook Lopez",
         "marker": {
          "color": "#FF97FF",
          "symbol": "circle"
         },
         "mode": "markers",
         "name": "Brook Lopez",
         "orientation": "v",
         "showlegend": true,
         "type": "scatter",
         "x": [
          9.4
         ],
         "xaxis": "x",
         "y": [
          4.6
         ],
         "yaxis": "y"
        },
        {
         "hovertemplate": "Player=Bruce Brown<br>Field Goal Attempts=%{x}<br>Field Goals Made=%{y}<extra></extra>",
         "legendgroup": "Bruce Brown",
         "marker": {
          "color": "#FECB52",
          "symbol": "circle"
         },
         "mode": "markers",
         "name": "Bruce Brown",
         "orientation": "v",
         "showlegend": true,
         "type": "scatter",
         "x": [
          8.8
         ],
         "xaxis": "x",
         "y": [
          4.1
         ],
         "yaxis": "y"
        },
        {
         "hovertemplate": "Player=Bruno Fernando<br>Field Goal Attempts=%{x}<br>Field Goals Made=%{y}<extra></extra>",
         "legendgroup": "Bruno Fernando",
         "marker": {
          "color": "#636efa",
          "symbol": "circle"
         },
         "mode": "markers",
         "name": "Bruno Fernando",
         "orientation": "v",
         "showlegend": true,
         "type": "scatter",
         "x": [
          3.9
         ],
         "xaxis": "x",
         "y": [
          2.3
         ],
         "yaxis": "y"
        },
        {
         "hovertemplate": "Player=Bryce McGowens<br>Field Goal Attempts=%{x}<br>Field Goals Made=%{y}<extra></extra>",
         "legendgroup": "Bryce McGowens",
         "marker": {
          "color": "#EF553B",
          "symbol": "circle"
         },
         "mode": "markers",
         "name": "Bryce McGowens",
         "orientation": "v",
         "showlegend": true,
         "type": "scatter",
         "x": [
          3.7
         ],
         "xaxis": "x",
         "y": [
          1.7
         ],
         "yaxis": "y"
        },
        {
         "hovertemplate": "Player=Buddy Boeheim<br>Field Goal Attempts=%{x}<br>Field Goals Made=%{y}<extra></extra>",
         "legendgroup": "Buddy Boeheim",
         "marker": {
          "color": "#00cc96",
          "symbol": "circle"
         },
         "mode": "markers",
         "name": "Buddy Boeheim",
         "orientation": "v",
         "showlegend": true,
         "type": "scatter",
         "x": [
          4
         ],
         "xaxis": "x",
         "y": [
          1.4
         ],
         "yaxis": "y"
        },
        {
         "hovertemplate": "Player=Buddy Hield<br>Field Goal Attempts=%{x}<br>Field Goals Made=%{y}<extra></extra>",
         "legendgroup": "Buddy Hield",
         "marker": {
          "color": "#ab63fa",
          "symbol": "circle"
         },
         "mode": "markers",
         "name": "Buddy Hield",
         "orientation": "v",
         "showlegend": true,
         "type": "scatter",
         "x": [
          10.2
         ],
         "xaxis": "x",
         "y": [
          4.5
         ],
         "yaxis": "y"
        },
        {
         "hovertemplate": "Player=CJ McCollum<br>Field Goal Attempts=%{x}<br>Field Goals Made=%{y}<extra></extra>",
         "legendgroup": "CJ McCollum",
         "marker": {
          "color": "#FFA15A",
          "symbol": "circle"
         },
         "mode": "markers",
         "name": "CJ McCollum",
         "orientation": "v",
         "showlegend": true,
         "type": "scatter",
         "x": [
          15.3
         ],
         "xaxis": "x",
         "y": [
          6.9
         ],
         "yaxis": "y"
        },
        {
         "hovertemplate": "Player=Cade Cunningham<br>Field Goal Attempts=%{x}<br>Field Goals Made=%{y}<extra></extra>",
         "legendgroup": "Cade Cunningham",
         "marker": {
          "color": "#19d3f3",
          "symbol": "circle"
         },
         "mode": "markers",
         "name": "Cade Cunningham",
         "orientation": "v",
         "showlegend": true,
         "type": "scatter",
         "x": [
          18.8
         ],
         "xaxis": "x",
         "y": [
          8.4
         ],
         "yaxis": "y"
        },
        {
         "hovertemplate": "Player=Caleb Houstan<br>Field Goal Attempts=%{x}<br>Field Goals Made=%{y}<extra></extra>",
         "legendgroup": "Caleb Houstan",
         "marker": {
          "color": "#FF6692",
          "symbol": "circle"
         },
         "mode": "markers",
         "name": "Caleb Houstan",
         "orientation": "v",
         "showlegend": true,
         "type": "scatter",
         "x": [
          3.6
         ],
         "xaxis": "x",
         "y": [
          1.4
         ],
         "yaxis": "y"
        },
        {
         "hovertemplate": "Player=Caleb Martin<br>Field Goal Attempts=%{x}<br>Field Goals Made=%{y}<extra></extra>",
         "legendgroup": "Caleb Martin",
         "marker": {
          "color": "#B6E880",
          "symbol": "circle"
         },
         "mode": "markers",
         "name": "Caleb Martin",
         "orientation": "v",
         "showlegend": true,
         "type": "scatter",
         "x": [
          8.7
         ],
         "xaxis": "x",
         "y": [
          3.8
         ],
         "yaxis": "y"
        },
        {
         "hovertemplate": "Player=Cam Reddish<br>Field Goal Attempts=%{x}<br>Field Goals Made=%{y}<extra></extra>",
         "legendgroup": "Cam Reddish",
         "marker": {
          "color": "#FF97FF",
          "symbol": "circle"
         },
         "mode": "markers",
         "name": "Cam Reddish",
         "orientation": "v",
         "showlegend": true,
         "type": "scatter",
         "x": [
          5
         ],
         "xaxis": "x",
         "y": [
          1.9
         ],
         "yaxis": "y"
        },
        {
         "hovertemplate": "Player=Cam Thomas<br>Field Goal Attempts=%{x}<br>Field Goals Made=%{y}<extra></extra>",
         "legendgroup": "Cam Thomas",
         "marker": {
          "color": "#FECB52",
          "symbol": "circle"
         },
         "mode": "markers",
         "name": "Cam Thomas",
         "orientation": "v",
         "showlegend": true,
         "type": "scatter",
         "x": [
          17.8
         ],
         "xaxis": "x",
         "y": [
          7.9
         ],
         "yaxis": "y"
        },
        {
         "hovertemplate": "Player=Cam Whitmore<br>Field Goal Attempts=%{x}<br>Field Goals Made=%{y}<extra></extra>",
         "legendgroup": "Cam Whitmore",
         "marker": {
          "color": "#636efa",
          "symbol": "circle"
         },
         "mode": "markers",
         "name": "Cam Whitmore",
         "orientation": "v",
         "showlegend": true,
         "type": "scatter",
         "x": [
          9.7
         ],
         "xaxis": "x",
         "y": [
          4.5
         ],
         "yaxis": "y"
        },
        {
         "hovertemplate": "Player=Cameron Johnson<br>Field Goal Attempts=%{x}<br>Field Goals Made=%{y}<extra></extra>",
         "legendgroup": "Cameron Johnson",
         "marker": {
          "color": "#EF553B",
          "symbol": "circle"
         },
         "mode": "markers",
         "name": "Cameron Johnson",
         "orientation": "v",
         "showlegend": true,
         "type": "scatter",
         "x": [
          10.8
         ],
         "xaxis": "x",
         "y": [
          4.8
         ],
         "yaxis": "y"
        },
        {
         "hovertemplate": "Player=Cameron Payne<br>Field Goal Attempts=%{x}<br>Field Goals Made=%{y}<extra></extra>",
         "legendgroup": "Cameron Payne",
         "marker": {
          "color": "#00cc96",
          "symbol": "circle"
         },
         "mode": "markers",
         "name": "Cameron Payne",
         "orientation": "v",
         "showlegend": true,
         "type": "scatter",
         "x": [
          6.2
         ],
         "xaxis": "x",
         "y": [
          2.7
         ],
         "yaxis": "y"
        },
        {
         "hovertemplate": "Player=Caris LeVert<br>Field Goal Attempts=%{x}<br>Field Goals Made=%{y}<extra></extra>",
         "legendgroup": "Caris LeVert",
         "marker": {
          "color": "#ab63fa",
          "symbol": "circle"
         },
         "mode": "markers",
         "name": "Caris LeVert",
         "orientation": "v",
         "showlegend": true,
         "type": "scatter",
         "x": [
          12.1
         ],
         "xaxis": "x",
         "y": [
          4.9
         ],
         "yaxis": "y"
        },
        {
         "hovertemplate": "Player=Cason Wallace<br>Field Goal Attempts=%{x}<br>Field Goals Made=%{y}<extra></extra>",
         "legendgroup": "Cason Wallace",
         "marker": {
          "color": "#FFA15A",
          "symbol": "circle"
         },
         "mode": "markers",
         "name": "Cason Wallace",
         "orientation": "v",
         "showlegend": true,
         "type": "scatter",
         "x": [
          5.3
         ],
         "xaxis": "x",
         "y": [
          2.7
         ],
         "yaxis": "y"
        },
        {
         "hovertemplate": "Player=Cedi Osman<br>Field Goal Attempts=%{x}<br>Field Goals Made=%{y}<extra></extra>",
         "legendgroup": "Cedi Osman",
         "marker": {
          "color": "#19d3f3",
          "symbol": "circle"
         },
         "mode": "markers",
         "name": "Cedi Osman",
         "orientation": "v",
         "showlegend": true,
         "type": "scatter",
         "x": [
          5.3
         ],
         "xaxis": "x",
         "y": [
          2.5
         ],
         "yaxis": "y"
        },
        {
         "hovertemplate": "Player=Charles Bassey<br>Field Goal Attempts=%{x}<br>Field Goals Made=%{y}<extra></extra>",
         "legendgroup": "Charles Bassey",
         "marker": {
          "color": "#FF6692",
          "symbol": "circle"
         },
         "mode": "markers",
         "name": "Charles Bassey",
         "orientation": "v",
         "showlegend": true,
         "type": "scatter",
         "x": [
          2.1
         ],
         "xaxis": "x",
         "y": [
          1.5
         ],
         "yaxis": "y"
        },
        {
         "hovertemplate": "Player=Charlie Brown Jr.<br>Field Goal Attempts=%{x}<br>Field Goals Made=%{y}<extra></extra>",
         "legendgroup": "Charlie Brown Jr.",
         "marker": {
          "color": "#B6E880",
          "symbol": "circle"
         },
         "mode": "markers",
         "name": "Charlie Brown Jr.",
         "orientation": "v",
         "showlegend": true,
         "type": "scatter",
         "x": [
          1.3
         ],
         "xaxis": "x",
         "y": [
          0.3
         ],
         "yaxis": "y"
        },
        {
         "hovertemplate": "Player=Chet Holmgren<br>Field Goal Attempts=%{x}<br>Field Goals Made=%{y}<extra></extra>",
         "legendgroup": "Chet Holmgren",
         "marker": {
          "color": "#FF97FF",
          "symbol": "circle"
         },
         "mode": "markers",
         "name": "Chet Holmgren",
         "orientation": "v",
         "showlegend": true,
         "type": "scatter",
         "x": [
          11.7
         ],
         "xaxis": "x",
         "y": [
          6.2
         ],
         "yaxis": "y"
        },
        {
         "hovertemplate": "Player=Chimezie Metu<br>Field Goal Attempts=%{x}<br>Field Goals Made=%{y}<extra></extra>",
         "legendgroup": "Chimezie Metu",
         "marker": {
          "color": "#FECB52",
          "symbol": "circle"
         },
         "mode": "markers",
         "name": "Chimezie Metu",
         "orientation": "v",
         "showlegend": true,
         "type": "scatter",
         "x": [
          4
         ],
         "xaxis": "x",
         "y": [
          1.9
         ],
         "yaxis": "y"
        },
        {
         "hovertemplate": "Player=Chris Boucher<br>Field Goal Attempts=%{x}<br>Field Goals Made=%{y}<extra></extra>",
         "legendgroup": "Chris Boucher",
         "marker": {
          "color": "#636efa",
          "symbol": "circle"
         },
         "mode": "markers",
         "name": "Chris Boucher",
         "orientation": "v",
         "showlegend": true,
         "type": "scatter",
         "x": [
          4.3
         ],
         "xaxis": "x",
         "y": [
          2.2
         ],
         "yaxis": "y"
        },
        {
         "hovertemplate": "Player=Chris Duarte<br>Field Goal Attempts=%{x}<br>Field Goals Made=%{y}<extra></extra>",
         "legendgroup": "Chris Duarte",
         "marker": {
          "color": "#EF553B",
          "symbol": "circle"
         },
         "mode": "markers",
         "name": "Chris Duarte",
         "orientation": "v",
         "showlegend": true,
         "type": "scatter",
         "x": [
          3.7
         ],
         "xaxis": "x",
         "y": [
          1.4
         ],
         "yaxis": "y"
        },
        {
         "hovertemplate": "Player=Chris Livingston<br>Field Goal Attempts=%{x}<br>Field Goals Made=%{y}<extra></extra>",
         "legendgroup": "Chris Livingston",
         "marker": {
          "color": "#00cc96",
          "symbol": "circle"
         },
         "mode": "markers",
         "name": "Chris Livingston",
         "orientation": "v",
         "showlegend": true,
         "type": "scatter",
         "x": [
          1.1
         ],
         "xaxis": "x",
         "y": [
          0.5
         ],
         "yaxis": "y"
        },
        {
         "hovertemplate": "Player=Chris Paul<br>Field Goal Attempts=%{x}<br>Field Goals Made=%{y}<extra></extra>",
         "legendgroup": "Chris Paul",
         "marker": {
          "color": "#ab63fa",
          "symbol": "circle"
         },
         "mode": "markers",
         "name": "Chris Paul",
         "orientation": "v",
         "showlegend": true,
         "type": "scatter",
         "x": [
          7.8
         ],
         "xaxis": "x",
         "y": [
          3.5
         ],
         "yaxis": "y"
        },
        {
         "hovertemplate": "Player=Christian Braun<br>Field Goal Attempts=%{x}<br>Field Goals Made=%{y}<extra></extra>",
         "legendgroup": "Christian Braun",
         "marker": {
          "color": "#FFA15A",
          "symbol": "circle"
         },
         "mode": "markers",
         "name": "Christian Braun",
         "orientation": "v",
         "showlegend": true,
         "type": "scatter",
         "x": [
          5.8
         ],
         "xaxis": "x",
         "y": [
          2.6
         ],
         "yaxis": "y"
        },
        {
         "hovertemplate": "Player=Christian Wood<br>Field Goal Attempts=%{x}<br>Field Goals Made=%{y}<extra></extra>",
         "legendgroup": "Christian Wood",
         "marker": {
          "color": "#19d3f3",
          "symbol": "circle"
         },
         "mode": "markers",
         "name": "Christian Wood",
         "orientation": "v",
         "showlegend": true,
         "type": "scatter",
         "x": [
          5.3
         ],
         "xaxis": "x",
         "y": [
          2.5
         ],
         "yaxis": "y"
        },
        {
         "hovertemplate": "Player=Chuma Okeke<br>Field Goal Attempts=%{x}<br>Field Goals Made=%{y}<extra></extra>",
         "legendgroup": "Chuma Okeke",
         "marker": {
          "color": "#FF6692",
          "symbol": "circle"
         },
         "mode": "markers",
         "name": "Chuma Okeke",
         "orientation": "v",
         "showlegend": true,
         "type": "scatter",
         "x": [
          2.5
         ],
         "xaxis": "x",
         "y": [
          0.9
         ],
         "yaxis": "y"
        },
        {
         "hovertemplate": "Player=Clint Capela<br>Field Goal Attempts=%{x}<br>Field Goals Made=%{y}<extra></extra>",
         "legendgroup": "Clint Capela",
         "marker": {
          "color": "#B6E880",
          "symbol": "circle"
         },
         "mode": "markers",
         "name": "Clint Capela",
         "orientation": "v",
         "showlegend": true,
         "type": "scatter",
         "x": [
          8.5
         ],
         "xaxis": "x",
         "y": [
          4.8
         ],
         "yaxis": "y"
        },
        {
         "hovertemplate": "Player=Coby White<br>Field Goal Attempts=%{x}<br>Field Goals Made=%{y}<extra></extra>",
         "legendgroup": "Coby White",
         "marker": {
          "color": "#FF97FF",
          "symbol": "circle"
         },
         "mode": "markers",
         "name": "Coby White",
         "orientation": "v",
         "showlegend": true,
         "type": "scatter",
         "x": [
          15.3
         ],
         "xaxis": "x",
         "y": [
          6.8
         ],
         "yaxis": "y"
        },
        {
         "hovertemplate": "Player=Cody Martin<br>Field Goal Attempts=%{x}<br>Field Goals Made=%{y}<extra></extra>",
         "legendgroup": "Cody Martin",
         "marker": {
          "color": "#FECB52",
          "symbol": "circle"
         },
         "mode": "markers",
         "name": "Cody Martin",
         "orientation": "v",
         "showlegend": true,
         "type": "scatter",
         "x": [
          7.7
         ],
         "xaxis": "x",
         "y": [
          2.9
         ],
         "yaxis": "y"
        },
        {
         "hovertemplate": "Player=Cody Zeller<br>Field Goal Attempts=%{x}<br>Field Goals Made=%{y}<extra></extra>",
         "legendgroup": "Cody Zeller",
         "marker": {
          "color": "#636efa",
          "symbol": "circle"
         },
         "mode": "markers",
         "name": "Cody Zeller",
         "orientation": "v",
         "showlegend": true,
         "type": "scatter",
         "x": [
          1.5
         ],
         "xaxis": "x",
         "y": [
          0.6
         ],
         "yaxis": "y"
        },
        {
         "hovertemplate": "Player=Colby Jones<br>Field Goal Attempts=%{x}<br>Field Goals Made=%{y}<extra></extra>",
         "legendgroup": "Colby Jones",
         "marker": {
          "color": "#EF553B",
          "symbol": "circle"
         },
         "mode": "markers",
         "name": "Colby Jones",
         "orientation": "v",
         "showlegend": true,
         "type": "scatter",
         "x": [
          2.3
         ],
         "xaxis": "x",
         "y": [
          0.9
         ],
         "yaxis": "y"
        },
        {
         "hovertemplate": "Player=Cole Anthony<br>Field Goal Attempts=%{x}<br>Field Goals Made=%{y}<extra></extra>",
         "legendgroup": "Cole Anthony",
         "marker": {
          "color": "#00cc96",
          "symbol": "circle"
         },
         "mode": "markers",
         "name": "Cole Anthony",
         "orientation": "v",
         "showlegend": true,
         "type": "scatter",
         "x": [
          9.6
         ],
         "xaxis": "x",
         "y": [
          4.2
         ],
         "yaxis": "y"
        },
        {
         "hovertemplate": "Player=Cole Swider<br>Field Goal Attempts=%{x}<br>Field Goals Made=%{y}<extra></extra>",
         "legendgroup": "Cole Swider",
         "marker": {
          "color": "#ab63fa",
          "symbol": "circle"
         },
         "mode": "markers",
         "name": "Cole Swider",
         "orientation": "v",
         "showlegend": true,
         "type": "scatter",
         "x": [
          2.4
         ],
         "xaxis": "x",
         "y": [
          1
         ],
         "yaxis": "y"
        },
        {
         "hovertemplate": "Player=Colin Castleton<br>Field Goal Attempts=%{x}<br>Field Goals Made=%{y}<extra></extra>",
         "legendgroup": "Colin Castleton",
         "marker": {
          "color": "#FFA15A",
          "symbol": "circle"
         },
         "mode": "markers",
         "name": "Colin Castleton",
         "orientation": "v",
         "showlegend": true,
         "type": "scatter",
         "x": [
          1.1
         ],
         "xaxis": "x",
         "y": [
          0.7
         ],
         "yaxis": "y"
        },
        {
         "hovertemplate": "Player=Collin Gillespie<br>Field Goal Attempts=%{x}<br>Field Goals Made=%{y}<extra></extra>",
         "legendgroup": "Collin Gillespie",
         "marker": {
          "color": "#19d3f3",
          "symbol": "circle"
         },
         "mode": "markers",
         "name": "Collin Gillespie",
         "orientation": "v",
         "showlegend": true,
         "type": "scatter",
         "x": [
          2.9
         ],
         "xaxis": "x",
         "y": [
          1.3
         ],
         "yaxis": "y"
        },
        {
         "hovertemplate": "Player=Collin Sexton<br>Field Goal Attempts=%{x}<br>Field Goals Made=%{y}<extra></extra>",
         "legendgroup": "Collin Sexton",
         "marker": {
          "color": "#FF6692",
          "symbol": "circle"
         },
         "mode": "markers",
         "name": "Collin Sexton",
         "orientation": "v",
         "showlegend": true,
         "type": "scatter",
         "x": [
          13.3
         ],
         "xaxis": "x",
         "y": [
          6.6
         ],
         "yaxis": "y"
        },
        {
         "hovertemplate": "Player=Corey Kispert<br>Field Goal Attempts=%{x}<br>Field Goals Made=%{y}<extra></extra>",
         "legendgroup": "Corey Kispert",
         "marker": {
          "color": "#B6E880",
          "symbol": "circle"
         },
         "mode": "markers",
         "name": "Corey Kispert",
         "orientation": "v",
         "showlegend": true,
         "type": "scatter",
         "x": [
          9.6
         ],
         "xaxis": "x",
         "y": [
          4.6
         ],
         "yaxis": "y"
        },
        {
         "hovertemplate": "Player=Cory Joseph<br>Field Goal Attempts=%{x}<br>Field Goals Made=%{y}<extra></extra>",
         "legendgroup": "Cory Joseph",
         "marker": {
          "color": "#FF97FF",
          "symbol": "circle"
         },
         "mode": "markers",
         "name": "Cory Joseph",
         "orientation": "v",
         "showlegend": true,
         "type": "scatter",
         "x": [
          2.5
         ],
         "xaxis": "x",
         "y": [
          0.9
         ],
         "yaxis": "y"
        },
        {
         "hovertemplate": "Player=Craig Porter Jr.<br>Field Goal Attempts=%{x}<br>Field Goals Made=%{y}<extra></extra>",
         "legendgroup": "Craig Porter Jr.",
         "marker": {
          "color": "#FECB52",
          "symbol": "circle"
         },
         "mode": "markers",
         "name": "Craig Porter Jr.",
         "orientation": "v",
         "showlegend": true,
         "type": "scatter",
         "x": [
          4.7
         ],
         "xaxis": "x",
         "y": [
          2.4
         ],
         "yaxis": "y"
        },
        {
         "hovertemplate": "Player=D'Angelo Russell<br>Field Goal Attempts=%{x}<br>Field Goals Made=%{y}<extra></extra>",
         "legendgroup": "D'Angelo Russell",
         "marker": {
          "color": "#636efa",
          "symbol": "circle"
         },
         "mode": "markers",
         "name": "D'Angelo Russell",
         "orientation": "v",
         "showlegend": true,
         "type": "scatter",
         "x": [
          14.2
         ],
         "xaxis": "x",
         "y": [
          6.5
         ],
         "yaxis": "y"
        },
        {
         "hovertemplate": "Player=D'Moi Hodge<br>Field Goal Attempts=%{x}<br>Field Goals Made=%{y}<extra></extra>",
         "legendgroup": "D'Moi Hodge",
         "marker": {
          "color": "#EF553B",
          "symbol": "circle"
         },
         "mode": "markers",
         "name": "D'Moi Hodge",
         "orientation": "v",
         "showlegend": true,
         "type": "scatter",
         "x": [
          2.1
         ],
         "xaxis": "x",
         "y": [
          0.7
         ],
         "yaxis": "y"
        },
        {
         "hovertemplate": "Player=D.J. Carton<br>Field Goal Attempts=%{x}<br>Field Goals Made=%{y}<extra></extra>",
         "legendgroup": "D.J. Carton",
         "marker": {
          "color": "#00cc96",
          "symbol": "circle"
         },
         "mode": "markers",
         "name": "D.J. Carton",
         "orientation": "v",
         "showlegend": true,
         "type": "scatter",
         "x": [
          2
         ],
         "xaxis": "x",
         "y": [
          0.8
         ],
         "yaxis": "y"
        },
        {
         "hovertemplate": "Player=D.J. Wilson<br>Field Goal Attempts=%{x}<br>Field Goals Made=%{y}<extra></extra>",
         "legendgroup": "D.J. Wilson",
         "marker": {
          "color": "#ab63fa",
          "symbol": "circle"
         },
         "mode": "markers",
         "name": "D.J. Wilson",
         "orientation": "v",
         "showlegend": true,
         "type": "scatter",
         "x": [
          3
         ],
         "xaxis": "x",
         "y": [
          2
         ],
         "yaxis": "y"
        },
        {
         "hovertemplate": "Player=DaQuan Jeffries<br>Field Goal Attempts=%{x}<br>Field Goals Made=%{y}<extra></extra>",
         "legendgroup": "DaQuan Jeffries",
         "marker": {
          "color": "#FFA15A",
          "symbol": "circle"
         },
         "mode": "markers",
         "name": "DaQuan Jeffries",
         "orientation": "v",
         "showlegend": true,
         "type": "scatter",
         "x": [
          1.1
         ],
         "xaxis": "x",
         "y": [
          0.4
         ],
         "yaxis": "y"
        },
        {
         "hovertemplate": "Player=Daishen Nix<br>Field Goal Attempts=%{x}<br>Field Goals Made=%{y}<extra></extra>",
         "legendgroup": "Daishen Nix",
         "marker": {
          "color": "#19d3f3",
          "symbol": "circle"
         },
         "mode": "markers",
         "name": "Daishen Nix",
         "orientation": "v",
         "showlegend": true,
         "type": "scatter",
         "x": [
          1.7
         ],
         "xaxis": "x",
         "y": [
          0.7
         ],
         "yaxis": "y"
        },
        {
         "hovertemplate": "Player=Dalano Banton<br>Field Goal Attempts=%{x}<br>Field Goals Made=%{y}<extra></extra>",
         "legendgroup": "Dalano Banton",
         "marker": {
          "color": "#FF6692",
          "symbol": "circle"
         },
         "mode": "markers",
         "name": "Dalano Banton",
         "orientation": "v",
         "showlegend": true,
         "type": "scatter",
         "x": [
          7.7
         ],
         "xaxis": "x",
         "y": [
          3.2
         ],
         "yaxis": "y"
        },
        {
         "hovertemplate": "Player=Dalen Terry<br>Field Goal Attempts=%{x}<br>Field Goals Made=%{y}<extra></extra>",
         "legendgroup": "Dalen Terry",
         "marker": {
          "color": "#B6E880",
          "symbol": "circle"
         },
         "mode": "markers",
         "name": "Dalen Terry",
         "orientation": "v",
         "showlegend": true,
         "type": "scatter",
         "x": [
          2.4
         ],
         "xaxis": "x",
         "y": [
          1
         ],
         "yaxis": "y"
        },
        {
         "hovertemplate": "Player=Damian Jones<br>Field Goal Attempts=%{x}<br>Field Goals Made=%{y}<extra></extra>",
         "legendgroup": "Damian Jones",
         "marker": {
          "color": "#FF97FF",
          "symbol": "circle"
         },
         "mode": "markers",
         "name": "Damian Jones",
         "orientation": "v",
         "showlegend": true,
         "type": "scatter",
         "x": [
          1.9
         ],
         "xaxis": "x",
         "y": [
          1.1
         ],
         "yaxis": "y"
        },
        {
         "hovertemplate": "Player=Damian Lillard<br>Field Goal Attempts=%{x}<br>Field Goals Made=%{y}<extra></extra>",
         "legendgroup": "Damian Lillard",
         "marker": {
          "color": "#FECB52",
          "symbol": "circle"
         },
         "mode": "markers",
         "name": "Damian Lillard",
         "orientation": "v",
         "showlegend": true,
         "type": "scatter",
         "x": [
          17.6
         ],
         "xaxis": "x",
         "y": [
          7.5
         ],
         "yaxis": "y"
        },
        {
         "hovertemplate": "Player=Daniel Gafford<br>Field Goal Attempts=%{x}<br>Field Goals Made=%{y}<extra></extra>",
         "legendgroup": "Daniel Gafford",
         "marker": {
          "color": "#636efa",
          "symbol": "circle"
         },
         "mode": "markers",
         "name": "Daniel Gafford",
         "orientation": "v",
         "showlegend": true,
         "type": "scatter",
         "x": [
          6.5
         ],
         "xaxis": "x",
         "y": [
          4.6
         ],
         "yaxis": "y"
        },
        {
         "hovertemplate": "Player=Daniel Theis<br>Field Goal Attempts=%{x}<br>Field Goals Made=%{y}<extra></extra>",
         "legendgroup": "Daniel Theis",
         "marker": {
          "color": "#EF553B",
          "symbol": "circle"
         },
         "mode": "markers",
         "name": "Daniel Theis",
         "orientation": "v",
         "showlegend": true,
         "type": "scatter",
         "x": [
          4.7
         ],
         "xaxis": "x",
         "y": [
          2.5
         ],
         "yaxis": "y"
        },
        {
         "hovertemplate": "Player=Danilo Gallinari<br>Field Goal Attempts=%{x}<br>Field Goals Made=%{y}<extra></extra>",
         "legendgroup": "Danilo Gallinari",
         "marker": {
          "color": "#00cc96",
          "symbol": "circle"
         },
         "mode": "markers",
         "name": "Danilo Gallinari",
         "orientation": "v",
         "showlegend": true,
         "type": "scatter",
         "x": [
          4
         ],
         "xaxis": "x",
         "y": [
          1.8
         ],
         "yaxis": "y"
        },
        {
         "hovertemplate": "Player=Danny Green<br>Field Goal Attempts=%{x}<br>Field Goals Made=%{y}<extra></extra>",
         "legendgroup": "Danny Green",
         "marker": {
          "color": "#ab63fa",
          "symbol": "circle"
         },
         "mode": "markers",
         "name": "Danny Green",
         "orientation": "v",
         "showlegend": true,
         "type": "scatter",
         "x": [
          1
         ],
         "xaxis": "x",
         "y": [
          0
         ],
         "yaxis": "y"
        },
        {
         "hovertemplate": "Player=Dante Exum<br>Field Goal Attempts=%{x}<br>Field Goals Made=%{y}<extra></extra>",
         "legendgroup": "Dante Exum",
         "marker": {
          "color": "#FFA15A",
          "symbol": "circle"
         },
         "mode": "markers",
         "name": "Dante Exum",
         "orientation": "v",
         "showlegend": true,
         "type": "scatter",
         "x": [
          5.6
         ],
         "xaxis": "x",
         "y": [
          3.1
         ],
         "yaxis": "y"
        },
        {
         "hovertemplate": "Player=Danuel House Jr.<br>Field Goal Attempts=%{x}<br>Field Goals Made=%{y}<extra></extra>",
         "legendgroup": "Danuel House Jr.",
         "marker": {
          "color": "#19d3f3",
          "symbol": "circle"
         },
         "mode": "markers",
         "name": "Danuel House Jr.",
         "orientation": "v",
         "showlegend": true,
         "type": "scatter",
         "x": [
          3.1
         ],
         "xaxis": "x",
         "y": [
          1.4
         ],
         "yaxis": "y"
        },
        {
         "hovertemplate": "Player=Dario Saric<br>Field Goal Attempts=%{x}<br>Field Goals Made=%{y}<extra></extra>",
         "legendgroup": "Dario Saric",
         "marker": {
          "color": "#FF6692",
          "symbol": "circle"
         },
         "mode": "markers",
         "name": "Dario Saric",
         "orientation": "v",
         "showlegend": true,
         "type": "scatter",
         "x": [
          6.1
         ],
         "xaxis": "x",
         "y": [
          2.9
         ],
         "yaxis": "y"
        },
        {
         "hovertemplate": "Player=Dariq Whitehead<br>Field Goal Attempts=%{x}<br>Field Goals Made=%{y}<extra></extra>",
         "legendgroup": "Dariq Whitehead",
         "marker": {
          "color": "#B6E880",
          "symbol": "circle"
         },
         "mode": "markers",
         "name": "Dariq Whitehead",
         "orientation": "v",
         "showlegend": true,
         "type": "scatter",
         "x": [
          2.5
         ],
         "xaxis": "x",
         "y": [
          0.5
         ],
         "yaxis": "y"
        },
        {
         "hovertemplate": "Player=Darius Bazley<br>Field Goal Attempts=%{x}<br>Field Goals Made=%{y}<extra></extra>",
         "legendgroup": "Darius Bazley",
         "marker": {
          "color": "#FF97FF",
          "symbol": "circle"
         },
         "mode": "markers",
         "name": "Darius Bazley",
         "orientation": "v",
         "showlegend": true,
         "type": "scatter",
         "x": [
          0.3
         ],
         "xaxis": "x",
         "y": [
          0
         ],
         "yaxis": "y"
        },
        {
         "hovertemplate": "Player=Darius Garland<br>Field Goal Attempts=%{x}<br>Field Goals Made=%{y}<extra></extra>",
         "legendgroup": "Darius Garland",
         "marker": {
          "color": "#FECB52",
          "symbol": "circle"
         },
         "mode": "markers",
         "name": "Darius Garland",
         "orientation": "v",
         "showlegend": true,
         "type": "scatter",
         "x": [
          14.6
         ],
         "xaxis": "x",
         "y": [
          6.5
         ],
         "yaxis": "y"
        },
        {
         "hovertemplate": "Player=David Roddy<br>Field Goal Attempts=%{x}<br>Field Goals Made=%{y}<extra></extra>",
         "legendgroup": "David Roddy",
         "marker": {
          "color": "#636efa",
          "symbol": "circle"
         },
         "mode": "markers",
         "name": "David Roddy",
         "orientation": "v",
         "showlegend": true,
         "type": "scatter",
         "x": [
          6.6
         ],
         "xaxis": "x",
         "y": [
          2.7
         ],
         "yaxis": "y"
        },
        {
         "hovertemplate": "Player=Davion Mitchell<br>Field Goal Attempts=%{x}<br>Field Goals Made=%{y}<extra></extra>",
         "legendgroup": "Davion Mitchell",
         "marker": {
          "color": "#EF553B",
          "symbol": "circle"
         },
         "mode": "markers",
         "name": "Davion Mitchell",
         "orientation": "v",
         "showlegend": true,
         "type": "scatter",
         "x": [
          4
         ],
         "xaxis": "x",
         "y": [
          1.8
         ],
         "yaxis": "y"
        },
        {
         "hovertemplate": "Player=Davis Bertans<br>Field Goal Attempts=%{x}<br>Field Goals Made=%{y}<extra></extra>",
         "legendgroup": "Davis Bertans",
         "marker": {
          "color": "#00cc96",
          "symbol": "circle"
         },
         "mode": "markers",
         "name": "Davis Bertans",
         "orientation": "v",
         "showlegend": true,
         "type": "scatter",
         "x": [
          5
         ],
         "xaxis": "x",
         "y": [
          1.9
         ],
         "yaxis": "y"
        },
        {
         "hovertemplate": "Player=Day'Ron Sharpe<br>Field Goal Attempts=%{x}<br>Field Goals Made=%{y}<extra></extra>",
         "legendgroup": "Day'Ron Sharpe",
         "marker": {
          "color": "#ab63fa",
          "symbol": "circle"
         },
         "mode": "markers",
         "name": "Day'Ron Sharpe",
         "orientation": "v",
         "showlegend": true,
         "type": "scatter",
         "x": [
          4.8
         ],
         "xaxis": "x",
         "y": [
          2.8
         ],
         "yaxis": "y"
        },
        {
         "hovertemplate": "Player=De'Aaron Fox<br>Field Goal Attempts=%{x}<br>Field Goals Made=%{y}<extra></extra>",
         "legendgroup": "De'Aaron Fox",
         "marker": {
          "color": "#FFA15A",
          "symbol": "circle"
         },
         "mode": "markers",
         "name": "De'Aaron Fox",
         "orientation": "v",
         "showlegend": true,
         "type": "scatter",
         "x": [
          20.8
         ],
         "xaxis": "x",
         "y": [
          9.7
         ],
         "yaxis": "y"
        },
        {
         "hovertemplate": "Player=De'Andre Hunter<br>Field Goal Attempts=%{x}<br>Field Goals Made=%{y}<extra></extra>",
         "legendgroup": "De'Andre Hunter",
         "marker": {
          "color": "#19d3f3",
          "symbol": "circle"
         },
         "mode": "markers",
         "name": "De'Andre Hunter",
         "orientation": "v",
         "showlegend": true,
         "type": "scatter",
         "x": [
          11.4
         ],
         "xaxis": "x",
         "y": [
          5.3
         ],
         "yaxis": "y"
        },
        {
         "hovertemplate": "Player=De'Anthony Melton<br>Field Goal Attempts=%{x}<br>Field Goals Made=%{y}<extra></extra>",
         "legendgroup": "De'Anthony Melton",
         "marker": {
          "color": "#FF6692",
          "symbol": "circle"
         },
         "mode": "markers",
         "name": "De'Anthony Melton",
         "orientation": "v",
         "showlegend": true,
         "type": "scatter",
         "x": [
          9.7
         ],
         "xaxis": "x",
         "y": [
          3.8
         ],
         "yaxis": "y"
        },
        {
         "hovertemplate": "Player=DeAndre Jordan<br>Field Goal Attempts=%{x}<br>Field Goals Made=%{y}<extra></extra>",
         "legendgroup": "DeAndre Jordan",
         "marker": {
          "color": "#B6E880",
          "symbol": "circle"
         },
         "mode": "markers",
         "name": "DeAndre Jordan",
         "orientation": "v",
         "showlegend": true,
         "type": "scatter",
         "x": [
          2.7
         ],
         "xaxis": "x",
         "y": [
          1.7
         ],
         "yaxis": "y"
        },
        {
         "hovertemplate": "Player=DeJon Jarreau<br>Field Goal Attempts=%{x}<br>Field Goals Made=%{y}<extra></extra>",
         "legendgroup": "DeJon Jarreau",
         "marker": {
          "color": "#FF97FF",
          "symbol": "circle"
         },
         "mode": "markers",
         "name": "DeJon Jarreau",
         "orientation": "v",
         "showlegend": true,
         "type": "scatter",
         "x": [
          5.6
         ],
         "xaxis": "x",
         "y": [
          1.9
         ],
         "yaxis": "y"
        },
        {
         "hovertemplate": "Player=DeMar DeRozan<br>Field Goal Attempts=%{x}<br>Field Goals Made=%{y}<extra></extra>",
         "legendgroup": "DeMar DeRozan",
         "marker": {
          "color": "#FECB52",
          "symbol": "circle"
         },
         "mode": "markers",
         "name": "DeMar DeRozan",
         "orientation": "v",
         "showlegend": true,
         "type": "scatter",
         "x": [
          16.8
         ],
         "xaxis": "x",
         "y": [
          8
         ],
         "yaxis": "y"
        },
        {
         "hovertemplate": "Player=Dean Wade<br>Field Goal Attempts=%{x}<br>Field Goals Made=%{y}<extra></extra>",
         "legendgroup": "Dean Wade",
         "marker": {
          "color": "#636efa",
          "symbol": "circle"
         },
         "mode": "markers",
         "name": "Dean Wade",
         "orientation": "v",
         "showlegend": true,
         "type": "scatter",
         "x": [
          4.3
         ],
         "xaxis": "x",
         "y": [
          1.8
         ],
         "yaxis": "y"
        },
        {
         "hovertemplate": "Player=Deandre Ayton<br>Field Goal Attempts=%{x}<br>Field Goals Made=%{y}<extra></extra>",
         "legendgroup": "Deandre Ayton",
         "marker": {
          "color": "#EF553B",
          "symbol": "circle"
         },
         "mode": "markers",
         "name": "Deandre Ayton",
         "orientation": "v",
         "showlegend": true,
         "type": "scatter",
         "x": [
          12.6
         ],
         "xaxis": "x",
         "y": [
          7.3
         ],
         "yaxis": "y"
        },
        {
         "hovertemplate": "Player=Dejounte Murray<br>Field Goal Attempts=%{x}<br>Field Goals Made=%{y}<extra></extra>",
         "legendgroup": "Dejounte Murray",
         "marker": {
          "color": "#00cc96",
          "symbol": "circle"
         },
         "mode": "markers",
         "name": "Dejounte Murray",
         "orientation": "v",
         "showlegend": true,
         "type": "scatter",
         "x": [
          18.7
         ],
         "xaxis": "x",
         "y": [
          8.7
         ],
         "yaxis": "y"
        },
        {
         "hovertemplate": "Player=Delon Wright<br>Field Goal Attempts=%{x}<br>Field Goals Made=%{y}<extra></extra>",
         "legendgroup": "Delon Wright",
         "marker": {
          "color": "#ab63fa",
          "symbol": "circle"
         },
         "mode": "markers",
         "name": "Delon Wright",
         "orientation": "v",
         "showlegend": true,
         "type": "scatter",
         "x": [
          3.9
         ],
         "xaxis": "x",
         "y": [
          1.5
         ],
         "yaxis": "y"
        },
        {
         "hovertemplate": "Player=Deni Avdija<br>Field Goal Attempts=%{x}<br>Field Goals Made=%{y}<extra></extra>",
         "legendgroup": "Deni Avdija",
         "marker": {
          "color": "#FFA15A",
          "symbol": "circle"
         },
         "mode": "markers",
         "name": "Deni Avdija",
         "orientation": "v",
         "showlegend": true,
         "type": "scatter",
         "x": [
          10.5
         ],
         "xaxis": "x",
         "y": [
          5.3
         ],
         "yaxis": "y"
        },
        {
         "hovertemplate": "Player=Dennis Schroder<br>Field Goal Attempts=%{x}<br>Field Goals Made=%{y}<extra></extra>",
         "legendgroup": "Dennis Schroder",
         "marker": {
          "color": "#19d3f3",
          "symbol": "circle"
         },
         "mode": "markers",
         "name": "Dennis Schroder",
         "orientation": "v",
         "showlegend": true,
         "type": "scatter",
         "x": [
          11.6
         ],
         "xaxis": "x",
         "y": [
          5.1
         ],
         "yaxis": "y"
        },
        {
         "hovertemplate": "Player=Dennis Smith Jr.<br>Field Goal Attempts=%{x}<br>Field Goals Made=%{y}<extra></extra>",
         "legendgroup": "Dennis Smith Jr.",
         "marker": {
          "color": "#FF6692",
          "symbol": "circle"
         },
         "mode": "markers",
         "name": "Dennis Smith Jr.",
         "orientation": "v",
         "showlegend": true,
         "type": "scatter",
         "x": [
          6
         ],
         "xaxis": "x",
         "y": [
          2.6
         ],
         "yaxis": "y"
        },
        {
         "hovertemplate": "Player=Dereck Lively II<br>Field Goal Attempts=%{x}<br>Field Goals Made=%{y}<extra></extra>",
         "legendgroup": "Dereck Lively II",
         "marker": {
          "color": "#B6E880",
          "symbol": "circle"
         },
         "mode": "markers",
         "name": "Dereck Lively II",
         "orientation": "v",
         "showlegend": true,
         "type": "scatter",
         "x": [
          5.4
         ],
         "xaxis": "x",
         "y": [
          4
         ],
         "yaxis": "y"
        },
        {
         "hovertemplate": "Player=Dereon Seabron<br>Field Goal Attempts=%{x}<br>Field Goals Made=%{y}<extra></extra>",
         "legendgroup": "Dereon Seabron",
         "marker": {
          "color": "#FF97FF",
          "symbol": "circle"
         },
         "mode": "markers",
         "name": "Dereon Seabron",
         "orientation": "v",
         "showlegend": true,
         "type": "scatter",
         "x": [
          2.2
         ],
         "xaxis": "x",
         "y": [
          0.7
         ],
         "yaxis": "y"
        },
        {
         "hovertemplate": "Player=Derrick Jones Jr.<br>Field Goal Attempts=%{x}<br>Field Goals Made=%{y}<extra></extra>",
         "legendgroup": "Derrick Jones Jr.",
         "marker": {
          "color": "#FECB52",
          "symbol": "circle"
         },
         "mode": "markers",
         "name": "Derrick Jones Jr.",
         "orientation": "v",
         "showlegend": true,
         "type": "scatter",
         "x": [
          6.5
         ],
         "xaxis": "x",
         "y": [
          3.2
         ],
         "yaxis": "y"
        },
        {
         "hovertemplate": "Player=Derrick Rose<br>Field Goal Attempts=%{x}<br>Field Goals Made=%{y}<extra></extra>",
         "legendgroup": "Derrick Rose",
         "marker": {
          "color": "#636efa",
          "symbol": "circle"
         },
         "mode": "markers",
         "name": "Derrick Rose",
         "orientation": "v",
         "showlegend": true,
         "type": "scatter",
         "x": [
          6.9
         ],
         "xaxis": "x",
         "y": [
          3.2
         ],
         "yaxis": "y"
        },
        {
         "hovertemplate": "Player=Derrick White<br>Field Goal Attempts=%{x}<br>Field Goals Made=%{y}<extra></extra>",
         "legendgroup": "Derrick White",
         "marker": {
          "color": "#EF553B",
          "symbol": "circle"
         },
         "mode": "markers",
         "name": "Derrick White",
         "orientation": "v",
         "showlegend": true,
         "type": "scatter",
         "x": [
          11.6
         ],
         "xaxis": "x",
         "y": [
          5.4
         ],
         "yaxis": "y"
        },
        {
         "hovertemplate": "Player=Desmond Bane<br>Field Goal Attempts=%{x}<br>Field Goals Made=%{y}<extra></extra>",
         "legendgroup": "Desmond Bane",
         "marker": {
          "color": "#00cc96",
          "symbol": "circle"
         },
         "mode": "markers",
         "name": "Desmond Bane",
         "orientation": "v",
         "showlegend": true,
         "type": "scatter",
         "x": [
          18.5
         ],
         "xaxis": "x",
         "y": [
          8.6
         ],
         "yaxis": "y"
        },
        {
         "hovertemplate": "Player=Devin Booker<br>Field Goal Attempts=%{x}<br>Field Goals Made=%{y}<extra></extra>",
         "legendgroup": "Devin Booker",
         "marker": {
          "color": "#ab63fa",
          "symbol": "circle"
         },
         "mode": "markers",
         "name": "Devin Booker",
         "orientation": "v",
         "showlegend": true,
         "type": "scatter",
         "x": [
          19.4
         ],
         "xaxis": "x",
         "y": [
          9.5
         ],
         "yaxis": "y"
        },
        {
         "hovertemplate": "Player=Devin Vassell<br>Field Goal Attempts=%{x}<br>Field Goals Made=%{y}<extra></extra>",
         "legendgroup": "Devin Vassell",
         "marker": {
          "color": "#FFA15A",
          "symbol": "circle"
         },
         "mode": "markers",
         "name": "Devin Vassell",
         "orientation": "v",
         "showlegend": true,
         "type": "scatter",
         "x": [
          15.5
         ],
         "xaxis": "x",
         "y": [
          7.3
         ],
         "yaxis": "y"
        },
        {
         "hovertemplate": "Player=Devonte' Graham<br>Field Goal Attempts=%{x}<br>Field Goals Made=%{y}<extra></extra>",
         "legendgroup": "Devonte' Graham",
         "marker": {
          "color": "#19d3f3",
          "symbol": "circle"
         },
         "mode": "markers",
         "name": "Devonte' Graham",
         "orientation": "v",
         "showlegend": true,
         "type": "scatter",
         "x": [
          2.8
         ],
         "xaxis": "x",
         "y": [
          1.1
         ],
         "yaxis": "y"
        },
        {
         "hovertemplate": "Player=Dexter Dennis<br>Field Goal Attempts=%{x}<br>Field Goals Made=%{y}<extra></extra>",
         "legendgroup": "Dexter Dennis",
         "marker": {
          "color": "#FF6692",
          "symbol": "circle"
         },
         "mode": "markers",
         "name": "Dexter Dennis",
         "orientation": "v",
         "showlegend": true,
         "type": "scatter",
         "x": [
          4.8
         ],
         "xaxis": "x",
         "y": [
          2.5
         ],
         "yaxis": "y"
        },
        {
         "hovertemplate": "Player=Dillon Brooks<br>Field Goal Attempts=%{x}<br>Field Goals Made=%{y}<extra></extra>",
         "legendgroup": "Dillon Brooks",
         "marker": {
          "color": "#B6E880",
          "symbol": "circle"
         },
         "mode": "markers",
         "name": "Dillon Brooks",
         "orientation": "v",
         "showlegend": true,
         "type": "scatter",
         "x": [
          10.6
         ],
         "xaxis": "x",
         "y": [
          4.6
         ],
         "yaxis": "y"
        },
        {
         "hovertemplate": "Player=Dmytro Skapintsev<br>Field Goal Attempts=%{x}<br>Field Goals Made=%{y}<extra></extra>",
         "legendgroup": "Dmytro Skapintsev",
         "marker": {
          "color": "#FF97FF",
          "symbol": "circle"
         },
         "mode": "markers",
         "name": "Dmytro Skapintsev",
         "orientation": "v",
         "showlegend": true,
         "type": "scatter",
         "x": [
          0.5
         ],
         "xaxis": "x",
         "y": [
          0
         ],
         "yaxis": "y"
        },
        {
         "hovertemplate": "Player=Domantas Sabonis<br>Field Goal Attempts=%{x}<br>Field Goals Made=%{y}<extra></extra>",
         "legendgroup": "Domantas Sabonis",
         "marker": {
          "color": "#FECB52",
          "symbol": "circle"
         },
         "mode": "markers",
         "name": "Domantas Sabonis",
         "orientation": "v",
         "showlegend": true,
         "type": "scatter",
         "x": [
          13
         ],
         "xaxis": "x",
         "y": [
          7.8
         ],
         "yaxis": "y"
        },
        {
         "hovertemplate": "Player=Dominick Barlow<br>Field Goal Attempts=%{x}<br>Field Goals Made=%{y}<extra></extra>",
         "legendgroup": "Dominick Barlow",
         "marker": {
          "color": "#636efa",
          "symbol": "circle"
         },
         "mode": "markers",
         "name": "Dominick Barlow",
         "orientation": "v",
         "showlegend": true,
         "type": "scatter",
         "x": [
          3.4
         ],
         "xaxis": "x",
         "y": [
          1.7
         ],
         "yaxis": "y"
        },
        {
         "hovertemplate": "Player=Donovan Mitchell<br>Field Goal Attempts=%{x}<br>Field Goals Made=%{y}<extra></extra>",
         "legendgroup": "Donovan Mitchell",
         "marker": {
          "color": "#EF553B",
          "symbol": "circle"
         },
         "mode": "markers",
         "name": "Donovan Mitchell",
         "orientation": "v",
         "showlegend": true,
         "type": "scatter",
         "x": [
          19.9
         ],
         "xaxis": "x",
         "y": [
          9.2
         ],
         "yaxis": "y"
        },
        {
         "hovertemplate": "Player=Donte DiVincenzo<br>Field Goal Attempts=%{x}<br>Field Goals Made=%{y}<extra></extra>",
         "legendgroup": "Donte DiVincenzo",
         "marker": {
          "color": "#00cc96",
          "symbol": "circle"
         },
         "mode": "markers",
         "name": "Donte DiVincenzo",
         "orientation": "v",
         "showlegend": true,
         "type": "scatter",
         "x": [
          12.1
         ],
         "xaxis": "x",
         "y": [
          5.3
         ],
         "yaxis": "y"
        },
        {
         "hovertemplate": "Player=Dorian Finney-Smith<br>Field Goal Attempts=%{x}<br>Field Goals Made=%{y}<extra></extra>",
         "legendgroup": "Dorian Finney-Smith",
         "marker": {
          "color": "#ab63fa",
          "symbol": "circle"
         },
         "mode": "markers",
         "name": "Dorian Finney-Smith",
         "orientation": "v",
         "showlegend": true,
         "type": "scatter",
         "x": [
          7.6
         ],
         "xaxis": "x",
         "y": [
          3.2
         ],
         "yaxis": "y"
        },
        {
         "hovertemplate": "Player=Doug McDermott<br>Field Goal Attempts=%{x}<br>Field Goals Made=%{y}<extra></extra>",
         "legendgroup": "Doug McDermott",
         "marker": {
          "color": "#FFA15A",
          "symbol": "circle"
         },
         "mode": "markers",
         "name": "Doug McDermott",
         "orientation": "v",
         "showlegend": true,
         "type": "scatter",
         "x": [
          4.5
         ],
         "xaxis": "x",
         "y": [
          1.9
         ],
         "yaxis": "y"
        },
        {
         "hovertemplate": "Player=Draymond Green<br>Field Goal Attempts=%{x}<br>Field Goals Made=%{y}<extra></extra>",
         "legendgroup": "Draymond Green",
         "marker": {
          "color": "#19d3f3",
          "symbol": "circle"
         },
         "mode": "markers",
         "name": "Draymond Green",
         "orientation": "v",
         "showlegend": true,
         "type": "scatter",
         "x": [
          7
         ],
         "xaxis": "x",
         "y": [
          3.4
         ],
         "yaxis": "y"
        },
        {
         "hovertemplate": "Player=Drew Eubanks<br>Field Goal Attempts=%{x}<br>Field Goals Made=%{y}<extra></extra>",
         "legendgroup": "Drew Eubanks",
         "marker": {
          "color": "#FF6692",
          "symbol": "circle"
         },
         "mode": "markers",
         "name": "Drew Eubanks",
         "orientation": "v",
         "showlegend": true,
         "type": "scatter",
         "x": [
          3.4
         ],
         "xaxis": "x",
         "y": [
          2.1
         ],
         "yaxis": "y"
        },
        {
         "hovertemplate": "Player=Drew Peterson<br>Field Goal Attempts=%{x}<br>Field Goals Made=%{y}<extra></extra>",
         "legendgroup": "Drew Peterson",
         "marker": {
          "color": "#B6E880",
          "symbol": "circle"
         },
         "mode": "markers",
         "name": "Drew Peterson",
         "orientation": "v",
         "showlegend": true,
         "type": "scatter",
         "x": [
          1
         ],
         "xaxis": "x",
         "y": [
          1
         ],
         "yaxis": "y"
        },
        {
         "hovertemplate": "Player=Dru Smith<br>Field Goal Attempts=%{x}<br>Field Goals Made=%{y}<extra></extra>",
         "legendgroup": "Dru Smith",
         "marker": {
          "color": "#FF97FF",
          "symbol": "circle"
         },
         "mode": "markers",
         "name": "Dru Smith",
         "orientation": "v",
         "showlegend": true,
         "type": "scatter",
         "x": [
          3.7
         ],
         "xaxis": "x",
         "y": [
          1.7
         ],
         "yaxis": "y"
        },
        {
         "hovertemplate": "Player=Duncan Robinson<br>Field Goal Attempts=%{x}<br>Field Goals Made=%{y}<extra></extra>",
         "legendgroup": "Duncan Robinson",
         "marker": {
          "color": "#FECB52",
          "symbol": "circle"
         },
         "mode": "markers",
         "name": "Duncan Robinson",
         "orientation": "v",
         "showlegend": true,
         "type": "scatter",
         "x": [
          10.2
         ],
         "xaxis": "x",
         "y": [
          4.7
         ],
         "yaxis": "y"
        },
        {
         "hovertemplate": "Player=Duop Reath<br>Field Goal Attempts=%{x}<br>Field Goals Made=%{y}<extra></extra>",
         "legendgroup": "Duop Reath",
         "marker": {
          "color": "#636efa",
          "symbol": "circle"
         },
         "mode": "markers",
         "name": "Duop Reath",
         "orientation": "v",
         "showlegend": true,
         "type": "scatter",
         "x": [
          7.3
         ],
         "xaxis": "x",
         "y": [
          3.5
         ],
         "yaxis": "y"
        },
        {
         "hovertemplate": "Player=Dwight Powell<br>Field Goal Attempts=%{x}<br>Field Goals Made=%{y}<extra></extra>",
         "legendgroup": "Dwight Powell",
         "marker": {
          "color": "#EF553B",
          "symbol": "circle"
         },
         "mode": "markers",
         "name": "Dwight Powell",
         "orientation": "v",
         "showlegend": true,
         "type": "scatter",
         "x": [
          1.7
         ],
         "xaxis": "x",
         "y": [
          1.2
         ],
         "yaxis": "y"
        },
        {
         "hovertemplate": "Player=Dylan Windler<br>Field Goal Attempts=%{x}<br>Field Goals Made=%{y}<extra></extra>",
         "legendgroup": "Dylan Windler",
         "marker": {
          "color": "#00cc96",
          "symbol": "circle"
         },
         "mode": "markers",
         "name": "Dylan Windler",
         "orientation": "v",
         "showlegend": true,
         "type": "scatter",
         "x": [
          1.4
         ],
         "xaxis": "x",
         "y": [
          0.7
         ],
         "yaxis": "y"
        },
        {
         "hovertemplate": "Player=Dyson Daniels<br>Field Goal Attempts=%{x}<br>Field Goals Made=%{y}<extra></extra>",
         "legendgroup": "Dyson Daniels",
         "marker": {
          "color": "#ab63fa",
          "symbol": "circle"
         },
         "mode": "markers",
         "name": "Dyson Daniels",
         "orientation": "v",
         "showlegend": true,
         "type": "scatter",
         "x": [
          4.9
         ],
         "xaxis": "x",
         "y": [
          2.1
         ],
         "yaxis": "y"
        },
        {
         "hovertemplate": "Player=E.J. Liddell<br>Field Goal Attempts=%{x}<br>Field Goals Made=%{y}<extra></extra>",
         "legendgroup": "E.J. Liddell",
         "marker": {
          "color": "#FFA15A",
          "symbol": "circle"
         },
         "mode": "markers",
         "name": "E.J. Liddell",
         "orientation": "v",
         "showlegend": true,
         "type": "scatter",
         "x": [
          0.8
         ],
         "xaxis": "x",
         "y": [
          0.1
         ],
         "yaxis": "y"
        },
        {
         "hovertemplate": "Player=Emoni Bates<br>Field Goal Attempts=%{x}<br>Field Goals Made=%{y}<extra></extra>",
         "legendgroup": "Emoni Bates",
         "marker": {
          "color": "#19d3f3",
          "symbol": "circle"
         },
         "mode": "markers",
         "name": "Emoni Bates",
         "orientation": "v",
         "showlegend": true,
         "type": "scatter",
         "x": [
          2.8
         ],
         "xaxis": "x",
         "y": [
          0.9
         ],
         "yaxis": "y"
        },
        {
         "hovertemplate": "Player=Eric Gordon<br>Field Goal Attempts=%{x}<br>Field Goals Made=%{y}<extra></extra>",
         "legendgroup": "Eric Gordon",
         "marker": {
          "color": "#FF6692",
          "symbol": "circle"
         },
         "mode": "markers",
         "name": "Eric Gordon",
         "orientation": "v",
         "showlegend": true,
         "type": "scatter",
         "x": [
          9.4
         ],
         "xaxis": "x",
         "y": [
          4.3
         ],
         "yaxis": "y"
        },
        {
         "hovertemplate": "Player=Eugene Omoruyi<br>Field Goal Attempts=%{x}<br>Field Goals Made=%{y}<extra></extra>",
         "legendgroup": "Eugene Omoruyi",
         "marker": {
          "color": "#B6E880",
          "symbol": "circle"
         },
         "mode": "markers",
         "name": "Eugene Omoruyi",
         "orientation": "v",
         "showlegend": true,
         "type": "scatter",
         "x": [
          3.3
         ],
         "xaxis": "x",
         "y": [
          1.6
         ],
         "yaxis": "y"
        },
        {
         "hovertemplate": "Player=Evan Fournier<br>Field Goal Attempts=%{x}<br>Field Goals Made=%{y}<extra></extra>",
         "legendgroup": "Evan Fournier",
         "marker": {
          "color": "#FF97FF",
          "symbol": "circle"
         },
         "mode": "markers",
         "name": "Evan Fournier",
         "orientation": "v",
         "showlegend": true,
         "type": "scatter",
         "x": [
          6.7
         ],
         "xaxis": "x",
         "y": [
          2.4
         ],
         "yaxis": "y"
        },
        {
         "hovertemplate": "Player=Evan Mobley<br>Field Goal Attempts=%{x}<br>Field Goals Made=%{y}<extra></extra>",
         "legendgroup": "Evan Mobley",
         "marker": {
          "color": "#FECB52",
          "symbol": "circle"
         },
         "mode": "markers",
         "name": "Evan Mobley",
         "orientation": "v",
         "showlegend": true,
         "type": "scatter",
         "x": [
          11
         ],
         "xaxis": "x",
         "y": [
          6.5
         ],
         "yaxis": "y"
        },
        {
         "hovertemplate": "Player=Filip Petrusev<br>Field Goal Attempts=%{x}<br>Field Goals Made=%{y}<extra></extra>",
         "legendgroup": "Filip Petrusev",
         "marker": {
          "color": "#636efa",
          "symbol": "circle"
         },
         "mode": "markers",
         "name": "Filip Petrusev",
         "orientation": "v",
         "showlegend": true,
         "type": "scatter",
         "x": [
          0.7
         ],
         "xaxis": "x",
         "y": [
          0.3
         ],
         "yaxis": "y"
        },
        {
         "hovertemplate": "Player=Frank Ntilikina<br>Field Goal Attempts=%{x}<br>Field Goals Made=%{y}<extra></extra>",
         "legendgroup": "Frank Ntilikina",
         "marker": {
          "color": "#EF553B",
          "symbol": "circle"
         },
         "mode": "markers",
         "name": "Frank Ntilikina",
         "orientation": "v",
         "showlegend": true,
         "type": "scatter",
         "x": [
          1.8
         ],
         "xaxis": "x",
         "y": [
          0.2
         ],
         "yaxis": "y"
        },
        {
         "hovertemplate": "Player=Franz Wagner<br>Field Goal Attempts=%{x}<br>Field Goals Made=%{y}<extra></extra>",
         "legendgroup": "Franz Wagner",
         "marker": {
          "color": "#00cc96",
          "symbol": "circle"
         },
         "mode": "markers",
         "name": "Franz Wagner",
         "orientation": "v",
         "showlegend": true,
         "type": "scatter",
         "x": [
          15.3
         ],
         "xaxis": "x",
         "y": [
          7.3
         ],
         "yaxis": "y"
        },
        {
         "hovertemplate": "Player=Fred VanVleet<br>Field Goal Attempts=%{x}<br>Field Goals Made=%{y}<extra></extra>",
         "legendgroup": "Fred VanVleet",
         "marker": {
          "color": "#ab63fa",
          "symbol": "circle"
         },
         "mode": "markers",
         "name": "Fred VanVleet",
         "orientation": "v",
         "showlegend": true,
         "type": "scatter",
         "x": [
          13.5
         ],
         "xaxis": "x",
         "y": [
          5.6
         ],
         "yaxis": "y"
        },
        {
         "hovertemplate": "Player=Furkan Korkmaz<br>Field Goal Attempts=%{x}<br>Field Goals Made=%{y}<extra></extra>",
         "legendgroup": "Furkan Korkmaz",
         "marker": {
          "color": "#FFA15A",
          "symbol": "circle"
         },
         "mode": "markers",
         "name": "Furkan Korkmaz",
         "orientation": "v",
         "showlegend": true,
         "type": "scatter",
         "x": [
          2.2
         ],
         "xaxis": "x",
         "y": [
          0.9
         ],
         "yaxis": "y"
        },
        {
         "hovertemplate": "Player=GG Jackson<br>Field Goal Attempts=%{x}<br>Field Goals Made=%{y}<extra></extra>",
         "legendgroup": "GG Jackson",
         "marker": {
          "color": "#19d3f3",
          "symbol": "circle"
         },
         "mode": "markers",
         "name": "GG Jackson",
         "orientation": "v",
         "showlegend": true,
         "type": "scatter",
         "x": [
          10.4
         ],
         "xaxis": "x",
         "y": [
          4.5
         ],
         "yaxis": "y"
        },
        {
         "hovertemplate": "Player=Gabe Vincent<br>Field Goal Attempts=%{x}<br>Field Goals Made=%{y}<extra></extra>",
         "legendgroup": "Gabe Vincent",
         "marker": {
          "color": "#FF6692",
          "symbol": "circle"
         },
         "mode": "markers",
         "name": "Gabe Vincent",
         "orientation": "v",
         "showlegend": true,
         "type": "scatter",
         "x": [
          6
         ],
         "xaxis": "x",
         "y": [
          2.2
         ],
         "yaxis": "y"
        },
        {
         "hovertemplate": "Player=Garrett Temple<br>Field Goal Attempts=%{x}<br>Field Goals Made=%{y}<extra></extra>",
         "legendgroup": "Garrett Temple",
         "marker": {
          "color": "#B6E880",
          "symbol": "circle"
         },
         "mode": "markers",
         "name": "Garrett Temple",
         "orientation": "v",
         "showlegend": true,
         "type": "scatter",
         "x": [
          1.9
         ],
         "xaxis": "x",
         "y": [
          0.9
         ],
         "yaxis": "y"
        },
        {
         "hovertemplate": "Player=Garrison Mathews<br>Field Goal Attempts=%{x}<br>Field Goals Made=%{y}<extra></extra>",
         "legendgroup": "Garrison Mathews",
         "marker": {
          "color": "#FF97FF",
          "symbol": "circle"
         },
         "mode": "markers",
         "name": "Garrison Mathews",
         "orientation": "v",
         "showlegend": true,
         "type": "scatter",
         "x": [
          3
         ],
         "xaxis": "x",
         "y": [
          1.4
         ],
         "yaxis": "y"
        },
        {
         "hovertemplate": "Player=Gary Harris<br>Field Goal Attempts=%{x}<br>Field Goals Made=%{y}<extra></extra>",
         "legendgroup": "Gary Harris",
         "marker": {
          "color": "#FECB52",
          "symbol": "circle"
         },
         "mode": "markers",
         "name": "Gary Harris",
         "orientation": "v",
         "showlegend": true,
         "type": "scatter",
         "x": [
          5.5
         ],
         "xaxis": "x",
         "y": [
          2.5
         ],
         "yaxis": "y"
        },
        {
         "hovertemplate": "Player=Gary Payton II<br>Field Goal Attempts=%{x}<br>Field Goals Made=%{y}<extra></extra>",
         "legendgroup": "Gary Payton II",
         "marker": {
          "color": "#636efa",
          "symbol": "circle"
         },
         "mode": "markers",
         "name": "Gary Payton II",
         "orientation": "v",
         "showlegend": true,
         "type": "scatter",
         "x": [
          4
         ],
         "xaxis": "x",
         "y": [
          2.2
         ],
         "yaxis": "y"
        },
        {
         "hovertemplate": "Player=Gary Trent Jr.<br>Field Goal Attempts=%{x}<br>Field Goals Made=%{y}<extra></extra>",
         "legendgroup": "Gary Trent Jr.",
         "marker": {
          "color": "#EF553B",
          "symbol": "circle"
         },
         "mode": "markers",
         "name": "Gary Trent Jr.",
         "orientation": "v",
         "showlegend": true,
         "type": "scatter",
         "x": [
          11.6
         ],
         "xaxis": "x",
         "y": [
          4.9
         ],
         "yaxis": "y"
        },
        {
         "hovertemplate": "Player=Georges Niang<br>Field Goal Attempts=%{x}<br>Field Goals Made=%{y}<extra></extra>",
         "legendgroup": "Georges Niang",
         "marker": {
          "color": "#00cc96",
          "symbol": "circle"
         },
         "mode": "markers",
         "name": "Georges Niang",
         "orientation": "v",
         "showlegend": true,
         "type": "scatter",
         "x": [
          7.8
         ],
         "xaxis": "x",
         "y": [
          3.5
         ],
         "yaxis": "y"
        },
        {
         "hovertemplate": "Player=Giannis Antetokounmpo<br>Field Goal Attempts=%{x}<br>Field Goals Made=%{y}<extra></extra>",
         "legendgroup": "Giannis Antetokounmpo",
         "marker": {
          "color": "#ab63fa",
          "symbol": "circle"
         },
         "mode": "markers",
         "name": "Giannis Antetokounmpo",
         "orientation": "v",
         "showlegend": true,
         "type": "scatter",
         "x": [
          18.8
         ],
         "xaxis": "x",
         "y": [
          11.5
         ],
         "yaxis": "y"
        },
        {
         "hovertemplate": "Player=Goga Bitadze<br>Field Goal Attempts=%{x}<br>Field Goals Made=%{y}<extra></extra>",
         "legendgroup": "Goga Bitadze",
         "marker": {
          "color": "#FFA15A",
          "symbol": "circle"
         },
         "mode": "markers",
         "name": "Goga Bitadze",
         "orientation": "v",
         "showlegend": true,
         "type": "scatter",
         "x": [
          3.6
         ],
         "xaxis": "x",
         "y": [
          2.2
         ],
         "yaxis": "y"
        },
        {
         "hovertemplate": "Player=Gordon Hayward<br>Field Goal Attempts=%{x}<br>Field Goals Made=%{y}<extra></extra>",
         "legendgroup": "Gordon Hayward",
         "marker": {
          "color": "#19d3f3",
          "symbol": "circle"
         },
         "mode": "markers",
         "name": "Gordon Hayward",
         "orientation": "v",
         "showlegend": true,
         "type": "scatter",
         "x": [
          8.3
         ],
         "xaxis": "x",
         "y": [
          3.8
         ],
         "yaxis": "y"
        },
        {
         "hovertemplate": "Player=Gradey Dick<br>Field Goal Attempts=%{x}<br>Field Goals Made=%{y}<extra></extra>",
         "legendgroup": "Gradey Dick",
         "marker": {
          "color": "#FF6692",
          "symbol": "circle"
         },
         "mode": "markers",
         "name": "Gradey Dick",
         "orientation": "v",
         "showlegend": true,
         "type": "scatter",
         "x": [
          6.8
         ],
         "xaxis": "x",
         "y": [
          2.8
         ],
         "yaxis": "y"
        },
        {
         "hovertemplate": "Player=Grant Williams<br>Field Goal Attempts=%{x}<br>Field Goals Made=%{y}<extra></extra>",
         "legendgroup": "Grant Williams",
         "marker": {
          "color": "#B6E880",
          "symbol": "circle"
         },
         "mode": "markers",
         "name": "Grant Williams",
         "orientation": "v",
         "showlegend": true,
         "type": "scatter",
         "x": [
          7.7
         ],
         "xaxis": "x",
         "y": [
          3.4
         ],
         "yaxis": "y"
        },
        {
         "hovertemplate": "Player=Grayson Allen<br>Field Goal Attempts=%{x}<br>Field Goals Made=%{y}<extra></extra>",
         "legendgroup": "Grayson Allen",
         "marker": {
          "color": "#FF97FF",
          "symbol": "circle"
         },
         "mode": "markers",
         "name": "Grayson Allen",
         "orientation": "v",
         "showlegend": true,
         "type": "scatter",
         "x": [
          8.9
         ],
         "xaxis": "x",
         "y": [
          4.5
         ],
         "yaxis": "y"
        },
        {
         "hovertemplate": "Player=Greg Brown III<br>Field Goal Attempts=%{x}<br>Field Goals Made=%{y}<extra></extra>",
         "legendgroup": "Greg Brown III",
         "marker": {
          "color": "#FECB52",
          "symbol": "circle"
         },
         "mode": "markers",
         "name": "Greg Brown III",
         "orientation": "v",
         "showlegend": true,
         "type": "scatter",
         "x": [
          1.8
         ],
         "xaxis": "x",
         "y": [
          0.8
         ],
         "yaxis": "y"
        },
        {
         "hovertemplate": "Player=Gui Santos<br>Field Goal Attempts=%{x}<br>Field Goals Made=%{y}<extra></extra>",
         "legendgroup": "Gui Santos",
         "marker": {
          "color": "#636efa",
          "symbol": "circle"
         },
         "mode": "markers",
         "name": "Gui Santos",
         "orientation": "v",
         "showlegend": true,
         "type": "scatter",
         "x": [
          2.2
         ],
         "xaxis": "x",
         "y": [
          1.1
         ],
         "yaxis": "y"
        },
        {
         "hovertemplate": "Player=Hamidou Diallo<br>Field Goal Attempts=%{x}<br>Field Goals Made=%{y}<extra></extra>",
         "legendgroup": "Hamidou Diallo",
         "marker": {
          "color": "#EF553B",
          "symbol": "circle"
         },
         "mode": "markers",
         "name": "Hamidou Diallo",
         "orientation": "v",
         "showlegend": true,
         "type": "scatter",
         "x": [
          1
         ],
         "xaxis": "x",
         "y": [
          0.5
         ],
         "yaxis": "y"
        },
        {
         "hovertemplate": "Player=Harrison Barnes<br>Field Goal Attempts=%{x}<br>Field Goals Made=%{y}<extra></extra>",
         "legendgroup": "Harrison Barnes",
         "marker": {
          "color": "#00cc96",
          "symbol": "circle"
         },
         "mode": "markers",
         "name": "Harrison Barnes",
         "orientation": "v",
         "showlegend": true,
         "type": "scatter",
         "x": [
          9
         ],
         "xaxis": "x",
         "y": [
          4.4
         ],
         "yaxis": "y"
        },
        {
         "hovertemplate": "Player=Harry Giles III<br>Field Goal Attempts=%{x}<br>Field Goals Made=%{y}<extra></extra>",
         "legendgroup": "Harry Giles III",
         "marker": {
          "color": "#ab63fa",
          "symbol": "circle"
         },
         "mode": "markers",
         "name": "Harry Giles III",
         "orientation": "v",
         "showlegend": true,
         "type": "scatter",
         "x": [
          2.3
         ],
         "xaxis": "x",
         "y": [
          1
         ],
         "yaxis": "y"
        },
        {
         "hovertemplate": "Player=Haywood Highsmith<br>Field Goal Attempts=%{x}<br>Field Goals Made=%{y}<extra></extra>",
         "legendgroup": "Haywood Highsmith",
         "marker": {
          "color": "#FFA15A",
          "symbol": "circle"
         },
         "mode": "markers",
         "name": "Haywood Highsmith",
         "orientation": "v",
         "showlegend": true,
         "type": "scatter",
         "x": [
          4.9
         ],
         "xaxis": "x",
         "y": [
          2.2
         ],
         "yaxis": "y"
        },
        {
         "hovertemplate": "Player=Henri Drell<br>Field Goal Attempts=%{x}<br>Field Goals Made=%{y}<extra></extra>",
         "legendgroup": "Henri Drell",
         "marker": {
          "color": "#19d3f3",
          "symbol": "circle"
         },
         "mode": "markers",
         "name": "Henri Drell",
         "orientation": "v",
         "showlegend": true,
         "type": "scatter",
         "x": [
          2
         ],
         "xaxis": "x",
         "y": [
          1
         ],
         "yaxis": "y"
        },
        {
         "hovertemplate": "Player=Herbert Jones<br>Field Goal Attempts=%{x}<br>Field Goals Made=%{y}<extra></extra>",
         "legendgroup": "Herbert Jones",
         "marker": {
          "color": "#FF6692",
          "symbol": "circle"
         },
         "mode": "markers",
         "name": "Herbert Jones",
         "orientation": "v",
         "showlegend": true,
         "type": "scatter",
         "x": [
          7.8
         ],
         "xaxis": "x",
         "y": [
          3.9
         ],
         "yaxis": "y"
        },
        {
         "hovertemplate": "Player=Hunter Tyson<br>Field Goal Attempts=%{x}<br>Field Goals Made=%{y}<extra></extra>",
         "legendgroup": "Hunter Tyson",
         "marker": {
          "color": "#B6E880",
          "symbol": "circle"
         },
         "mode": "markers",
         "name": "Hunter Tyson",
         "orientation": "v",
         "showlegend": true,
         "type": "scatter",
         "x": [
          1.2
         ],
         "xaxis": "x",
         "y": [
          0.5
         ],
         "yaxis": "y"
        },
        {
         "hovertemplate": "Player=Ibou Badji<br>Field Goal Attempts=%{x}<br>Field Goals Made=%{y}<extra></extra>",
         "legendgroup": "Ibou Badji",
         "marker": {
          "color": "#FF97FF",
          "symbol": "circle"
         },
         "mode": "markers",
         "name": "Ibou Badji",
         "orientation": "v",
         "showlegend": true,
         "type": "scatter",
         "x": [
          1
         ],
         "xaxis": "x",
         "y": [
          0.6
         ],
         "yaxis": "y"
        },
        {
         "hovertemplate": "Player=Immanuel Quickley<br>Field Goal Attempts=%{x}<br>Field Goals Made=%{y}<extra></extra>",
         "legendgroup": "Immanuel Quickley",
         "marker": {
          "color": "#FECB52",
          "symbol": "circle"
         },
         "mode": "markers",
         "name": "Immanuel Quickley",
         "orientation": "v",
         "showlegend": true,
         "type": "scatter",
         "x": [
          13
         ],
         "xaxis": "x",
         "y": [
          5.6
         ],
         "yaxis": "y"
        },
        {
         "hovertemplate": "Player=Isaac Okoro<br>Field Goal Attempts=%{x}<br>Field Goals Made=%{y}<extra></extra>",
         "legendgroup": "Isaac Okoro",
         "marker": {
          "color": "#636efa",
          "symbol": "circle"
         },
         "mode": "markers",
         "name": "Isaac Okoro",
         "orientation": "v",
         "showlegend": true,
         "type": "scatter",
         "x": [
          7.1
         ],
         "xaxis": "x",
         "y": [
          3.4
         ],
         "yaxis": "y"
        },
        {
         "hovertemplate": "Player=Isaiah Hartenstein<br>Field Goal Attempts=%{x}<br>Field Goals Made=%{y}<extra></extra>",
         "legendgroup": "Isaiah Hartenstein",
         "marker": {
          "color": "#EF553B",
          "symbol": "circle"
         },
         "mode": "markers",
         "name": "Isaiah Hartenstein",
         "orientation": "v",
         "showlegend": true,
         "type": "scatter",
         "x": [
          4.8
         ],
         "xaxis": "x",
         "y": [
          3
         ],
         "yaxis": "y"
        },
        {
         "hovertemplate": "Player=Isaiah Jackson<br>Field Goal Attempts=%{x}<br>Field Goals Made=%{y}<extra></extra>",
         "legendgroup": "Isaiah Jackson",
         "marker": {
          "color": "#00cc96",
          "symbol": "circle"
         },
         "mode": "markers",
         "name": "Isaiah Jackson",
         "orientation": "v",
         "showlegend": true,
         "type": "scatter",
         "x": [
          4
         ],
         "xaxis": "x",
         "y": [
          2.7
         ],
         "yaxis": "y"
        },
        {
         "hovertemplate": "Player=Isaiah Joe<br>Field Goal Attempts=%{x}<br>Field Goals Made=%{y}<extra></extra>",
         "legendgroup": "Isaiah Joe",
         "marker": {
          "color": "#ab63fa",
          "symbol": "circle"
         },
         "mode": "markers",
         "name": "Isaiah Joe",
         "orientation": "v",
         "showlegend": true,
         "type": "scatter",
         "x": [
          6.2
         ],
         "xaxis": "x",
         "y": [
          2.8
         ],
         "yaxis": "y"
        },
        {
         "hovertemplate": "Player=Isaiah Livers<br>Field Goal Attempts=%{x}<br>Field Goals Made=%{y}<extra></extra>",
         "legendgroup": "Isaiah Livers",
         "marker": {
          "color": "#FFA15A",
          "symbol": "circle"
         },
         "mode": "markers",
         "name": "Isaiah Livers",
         "orientation": "v",
         "showlegend": true,
         "type": "scatter",
         "x": [
          5
         ],
         "xaxis": "x",
         "y": [
          1.7
         ],
         "yaxis": "y"
        },
        {
         "hovertemplate": "Player=Isaiah Mobley<br>Field Goal Attempts=%{x}<br>Field Goals Made=%{y}<extra></extra>",
         "legendgroup": "Isaiah Mobley",
         "marker": {
          "color": "#19d3f3",
          "symbol": "circle"
         },
         "mode": "markers",
         "name": "Isaiah Mobley",
         "orientation": "v",
         "showlegend": true,
         "type": "scatter",
         "x": [
          2.2
         ],
         "xaxis": "x",
         "y": [
          0.8
         ],
         "yaxis": "y"
        },
        {
         "hovertemplate": "Player=Isaiah Stewart<br>Field Goal Attempts=%{x}<br>Field Goals Made=%{y}<extra></extra>",
         "legendgroup": "Isaiah Stewart",
         "marker": {
          "color": "#FF6692",
          "symbol": "circle"
         },
         "mode": "markers",
         "name": "Isaiah Stewart",
         "orientation": "v",
         "showlegend": true,
         "type": "scatter",
         "x": [
          8.3
         ],
         "xaxis": "x",
         "y": [
          4
         ],
         "yaxis": "y"
        },
        {
         "hovertemplate": "Player=Isaiah Thomas<br>Field Goal Attempts=%{x}<br>Field Goals Made=%{y}<extra></extra>",
         "legendgroup": "Isaiah Thomas",
         "marker": {
          "color": "#B6E880",
          "symbol": "circle"
         },
         "mode": "markers",
         "name": "Isaiah Thomas",
         "orientation": "v",
         "showlegend": true,
         "type": "scatter",
         "x": [
          2.5
         ],
         "xaxis": "x",
         "y": [
          1
         ],
         "yaxis": "y"
        },
        {
         "hovertemplate": "Player=Ish Smith<br>Field Goal Attempts=%{x}<br>Field Goals Made=%{y}<extra></extra>",
         "legendgroup": "Ish Smith",
         "marker": {
          "color": "#FF97FF",
          "symbol": "circle"
         },
         "mode": "markers",
         "name": "Ish Smith",
         "orientation": "v",
         "showlegend": true,
         "type": "scatter",
         "x": [
          3.7
         ],
         "xaxis": "x",
         "y": [
          1.5
         ],
         "yaxis": "y"
        },
        {
         "hovertemplate": "Player=Ish Wainright<br>Field Goal Attempts=%{x}<br>Field Goals Made=%{y}<extra></extra>",
         "legendgroup": "Ish Wainright",
         "marker": {
          "color": "#FECB52",
          "symbol": "circle"
         },
         "mode": "markers",
         "name": "Ish Wainright",
         "orientation": "v",
         "showlegend": true,
         "type": "scatter",
         "x": [
          2.4
         ],
         "xaxis": "x",
         "y": [
          0.7
         ],
         "yaxis": "y"
        },
        {
         "hovertemplate": "Player=Ivica Zubac<br>Field Goal Attempts=%{x}<br>Field Goals Made=%{y}<extra></extra>",
         "legendgroup": "Ivica Zubac",
         "marker": {
          "color": "#636efa",
          "symbol": "circle"
         },
         "mode": "markers",
         "name": "Ivica Zubac",
         "orientation": "v",
         "showlegend": true,
         "type": "scatter",
         "x": [
          7.4
         ],
         "xaxis": "x",
         "y": [
          4.9
         ],
         "yaxis": "y"
        },
        {
         "hovertemplate": "Player=Izaiah Brockington<br>Field Goal Attempts=%{x}<br>Field Goals Made=%{y}<extra></extra>",
         "legendgroup": "Izaiah Brockington",
         "marker": {
          "color": "#EF553B",
          "symbol": "circle"
         },
         "mode": "markers",
         "name": "Izaiah Brockington",
         "orientation": "v",
         "showlegend": true,
         "type": "scatter",
         "x": [
          5
         ],
         "xaxis": "x",
         "y": [
          2
         ],
         "yaxis": "y"
        },
        {
         "hovertemplate": "Player=JD Davison<br>Field Goal Attempts=%{x}<br>Field Goals Made=%{y}<extra></extra>",
         "legendgroup": "JD Davison",
         "marker": {
          "color": "#00cc96",
          "symbol": "circle"
         },
         "mode": "markers",
         "name": "JD Davison",
         "orientation": "v",
         "showlegend": true,
         "type": "scatter",
         "x": [
          0.5
         ],
         "xaxis": "x",
         "y": [
          0.3
         ],
         "yaxis": "y"
        },
        {
         "hovertemplate": "Player=JT Thor<br>Field Goal Attempts=%{x}<br>Field Goals Made=%{y}<extra></extra>",
         "legendgroup": "JT Thor",
         "marker": {
          "color": "#ab63fa",
          "symbol": "circle"
         },
         "mode": "markers",
         "name": "JT Thor",
         "orientation": "v",
         "showlegend": true,
         "type": "scatter",
         "x": [
          2.8
         ],
         "xaxis": "x",
         "y": [
          1.1
         ],
         "yaxis": "y"
        },
        {
         "hovertemplate": "Player=Ja Morant<br>Field Goal Attempts=%{x}<br>Field Goals Made=%{y}<extra></extra>",
         "legendgroup": "Ja Morant",
         "marker": {
          "color": "#FFA15A",
          "symbol": "circle"
         },
         "mode": "markers",
         "name": "Ja Morant",
         "orientation": "v",
         "showlegend": true,
         "type": "scatter",
         "x": [
          18.9
         ],
         "xaxis": "x",
         "y": [
          8.9
         ],
         "yaxis": "y"
        },
        {
         "hovertemplate": "Player=JaVale McGee<br>Field Goal Attempts=%{x}<br>Field Goals Made=%{y}<extra></extra>",
         "legendgroup": "JaVale McGee",
         "marker": {
          "color": "#19d3f3",
          "symbol": "circle"
         },
         "mode": "markers",
         "name": "JaVale McGee",
         "orientation": "v",
         "showlegend": true,
         "type": "scatter",
         "x": [
          2.9
         ],
         "xaxis": "x",
         "y": [
          1.7
         ],
         "yaxis": "y"
        },
        {
         "hovertemplate": "Player=Jabari Smith Jr.<br>Field Goal Attempts=%{x}<br>Field Goals Made=%{y}<extra></extra>",
         "legendgroup": "Jabari Smith Jr.",
         "marker": {
          "color": "#FF6692",
          "symbol": "circle"
         },
         "mode": "markers",
         "name": "Jabari Smith Jr.",
         "orientation": "v",
         "showlegend": true,
         "type": "scatter",
         "x": [
          10.8
         ],
         "xaxis": "x",
         "y": [
          4.9
         ],
         "yaxis": "y"
        },
        {
         "hovertemplate": "Player=Jabari Walker<br>Field Goal Attempts=%{x}<br>Field Goals Made=%{y}<extra></extra>",
         "legendgroup": "Jabari Walker",
         "marker": {
          "color": "#B6E880",
          "symbol": "circle"
         },
         "mode": "markers",
         "name": "Jabari Walker",
         "orientation": "v",
         "showlegend": true,
         "type": "scatter",
         "x": [
          6.6
         ],
         "xaxis": "x",
         "y": [
          3.2
         ],
         "yaxis": "y"
        },
        {
         "hovertemplate": "Player=Jacob Gilyard<br>Field Goal Attempts=%{x}<br>Field Goals Made=%{y}<extra></extra>",
         "legendgroup": "Jacob Gilyard",
         "marker": {
          "color": "#FF97FF",
          "symbol": "circle"
         },
         "mode": "markers",
         "name": "Jacob Gilyard",
         "orientation": "v",
         "showlegend": true,
         "type": "scatter",
         "x": [
          3.7
         ],
         "xaxis": "x",
         "y": [
          1.5
         ],
         "yaxis": "y"
        },
        {
         "hovertemplate": "Player=Jacob Toppin<br>Field Goal Attempts=%{x}<br>Field Goals Made=%{y}<extra></extra>",
         "legendgroup": "Jacob Toppin",
         "marker": {
          "color": "#FECB52",
          "symbol": "circle"
         },
         "mode": "markers",
         "name": "Jacob Toppin",
         "orientation": "v",
         "showlegend": true,
         "type": "scatter",
         "x": [
          1
         ],
         "xaxis": "x",
         "y": [
          0.6
         ],
         "yaxis": "y"
        },
        {
         "hovertemplate": "Player=Jaden Hardy<br>Field Goal Attempts=%{x}<br>Field Goals Made=%{y}<extra></extra>",
         "legendgroup": "Jaden Hardy",
         "marker": {
          "color": "#636efa",
          "symbol": "circle"
         },
         "mode": "markers",
         "name": "Jaden Hardy",
         "orientation": "v",
         "showlegend": true,
         "type": "scatter",
         "x": [
          6.6
         ],
         "xaxis": "x",
         "y": [
          2.7
         ],
         "yaxis": "y"
        },
        {
         "hovertemplate": "Player=Jaden Ivey<br>Field Goal Attempts=%{x}<br>Field Goals Made=%{y}<extra></extra>",
         "legendgroup": "Jaden Ivey",
         "marker": {
          "color": "#EF553B",
          "symbol": "circle"
         },
         "mode": "markers",
         "name": "Jaden Ivey",
         "orientation": "v",
         "showlegend": true,
         "type": "scatter",
         "x": [
          12.4
         ],
         "xaxis": "x",
         "y": [
          5.3
         ],
         "yaxis": "y"
        },
        {
         "hovertemplate": "Player=Jaden McDaniels<br>Field Goal Attempts=%{x}<br>Field Goals Made=%{y}<extra></extra>",
         "legendgroup": "Jaden McDaniels",
         "marker": {
          "color": "#00cc96",
          "symbol": "circle"
         },
         "mode": "markers",
         "name": "Jaden McDaniels",
         "orientation": "v",
         "showlegend": true,
         "type": "scatter",
         "x": [
          8.9
         ],
         "xaxis": "x",
         "y": [
          4.4
         ],
         "yaxis": "y"
        },
        {
         "hovertemplate": "Player=Jaden Springer<br>Field Goal Attempts=%{x}<br>Field Goals Made=%{y}<extra></extra>",
         "legendgroup": "Jaden Springer",
         "marker": {
          "color": "#ab63fa",
          "symbol": "circle"
         },
         "mode": "markers",
         "name": "Jaden Springer",
         "orientation": "v",
         "showlegend": true,
         "type": "scatter",
         "x": [
          3
         ],
         "xaxis": "x",
         "y": [
          1.2
         ],
         "yaxis": "y"
        },
        {
         "hovertemplate": "Player=Jae Crowder<br>Field Goal Attempts=%{x}<br>Field Goals Made=%{y}<extra></extra>",
         "legendgroup": "Jae Crowder",
         "marker": {
          "color": "#FFA15A",
          "symbol": "circle"
         },
         "mode": "markers",
         "name": "Jae Crowder",
         "orientation": "v",
         "showlegend": true,
         "type": "scatter",
         "x": [
          5.3
         ],
         "xaxis": "x",
         "y": [
          2.3
         ],
         "yaxis": "y"
        },
        {
         "hovertemplate": "Player=Jae'Sean Tate<br>Field Goal Attempts=%{x}<br>Field Goals Made=%{y}<extra></extra>",
         "legendgroup": "Jae'Sean Tate",
         "marker": {
          "color": "#19d3f3",
          "symbol": "circle"
         },
         "mode": "markers",
         "name": "Jae'Sean Tate",
         "orientation": "v",
         "showlegend": true,
         "type": "scatter",
         "x": [
          3.6
         ],
         "xaxis": "x",
         "y": [
          1.7
         ],
         "yaxis": "y"
        },
        {
         "hovertemplate": "Player=Jahmi'us Ramsey<br>Field Goal Attempts=%{x}<br>Field Goals Made=%{y}<extra></extra>",
         "legendgroup": "Jahmi'us Ramsey",
         "marker": {
          "color": "#FF6692",
          "symbol": "circle"
         },
         "mode": "markers",
         "name": "Jahmi'us Ramsey",
         "orientation": "v",
         "showlegend": true,
         "type": "scatter",
         "x": [
          5.9
         ],
         "xaxis": "x",
         "y": [
          2.6
         ],
         "yaxis": "y"
        },
        {
         "hovertemplate": "Player=Jaime Jaquez Jr.<br>Field Goal Attempts=%{x}<br>Field Goals Made=%{y}<extra></extra>",
         "legendgroup": "Jaime Jaquez Jr.",
         "marker": {
          "color": "#B6E880",
          "symbol": "circle"
         },
         "mode": "markers",
         "name": "Jaime Jaquez Jr.",
         "orientation": "v",
         "showlegend": true,
         "type": "scatter",
         "x": [
          9.7
         ],
         "xaxis": "x",
         "y": [
          4.7
         ],
         "yaxis": "y"
        },
        {
         "hovertemplate": "Player=Jake LaRavia<br>Field Goal Attempts=%{x}<br>Field Goals Made=%{y}<extra></extra>",
         "legendgroup": "Jake LaRavia",
         "marker": {
          "color": "#FF97FF",
          "symbol": "circle"
         },
         "mode": "markers",
         "name": "Jake LaRavia",
         "orientation": "v",
         "showlegend": true,
         "type": "scatter",
         "x": [
          7.6
         ],
         "xaxis": "x",
         "y": [
          2.8
         ],
         "yaxis": "y"
        },
        {
         "hovertemplate": "Player=Jakob Poeltl<br>Field Goal Attempts=%{x}<br>Field Goals Made=%{y}<extra></extra>",
         "legendgroup": "Jakob Poeltl",
         "marker": {
          "color": "#FECB52",
          "symbol": "circle"
         },
         "mode": "markers",
         "name": "Jakob Poeltl",
         "orientation": "v",
         "showlegend": true,
         "type": "scatter",
         "x": [
          7.6
         ],
         "xaxis": "x",
         "y": [
          5
         ],
         "yaxis": "y"
        },
        {
         "hovertemplate": "Player=Jalen Brunson<br>Field Goal Attempts=%{x}<br>Field Goals Made=%{y}<extra></extra>",
         "legendgroup": "Jalen Brunson",
         "marker": {
          "color": "#636efa",
          "symbol": "circle"
         },
         "mode": "markers",
         "name": "Jalen Brunson",
         "orientation": "v",
         "showlegend": true,
         "type": "scatter",
         "x": [
          21
         ],
         "xaxis": "x",
         "y": [
          10
         ],
         "yaxis": "y"
        },
        {
         "hovertemplate": "Player=Jalen Crutcher<br>Field Goal Attempts=%{x}<br>Field Goals Made=%{y}<extra></extra>",
         "legendgroup": "Jalen Crutcher",
         "marker": {
          "color": "#EF553B",
          "symbol": "circle"
         },
         "mode": "markers",
         "name": "Jalen Crutcher",
         "orientation": "v",
         "showlegend": true,
         "type": "scatter",
         "x": [
          1
         ],
         "xaxis": "x",
         "y": [
          0
         ],
         "yaxis": "y"
        },
        {
         "hovertemplate": "Player=Jalen Duren<br>Field Goal Attempts=%{x}<br>Field Goals Made=%{y}<extra></extra>",
         "legendgroup": "Jalen Duren",
         "marker": {
          "color": "#00cc96",
          "symbol": "circle"
         },
         "mode": "markers",
         "name": "Jalen Duren",
         "orientation": "v",
         "showlegend": true,
         "type": "scatter",
         "x": [
          9.3
         ],
         "xaxis": "x",
         "y": [
          5.8
         ],
         "yaxis": "y"
        },
        {
         "hovertemplate": "Player=Jalen Green<br>Field Goal Attempts=%{x}<br>Field Goals Made=%{y}<extra></extra>",
         "legendgroup": "Jalen Green",
         "marker": {
          "color": "#ab63fa",
          "symbol": "circle"
         },
         "mode": "markers",
         "name": "Jalen Green",
         "orientation": "v",
         "showlegend": true,
         "type": "scatter",
         "x": [
          16.3
         ],
         "xaxis": "x",
         "y": [
          7
         ],
         "yaxis": "y"
        },
        {
         "hovertemplate": "Player=Jalen Hood-Schifino<br>Field Goal Attempts=%{x}<br>Field Goals Made=%{y}<extra></extra>",
         "legendgroup": "Jalen Hood-Schifino",
         "marker": {
          "color": "#FFA15A",
          "symbol": "circle"
         },
         "mode": "markers",
         "name": "Jalen Hood-Schifino",
         "orientation": "v",
         "showlegend": true,
         "type": "scatter",
         "x": [
          2.1
         ],
         "xaxis": "x",
         "y": [
          0.5
         ],
         "yaxis": "y"
        },
        {
         "hovertemplate": "Player=Jalen Johnson<br>Field Goal Attempts=%{x}<br>Field Goals Made=%{y}<extra></extra>",
         "legendgroup": "Jalen Johnson",
         "marker": {
          "color": "#19d3f3",
          "symbol": "circle"
         },
         "mode": "markers",
         "name": "Jalen Johnson",
         "orientation": "v",
         "showlegend": true,
         "type": "scatter",
         "x": [
          12.5
         ],
         "xaxis": "x",
         "y": [
          6.4
         ],
         "yaxis": "y"
        },
        {
         "hovertemplate": "Player=Jalen McDaniels<br>Field Goal Attempts=%{x}<br>Field Goals Made=%{y}<extra></extra>",
         "legendgroup": "Jalen McDaniels",
         "marker": {
          "color": "#FF6692",
          "symbol": "circle"
         },
         "mode": "markers",
         "name": "Jalen McDaniels",
         "orientation": "v",
         "showlegend": true,
         "type": "scatter",
         "x": [
          3.5
         ],
         "xaxis": "x",
         "y": [
          1.2
         ],
         "yaxis": "y"
        },
        {
         "hovertemplate": "Player=Jalen Pickett<br>Field Goal Attempts=%{x}<br>Field Goals Made=%{y}<extra></extra>",
         "legendgroup": "Jalen Pickett",
         "marker": {
          "color": "#B6E880",
          "symbol": "circle"
         },
         "mode": "markers",
         "name": "Jalen Pickett",
         "orientation": "v",
         "showlegend": true,
         "type": "scatter",
         "x": [
          1.4
         ],
         "xaxis": "x",
         "y": [
          0.6
         ],
         "yaxis": "y"
        },
        {
         "hovertemplate": "Player=Jalen Slawson<br>Field Goal Attempts=%{x}<br>Field Goals Made=%{y}<extra></extra>",
         "legendgroup": "Jalen Slawson",
         "marker": {
          "color": "#FF97FF",
          "symbol": "circle"
         },
         "mode": "markers",
         "name": "Jalen Slawson",
         "orientation": "v",
         "showlegend": true,
         "type": "scatter",
         "x": [
          0.6
         ],
         "xaxis": "x",
         "y": [
          0.3
         ],
         "yaxis": "y"
        },
        {
         "hovertemplate": "Player=Jalen Smith<br>Field Goal Attempts=%{x}<br>Field Goals Made=%{y}<extra></extra>",
         "legendgroup": "Jalen Smith",
         "marker": {
          "color": "#FECB52",
          "symbol": "circle"
         },
         "mode": "markers",
         "name": "Jalen Smith",
         "orientation": "v",
         "showlegend": true,
         "type": "scatter",
         "x": [
          6.4
         ],
         "xaxis": "x",
         "y": [
          3.9
         ],
         "yaxis": "y"
        },
        {
         "hovertemplate": "Player=Jalen Suggs<br>Field Goal Attempts=%{x}<br>Field Goals Made=%{y}<extra></extra>",
         "legendgroup": "Jalen Suggs",
         "marker": {
          "color": "#636efa",
          "symbol": "circle"
         },
         "mode": "markers",
         "name": "Jalen Suggs",
         "orientation": "v",
         "showlegend": true,
         "type": "scatter",
         "x": [
          9.6
         ],
         "xaxis": "x",
         "y": [
          4.4
         ],
         "yaxis": "y"
        },
        {
         "hovertemplate": "Player=Jalen Williams<br>Field Goal Attempts=%{x}<br>Field Goals Made=%{y}<extra></extra>",
         "legendgroup": "Jalen Williams",
         "marker": {
          "color": "#EF553B",
          "symbol": "circle"
         },
         "mode": "markers",
         "name": "Jalen Williams",
         "orientation": "v",
         "showlegend": true,
         "type": "scatter",
         "x": [
          14.2
         ],
         "xaxis": "x",
         "y": [
          7.7
         ],
         "yaxis": "y"
        },
        {
         "hovertemplate": "Player=Jalen Wilson<br>Field Goal Attempts=%{x}<br>Field Goals Made=%{y}<extra></extra>",
         "legendgroup": "Jalen Wilson",
         "marker": {
          "color": "#00cc96",
          "symbol": "circle"
         },
         "mode": "markers",
         "name": "Jalen Wilson",
         "orientation": "v",
         "showlegend": true,
         "type": "scatter",
         "x": [
          3.7
         ],
         "xaxis": "x",
         "y": [
          1.6
         ],
         "yaxis": "y"
        },
        {
         "hovertemplate": "Player=Jamal Cain<br>Field Goal Attempts=%{x}<br>Field Goals Made=%{y}<extra></extra>",
         "legendgroup": "Jamal Cain",
         "marker": {
          "color": "#ab63fa",
          "symbol": "circle"
         },
         "mode": "markers",
         "name": "Jamal Cain",
         "orientation": "v",
         "showlegend": true,
         "type": "scatter",
         "x": [
          3.6
         ],
         "xaxis": "x",
         "y": [
          1.5
         ],
         "yaxis": "y"
        },
        {
         "hovertemplate": "Player=Jamal Murray<br>Field Goal Attempts=%{x}<br>Field Goals Made=%{y}<extra></extra>",
         "legendgroup": "Jamal Murray",
         "marker": {
          "color": "#FFA15A",
          "symbol": "circle"
         },
         "mode": "markers",
         "name": "Jamal Murray",
         "orientation": "v",
         "showlegend": true,
         "type": "scatter",
         "x": [
          16.7
         ],
         "xaxis": "x",
         "y": [
          7.9
         ],
         "yaxis": "y"
        },
        {
         "hovertemplate": "Player=Jamaree Bouyea<br>Field Goal Attempts=%{x}<br>Field Goals Made=%{y}<extra></extra>",
         "legendgroup": "Jamaree Bouyea",
         "marker": {
          "color": "#19d3f3",
          "symbol": "circle"
         },
         "mode": "markers",
         "name": "Jamaree Bouyea",
         "orientation": "v",
         "showlegend": true,
         "type": "scatter",
         "x": [
          3.5
         ],
         "xaxis": "x",
         "y": [
          0.8
         ],
         "yaxis": "y"
        },
        {
         "hovertemplate": "Player=James Bouknight<br>Field Goal Attempts=%{x}<br>Field Goals Made=%{y}<extra></extra>",
         "legendgroup": "James Bouknight",
         "marker": {
          "color": "#FF6692",
          "symbol": "circle"
         },
         "mode": "markers",
         "name": "James Bouknight",
         "orientation": "v",
         "showlegend": true,
         "type": "scatter",
         "x": [
          2.9
         ],
         "xaxis": "x",
         "y": [
          1.3
         ],
         "yaxis": "y"
        },
        {
         "hovertemplate": "Player=James Harden<br>Field Goal Attempts=%{x}<br>Field Goals Made=%{y}<extra></extra>",
         "legendgroup": "James Harden",
         "marker": {
          "color": "#B6E880",
          "symbol": "circle"
         },
         "mode": "markers",
         "name": "James Harden",
         "orientation": "v",
         "showlegend": true,
         "type": "scatter",
         "x": [
          11.4
         ],
         "xaxis": "x",
         "y": [
          5
         ],
         "yaxis": "y"
        },
        {
         "hovertemplate": "Player=James Johnson<br>Field Goal Attempts=%{x}<br>Field Goals Made=%{y}<extra></extra>",
         "legendgroup": "James Johnson",
         "marker": {
          "color": "#FF97FF",
          "symbol": "circle"
         },
         "mode": "markers",
         "name": "James Johnson",
         "orientation": "v",
         "showlegend": true,
         "type": "scatter",
         "x": [
          1.1
         ],
         "xaxis": "x",
         "y": [
          0.4
         ],
         "yaxis": "y"
        },
        {
         "hovertemplate": "Player=James Wiseman<br>Field Goal Attempts=%{x}<br>Field Goals Made=%{y}<extra></extra>",
         "legendgroup": "James Wiseman",
         "marker": {
          "color": "#FECB52",
          "symbol": "circle"
         },
         "mode": "markers",
         "name": "James Wiseman",
         "orientation": "v",
         "showlegend": true,
         "type": "scatter",
         "x": [
          4.6
         ],
         "xaxis": "x",
         "y": [
          2.9
         ],
         "yaxis": "y"
        },
        {
         "hovertemplate": "Player=Jarace Walker<br>Field Goal Attempts=%{x}<br>Field Goals Made=%{y}<extra></extra>",
         "legendgroup": "Jarace Walker",
         "marker": {
          "color": "#636efa",
          "symbol": "circle"
         },
         "mode": "markers",
         "name": "Jarace Walker",
         "orientation": "v",
         "showlegend": true,
         "type": "scatter",
         "x": [
          3.4
         ],
         "xaxis": "x",
         "y": [
          1.3
         ],
         "yaxis": "y"
        },
        {
         "hovertemplate": "Player=Jared Butler<br>Field Goal Attempts=%{x}<br>Field Goals Made=%{y}<extra></extra>",
         "legendgroup": "Jared Butler",
         "marker": {
          "color": "#EF553B",
          "symbol": "circle"
         },
         "mode": "markers",
         "name": "Jared Butler",
         "orientation": "v",
         "showlegend": true,
         "type": "scatter",
         "x": [
          4.2
         ],
         "xaxis": "x",
         "y": [
          2
         ],
         "yaxis": "y"
        },
        {
         "hovertemplate": "Player=Jared Rhoden<br>Field Goal Attempts=%{x}<br>Field Goals Made=%{y}<extra></extra>",
         "legendgroup": "Jared Rhoden",
         "marker": {
          "color": "#00cc96",
          "symbol": "circle"
         },
         "mode": "markers",
         "name": "Jared Rhoden",
         "orientation": "v",
         "showlegend": true,
         "type": "scatter",
         "x": [
          2.5
         ],
         "xaxis": "x",
         "y": [
          1.3
         ],
         "yaxis": "y"
        },
        {
         "hovertemplate": "Player=Jaren Jackson Jr.<br>Field Goal Attempts=%{x}<br>Field Goals Made=%{y}<extra></extra>",
         "legendgroup": "Jaren Jackson Jr.",
         "marker": {
          "color": "#ab63fa",
          "symbol": "circle"
         },
         "mode": "markers",
         "name": "Jaren Jackson Jr.",
         "orientation": "v",
         "showlegend": true,
         "type": "scatter",
         "x": [
          17.4
         ],
         "xaxis": "x",
         "y": [
          7.6
         ],
         "yaxis": "y"
        },
        {
         "hovertemplate": "Player=Jarred Vanderbilt<br>Field Goal Attempts=%{x}<br>Field Goals Made=%{y}<extra></extra>",
         "legendgroup": "Jarred Vanderbilt",
         "marker": {
          "color": "#FFA15A",
          "symbol": "circle"
         },
         "mode": "markers",
         "name": "Jarred Vanderbilt",
         "orientation": "v",
         "showlegend": true,
         "type": "scatter",
         "x": [
          3.9
         ],
         "xaxis": "x",
         "y": [
          2
         ],
         "yaxis": "y"
        },
        {
         "hovertemplate": "Player=Jarrett Allen<br>Field Goal Attempts=%{x}<br>Field Goals Made=%{y}<extra></extra>",
         "legendgroup": "Jarrett Allen",
         "marker": {
          "color": "#19d3f3",
          "symbol": "circle"
         },
         "mode": "markers",
         "name": "Jarrett Allen",
         "orientation": "v",
         "showlegend": true,
         "type": "scatter",
         "x": [
          10.5
         ],
         "xaxis": "x",
         "y": [
          6.6
         ],
         "yaxis": "y"
        },
        {
         "hovertemplate": "Player=Jason Preston<br>Field Goal Attempts=%{x}<br>Field Goals Made=%{y}<extra></extra>",
         "legendgroup": "Jason Preston",
         "marker": {
          "color": "#FF6692",
          "symbol": "circle"
         },
         "mode": "markers",
         "name": "Jason Preston",
         "orientation": "v",
         "showlegend": true,
         "type": "scatter",
         "x": [
          1.5
         ],
         "xaxis": "x",
         "y": [
          0.5
         ],
         "yaxis": "y"
        },
        {
         "hovertemplate": "Player=Javon Freeman-Liberty<br>Field Goal Attempts=%{x}<br>Field Goals Made=%{y}<extra></extra>",
         "legendgroup": "Javon Freeman-Liberty",
         "marker": {
          "color": "#B6E880",
          "symbol": "circle"
         },
         "mode": "markers",
         "name": "Javon Freeman-Liberty",
         "orientation": "v",
         "showlegend": true,
         "type": "scatter",
         "x": [
          5.1
         ],
         "xaxis": "x",
         "y": [
          2.1
         ],
         "yaxis": "y"
        },
        {
         "hovertemplate": "Player=Javonte Green<br>Field Goal Attempts=%{x}<br>Field Goals Made=%{y}<extra></extra>",
         "legendgroup": "Javonte Green",
         "marker": {
          "color": "#FF97FF",
          "symbol": "circle"
         },
         "mode": "markers",
         "name": "Javonte Green",
         "orientation": "v",
         "showlegend": true,
         "type": "scatter",
         "x": [
          3.7
         ],
         "xaxis": "x",
         "y": [
          2
         ],
         "yaxis": "y"
        },
        {
         "hovertemplate": "Player=Javonte Smart<br>Field Goal Attempts=%{x}<br>Field Goals Made=%{y}<extra></extra>",
         "legendgroup": "Javonte Smart",
         "marker": {
          "color": "#FECB52",
          "symbol": "circle"
         },
         "mode": "markers",
         "name": "Javonte Smart",
         "orientation": "v",
         "showlegend": true,
         "type": "scatter",
         "x": [
          0
         ],
         "xaxis": "x",
         "y": [
          0
         ],
         "yaxis": "y"
        },
        {
         "hovertemplate": "Player=Jaxson Hayes<br>Field Goal Attempts=%{x}<br>Field Goals Made=%{y}<extra></extra>",
         "legendgroup": "Jaxson Hayes",
         "marker": {
          "color": "#636efa",
          "symbol": "circle"
         },
         "mode": "markers",
         "name": "Jaxson Hayes",
         "orientation": "v",
         "showlegend": true,
         "type": "scatter",
         "x": [
          2.4
         ],
         "xaxis": "x",
         "y": [
          1.7
         ],
         "yaxis": "y"
        },
        {
         "hovertemplate": "Player=Jay Huff<br>Field Goal Attempts=%{x}<br>Field Goals Made=%{y}<extra></extra>",
         "legendgroup": "Jay Huff",
         "marker": {
          "color": "#EF553B",
          "symbol": "circle"
         },
         "mode": "markers",
         "name": "Jay Huff",
         "orientation": "v",
         "showlegend": true,
         "type": "scatter",
         "x": [
          0.8
         ],
         "xaxis": "x",
         "y": [
          0.4
         ],
         "yaxis": "y"
        },
        {
         "hovertemplate": "Player=Jaylen Brown<br>Field Goal Attempts=%{x}<br>Field Goals Made=%{y}<extra></extra>",
         "legendgroup": "Jaylen Brown",
         "marker": {
          "color": "#00cc96",
          "symbol": "circle"
         },
         "mode": "markers",
         "name": "Jaylen Brown",
         "orientation": "v",
         "showlegend": true,
         "type": "scatter",
         "x": [
          18
         ],
         "xaxis": "x",
         "y": [
          9
         ],
         "yaxis": "y"
        },
        {
         "hovertemplate": "Player=Jaylen Nowell<br>Field Goal Attempts=%{x}<br>Field Goals Made=%{y}<extra></extra>",
         "legendgroup": "Jaylen Nowell",
         "marker": {
          "color": "#ab63fa",
          "symbol": "circle"
         },
         "mode": "markers",
         "name": "Jaylen Nowell",
         "orientation": "v",
         "showlegend": true,
         "type": "scatter",
         "x": [
          6.1
         ],
         "xaxis": "x",
         "y": [
          2.4
         ],
         "yaxis": "y"
        },
        {
         "hovertemplate": "Player=Jaylin Williams<br>Field Goal Attempts=%{x}<br>Field Goals Made=%{y}<extra></extra>",
         "legendgroup": "Jaylin Williams",
         "marker": {
          "color": "#FFA15A",
          "symbol": "circle"
         },
         "mode": "markers",
         "name": "Jaylin Williams",
         "orientation": "v",
         "showlegend": true,
         "type": "scatter",
         "x": [
          3.1
         ],
         "xaxis": "x",
         "y": [
          1.3
         ],
         "yaxis": "y"
        },
        {
         "hovertemplate": "Player=Jayson Tatum<br>Field Goal Attempts=%{x}<br>Field Goals Made=%{y}<extra></extra>",
         "legendgroup": "Jayson Tatum",
         "marker": {
          "color": "#19d3f3",
          "symbol": "circle"
         },
         "mode": "markers",
         "name": "Jayson Tatum",
         "orientation": "v",
         "showlegend": true,
         "type": "scatter",
         "x": [
          19.5
         ],
         "xaxis": "x",
         "y": [
          9.2
         ],
         "yaxis": "y"
        },
        {
         "hovertemplate": "Player=Jeff Dowtin Jr.<br>Field Goal Attempts=%{x}<br>Field Goals Made=%{y}<extra></extra>",
         "legendgroup": "Jeff Dowtin Jr.",
         "marker": {
          "color": "#FF6692",
          "symbol": "circle"
         },
         "mode": "markers",
         "name": "Jeff Dowtin Jr.",
         "orientation": "v",
         "showlegend": true,
         "type": "scatter",
         "x": [
          2.9
         ],
         "xaxis": "x",
         "y": [
          1.6
         ],
         "yaxis": "y"
        },
        {
         "hovertemplate": "Player=Jeff Green<br>Field Goal Attempts=%{x}<br>Field Goals Made=%{y}<extra></extra>",
         "legendgroup": "Jeff Green",
         "marker": {
          "color": "#B6E880",
          "symbol": "circle"
         },
         "mode": "markers",
         "name": "Jeff Green",
         "orientation": "v",
         "showlegend": true,
         "type": "scatter",
         "x": [
          4.5
         ],
         "xaxis": "x",
         "y": [
          2.1
         ],
         "yaxis": "y"
        },
        {
         "hovertemplate": "Player=Jerami Grant<br>Field Goal Attempts=%{x}<br>Field Goals Made=%{y}<extra></extra>",
         "legendgroup": "Jerami Grant",
         "marker": {
          "color": "#FF97FF",
          "symbol": "circle"
         },
         "mode": "markers",
         "name": "Jerami Grant",
         "orientation": "v",
         "showlegend": true,
         "type": "scatter",
         "x": [
          15.7
         ],
         "xaxis": "x",
         "y": [
          7.1
         ],
         "yaxis": "y"
        },
        {
         "hovertemplate": "Player=Jeremiah Robinson-Earl<br>Field Goal Attempts=%{x}<br>Field Goals Made=%{y}<extra></extra>",
         "legendgroup": "Jeremiah Robinson-Earl",
         "marker": {
          "color": "#FECB52",
          "symbol": "circle"
         },
         "mode": "markers",
         "name": "Jeremiah Robinson-Earl",
         "orientation": "v",
         "showlegend": true,
         "type": "scatter",
         "x": [
          2.6
         ],
         "xaxis": "x",
         "y": [
          1.3
         ],
         "yaxis": "y"
        },
        {
         "hovertemplate": "Player=Jeremy Sochan<br>Field Goal Attempts=%{x}<br>Field Goals Made=%{y}<extra></extra>",
         "legendgroup": "Jeremy Sochan",
         "marker": {
          "color": "#636efa",
          "symbol": "circle"
         },
         "mode": "markers",
         "name": "Jeremy Sochan",
         "orientation": "v",
         "showlegend": true,
         "type": "scatter",
         "x": [
          10.5
         ],
         "xaxis": "x",
         "y": [
          4.6
         ],
         "yaxis": "y"
        },
        {
         "hovertemplate": "Player=Jericho Sims<br>Field Goal Attempts=%{x}<br>Field Goals Made=%{y}<extra></extra>",
         "legendgroup": "Jericho Sims",
         "marker": {
          "color": "#EF553B",
          "symbol": "circle"
         },
         "mode": "markers",
         "name": "Jericho Sims",
         "orientation": "v",
         "showlegend": true,
         "type": "scatter",
         "x": [
          1.3
         ],
         "xaxis": "x",
         "y": [
          0.9
         ],
         "yaxis": "y"
        },
        {
         "hovertemplate": "Player=Jermaine Samuels Jr.<br>Field Goal Attempts=%{x}<br>Field Goals Made=%{y}<extra></extra>",
         "legendgroup": "Jermaine Samuels Jr.",
         "marker": {
          "color": "#00cc96",
          "symbol": "circle"
         },
         "mode": "markers",
         "name": "Jermaine Samuels Jr.",
         "orientation": "v",
         "showlegend": true,
         "type": "scatter",
         "x": [
          1
         ],
         "xaxis": "x",
         "y": [
          0.7
         ],
         "yaxis": "y"
        },
        {
         "hovertemplate": "Player=Jerome Robinson<br>Field Goal Attempts=%{x}<br>Field Goals Made=%{y}<extra></extra>",
         "legendgroup": "Jerome Robinson",
         "marker": {
          "color": "#ab63fa",
          "symbol": "circle"
         },
         "mode": "markers",
         "name": "Jerome Robinson",
         "orientation": "v",
         "showlegend": true,
         "type": "scatter",
         "x": [
          1.5
         ],
         "xaxis": "x",
         "y": [
          0.5
         ],
         "yaxis": "y"
        },
        {
         "hovertemplate": "Player=Jett Howard<br>Field Goal Attempts=%{x}<br>Field Goals Made=%{y}<extra></extra>",
         "legendgroup": "Jett Howard",
         "marker": {
          "color": "#FFA15A",
          "symbol": "circle"
         },
         "mode": "markers",
         "name": "Jett Howard",
         "orientation": "v",
         "showlegend": true,
         "type": "scatter",
         "x": [
          1.6
         ],
         "xaxis": "x",
         "y": [
          0.6
         ],
         "yaxis": "y"
        },
        {
         "hovertemplate": "Player=Jevon Carter<br>Field Goal Attempts=%{x}<br>Field Goals Made=%{y}<extra></extra>",
         "legendgroup": "Jevon Carter",
         "marker": {
          "color": "#19d3f3",
          "symbol": "circle"
         },
         "mode": "markers",
         "name": "Jevon Carter",
         "orientation": "v",
         "showlegend": true,
         "type": "scatter",
         "x": [
          4.9
         ],
         "xaxis": "x",
         "y": [
          1.9
         ],
         "yaxis": "y"
        },
        {
         "hovertemplate": "Player=Jimmy Butler<br>Field Goal Attempts=%{x}<br>Field Goals Made=%{y}<extra></extra>",
         "legendgroup": "Jimmy Butler",
         "marker": {
          "color": "#FF6692",
          "symbol": "circle"
         },
         "mode": "markers",
         "name": "Jimmy Butler",
         "orientation": "v",
         "showlegend": true,
         "type": "scatter",
         "x": [
          13.4
         ],
         "xaxis": "x",
         "y": [
          6.7
         ],
         "yaxis": "y"
        },
        {
         "hovertemplate": "Player=Jock Landale<br>Field Goal Attempts=%{x}<br>Field Goals Made=%{y}<extra></extra>",
         "legendgroup": "Jock Landale",
         "marker": {
          "color": "#B6E880",
          "symbol": "circle"
         },
         "mode": "markers",
         "name": "Jock Landale",
         "orientation": "v",
         "showlegend": true,
         "type": "scatter",
         "x": [
          3.3
         ],
         "xaxis": "x",
         "y": [
          1.6
         ],
         "yaxis": "y"
        },
        {
         "hovertemplate": "Player=Joe Harris<br>Field Goal Attempts=%{x}<br>Field Goals Made=%{y}<extra></extra>",
         "legendgroup": "Joe Harris",
         "marker": {
          "color": "#FF97FF",
          "symbol": "circle"
         },
         "mode": "markers",
         "name": "Joe Harris",
         "orientation": "v",
         "showlegend": true,
         "type": "scatter",
         "x": [
          2.4
         ],
         "xaxis": "x",
         "y": [
          0.9
         ],
         "yaxis": "y"
        },
        {
         "hovertemplate": "Player=Joe Ingles<br>Field Goal Attempts=%{x}<br>Field Goals Made=%{y}<extra></extra>",
         "legendgroup": "Joe Ingles",
         "marker": {
          "color": "#FECB52",
          "symbol": "circle"
         },
         "mode": "markers",
         "name": "Joe Ingles",
         "orientation": "v",
         "showlegend": true,
         "type": "scatter",
         "x": [
          3.5
         ],
         "xaxis": "x",
         "y": [
          1.5
         ],
         "yaxis": "y"
        },
        {
         "hovertemplate": "Player=Joel Embiid<br>Field Goal Attempts=%{x}<br>Field Goals Made=%{y}<extra></extra>",
         "legendgroup": "Joel Embiid",
         "marker": {
          "color": "#636efa",
          "symbol": "circle"
         },
         "mode": "markers",
         "name": "Joel Embiid",
         "orientation": "v",
         "showlegend": true,
         "type": "scatter",
         "x": [
          22.2
         ],
         "xaxis": "x",
         "y": [
          11.8
         ],
         "yaxis": "y"
        },
        {
         "hovertemplate": "Player=John Collins<br>Field Goal Attempts=%{x}<br>Field Goals Made=%{y}<extra></extra>",
         "legendgroup": "John Collins",
         "marker": {
          "color": "#EF553B",
          "symbol": "circle"
         },
         "mode": "markers",
         "name": "John Collins",
         "orientation": "v",
         "showlegend": true,
         "type": "scatter",
         "x": [
          11
         ],
         "xaxis": "x",
         "y": [
          5.8
         ],
         "yaxis": "y"
        },
        {
         "hovertemplate": "Player=John Konchar<br>Field Goal Attempts=%{x}<br>Field Goals Made=%{y}<extra></extra>",
         "legendgroup": "John Konchar",
         "marker": {
          "color": "#00cc96",
          "symbol": "circle"
         },
         "mode": "markers",
         "name": "John Konchar",
         "orientation": "v",
         "showlegend": true,
         "type": "scatter",
         "x": [
          3.8
         ],
         "xaxis": "x",
         "y": [
          1.6
         ],
         "yaxis": "y"
        },
        {
         "hovertemplate": "Player=Johnny Davis<br>Field Goal Attempts=%{x}<br>Field Goals Made=%{y}<extra></extra>",
         "legendgroup": "Johnny Davis",
         "marker": {
          "color": "#ab63fa",
          "symbol": "circle"
         },
         "mode": "markers",
         "name": "Johnny Davis",
         "orientation": "v",
         "showlegend": true,
         "type": "scatter",
         "x": [
          3
         ],
         "xaxis": "x",
         "y": [
          1.1
         ],
         "yaxis": "y"
        },
        {
         "hovertemplate": "Player=Johnny Juzang<br>Field Goal Attempts=%{x}<br>Field Goals Made=%{y}<extra></extra>",
         "legendgroup": "Johnny Juzang",
         "marker": {
          "color": "#FFA15A",
          "symbol": "circle"
         },
         "mode": "markers",
         "name": "Johnny Juzang",
         "orientation": "v",
         "showlegend": true,
         "type": "scatter",
         "x": [
          4.7
         ],
         "xaxis": "x",
         "y": [
          2
         ],
         "yaxis": "y"
        },
        {
         "hovertemplate": "Player=Jonas Valanciunas<br>Field Goal Attempts=%{x}<br>Field Goals Made=%{y}<extra></extra>",
         "legendgroup": "Jonas Valanciunas",
         "marker": {
          "color": "#19d3f3",
          "symbol": "circle"
         },
         "mode": "markers",
         "name": "Jonas Valanciunas",
         "orientation": "v",
         "showlegend": true,
         "type": "scatter",
         "x": [
          8.9
         ],
         "xaxis": "x",
         "y": [
          5
         ],
         "yaxis": "y"
        },
        {
         "hovertemplate": "Player=Jonathan Isaac<br>Field Goal Attempts=%{x}<br>Field Goals Made=%{y}<extra></extra>",
         "legendgroup": "Jonathan Isaac",
         "marker": {
          "color": "#FF6692",
          "symbol": "circle"
         },
         "mode": "markers",
         "name": "Jonathan Isaac",
         "orientation": "v",
         "showlegend": true,
         "type": "scatter",
         "x": [
          4.9
         ],
         "xaxis": "x",
         "y": [
          2.6
         ],
         "yaxis": "y"
        },
        {
         "hovertemplate": "Player=Jonathan Kuminga<br>Field Goal Attempts=%{x}<br>Field Goals Made=%{y}<extra></extra>",
         "legendgroup": "Jonathan Kuminga",
         "marker": {
          "color": "#B6E880",
          "symbol": "circle"
         },
         "mode": "markers",
         "name": "Jonathan Kuminga",
         "orientation": "v",
         "showlegend": true,
         "type": "scatter",
         "x": [
          11.8
         ],
         "xaxis": "x",
         "y": [
          6.3
         ],
         "yaxis": "y"
        },
        {
         "hovertemplate": "Player=Jontay Porter<br>Field Goal Attempts=%{x}<br>Field Goals Made=%{y}<extra></extra>",
         "legendgroup": "Jontay Porter",
         "marker": {
          "color": "#FF97FF",
          "symbol": "circle"
         },
         "mode": "markers",
         "name": "Jontay Porter",
         "orientation": "v",
         "showlegend": true,
         "type": "scatter",
         "x": [
          4
         ],
         "xaxis": "x",
         "y": [
          1.5
         ],
         "yaxis": "y"
        },
        {
         "hovertemplate": "Player=Jordan Clarkson<br>Field Goal Attempts=%{x}<br>Field Goals Made=%{y}<extra></extra>",
         "legendgroup": "Jordan Clarkson",
         "marker": {
          "color": "#FECB52",
          "symbol": "circle"
         },
         "mode": "markers",
         "name": "Jordan Clarkson",
         "orientation": "v",
         "showlegend": true,
         "type": "scatter",
         "x": [
          14.8
         ],
         "xaxis": "x",
         "y": [
          6.1
         ],
         "yaxis": "y"
        },
        {
         "hovertemplate": "Player=Jordan Ford<br>Field Goal Attempts=%{x}<br>Field Goals Made=%{y}<extra></extra>",
         "legendgroup": "Jordan Ford",
         "marker": {
          "color": "#636efa",
          "symbol": "circle"
         },
         "mode": "markers",
         "name": "Jordan Ford",
         "orientation": "v",
         "showlegend": true,
         "type": "scatter",
         "x": [
          1.2
         ],
         "xaxis": "x",
         "y": [
          0.7
         ],
         "yaxis": "y"
        },
        {
         "hovertemplate": "Player=Jordan Goodwin<br>Field Goal Attempts=%{x}<br>Field Goals Made=%{y}<extra></extra>",
         "legendgroup": "Jordan Goodwin",
         "marker": {
          "color": "#EF553B",
          "symbol": "circle"
         },
         "mode": "markers",
         "name": "Jordan Goodwin",
         "orientation": "v",
         "showlegend": true,
         "type": "scatter",
         "x": [
          5.8
         ],
         "xaxis": "x",
         "y": [
          2.2
         ],
         "yaxis": "y"
        },
        {
         "hovertemplate": "Player=Jordan Hawkins<br>Field Goal Attempts=%{x}<br>Field Goals Made=%{y}<extra></extra>",
         "legendgroup": "Jordan Hawkins",
         "marker": {
          "color": "#00cc96",
          "symbol": "circle"
         },
         "mode": "markers",
         "name": "Jordan Hawkins",
         "orientation": "v",
         "showlegend": true,
         "type": "scatter",
         "x": [
          7.1
         ],
         "xaxis": "x",
         "y": [
          2.7
         ],
         "yaxis": "y"
        },
        {
         "hovertemplate": "Player=Jordan McLaughlin<br>Field Goal Attempts=%{x}<br>Field Goals Made=%{y}<extra></extra>",
         "legendgroup": "Jordan McLaughlin",
         "marker": {
          "color": "#ab63fa",
          "symbol": "circle"
         },
         "mode": "markers",
         "name": "Jordan McLaughlin",
         "orientation": "v",
         "showlegend": true,
         "type": "scatter",
         "x": [
          2.5
         ],
         "xaxis": "x",
         "y": [
          1.2
         ],
         "yaxis": "y"
        },
        {
         "hovertemplate": "Player=Jordan Miller<br>Field Goal Attempts=%{x}<br>Field Goals Made=%{y}<extra></extra>",
         "legendgroup": "Jordan Miller",
         "marker": {
          "color": "#FFA15A",
          "symbol": "circle"
         },
         "mode": "markers",
         "name": "Jordan Miller",
         "orientation": "v",
         "showlegend": true,
         "type": "scatter",
         "x": [
          1.1
         ],
         "xaxis": "x",
         "y": [
          0.6
         ],
         "yaxis": "y"
        },
        {
         "hovertemplate": "Player=Jordan Nwora<br>Field Goal Attempts=%{x}<br>Field Goals Made=%{y}<extra></extra>",
         "legendgroup": "Jordan Nwora",
         "marker": {
          "color": "#19d3f3",
          "symbol": "circle"
         },
         "mode": "markers",
         "name": "Jordan Nwora",
         "orientation": "v",
         "showlegend": true,
         "type": "scatter",
         "x": [
          5.6
         ],
         "xaxis": "x",
         "y": [
          2.6
         ],
         "yaxis": "y"
        },
        {
         "hovertemplate": "Player=Jordan Poole<br>Field Goal Attempts=%{x}<br>Field Goals Made=%{y}<extra></extra>",
         "legendgroup": "Jordan Poole",
         "marker": {
          "color": "#FF6692",
          "symbol": "circle"
         },
         "mode": "markers",
         "name": "Jordan Poole",
         "orientation": "v",
         "showlegend": true,
         "type": "scatter",
         "x": [
          14.9
         ],
         "xaxis": "x",
         "y": [
          6.1
         ],
         "yaxis": "y"
        },
        {
         "hovertemplate": "Player=Jordan Walsh<br>Field Goal Attempts=%{x}<br>Field Goals Made=%{y}<extra></extra>",
         "legendgroup": "Jordan Walsh",
         "marker": {
          "color": "#B6E880",
          "symbol": "circle"
         },
         "mode": "markers",
         "name": "Jordan Walsh",
         "orientation": "v",
         "showlegend": true,
         "type": "scatter",
         "x": [
          1.3
         ],
         "xaxis": "x",
         "y": [
          0.5
         ],
         "yaxis": "y"
        },
        {
         "hovertemplate": "Player=Jose Alvarado<br>Field Goal Attempts=%{x}<br>Field Goals Made=%{y}<extra></extra>",
         "legendgroup": "Jose Alvarado",
         "marker": {
          "color": "#FF97FF",
          "symbol": "circle"
         },
         "mode": "markers",
         "name": "Jose Alvarado",
         "orientation": "v",
         "showlegend": true,
         "type": "scatter",
         "x": [
          6.1
         ],
         "xaxis": "x",
         "y": [
          2.5
         ],
         "yaxis": "y"
        },
        {
         "hovertemplate": "Player=Josh Giddey<br>Field Goal Attempts=%{x}<br>Field Goals Made=%{y}<extra></extra>",
         "legendgroup": "Josh Giddey",
         "marker": {
          "color": "#FECB52",
          "symbol": "circle"
         },
         "mode": "markers",
         "name": "Josh Giddey",
         "orientation": "v",
         "showlegend": true,
         "type": "scatter",
         "x": [
          10.5
         ],
         "xaxis": "x",
         "y": [
          5
         ],
         "yaxis": "y"
        },
        {
         "hovertemplate": "Player=Josh Green<br>Field Goal Attempts=%{x}<br>Field Goals Made=%{y}<extra></extra>",
         "legendgroup": "Josh Green",
         "marker": {
          "color": "#636efa",
          "symbol": "circle"
         },
         "mode": "markers",
         "name": "Josh Green",
         "orientation": "v",
         "showlegend": true,
         "type": "scatter",
         "x": [
          6.6
         ],
         "xaxis": "x",
         "y": [
          3.2
         ],
         "yaxis": "y"
        },
        {
         "hovertemplate": "Player=Josh Hart<br>Field Goal Attempts=%{x}<br>Field Goals Made=%{y}<extra></extra>",
         "legendgroup": "Josh Hart",
         "marker": {
          "color": "#EF553B",
          "symbol": "circle"
         },
         "mode": "markers",
         "name": "Josh Hart",
         "orientation": "v",
         "showlegend": true,
         "type": "scatter",
         "x": [
          8.3
         ],
         "xaxis": "x",
         "y": [
          3.5
         ],
         "yaxis": "y"
        },
        {
         "hovertemplate": "Player=Josh Minott<br>Field Goal Attempts=%{x}<br>Field Goals Made=%{y}<extra></extra>",
         "legendgroup": "Josh Minott",
         "marker": {
          "color": "#00cc96",
          "symbol": "circle"
         },
         "mode": "markers",
         "name": "Josh Minott",
         "orientation": "v",
         "showlegend": true,
         "type": "scatter",
         "x": [
          1
         ],
         "xaxis": "x",
         "y": [
          0.5
         ],
         "yaxis": "y"
        },
        {
         "hovertemplate": "Player=Josh Okogie<br>Field Goal Attempts=%{x}<br>Field Goals Made=%{y}<extra></extra>",
         "legendgroup": "Josh Okogie",
         "marker": {
          "color": "#ab63fa",
          "symbol": "circle"
         },
         "mode": "markers",
         "name": "Josh Okogie",
         "orientation": "v",
         "showlegend": true,
         "type": "scatter",
         "x": [
          3.6
         ],
         "xaxis": "x",
         "y": [
          1.5
         ],
         "yaxis": "y"
        },
        {
         "hovertemplate": "Player=Josh Richardson<br>Field Goal Attempts=%{x}<br>Field Goals Made=%{y}<extra></extra>",
         "legendgroup": "Josh Richardson",
         "marker": {
          "color": "#FFA15A",
          "symbol": "circle"
         },
         "mode": "markers",
         "name": "Josh Richardson",
         "orientation": "v",
         "showlegend": true,
         "type": "scatter",
         "x": [
          8.1
         ],
         "xaxis": "x",
         "y": [
          3.6
         ],
         "yaxis": "y"
        },
        {
         "hovertemplate": "Player=Joshua Primo<br>Field Goal Attempts=%{x}<br>Field Goals Made=%{y}<extra></extra>",
         "legendgroup": "Joshua Primo",
         "marker": {
          "color": "#19d3f3",
          "symbol": "circle"
         },
         "mode": "markers",
         "name": "Joshua Primo",
         "orientation": "v",
         "showlegend": true,
         "type": "scatter",
         "x": [
          1.5
         ],
         "xaxis": "x",
         "y": [
          0.5
         ],
         "yaxis": "y"
        },
        {
         "hovertemplate": "Player=Jrue Holiday<br>Field Goal Attempts=%{x}<br>Field Goals Made=%{y}<extra></extra>",
         "legendgroup": "Jrue Holiday",
         "marker": {
          "color": "#FF6692",
          "symbol": "circle"
         },
         "mode": "markers",
         "name": "Jrue Holiday",
         "orientation": "v",
         "showlegend": true,
         "type": "scatter",
         "x": [
          10
         ],
         "xaxis": "x",
         "y": [
          4.9
         ],
         "yaxis": "y"
        },
        {
         "hovertemplate": "Player=Juan Toscano-Anderson<br>Field Goal Attempts=%{x}<br>Field Goals Made=%{y}<extra></extra>",
         "legendgroup": "Juan Toscano-Anderson",
         "marker": {
          "color": "#B6E880",
          "symbol": "circle"
         },
         "mode": "markers",
         "name": "Juan Toscano-Anderson",
         "orientation": "v",
         "showlegend": true,
         "type": "scatter",
         "x": [
          1.1
         ],
         "xaxis": "x",
         "y": [
          0.3
         ],
         "yaxis": "y"
        },
        {
         "hovertemplate": "Player=Jules Bernard<br>Field Goal Attempts=%{x}<br>Field Goals Made=%{y}<extra></extra>",
         "legendgroup": "Jules Bernard",
         "marker": {
          "color": "#FF97FF",
          "symbol": "circle"
         },
         "mode": "markers",
         "name": "Jules Bernard",
         "orientation": "v",
         "showlegend": true,
         "type": "scatter",
         "x": [
          3.3
         ],
         "xaxis": "x",
         "y": [
          1.4
         ],
         "yaxis": "y"
        },
        {
         "hovertemplate": "Player=Julian Champagnie<br>Field Goal Attempts=%{x}<br>Field Goals Made=%{y}<extra></extra>",
         "legendgroup": "Julian Champagnie",
         "marker": {
          "color": "#FECB52",
          "symbol": "circle"
         },
         "mode": "markers",
         "name": "Julian Champagnie",
         "orientation": "v",
         "showlegend": true,
         "type": "scatter",
         "x": [
          5
         ],
         "xaxis": "x",
         "y": [
          2
         ],
         "yaxis": "y"
        },
        {
         "hovertemplate": "Player=Julian Phillips<br>Field Goal Attempts=%{x}<br>Field Goals Made=%{y}<extra></extra>",
         "legendgroup": "Julian Phillips",
         "marker": {
          "color": "#636efa",
          "symbol": "circle"
         },
         "mode": "markers",
         "name": "Julian Phillips",
         "orientation": "v",
         "showlegend": true,
         "type": "scatter",
         "x": [
          1.9
         ],
         "xaxis": "x",
         "y": [
          0.8
         ],
         "yaxis": "y"
        },
        {
         "hovertemplate": "Player=Julian Strawther<br>Field Goal Attempts=%{x}<br>Field Goals Made=%{y}<extra></extra>",
         "legendgroup": "Julian Strawther",
         "marker": {
          "color": "#EF553B",
          "symbol": "circle"
         },
         "mode": "markers",
         "name": "Julian Strawther",
         "orientation": "v",
         "showlegend": true,
         "type": "scatter",
         "x": [
          4.8
         ],
         "xaxis": "x",
         "y": [
          1.8
         ],
         "yaxis": "y"
        },
        {
         "hovertemplate": "Player=Julius Randle<br>Field Goal Attempts=%{x}<br>Field Goals Made=%{y}<extra></extra>",
         "legendgroup": "Julius Randle",
         "marker": {
          "color": "#00cc96",
          "symbol": "circle"
         },
         "mode": "markers",
         "name": "Julius Randle",
         "orientation": "v",
         "showlegend": true,
         "type": "scatter",
         "x": [
          18.2
         ],
         "xaxis": "x",
         "y": [
          8.6
         ],
         "yaxis": "y"
        },
        {
         "hovertemplate": "Player=Justin Champagnie<br>Field Goal Attempts=%{x}<br>Field Goals Made=%{y}<extra></extra>",
         "legendgroup": "Justin Champagnie",
         "marker": {
          "color": "#ab63fa",
          "symbol": "circle"
         },
         "mode": "markers",
         "name": "Justin Champagnie",
         "orientation": "v",
         "showlegend": true,
         "type": "scatter",
         "x": [
          5
         ],
         "xaxis": "x",
         "y": [
          2
         ],
         "yaxis": "y"
        },
        {
         "hovertemplate": "Player=Justin Holiday<br>Field Goal Attempts=%{x}<br>Field Goals Made=%{y}<extra></extra>",
         "legendgroup": "Justin Holiday",
         "marker": {
          "color": "#FFA15A",
          "symbol": "circle"
         },
         "mode": "markers",
         "name": "Justin Holiday",
         "orientation": "v",
         "showlegend": true,
         "type": "scatter",
         "x": [
          3.3
         ],
         "xaxis": "x",
         "y": [
          1.5
         ],
         "yaxis": "y"
        },
        {
         "hovertemplate": "Player=Justin Jackson<br>Field Goal Attempts=%{x}<br>Field Goals Made=%{y}<extra></extra>",
         "legendgroup": "Justin Jackson",
         "marker": {
          "color": "#19d3f3",
          "symbol": "circle"
         },
         "mode": "markers",
         "name": "Justin Jackson",
         "orientation": "v",
         "showlegend": true,
         "type": "scatter",
         "x": [
          0
         ],
         "xaxis": "x",
         "y": [
          0
         ],
         "yaxis": "y"
        },
        {
         "hovertemplate": "Player=Justin Minaya<br>Field Goal Attempts=%{x}<br>Field Goals Made=%{y}<extra></extra>",
         "legendgroup": "Justin Minaya",
         "marker": {
          "color": "#FF6692",
          "symbol": "circle"
         },
         "mode": "markers",
         "name": "Justin Minaya",
         "orientation": "v",
         "showlegend": true,
         "type": "scatter",
         "x": [
          1.5
         ],
         "xaxis": "x",
         "y": [
          0.4
         ],
         "yaxis": "y"
        },
        {
         "hovertemplate": "Player=Jusuf Nurkic<br>Field Goal Attempts=%{x}<br>Field Goals Made=%{y}<extra></extra>",
         "legendgroup": "Jusuf Nurkic",
         "marker": {
          "color": "#B6E880",
          "symbol": "circle"
         },
         "mode": "markers",
         "name": "Jusuf Nurkic",
         "orientation": "v",
         "showlegend": true,
         "type": "scatter",
         "x": [
          8.5
         ],
         "xaxis": "x",
         "y": [
          4.4
         ],
         "yaxis": "y"
        },
        {
         "hovertemplate": "Player=KJ Martin<br>Field Goal Attempts=%{x}<br>Field Goals Made=%{y}<extra></extra>",
         "legendgroup": "KJ Martin",
         "marker": {
          "color": "#FF97FF",
          "symbol": "circle"
         },
         "mode": "markers",
         "name": "KJ Martin",
         "orientation": "v",
         "showlegend": true,
         "type": "scatter",
         "x": [
          2.9
         ],
         "xaxis": "x",
         "y": [
          1.5
         ],
         "yaxis": "y"
        },
        {
         "hovertemplate": "Player=Kaiser Gates<br>Field Goal Attempts=%{x}<br>Field Goals Made=%{y}<extra></extra>",
         "legendgroup": "Kaiser Gates",
         "marker": {
          "color": "#FECB52",
          "symbol": "circle"
         },
         "mode": "markers",
         "name": "Kaiser Gates",
         "orientation": "v",
         "showlegend": true,
         "type": "scatter",
         "x": [
          4
         ],
         "xaxis": "x",
         "y": [
          0
         ],
         "yaxis": "y"
        },
        {
         "hovertemplate": "Player=Karl-Anthony Towns<br>Field Goal Attempts=%{x}<br>Field Goals Made=%{y}<extra></extra>",
         "legendgroup": "Karl-Anthony Towns",
         "marker": {
          "color": "#636efa",
          "symbol": "circle"
         },
         "mode": "markers",
         "name": "Karl-Anthony Towns",
         "orientation": "v",
         "showlegend": true,
         "type": "scatter",
         "x": [
          15.5
         ],
         "xaxis": "x",
         "y": [
          7.9
         ],
         "yaxis": "y"
        },
        {
         "hovertemplate": "Player=Kawhi Leonard<br>Field Goal Attempts=%{x}<br>Field Goals Made=%{y}<extra></extra>",
         "legendgroup": "Kawhi Leonard",
         "marker": {
          "color": "#EF553B",
          "symbol": "circle"
         },
         "mode": "markers",
         "name": "Kawhi Leonard",
         "orientation": "v",
         "showlegend": true,
         "type": "scatter",
         "x": [
          17.1
         ],
         "xaxis": "x",
         "y": [
          9
         ],
         "yaxis": "y"
        },
        {
         "hovertemplate": "Player=Keegan Murray<br>Field Goal Attempts=%{x}<br>Field Goals Made=%{y}<extra></extra>",
         "legendgroup": "Keegan Murray",
         "marker": {
          "color": "#00cc96",
          "symbol": "circle"
         },
         "mode": "markers",
         "name": "Keegan Murray",
         "orientation": "v",
         "showlegend": true,
         "type": "scatter",
         "x": [
          12.3
         ],
         "xaxis": "x",
         "y": [
          5.7
         ],
         "yaxis": "y"
        },
        {
         "hovertemplate": "Player=Keita Bates-Diop<br>Field Goal Attempts=%{x}<br>Field Goals Made=%{y}<extra></extra>",
         "legendgroup": "Keita Bates-Diop",
         "marker": {
          "color": "#ab63fa",
          "symbol": "circle"
         },
         "mode": "markers",
         "name": "Keita Bates-Diop",
         "orientation": "v",
         "showlegend": true,
         "type": "scatter",
         "x": [
          3.1
         ],
         "xaxis": "x",
         "y": [
          1.4
         ],
         "yaxis": "y"
        },
        {
         "hovertemplate": "Player=Keldon Johnson<br>Field Goal Attempts=%{x}<br>Field Goals Made=%{y}<extra></extra>",
         "legendgroup": "Keldon Johnson",
         "marker": {
          "color": "#FFA15A",
          "symbol": "circle"
         },
         "mode": "markers",
         "name": "Keldon Johnson",
         "orientation": "v",
         "showlegend": true,
         "type": "scatter",
         "x": [
          12.6
         ],
         "xaxis": "x",
         "y": [
          5.7
         ],
         "yaxis": "y"
        },
        {
         "hovertemplate": "Player=Kelly Olynyk<br>Field Goal Attempts=%{x}<br>Field Goals Made=%{y}<extra></extra>",
         "legendgroup": "Kelly Olynyk",
         "marker": {
          "color": "#19d3f3",
          "symbol": "circle"
         },
         "mode": "markers",
         "name": "Kelly Olynyk",
         "orientation": "v",
         "showlegend": true,
         "type": "scatter",
         "x": [
          6.2
         ],
         "xaxis": "x",
         "y": [
          3.4
         ],
         "yaxis": "y"
        },
        {
         "hovertemplate": "Player=Kelly Oubre Jr.<br>Field Goal Attempts=%{x}<br>Field Goals Made=%{y}<extra></extra>",
         "legendgroup": "Kelly Oubre Jr.",
         "marker": {
          "color": "#FF6692",
          "symbol": "circle"
         },
         "mode": "markers",
         "name": "Kelly Oubre Jr.",
         "orientation": "v",
         "showlegend": true,
         "type": "scatter",
         "x": [
          12.7
         ],
         "xaxis": "x",
         "y": [
          5.6
         ],
         "yaxis": "y"
        },
        {
         "hovertemplate": "Player=Kendall Brown<br>Field Goal Attempts=%{x}<br>Field Goals Made=%{y}<extra></extra>",
         "legendgroup": "Kendall Brown",
         "marker": {
          "color": "#B6E880",
          "symbol": "circle"
         },
         "mode": "markers",
         "name": "Kendall Brown",
         "orientation": "v",
         "showlegend": true,
         "type": "scatter",
         "x": [
          0.8
         ],
         "xaxis": "x",
         "y": [
          0.5
         ],
         "yaxis": "y"
        },
        {
         "hovertemplate": "Player=Kenneth Lofton Jr.<br>Field Goal Attempts=%{x}<br>Field Goals Made=%{y}<extra></extra>",
         "legendgroup": "Kenneth Lofton Jr.",
         "marker": {
          "color": "#FF97FF",
          "symbol": "circle"
         },
         "mode": "markers",
         "name": "Kenneth Lofton Jr.",
         "orientation": "v",
         "showlegend": true,
         "type": "scatter",
         "x": [
          2.5
         ],
         "xaxis": "x",
         "y": [
          0.9
         ],
         "yaxis": "y"
        },
        {
         "hovertemplate": "Player=Kenrich Williams<br>Field Goal Attempts=%{x}<br>Field Goals Made=%{y}<extra></extra>",
         "legendgroup": "Kenrich Williams",
         "marker": {
          "color": "#FECB52",
          "symbol": "circle"
         },
         "mode": "markers",
         "name": "Kenrich Williams",
         "orientation": "v",
         "showlegend": true,
         "type": "scatter",
         "x": [
          3.8
         ],
         "xaxis": "x",
         "y": [
          1.8
         ],
         "yaxis": "y"
        },
        {
         "hovertemplate": "Player=Kentavious Caldwell-Pope<br>Field Goal Attempts=%{x}<br>Field Goals Made=%{y}<extra></extra>",
         "legendgroup": "Kentavious Caldwell-Pope",
         "marker": {
          "color": "#636efa",
          "symbol": "circle"
         },
         "mode": "markers",
         "name": "Kentavious Caldwell-Pope",
         "orientation": "v",
         "showlegend": true,
         "type": "scatter",
         "x": [
          7.7
         ],
         "xaxis": "x",
         "y": [
          3.5
         ],
         "yaxis": "y"
        },
        {
         "hovertemplate": "Player=Keon Ellis<br>Field Goal Attempts=%{x}<br>Field Goals Made=%{y}<extra></extra>",
         "legendgroup": "Keon Ellis",
         "marker": {
          "color": "#EF553B",
          "symbol": "circle"
         },
         "mode": "markers",
         "name": "Keon Ellis",
         "orientation": "v",
         "showlegend": true,
         "type": "scatter",
         "x": [
          3.5
         ],
         "xaxis": "x",
         "y": [
          1.6
         ],
         "yaxis": "y"
        },
        {
         "hovertemplate": "Player=Keon Johnson<br>Field Goal Attempts=%{x}<br>Field Goals Made=%{y}<extra></extra>",
         "legendgroup": "Keon Johnson",
         "marker": {
          "color": "#00cc96",
          "symbol": "circle"
         },
         "mode": "markers",
         "name": "Keon Johnson",
         "orientation": "v",
         "showlegend": true,
         "type": "scatter",
         "x": [
          4.8
         ],
         "xaxis": "x",
         "y": [
          1.8
         ],
         "yaxis": "y"
        },
        {
         "hovertemplate": "Player=Kessler Edwards<br>Field Goal Attempts=%{x}<br>Field Goals Made=%{y}<extra></extra>",
         "legendgroup": "Kessler Edwards",
         "marker": {
          "color": "#ab63fa",
          "symbol": "circle"
         },
         "mode": "markers",
         "name": "Kessler Edwards",
         "orientation": "v",
         "showlegend": true,
         "type": "scatter",
         "x": [
          1.5
         ],
         "xaxis": "x",
         "y": [
          0.6
         ],
         "yaxis": "y"
        },
        {
         "hovertemplate": "Player=Kevin Durant<br>Field Goal Attempts=%{x}<br>Field Goals Made=%{y}<extra></extra>",
         "legendgroup": "Kevin Durant",
         "marker": {
          "color": "#FFA15A",
          "symbol": "circle"
         },
         "mode": "markers",
         "name": "Kevin Durant",
         "orientation": "v",
         "showlegend": true,
         "type": "scatter",
         "x": [
          19.1
         ],
         "xaxis": "x",
         "y": [
          10.1
         ],
         "yaxis": "y"
        },
        {
         "hovertemplate": "Player=Kevin Huerter<br>Field Goal Attempts=%{x}<br>Field Goals Made=%{y}<extra></extra>",
         "legendgroup": "Kevin Huerter",
         "marker": {
          "color": "#19d3f3",
          "symbol": "circle"
         },
         "mode": "markers",
         "name": "Kevin Huerter",
         "orientation": "v",
         "showlegend": true,
         "type": "scatter",
         "x": [
          8.8
         ],
         "xaxis": "x",
         "y": [
          3.9
         ],
         "yaxis": "y"
        },
        {
         "hovertemplate": "Player=Kevin Knox II<br>Field Goal Attempts=%{x}<br>Field Goals Made=%{y}<extra></extra>",
         "legendgroup": "Kevin Knox II",
         "marker": {
          "color": "#FF6692",
          "symbol": "circle"
         },
         "mode": "markers",
         "name": "Kevin Knox II",
         "orientation": "v",
         "showlegend": true,
         "type": "scatter",
         "x": [
          6
         ],
         "xaxis": "x",
         "y": [
          2.8
         ],
         "yaxis": "y"
        },
        {
         "hovertemplate": "Player=Kevin Love<br>Field Goal Attempts=%{x}<br>Field Goals Made=%{y}<extra></extra>",
         "legendgroup": "Kevin Love",
         "marker": {
          "color": "#B6E880",
          "symbol": "circle"
         },
         "mode": "markers",
         "name": "Kevin Love",
         "orientation": "v",
         "showlegend": true,
         "type": "scatter",
         "x": [
          6.5
         ],
         "xaxis": "x",
         "y": [
          2.9
         ],
         "yaxis": "y"
        },
        {
         "hovertemplate": "Player=Kevon Harris<br>Field Goal Attempts=%{x}<br>Field Goals Made=%{y}<extra></extra>",
         "legendgroup": "Kevon Harris",
         "marker": {
          "color": "#FF97FF",
          "symbol": "circle"
         },
         "mode": "markers",
         "name": "Kevon Harris",
         "orientation": "v",
         "showlegend": true,
         "type": "scatter",
         "x": [
          1.5
         ],
         "xaxis": "x",
         "y": [
          1
         ],
         "yaxis": "y"
        },
        {
         "hovertemplate": "Player=Kevon Looney<br>Field Goal Attempts=%{x}<br>Field Goals Made=%{y}<extra></extra>",
         "legendgroup": "Kevon Looney",
         "marker": {
          "color": "#FECB52",
          "symbol": "circle"
         },
         "mode": "markers",
         "name": "Kevon Looney",
         "orientation": "v",
         "showlegend": true,
         "type": "scatter",
         "x": [
          3.1
         ],
         "xaxis": "x",
         "y": [
          1.9
         ],
         "yaxis": "y"
        },
        {
         "hovertemplate": "Player=Keyontae Johnson<br>Field Goal Attempts=%{x}<br>Field Goals Made=%{y}<extra></extra>",
         "legendgroup": "Keyontae Johnson",
         "marker": {
          "color": "#636efa",
          "symbol": "circle"
         },
         "mode": "markers",
         "name": "Keyontae Johnson",
         "orientation": "v",
         "showlegend": true,
         "type": "scatter",
         "x": [
          1.8
         ],
         "xaxis": "x",
         "y": [
          0.6
         ],
         "yaxis": "y"
        },
        {
         "hovertemplate": "Player=Keyonte George<br>Field Goal Attempts=%{x}<br>Field Goals Made=%{y}<extra></extra>",
         "legendgroup": "Keyonte George",
         "marker": {
          "color": "#EF553B",
          "symbol": "circle"
         },
         "mode": "markers",
         "name": "Keyonte George",
         "orientation": "v",
         "showlegend": true,
         "type": "scatter",
         "x": [
          10.7
         ],
         "xaxis": "x",
         "y": [
          4.2
         ],
         "yaxis": "y"
        },
        {
         "hovertemplate": "Player=Khris Middleton<br>Field Goal Attempts=%{x}<br>Field Goals Made=%{y}<extra></extra>",
         "legendgroup": "Khris Middleton",
         "marker": {
          "color": "#00cc96",
          "symbol": "circle"
         },
         "mode": "markers",
         "name": "Khris Middleton",
         "orientation": "v",
         "showlegend": true,
         "type": "scatter",
         "x": [
          11.7
         ],
         "xaxis": "x",
         "y": [
          5.7
         ],
         "yaxis": "y"
        },
        {
         "hovertemplate": "Player=Killian Hayes<br>Field Goal Attempts=%{x}<br>Field Goals Made=%{y}<extra></extra>",
         "legendgroup": "Killian Hayes",
         "marker": {
          "color": "#ab63fa",
          "symbol": "circle"
         },
         "mode": "markers",
         "name": "Killian Hayes",
         "orientation": "v",
         "showlegend": true,
         "type": "scatter",
         "x": [
          6.7
         ],
         "xaxis": "x",
         "y": [
          2.8
         ],
         "yaxis": "y"
        },
        {
         "hovertemplate": "Player=Kira Lewis Jr.<br>Field Goal Attempts=%{x}<br>Field Goals Made=%{y}<extra></extra>",
         "legendgroup": "Kira Lewis Jr.",
         "marker": {
          "color": "#FFA15A",
          "symbol": "circle"
         },
         "mode": "markers",
         "name": "Kira Lewis Jr.",
         "orientation": "v",
         "showlegend": true,
         "type": "scatter",
         "x": [
          2.9
         ],
         "xaxis": "x",
         "y": [
          1
         ],
         "yaxis": "y"
        },
        {
         "hovertemplate": "Player=Klay Thompson<br>Field Goal Attempts=%{x}<br>Field Goals Made=%{y}<extra></extra>",
         "legendgroup": "Klay Thompson",
         "marker": {
          "color": "#19d3f3",
          "symbol": "circle"
         },
         "mode": "markers",
         "name": "Klay Thompson",
         "orientation": "v",
         "showlegend": true,
         "type": "scatter",
         "x": [
          14.5
         ],
         "xaxis": "x",
         "y": [
          6.2
         ],
         "yaxis": "y"
        },
        {
         "hovertemplate": "Player=Kobe Brown<br>Field Goal Attempts=%{x}<br>Field Goals Made=%{y}<extra></extra>",
         "legendgroup": "Kobe Brown",
         "marker": {
          "color": "#FF6692",
          "symbol": "circle"
         },
         "mode": "markers",
         "name": "Kobe Brown",
         "orientation": "v",
         "showlegend": true,
         "type": "scatter",
         "x": [
          1.7
         ],
         "xaxis": "x",
         "y": [
          0.7
         ],
         "yaxis": "y"
        },
        {
         "hovertemplate": "Player=Kobe Bufkin<br>Field Goal Attempts=%{x}<br>Field Goals Made=%{y}<extra></extra>",
         "legendgroup": "Kobe Bufkin",
         "marker": {
          "color": "#B6E880",
          "symbol": "circle"
         },
         "mode": "markers",
         "name": "Kobe Bufkin",
         "orientation": "v",
         "showlegend": true,
         "type": "scatter",
         "x": [
          4.1
         ],
         "xaxis": "x",
         "y": [
          1.4
         ],
         "yaxis": "y"
        },
        {
         "hovertemplate": "Player=Kobi Simmons<br>Field Goal Attempts=%{x}<br>Field Goals Made=%{y}<extra></extra>",
         "legendgroup": "Kobi Simmons",
         "marker": {
          "color": "#FF97FF",
          "symbol": "circle"
         },
         "mode": "markers",
         "name": "Kobi Simmons",
         "orientation": "v",
         "showlegend": true,
         "type": "scatter",
         "x": [
          6
         ],
         "xaxis": "x",
         "y": [
          2.3
         ],
         "yaxis": "y"
        },
        {
         "hovertemplate": "Player=Kris Dunn<br>Field Goal Attempts=%{x}<br>Field Goals Made=%{y}<extra></extra>",
         "legendgroup": "Kris Dunn",
         "marker": {
          "color": "#FECB52",
          "symbol": "circle"
         },
         "mode": "markers",
         "name": "Kris Dunn",
         "orientation": "v",
         "showlegend": true,
         "type": "scatter",
         "x": [
          4.8
         ],
         "xaxis": "x",
         "y": [
          2.2
         ],
         "yaxis": "y"
        },
        {
         "hovertemplate": "Player=Kris Murray<br>Field Goal Attempts=%{x}<br>Field Goals Made=%{y}<extra></extra>",
         "legendgroup": "Kris Murray",
         "marker": {
          "color": "#636efa",
          "symbol": "circle"
         },
         "mode": "markers",
         "name": "Kris Murray",
         "orientation": "v",
         "showlegend": true,
         "type": "scatter",
         "x": [
          5.3
         ],
         "xaxis": "x",
         "y": [
          2.1
         ],
         "yaxis": "y"
        },
        {
         "hovertemplate": "Player=Kristaps Porzingis<br>Field Goal Attempts=%{x}<br>Field Goals Made=%{y}<extra></extra>",
         "legendgroup": "Kristaps Porzingis",
         "marker": {
          "color": "#EF553B",
          "symbol": "circle"
         },
         "mode": "markers",
         "name": "Kristaps Porzingis",
         "orientation": "v",
         "showlegend": true,
         "type": "scatter",
         "x": [
          13.4
         ],
         "xaxis": "x",
         "y": [
          6.8
         ],
         "yaxis": "y"
        },
        {
         "hovertemplate": "Player=Kyle Anderson<br>Field Goal Attempts=%{x}<br>Field Goals Made=%{y}<extra></extra>",
         "legendgroup": "Kyle Anderson",
         "marker": {
          "color": "#00cc96",
          "symbol": "circle"
         },
         "mode": "markers",
         "name": "Kyle Anderson",
         "orientation": "v",
         "showlegend": true,
         "type": "scatter",
         "x": [
          5.5
         ],
         "xaxis": "x",
         "y": [
          2.6
         ],
         "yaxis": "y"
        },
        {
         "hovertemplate": "Player=Kyle Kuzma<br>Field Goal Attempts=%{x}<br>Field Goals Made=%{y}<extra></extra>",
         "legendgroup": "Kyle Kuzma",
         "marker": {
          "color": "#ab63fa",
          "symbol": "circle"
         },
         "mode": "markers",
         "name": "Kyle Kuzma",
         "orientation": "v",
         "showlegend": true,
         "type": "scatter",
         "x": [
          18.8
         ],
         "xaxis": "x",
         "y": [
          8.7
         ],
         "yaxis": "y"
        },
        {
         "hovertemplate": "Player=Kyle Lowry<br>Field Goal Attempts=%{x}<br>Field Goals Made=%{y}<extra></extra>",
         "legendgroup": "Kyle Lowry",
         "marker": {
          "color": "#FFA15A",
          "symbol": "circle"
         },
         "mode": "markers",
         "name": "Kyle Lowry",
         "orientation": "v",
         "showlegend": true,
         "type": "scatter",
         "x": [
          6.5
         ],
         "xaxis": "x",
         "y": [
          2.8
         ],
         "yaxis": "y"
        },
        {
         "hovertemplate": "Player=Kyrie Irving<br>Field Goal Attempts=%{x}<br>Field Goals Made=%{y}<extra></extra>",
         "legendgroup": "Kyrie Irving",
         "marker": {
          "color": "#19d3f3",
          "symbol": "circle"
         },
         "mode": "markers",
         "name": "Kyrie Irving",
         "orientation": "v",
         "showlegend": true,
         "type": "scatter",
         "x": [
          19.6
         ],
         "xaxis": "x",
         "y": [
          9.7
         ],
         "yaxis": "y"
        },
        {
         "hovertemplate": "Player=LaMelo Ball<br>Field Goal Attempts=%{x}<br>Field Goals Made=%{y}<extra></extra>",
         "legendgroup": "LaMelo Ball",
         "marker": {
          "color": "#FF6692",
          "symbol": "circle"
         },
         "mode": "markers",
         "name": "LaMelo Ball",
         "orientation": "v",
         "showlegend": true,
         "type": "scatter",
         "x": [
          19.2
         ],
         "xaxis": "x",
         "y": [
          8.3
         ],
         "yaxis": "y"
        },
        {
         "hovertemplate": "Player=Lamar Stevens<br>Field Goal Attempts=%{x}<br>Field Goals Made=%{y}<extra></extra>",
         "legendgroup": "Lamar Stevens",
         "marker": {
          "color": "#B6E880",
          "symbol": "circle"
         },
         "mode": "markers",
         "name": "Lamar Stevens",
         "orientation": "v",
         "showlegend": true,
         "type": "scatter",
         "x": [
          5.7
         ],
         "xaxis": "x",
         "y": [
          2.6
         ],
         "yaxis": "y"
        },
        {
         "hovertemplate": "Player=Landry Shamet<br>Field Goal Attempts=%{x}<br>Field Goals Made=%{y}<extra></extra>",
         "legendgroup": "Landry Shamet",
         "marker": {
          "color": "#FF97FF",
          "symbol": "circle"
         },
         "mode": "markers",
         "name": "Landry Shamet",
         "orientation": "v",
         "showlegend": true,
         "type": "scatter",
         "x": [
          6
         ],
         "xaxis": "x",
         "y": [
          2.6
         ],
         "yaxis": "y"
        },
        {
         "hovertemplate": "Player=Larry Nance Jr.<br>Field Goal Attempts=%{x}<br>Field Goals Made=%{y}<extra></extra>",
         "legendgroup": "Larry Nance Jr.",
         "marker": {
          "color": "#FECB52",
          "symbol": "circle"
         },
         "mode": "markers",
         "name": "Larry Nance Jr.",
         "orientation": "v",
         "showlegend": true,
         "type": "scatter",
         "x": [
          3.8
         ],
         "xaxis": "x",
         "y": [
          2.2
         ],
         "yaxis": "y"
        },
        {
         "hovertemplate": "Player=Lauri Markkanen<br>Field Goal Attempts=%{x}<br>Field Goals Made=%{y}<extra></extra>",
         "legendgroup": "Lauri Markkanen",
         "marker": {
          "color": "#636efa",
          "symbol": "circle"
         },
         "mode": "markers",
         "name": "Lauri Markkanen",
         "orientation": "v",
         "showlegend": true,
         "type": "scatter",
         "x": [
          16.2
         ],
         "xaxis": "x",
         "y": [
          7.8
         ],
         "yaxis": "y"
        },
        {
         "hovertemplate": "Player=LeBron James<br>Field Goal Attempts=%{x}<br>Field Goals Made=%{y}<extra></extra>",
         "legendgroup": "LeBron James",
         "marker": {
          "color": "#EF553B",
          "symbol": "circle"
         },
         "mode": "markers",
         "name": "LeBron James",
         "orientation": "v",
         "showlegend": true,
         "type": "scatter",
         "x": [
          17.8
         ],
         "xaxis": "x",
         "y": [
          9.5
         ],
         "yaxis": "y"
        },
        {
         "hovertemplate": "Player=Leaky Black<br>Field Goal Attempts=%{x}<br>Field Goals Made=%{y}<extra></extra>",
         "legendgroup": "Leaky Black",
         "marker": {
          "color": "#00cc96",
          "symbol": "circle"
         },
         "mode": "markers",
         "name": "Leaky Black",
         "orientation": "v",
         "showlegend": true,
         "type": "scatter",
         "x": [
          1.8
         ],
         "xaxis": "x",
         "y": [
          0.8
         ],
         "yaxis": "y"
        },
        {
         "hovertemplate": "Player=Leonard Miller<br>Field Goal Attempts=%{x}<br>Field Goals Made=%{y}<extra></extra>",
         "legendgroup": "Leonard Miller",
         "marker": {
          "color": "#ab63fa",
          "symbol": "circle"
         },
         "mode": "markers",
         "name": "Leonard Miller",
         "orientation": "v",
         "showlegend": true,
         "type": "scatter",
         "x": [
          1
         ],
         "xaxis": "x",
         "y": [
          0.6
         ],
         "yaxis": "y"
        },
        {
         "hovertemplate": "Player=Lester Quinones<br>Field Goal Attempts=%{x}<br>Field Goals Made=%{y}<extra></extra>",
         "legendgroup": "Lester Quinones",
         "marker": {
          "color": "#FFA15A",
          "symbol": "circle"
         },
         "mode": "markers",
         "name": "Lester Quinones",
         "orientation": "v",
         "showlegend": true,
         "type": "scatter",
         "x": [
          3.7
         ],
         "xaxis": "x",
         "y": [
          1.5
         ],
         "yaxis": "y"
        },
        {
         "hovertemplate": "Player=Lindell Wigginton<br>Field Goal Attempts=%{x}<br>Field Goals Made=%{y}<extra></extra>",
         "legendgroup": "Lindell Wigginton",
         "marker": {
          "color": "#19d3f3",
          "symbol": "circle"
         },
         "mode": "markers",
         "name": "Lindell Wigginton",
         "orientation": "v",
         "showlegend": true,
         "type": "scatter",
         "x": [
          1.7
         ],
         "xaxis": "x",
         "y": [
          0.7
         ],
         "yaxis": "y"
        },
        {
         "hovertemplate": "Player=Lindy Waters III<br>Field Goal Attempts=%{x}<br>Field Goals Made=%{y}<extra></extra>",
         "legendgroup": "Lindy Waters III",
         "marker": {
          "color": "#FF6692",
          "symbol": "circle"
         },
         "mode": "markers",
         "name": "Lindy Waters III",
         "orientation": "v",
         "showlegend": true,
         "type": "scatter",
         "x": [
          2.2
         ],
         "xaxis": "x",
         "y": [
          0.9
         ],
         "yaxis": "y"
        },
        {
         "hovertemplate": "Player=Lonnie Walker IV<br>Field Goal Attempts=%{x}<br>Field Goals Made=%{y}<extra></extra>",
         "legendgroup": "Lonnie Walker IV",
         "marker": {
          "color": "#B6E880",
          "symbol": "circle"
         },
         "mode": "markers",
         "name": "Lonnie Walker IV",
         "orientation": "v",
         "showlegend": true,
         "type": "scatter",
         "x": [
          8.3
         ],
         "xaxis": "x",
         "y": [
          3.5
         ],
         "yaxis": "y"
        },
        {
         "hovertemplate": "Player=Luguentz Dort<br>Field Goal Attempts=%{x}<br>Field Goals Made=%{y}<extra></extra>",
         "legendgroup": "Luguentz Dort",
         "marker": {
          "color": "#FF97FF",
          "symbol": "circle"
         },
         "mode": "markers",
         "name": "Luguentz Dort",
         "orientation": "v",
         "showlegend": true,
         "type": "scatter",
         "x": [
          8.2
         ],
         "xaxis": "x",
         "y": [
          3.6
         ],
         "yaxis": "y"
        },
        {
         "hovertemplate": "Player=Luka Doncic<br>Field Goal Attempts=%{x}<br>Field Goals Made=%{y}<extra></extra>",
         "legendgroup": "Luka Doncic",
         "marker": {
          "color": "#FECB52",
          "symbol": "circle"
         },
         "mode": "markers",
         "name": "Luka Doncic",
         "orientation": "v",
         "showlegend": true,
         "type": "scatter",
         "x": [
          23.6
         ],
         "xaxis": "x",
         "y": [
          11.6
         ],
         "yaxis": "y"
        },
        {
         "hovertemplate": "Player=Luka Garza<br>Field Goal Attempts=%{x}<br>Field Goals Made=%{y}<extra></extra>",
         "legendgroup": "Luka Garza",
         "marker": {
          "color": "#636efa",
          "symbol": "circle"
         },
         "mode": "markers",
         "name": "Luka Garza",
         "orientation": "v",
         "showlegend": true,
         "type": "scatter",
         "x": [
          2.9
         ],
         "xaxis": "x",
         "y": [
          1.3
         ],
         "yaxis": "y"
        },
        {
         "hovertemplate": "Player=Luka Samanic<br>Field Goal Attempts=%{x}<br>Field Goals Made=%{y}<extra></extra>",
         "legendgroup": "Luka Samanic",
         "marker": {
          "color": "#EF553B",
          "symbol": "circle"
         },
         "mode": "markers",
         "name": "Luka Samanic",
         "orientation": "v",
         "showlegend": true,
         "type": "scatter",
         "x": [
          2.6
         ],
         "xaxis": "x",
         "y": [
          1
         ],
         "yaxis": "y"
        },
        {
         "hovertemplate": "Player=Luke Kennard<br>Field Goal Attempts=%{x}<br>Field Goals Made=%{y}<extra></extra>",
         "legendgroup": "Luke Kennard",
         "marker": {
          "color": "#00cc96",
          "symbol": "circle"
         },
         "mode": "markers",
         "name": "Luke Kennard",
         "orientation": "v",
         "showlegend": true,
         "type": "scatter",
         "x": [
          8
         ],
         "xaxis": "x",
         "y": [
          3.6
         ],
         "yaxis": "y"
        },
        {
         "hovertemplate": "Player=Luke Kornet<br>Field Goal Attempts=%{x}<br>Field Goals Made=%{y}<extra></extra>",
         "legendgroup": "Luke Kornet",
         "marker": {
          "color": "#ab63fa",
          "symbol": "circle"
         },
         "mode": "markers",
         "name": "Luke Kornet",
         "orientation": "v",
         "showlegend": true,
         "type": "scatter",
         "x": [
          3.2
         ],
         "xaxis": "x",
         "y": [
          2.2
         ],
         "yaxis": "y"
        },
        {
         "hovertemplate": "Player=Malachi Flynn<br>Field Goal Attempts=%{x}<br>Field Goals Made=%{y}<extra></extra>",
         "legendgroup": "Malachi Flynn",
         "marker": {
          "color": "#FFA15A",
          "symbol": "circle"
         },
         "mode": "markers",
         "name": "Malachi Flynn",
         "orientation": "v",
         "showlegend": true,
         "type": "scatter",
         "x": [
          3.9
         ],
         "xaxis": "x",
         "y": [
          1.6
         ],
         "yaxis": "y"
        },
        {
         "hovertemplate": "Player=Malaki Branham<br>Field Goal Attempts=%{x}<br>Field Goals Made=%{y}<extra></extra>",
         "legendgroup": "Malaki Branham",
         "marker": {
          "color": "#19d3f3",
          "symbol": "circle"
         },
         "mode": "markers",
         "name": "Malaki Branham",
         "orientation": "v",
         "showlegend": true,
         "type": "scatter",
         "x": [
          8
         ],
         "xaxis": "x",
         "y": [
          3.4
         ],
         "yaxis": "y"
        },
        {
         "hovertemplate": "Player=Malcolm Brogdon<br>Field Goal Attempts=%{x}<br>Field Goals Made=%{y}<extra></extra>",
         "legendgroup": "Malcolm Brogdon",
         "marker": {
          "color": "#FF6692",
          "symbol": "circle"
         },
         "mode": "markers",
         "name": "Malcolm Brogdon",
         "orientation": "v",
         "showlegend": true,
         "type": "scatter",
         "x": [
          12.7
         ],
         "xaxis": "x",
         "y": [
          5.6
         ],
         "yaxis": "y"
        },
        {
         "hovertemplate": "Player=Malcolm Cazalon<br>Field Goal Attempts=%{x}<br>Field Goals Made=%{y}<extra></extra>",
         "legendgroup": "Malcolm Cazalon",
         "marker": {
          "color": "#B6E880",
          "symbol": "circle"
         },
         "mode": "markers",
         "name": "Malcolm Cazalon",
         "orientation": "v",
         "showlegend": true,
         "type": "scatter",
         "x": [
          0
         ],
         "xaxis": "x",
         "y": [
          0
         ],
         "yaxis": "y"
        },
        {
         "hovertemplate": "Player=Malik Beasley<br>Field Goal Attempts=%{x}<br>Field Goals Made=%{y}<extra></extra>",
         "legendgroup": "Malik Beasley",
         "marker": {
          "color": "#FF97FF",
          "symbol": "circle"
         },
         "mode": "markers",
         "name": "Malik Beasley",
         "orientation": "v",
         "showlegend": true,
         "type": "scatter",
         "x": [
          9.2
         ],
         "xaxis": "x",
         "y": [
          4.2
         ],
         "yaxis": "y"
        },
        {
         "hovertemplate": "Player=Malik Monk<br>Field Goal Attempts=%{x}<br>Field Goals Made=%{y}<extra></extra>",
         "legendgroup": "Malik Monk",
         "marker": {
          "color": "#FECB52",
          "symbol": "circle"
         },
         "mode": "markers",
         "name": "Malik Monk",
         "orientation": "v",
         "showlegend": true,
         "type": "scatter",
         "x": [
          12.4
         ],
         "xaxis": "x",
         "y": [
          5.5
         ],
         "yaxis": "y"
        },
        {
         "hovertemplate": "Player=Mamadi Diakite<br>Field Goal Attempts=%{x}<br>Field Goals Made=%{y}<extra></extra>",
         "legendgroup": "Mamadi Diakite",
         "marker": {
          "color": "#636efa",
          "symbol": "circle"
         },
         "mode": "markers",
         "name": "Mamadi Diakite",
         "orientation": "v",
         "showlegend": true,
         "type": "scatter",
         "x": [
          1.2
         ],
         "xaxis": "x",
         "y": [
          0.8
         ],
         "yaxis": "y"
        },
        {
         "hovertemplate": "Player=Maozinha Pereira<br>Field Goal Attempts=%{x}<br>Field Goals Made=%{y}<extra></extra>",
         "legendgroup": "Maozinha Pereira",
         "marker": {
          "color": "#EF553B",
          "symbol": "circle"
         },
         "mode": "markers",
         "name": "Maozinha Pereira",
         "orientation": "v",
         "showlegend": true,
         "type": "scatter",
         "x": [
          3.2
         ],
         "xaxis": "x",
         "y": [
          1.4
         ],
         "yaxis": "y"
        },
        {
         "hovertemplate": "Player=MarJon Beauchamp<br>Field Goal Attempts=%{x}<br>Field Goals Made=%{y}<extra></extra>",
         "legendgroup": "MarJon Beauchamp",
         "marker": {
          "color": "#00cc96",
          "symbol": "circle"
         },
         "mode": "markers",
         "name": "MarJon Beauchamp",
         "orientation": "v",
         "showlegend": true,
         "type": "scatter",
         "x": [
          3.4
         ],
         "xaxis": "x",
         "y": [
          1.6
         ],
         "yaxis": "y"
        },
        {
         "hovertemplate": "Player=Marcus Morris Sr.<br>Field Goal Attempts=%{x}<br>Field Goals Made=%{y}<extra></extra>",
         "legendgroup": "Marcus Morris Sr.",
         "marker": {
          "color": "#ab63fa",
          "symbol": "circle"
         },
         "mode": "markers",
         "name": "Marcus Morris Sr.",
         "orientation": "v",
         "showlegend": true,
         "type": "scatter",
         "x": [
          5.6
         ],
         "xaxis": "x",
         "y": [
          2.5
         ],
         "yaxis": "y"
        },
        {
         "hovertemplate": "Player=Marcus Sasser<br>Field Goal Attempts=%{x}<br>Field Goals Made=%{y}<extra></extra>",
         "legendgroup": "Marcus Sasser",
         "marker": {
          "color": "#FFA15A",
          "symbol": "circle"
         },
         "mode": "markers",
         "name": "Marcus Sasser",
         "orientation": "v",
         "showlegend": true,
         "type": "scatter",
         "x": [
          6.5
         ],
         "xaxis": "x",
         "y": [
          2.8
         ],
         "yaxis": "y"
        },
        {
         "hovertemplate": "Player=Marcus Smart<br>Field Goal Attempts=%{x}<br>Field Goals Made=%{y}<extra></extra>",
         "legendgroup": "Marcus Smart",
         "marker": {
          "color": "#19d3f3",
          "symbol": "circle"
         },
         "mode": "markers",
         "name": "Marcus Smart",
         "orientation": "v",
         "showlegend": true,
         "type": "scatter",
         "x": [
          11.9
         ],
         "xaxis": "x",
         "y": [
          5.1
         ],
         "yaxis": "y"
        },
        {
         "hovertemplate": "Player=Mark Williams<br>Field Goal Attempts=%{x}<br>Field Goals Made=%{y}<extra></extra>",
         "legendgroup": "Mark Williams",
         "marker": {
          "color": "#FF6692",
          "symbol": "circle"
         },
         "mode": "markers",
         "name": "Mark Williams",
         "orientation": "v",
         "showlegend": true,
         "type": "scatter",
         "x": [
          7.9
         ],
         "xaxis": "x",
         "y": [
          5.2
         ],
         "yaxis": "y"
        },
        {
         "hovertemplate": "Player=Markelle Fultz<br>Field Goal Attempts=%{x}<br>Field Goals Made=%{y}<extra></extra>",
         "legendgroup": "Markelle Fultz",
         "marker": {
          "color": "#B6E880",
          "symbol": "circle"
         },
         "mode": "markers",
         "name": "Markelle Fultz",
         "orientation": "v",
         "showlegend": true,
         "type": "scatter",
         "x": [
          7.6
         ],
         "xaxis": "x",
         "y": [
          3.5
         ],
         "yaxis": "y"
        },
        {
         "hovertemplate": "Player=Markieff Morris<br>Field Goal Attempts=%{x}<br>Field Goals Made=%{y}<extra></extra>",
         "legendgroup": "Markieff Morris",
         "marker": {
          "color": "#FF97FF",
          "symbol": "circle"
         },
         "mode": "markers",
         "name": "Markieff Morris",
         "orientation": "v",
         "showlegend": true,
         "type": "scatter",
         "x": [
          2.5
         ],
         "xaxis": "x",
         "y": [
          0.9
         ],
         "yaxis": "y"
        },
        {
         "hovertemplate": "Player=Markquis Nowell<br>Field Goal Attempts=%{x}<br>Field Goals Made=%{y}<extra></extra>",
         "legendgroup": "Markquis Nowell",
         "marker": {
          "color": "#FECB52",
          "symbol": "circle"
         },
         "mode": "markers",
         "name": "Markquis Nowell",
         "orientation": "v",
         "showlegend": true,
         "type": "scatter",
         "x": [
          1
         ],
         "xaxis": "x",
         "y": [
          0
         ],
         "yaxis": "y"
        },
        {
         "hovertemplate": "Player=Marques Bolden<br>Field Goal Attempts=%{x}<br>Field Goals Made=%{y}<extra></extra>",
         "legendgroup": "Marques Bolden",
         "marker": {
          "color": "#636efa",
          "symbol": "circle"
         },
         "mode": "markers",
         "name": "Marques Bolden",
         "orientation": "v",
         "showlegend": true,
         "type": "scatter",
         "x": [
          0.3
         ],
         "xaxis": "x",
         "y": [
          0
         ],
         "yaxis": "y"
        },
        {
         "hovertemplate": "Player=Marvin Bagley III<br>Field Goal Attempts=%{x}<br>Field Goals Made=%{y}<extra></extra>",
         "legendgroup": "Marvin Bagley III",
         "marker": {
          "color": "#EF553B",
          "symbol": "circle"
         },
         "mode": "markers",
         "name": "Marvin Bagley III",
         "orientation": "v",
         "showlegend": true,
         "type": "scatter",
         "x": [
          8.2
         ],
         "xaxis": "x",
         "y": [
          4.8
         ],
         "yaxis": "y"
        },
        {
         "hovertemplate": "Player=Mason Jones<br>Field Goal Attempts=%{x}<br>Field Goals Made=%{y}<extra></extra>",
         "legendgroup": "Mason Jones",
         "marker": {
          "color": "#00cc96",
          "symbol": "circle"
         },
         "mode": "markers",
         "name": "Mason Jones",
         "orientation": "v",
         "showlegend": true,
         "type": "scatter",
         "x": [
          2
         ],
         "xaxis": "x",
         "y": [
          0.7
         ],
         "yaxis": "y"
        },
        {
         "hovertemplate": "Player=Mason Plumlee<br>Field Goal Attempts=%{x}<br>Field Goals Made=%{y}<extra></extra>",
         "legendgroup": "Mason Plumlee",
         "marker": {
          "color": "#ab63fa",
          "symbol": "circle"
         },
         "mode": "markers",
         "name": "Mason Plumlee",
         "orientation": "v",
         "showlegend": true,
         "type": "scatter",
         "x": [
          3.1
         ],
         "xaxis": "x",
         "y": [
          1.9
         ],
         "yaxis": "y"
        },
        {
         "hovertemplate": "Player=Matisse Thybulle<br>Field Goal Attempts=%{x}<br>Field Goals Made=%{y}<extra></extra>",
         "legendgroup": "Matisse Thybulle",
         "marker": {
          "color": "#FFA15A",
          "symbol": "circle"
         },
         "mode": "markers",
         "name": "Matisse Thybulle",
         "orientation": "v",
         "showlegend": true,
         "type": "scatter",
         "x": [
          4.9
         ],
         "xaxis": "x",
         "y": [
          1.9
         ],
         "yaxis": "y"
        },
        {
         "hovertemplate": "Player=Matt Hurt<br>Field Goal Attempts=%{x}<br>Field Goals Made=%{y}<extra></extra>",
         "legendgroup": "Matt Hurt",
         "marker": {
          "color": "#19d3f3",
          "symbol": "circle"
         },
         "mode": "markers",
         "name": "Matt Hurt",
         "orientation": "v",
         "showlegend": true,
         "type": "scatter",
         "x": [
          4.3
         ],
         "xaxis": "x",
         "y": [
          1.5
         ],
         "yaxis": "y"
        },
        {
         "hovertemplate": "Player=Matt Ryan<br>Field Goal Attempts=%{x}<br>Field Goals Made=%{y}<extra></extra>",
         "legendgroup": "Matt Ryan",
         "marker": {
          "color": "#FF6692",
          "symbol": "circle"
         },
         "mode": "markers",
         "name": "Matt Ryan",
         "orientation": "v",
         "showlegend": true,
         "type": "scatter",
         "x": [
          4.7
         ],
         "xaxis": "x",
         "y": [
          2
         ],
         "yaxis": "y"
        },
        {
         "hovertemplate": "Player=Max Christie<br>Field Goal Attempts=%{x}<br>Field Goals Made=%{y}<extra></extra>",
         "legendgroup": "Max Christie",
         "marker": {
          "color": "#B6E880",
          "symbol": "circle"
         },
         "mode": "markers",
         "name": "Max Christie",
         "orientation": "v",
         "showlegend": true,
         "type": "scatter",
         "x": [
          3.7
         ],
         "xaxis": "x",
         "y": [
          1.6
         ],
         "yaxis": "y"
        },
        {
         "hovertemplate": "Player=Max Strus<br>Field Goal Attempts=%{x}<br>Field Goals Made=%{y}<extra></extra>",
         "legendgroup": "Max Strus",
         "marker": {
          "color": "#FF97FF",
          "symbol": "circle"
         },
         "mode": "markers",
         "name": "Max Strus",
         "orientation": "v",
         "showlegend": true,
         "type": "scatter",
         "x": [
          10.6
         ],
         "xaxis": "x",
         "y": [
          4.4
         ],
         "yaxis": "y"
        },
        {
         "hovertemplate": "Player=Maxi Kleber<br>Field Goal Attempts=%{x}<br>Field Goals Made=%{y}<extra></extra>",
         "legendgroup": "Maxi Kleber",
         "marker": {
          "color": "#FECB52",
          "symbol": "circle"
         },
         "mode": "markers",
         "name": "Maxi Kleber",
         "orientation": "v",
         "showlegend": true,
         "type": "scatter",
         "x": [
          3.4
         ],
         "xaxis": "x",
         "y": [
          1.4
         ],
         "yaxis": "y"
        },
        {
         "hovertemplate": "Player=Maxwell Lewis<br>Field Goal Attempts=%{x}<br>Field Goals Made=%{y}<extra></extra>",
         "legendgroup": "Maxwell Lewis",
         "marker": {
          "color": "#636efa",
          "symbol": "circle"
         },
         "mode": "markers",
         "name": "Maxwell Lewis",
         "orientation": "v",
         "showlegend": true,
         "type": "scatter",
         "x": [
          0.5
         ],
         "xaxis": "x",
         "y": [
          0.1
         ],
         "yaxis": "y"
        },
        {
         "hovertemplate": "Player=Micah Potter<br>Field Goal Attempts=%{x}<br>Field Goals Made=%{y}<extra></extra>",
         "legendgroup": "Micah Potter",
         "marker": {
          "color": "#EF553B",
          "symbol": "circle"
         },
         "mode": "markers",
         "name": "Micah Potter",
         "orientation": "v",
         "showlegend": true,
         "type": "scatter",
         "x": [
          1.8
         ],
         "xaxis": "x",
         "y": [
          1
         ],
         "yaxis": "y"
        },
        {
         "hovertemplate": "Player=Michael Porter Jr.<br>Field Goal Attempts=%{x}<br>Field Goals Made=%{y}<extra></extra>",
         "legendgroup": "Michael Porter Jr.",
         "marker": {
          "color": "#00cc96",
          "symbol": "circle"
         },
         "mode": "markers",
         "name": "Michael Porter Jr.",
         "orientation": "v",
         "showlegend": true,
         "type": "scatter",
         "x": [
          13.2
         ],
         "xaxis": "x",
         "y": [
          6.5
         ],
         "yaxis": "y"
        },
        {
         "hovertemplate": "Player=Mikal Bridges<br>Field Goal Attempts=%{x}<br>Field Goals Made=%{y}<extra></extra>",
         "legendgroup": "Mikal Bridges",
         "marker": {
          "color": "#ab63fa",
          "symbol": "circle"
         },
         "mode": "markers",
         "name": "Mikal Bridges",
         "orientation": "v",
         "showlegend": true,
         "type": "scatter",
         "x": [
          16.3
         ],
         "xaxis": "x",
         "y": [
          7.1
         ],
         "yaxis": "y"
        },
        {
         "hovertemplate": "Player=Mike Conley<br>Field Goal Attempts=%{x}<br>Field Goals Made=%{y}<extra></extra>",
         "legendgroup": "Mike Conley",
         "marker": {
          "color": "#FFA15A",
          "symbol": "circle"
         },
         "mode": "markers",
         "name": "Mike Conley",
         "orientation": "v",
         "showlegend": true,
         "type": "scatter",
         "x": [
          8.4
         ],
         "xaxis": "x",
         "y": [
          3.8
         ],
         "yaxis": "y"
        },
        {
         "hovertemplate": "Player=Mike Muscala<br>Field Goal Attempts=%{x}<br>Field Goals Made=%{y}<extra></extra>",
         "legendgroup": "Mike Muscala",
         "marker": {
          "color": "#19d3f3",
          "symbol": "circle"
         },
         "mode": "markers",
         "name": "Mike Muscala",
         "orientation": "v",
         "showlegend": true,
         "type": "scatter",
         "x": [
          3.2
         ],
         "xaxis": "x",
         "y": [
          1.1
         ],
         "yaxis": "y"
        },
        {
         "hovertemplate": "Player=Miles Bridges<br>Field Goal Attempts=%{x}<br>Field Goals Made=%{y}<extra></extra>",
         "legendgroup": "Miles Bridges",
         "marker": {
          "color": "#FF6692",
          "symbol": "circle"
         },
         "mode": "markers",
         "name": "Miles Bridges",
         "orientation": "v",
         "showlegend": true,
         "type": "scatter",
         "x": [
          17.8
         ],
         "xaxis": "x",
         "y": [
          8.2
         ],
         "yaxis": "y"
        },
        {
         "hovertemplate": "Player=Miles McBride<br>Field Goal Attempts=%{x}<br>Field Goals Made=%{y}<extra></extra>",
         "legendgroup": "Miles McBride",
         "marker": {
          "color": "#B6E880",
          "symbol": "circle"
         },
         "mode": "markers",
         "name": "Miles McBride",
         "orientation": "v",
         "showlegend": true,
         "type": "scatter",
         "x": [
          6.4
         ],
         "xaxis": "x",
         "y": [
          2.9
         ],
         "yaxis": "y"
        },
        {
         "hovertemplate": "Player=Mitchell Robinson<br>Field Goal Attempts=%{x}<br>Field Goals Made=%{y}<extra></extra>",
         "legendgroup": "Mitchell Robinson",
         "marker": {
          "color": "#FF97FF",
          "symbol": "circle"
         },
         "mode": "markers",
         "name": "Mitchell Robinson",
         "orientation": "v",
         "showlegend": true,
         "type": "scatter",
         "x": [
          4.8
         ],
         "xaxis": "x",
         "y": [
          2.8
         ],
         "yaxis": "y"
        },
        {
         "hovertemplate": "Player=Mo Bamba<br>Field Goal Attempts=%{x}<br>Field Goals Made=%{y}<extra></extra>",
         "legendgroup": "Mo Bamba",
         "marker": {
          "color": "#FECB52",
          "symbol": "circle"
         },
         "mode": "markers",
         "name": "Mo Bamba",
         "orientation": "v",
         "showlegend": true,
         "type": "scatter",
         "x": [
          3.5
         ],
         "xaxis": "x",
         "y": [
          1.8
         ],
         "yaxis": "y"
        },
        {
         "hovertemplate": "Player=Monte Morris<br>Field Goal Attempts=%{x}<br>Field Goals Made=%{y}<extra></extra>",
         "legendgroup": "Monte Morris",
         "marker": {
          "color": "#636efa",
          "symbol": "circle"
         },
         "mode": "markers",
         "name": "Monte Morris",
         "orientation": "v",
         "showlegend": true,
         "type": "scatter",
         "x": [
          4.8
         ],
         "xaxis": "x",
         "y": [
          1.9
         ],
         "yaxis": "y"
        },
        {
         "hovertemplate": "Player=Moritz Wagner<br>Field Goal Attempts=%{x}<br>Field Goals Made=%{y}<extra></extra>",
         "legendgroup": "Moritz Wagner",
         "marker": {
          "color": "#EF553B",
          "symbol": "circle"
         },
         "mode": "markers",
         "name": "Moritz Wagner",
         "orientation": "v",
         "showlegend": true,
         "type": "scatter",
         "x": [
          6.9
         ],
         "xaxis": "x",
         "y": [
          4.1
         ],
         "yaxis": "y"
        },
        {
         "hovertemplate": "Player=Moses Brown<br>Field Goal Attempts=%{x}<br>Field Goals Made=%{y}<extra></extra>",
         "legendgroup": "Moses Brown",
         "marker": {
          "color": "#00cc96",
          "symbol": "circle"
         },
         "mode": "markers",
         "name": "Moses Brown",
         "orientation": "v",
         "showlegend": true,
         "type": "scatter",
         "x": [
          2.7
         ],
         "xaxis": "x",
         "y": [
          1.3
         ],
         "yaxis": "y"
        },
        {
         "hovertemplate": "Player=Moses Moody<br>Field Goal Attempts=%{x}<br>Field Goals Made=%{y}<extra></extra>",
         "legendgroup": "Moses Moody",
         "marker": {
          "color": "#ab63fa",
          "symbol": "circle"
         },
         "mode": "markers",
         "name": "Moses Moody",
         "orientation": "v",
         "showlegend": true,
         "type": "scatter",
         "x": [
          6.4
         ],
         "xaxis": "x",
         "y": [
          3
         ],
         "yaxis": "y"
        },
        {
         "hovertemplate": "Player=Mouhamadou Gueye<br>Field Goal Attempts=%{x}<br>Field Goals Made=%{y}<extra></extra>",
         "legendgroup": "Mouhamadou Gueye",
         "marker": {
          "color": "#FFA15A",
          "symbol": "circle"
         },
         "mode": "markers",
         "name": "Mouhamadou Gueye",
         "orientation": "v",
         "showlegend": true,
         "type": "scatter",
         "x": [
          2.5
         ],
         "xaxis": "x",
         "y": [
          0.8
         ],
         "yaxis": "y"
        },
        {
         "hovertemplate": "Player=Mouhamed Gueye<br>Field Goal Attempts=%{x}<br>Field Goals Made=%{y}<extra></extra>",
         "legendgroup": "Mouhamed Gueye",
         "marker": {
          "color": "#19d3f3",
          "symbol": "circle"
         },
         "mode": "markers",
         "name": "Mouhamed Gueye",
         "orientation": "v",
         "showlegend": true,
         "type": "scatter",
         "x": [
          0.5
         ],
         "xaxis": "x",
         "y": [
          0
         ],
         "yaxis": "y"
        },
        {
         "hovertemplate": "Player=Moussa Diabate<br>Field Goal Attempts=%{x}<br>Field Goals Made=%{y}<extra></extra>",
         "legendgroup": "Moussa Diabate",
         "marker": {
          "color": "#FF6692",
          "symbol": "circle"
         },
         "mode": "markers",
         "name": "Moussa Diabate",
         "orientation": "v",
         "showlegend": true,
         "type": "scatter",
         "x": [
          1.7
         ],
         "xaxis": "x",
         "y": [
          0.9
         ],
         "yaxis": "y"
        },
        {
         "hovertemplate": "Player=Myles Turner<br>Field Goal Attempts=%{x}<br>Field Goals Made=%{y}<extra></extra>",
         "legendgroup": "Myles Turner",
         "marker": {
          "color": "#B6E880",
          "symbol": "circle"
         },
         "mode": "markers",
         "name": "Myles Turner",
         "orientation": "v",
         "showlegend": true,
         "type": "scatter",
         "x": [
          11.9
         ],
         "xaxis": "x",
         "y": [
          6.1
         ],
         "yaxis": "y"
        },
        {
         "hovertemplate": "Player=Naji Marshall<br>Field Goal Attempts=%{x}<br>Field Goals Made=%{y}<extra></extra>",
         "legendgroup": "Naji Marshall",
         "marker": {
          "color": "#FF97FF",
          "symbol": "circle"
         },
         "mode": "markers",
         "name": "Naji Marshall",
         "orientation": "v",
         "showlegend": true,
         "type": "scatter",
         "x": [
          5.7
         ],
         "xaxis": "x",
         "y": [
          2.6
         ],
         "yaxis": "y"
        },
        {
         "hovertemplate": "Player=Nassir Little<br>Field Goal Attempts=%{x}<br>Field Goals Made=%{y}<extra></extra>",
         "legendgroup": "Nassir Little",
         "marker": {
          "color": "#FECB52",
          "symbol": "circle"
         },
         "mode": "markers",
         "name": "Nassir Little",
         "orientation": "v",
         "showlegend": true,
         "type": "scatter",
         "x": [
          2.9
         ],
         "xaxis": "x",
         "y": [
          1.4
         ],
         "yaxis": "y"
        },
        {
         "hovertemplate": "Player=Nate Hinton<br>Field Goal Attempts=%{x}<br>Field Goals Made=%{y}<extra></extra>",
         "legendgroup": "Nate Hinton",
         "marker": {
          "color": "#636efa",
          "symbol": "circle"
         },
         "mode": "markers",
         "name": "Nate Hinton",
         "orientation": "v",
         "showlegend": true,
         "type": "scatter",
         "x": [
          1.8
         ],
         "xaxis": "x",
         "y": [
          0.9
         ],
         "yaxis": "y"
        },
        {
         "hovertemplate": "Player=Nate Williams<br>Field Goal Attempts=%{x}<br>Field Goals Made=%{y}<extra></extra>",
         "legendgroup": "Nate Williams",
         "marker": {
          "color": "#EF553B",
          "symbol": "circle"
         },
         "mode": "markers",
         "name": "Nate Williams",
         "orientation": "v",
         "showlegend": true,
         "type": "scatter",
         "x": [
          2
         ],
         "xaxis": "x",
         "y": [
          1
         ],
         "yaxis": "y"
        },
        {
         "hovertemplate": "Player=Nathan Mensah<br>Field Goal Attempts=%{x}<br>Field Goals Made=%{y}<extra></extra>",
         "legendgroup": "Nathan Mensah",
         "marker": {
          "color": "#00cc96",
          "symbol": "circle"
         },
         "mode": "markers",
         "name": "Nathan Mensah",
         "orientation": "v",
         "showlegend": true,
         "type": "scatter",
         "x": [
          1.1
         ],
         "xaxis": "x",
         "y": [
          0.5
         ],
         "yaxis": "y"
        },
        {
         "hovertemplate": "Player=Naz Reid<br>Field Goal Attempts=%{x}<br>Field Goals Made=%{y}<extra></extra>",
         "legendgroup": "Naz Reid",
         "marker": {
          "color": "#ab63fa",
          "symbol": "circle"
         },
         "mode": "markers",
         "name": "Naz Reid",
         "orientation": "v",
         "showlegend": true,
         "type": "scatter",
         "x": [
          10.2
         ],
         "xaxis": "x",
         "y": [
          4.9
         ],
         "yaxis": "y"
        },
        {
         "hovertemplate": "Player=Neemias Queta<br>Field Goal Attempts=%{x}<br>Field Goals Made=%{y}<extra></extra>",
         "legendgroup": "Neemias Queta",
         "marker": {
          "color": "#FFA15A",
          "symbol": "circle"
         },
         "mode": "markers",
         "name": "Neemias Queta",
         "orientation": "v",
         "showlegend": true,
         "type": "scatter",
         "x": [
          3.2
         ],
         "xaxis": "x",
         "y": [
          2
         ],
         "yaxis": "y"
        },
        {
         "hovertemplate": "Player=Nic Claxton<br>Field Goal Attempts=%{x}<br>Field Goals Made=%{y}<extra></extra>",
         "legendgroup": "Nic Claxton",
         "marker": {
          "color": "#19d3f3",
          "symbol": "circle"
         },
         "mode": "markers",
         "name": "Nic Claxton",
         "orientation": "v",
         "showlegend": true,
         "type": "scatter",
         "x": [
          8.4
         ],
         "xaxis": "x",
         "y": [
          5.2
         ],
         "yaxis": "y"
        },
        {
         "hovertemplate": "Player=Nick Richards<br>Field Goal Attempts=%{x}<br>Field Goals Made=%{y}<extra></extra>",
         "legendgroup": "Nick Richards",
         "marker": {
          "color": "#FF6692",
          "symbol": "circle"
         },
         "mode": "markers",
         "name": "Nick Richards",
         "orientation": "v",
         "showlegend": true,
         "type": "scatter",
         "x": [
          5.7
         ],
         "xaxis": "x",
         "y": [
          3.9
         ],
         "yaxis": "y"
        },
        {
         "hovertemplate": "Player=Nick Smith Jr.<br>Field Goal Attempts=%{x}<br>Field Goals Made=%{y}<extra></extra>",
         "legendgroup": "Nick Smith Jr.",
         "marker": {
          "color": "#B6E880",
          "symbol": "circle"
         },
         "mode": "markers",
         "name": "Nick Smith Jr.",
         "orientation": "v",
         "showlegend": true,
         "type": "scatter",
         "x": [
          5.3
         ],
         "xaxis": "x",
         "y": [
          2.1
         ],
         "yaxis": "y"
        },
        {
         "hovertemplate": "Player=Nickeil Alexander-Walker<br>Field Goal Attempts=%{x}<br>Field Goals Made=%{y}<extra></extra>",
         "legendgroup": "Nickeil Alexander-Walker",
         "marker": {
          "color": "#FF97FF",
          "symbol": "circle"
         },
         "mode": "markers",
         "name": "Nickeil Alexander-Walker",
         "orientation": "v",
         "showlegend": true,
         "type": "scatter",
         "x": [
          6.4
         ],
         "xaxis": "x",
         "y": [
          2.7
         ],
         "yaxis": "y"
        },
        {
         "hovertemplate": "Player=Nicolas Batum<br>Field Goal Attempts=%{x}<br>Field Goals Made=%{y}<extra></extra>",
         "legendgroup": "Nicolas Batum",
         "marker": {
          "color": "#FECB52",
          "symbol": "circle"
         },
         "mode": "markers",
         "name": "Nicolas Batum",
         "orientation": "v",
         "showlegend": true,
         "type": "scatter",
         "x": [
          4.2
         ],
         "xaxis": "x",
         "y": [
          2
         ],
         "yaxis": "y"
        },
        {
         "hovertemplate": "Player=Nikola Jokic<br>Field Goal Attempts=%{x}<br>Field Goals Made=%{y}<extra></extra>",
         "legendgroup": "Nikola Jokic",
         "marker": {
          "color": "#636efa",
          "symbol": "circle"
         },
         "mode": "markers",
         "name": "Nikola Jokic",
         "orientation": "v",
         "showlegend": true,
         "type": "scatter",
         "x": [
          17.8
         ],
         "xaxis": "x",
         "y": [
          10.3
         ],
         "yaxis": "y"
        },
        {
         "hovertemplate": "Player=Nikola Jovic<br>Field Goal Attempts=%{x}<br>Field Goals Made=%{y}<extra></extra>",
         "legendgroup": "Nikola Jovic",
         "marker": {
          "color": "#EF553B",
          "symbol": "circle"
         },
         "mode": "markers",
         "name": "Nikola Jovic",
         "orientation": "v",
         "showlegend": true,
         "type": "scatter",
         "x": [
          5.5
         ],
         "xaxis": "x",
         "y": [
          2.4
         ],
         "yaxis": "y"
        },
        {
         "hovertemplate": "Player=Nikola Vucevic<br>Field Goal Attempts=%{x}<br>Field Goals Made=%{y}<extra></extra>",
         "legendgroup": "Nikola Vucevic",
         "marker": {
          "color": "#00cc96",
          "symbol": "circle"
         },
         "mode": "markers",
         "name": "Nikola Vucevic",
         "orientation": "v",
         "showlegend": true,
         "type": "scatter",
         "x": [
          16
         ],
         "xaxis": "x",
         "y": [
          7.7
         ],
         "yaxis": "y"
        },
        {
         "hovertemplate": "Player=Noah Clowney<br>Field Goal Attempts=%{x}<br>Field Goals Made=%{y}<extra></extra>",
         "legendgroup": "Noah Clowney",
         "marker": {
          "color": "#ab63fa",
          "symbol": "circle"
         },
         "mode": "markers",
         "name": "Noah Clowney",
         "orientation": "v",
         "showlegend": true,
         "type": "scatter",
         "x": [
          2.5
         ],
         "xaxis": "x",
         "y": [
          1.1
         ],
         "yaxis": "y"
        },
        {
         "hovertemplate": "Player=Norman Powell<br>Field Goal Attempts=%{x}<br>Field Goals Made=%{y}<extra></extra>",
         "legendgroup": "Norman Powell",
         "marker": {
          "color": "#FFA15A",
          "symbol": "circle"
         },
         "mode": "markers",
         "name": "Norman Powell",
         "orientation": "v",
         "showlegend": true,
         "type": "scatter",
         "x": [
          10.1
         ],
         "xaxis": "x",
         "y": [
          5
         ],
         "yaxis": "y"
        },
        {
         "hovertemplate": "Player=OG Anunoby<br>Field Goal Attempts=%{x}<br>Field Goals Made=%{y}<extra></extra>",
         "legendgroup": "OG Anunoby",
         "marker": {
          "color": "#19d3f3",
          "symbol": "circle"
         },
         "mode": "markers",
         "name": "OG Anunoby",
         "orientation": "v",
         "showlegend": true,
         "type": "scatter",
         "x": [
          11.5
         ],
         "xaxis": "x",
         "y": [
          5.7
         ],
         "yaxis": "y"
        },
        {
         "hovertemplate": "Player=Obi Toppin<br>Field Goal Attempts=%{x}<br>Field Goals Made=%{y}<extra></extra>",
         "legendgroup": "Obi Toppin",
         "marker": {
          "color": "#FF6692",
          "symbol": "circle"
         },
         "mode": "markers",
         "name": "Obi Toppin",
         "orientation": "v",
         "showlegend": true,
         "type": "scatter",
         "x": [
          6.9
         ],
         "xaxis": "x",
         "y": [
          3.9
         ],
         "yaxis": "y"
        },
        {
         "hovertemplate": "Player=Ochai Agbaji<br>Field Goal Attempts=%{x}<br>Field Goals Made=%{y}<extra></extra>",
         "legendgroup": "Ochai Agbaji",
         "marker": {
          "color": "#B6E880",
          "symbol": "circle"
         },
         "mode": "markers",
         "name": "Ochai Agbaji",
         "orientation": "v",
         "showlegend": true,
         "type": "scatter",
         "x": [
          5.5
         ],
         "xaxis": "x",
         "y": [
          2.3
         ],
         "yaxis": "y"
        },
        {
         "hovertemplate": "Player=Olivier Sarr<br>Field Goal Attempts=%{x}<br>Field Goals Made=%{y}<extra></extra>",
         "legendgroup": "Olivier Sarr",
         "marker": {
          "color": "#FF97FF",
          "symbol": "circle"
         },
         "mode": "markers",
         "name": "Olivier Sarr",
         "orientation": "v",
         "showlegend": true,
         "type": "scatter",
         "x": [
          1.4
         ],
         "xaxis": "x",
         "y": [
          0.8
         ],
         "yaxis": "y"
        },
        {
         "hovertemplate": "Player=Olivier-Maxence Prosper<br>Field Goal Attempts=%{x}<br>Field Goals Made=%{y}<extra></extra>",
         "legendgroup": "Olivier-Maxence Prosper",
         "marker": {
          "color": "#FECB52",
          "symbol": "circle"
         },
         "mode": "markers",
         "name": "Olivier-Maxence Prosper",
         "orientation": "v",
         "showlegend": true,
         "type": "scatter",
         "x": [
          2.1
         ],
         "xaxis": "x",
         "y": [
          0.7
         ],
         "yaxis": "y"
        },
        {
         "hovertemplate": "Player=Omer Yurtseven<br>Field Goal Attempts=%{x}<br>Field Goals Made=%{y}<extra></extra>",
         "legendgroup": "Omer Yurtseven",
         "marker": {
          "color": "#636efa",
          "symbol": "circle"
         },
         "mode": "markers",
         "name": "Omer Yurtseven",
         "orientation": "v",
         "showlegend": true,
         "type": "scatter",
         "x": [
          2.9
         ],
         "xaxis": "x",
         "y": [
          1.6
         ],
         "yaxis": "y"
        },
        {
         "hovertemplate": "Player=Onuralp Bitim<br>Field Goal Attempts=%{x}<br>Field Goals Made=%{y}<extra></extra>",
         "legendgroup": "Onuralp Bitim",
         "marker": {
          "color": "#EF553B",
          "symbol": "circle"
         },
         "mode": "markers",
         "name": "Onuralp Bitim",
         "orientation": "v",
         "showlegend": true,
         "type": "scatter",
         "x": [
          3.7
         ],
         "xaxis": "x",
         "y": [
          1.6
         ],
         "yaxis": "y"
        },
        {
         "hovertemplate": "Player=Onyeka Okongwu<br>Field Goal Attempts=%{x}<br>Field Goals Made=%{y}<extra></extra>",
         "legendgroup": "Onyeka Okongwu",
         "marker": {
          "color": "#00cc96",
          "symbol": "circle"
         },
         "mode": "markers",
         "name": "Onyeka Okongwu",
         "orientation": "v",
         "showlegend": true,
         "type": "scatter",
         "x": [
          6.6
         ],
         "xaxis": "x",
         "y": [
          4.1
         ],
         "yaxis": "y"
        },
        {
         "hovertemplate": "Player=Orlando Robinson<br>Field Goal Attempts=%{x}<br>Field Goals Made=%{y}<extra></extra>",
         "legendgroup": "Orlando Robinson",
         "marker": {
          "color": "#ab63fa",
          "symbol": "circle"
         },
         "mode": "markers",
         "name": "Orlando Robinson",
         "orientation": "v",
         "showlegend": true,
         "type": "scatter",
         "x": [
          2.2
         ],
         "xaxis": "x",
         "y": [
          1.1
         ],
         "yaxis": "y"
        },
        {
         "hovertemplate": "Player=Oscar Tshiebwe<br>Field Goal Attempts=%{x}<br>Field Goals Made=%{y}<extra></extra>",
         "legendgroup": "Oscar Tshiebwe",
         "marker": {
          "color": "#FFA15A",
          "symbol": "circle"
         },
         "mode": "markers",
         "name": "Oscar Tshiebwe",
         "orientation": "v",
         "showlegend": true,
         "type": "scatter",
         "x": [
          2.5
         ],
         "xaxis": "x",
         "y": [
          1.3
         ],
         "yaxis": "y"
        },
        {
         "hovertemplate": "Player=Oshae Brissett<br>Field Goal Attempts=%{x}<br>Field Goals Made=%{y}<extra></extra>",
         "legendgroup": "Oshae Brissett",
         "marker": {
          "color": "#19d3f3",
          "symbol": "circle"
         },
         "mode": "markers",
         "name": "Oshae Brissett",
         "orientation": "v",
         "showlegend": true,
         "type": "scatter",
         "x": [
          2.7
         ],
         "xaxis": "x",
         "y": [
          1.2
         ],
         "yaxis": "y"
        },
        {
         "hovertemplate": "Player=Otto Porter Jr.<br>Field Goal Attempts=%{x}<br>Field Goals Made=%{y}<extra></extra>",
         "legendgroup": "Otto Porter Jr.",
         "marker": {
          "color": "#FF6692",
          "symbol": "circle"
         },
         "mode": "markers",
         "name": "Otto Porter Jr.",
         "orientation": "v",
         "showlegend": true,
         "type": "scatter",
         "x": [
          2.2
         ],
         "xaxis": "x",
         "y": [
          0.9
         ],
         "yaxis": "y"
        },
        {
         "hovertemplate": "Player=Ousmane Dieng<br>Field Goal Attempts=%{x}<br>Field Goals Made=%{y}<extra></extra>",
         "legendgroup": "Ousmane Dieng",
         "marker": {
          "color": "#B6E880",
          "symbol": "circle"
         },
         "mode": "markers",
         "name": "Ousmane Dieng",
         "orientation": "v",
         "showlegend": true,
         "type": "scatter",
         "x": [
          3.4
         ],
         "xaxis": "x",
         "y": [
          1.4
         ],
         "yaxis": "y"
        },
        {
         "hovertemplate": "Player=P.J. Tucker<br>Field Goal Attempts=%{x}<br>Field Goals Made=%{y}<extra></extra>",
         "legendgroup": "P.J. Tucker",
         "marker": {
          "color": "#FF97FF",
          "symbol": "circle"
         },
         "mode": "markers",
         "name": "P.J. Tucker",
         "orientation": "v",
         "showlegend": true,
         "type": "scatter",
         "x": [
          1.6
         ],
         "xaxis": "x",
         "y": [
          0.5
         ],
         "yaxis": "y"
        },
        {
         "hovertemplate": "Player=P.J. Washington<br>Field Goal Attempts=%{x}<br>Field Goals Made=%{y}<extra></extra>",
         "legendgroup": "P.J. Washington",
         "marker": {
          "color": "#FECB52",
          "symbol": "circle"
         },
         "mode": "markers",
         "name": "P.J. Washington",
         "orientation": "v",
         "showlegend": true,
         "type": "scatter",
         "x": [
          11
         ],
         "xaxis": "x",
         "y": [
          4.8
         ],
         "yaxis": "y"
        },
        {
         "hovertemplate": "Player=Paolo Banchero<br>Field Goal Attempts=%{x}<br>Field Goals Made=%{y}<extra></extra>",
         "legendgroup": "Paolo Banchero",
         "marker": {
          "color": "#636efa",
          "symbol": "circle"
         },
         "mode": "markers",
         "name": "Paolo Banchero",
         "orientation": "v",
         "showlegend": true,
         "type": "scatter",
         "x": [
          17.3
         ],
         "xaxis": "x",
         "y": [
          8
         ],
         "yaxis": "y"
        },
        {
         "hovertemplate": "Player=Pascal Siakam<br>Field Goal Attempts=%{x}<br>Field Goals Made=%{y}<extra></extra>",
         "legendgroup": "Pascal Siakam",
         "marker": {
          "color": "#EF553B",
          "symbol": "circle"
         },
         "mode": "markers",
         "name": "Pascal Siakam",
         "orientation": "v",
         "showlegend": true,
         "type": "scatter",
         "x": [
          15.9
         ],
         "xaxis": "x",
         "y": [
          8.5
         ],
         "yaxis": "y"
        },
        {
         "hovertemplate": "Player=Pat Connaughton<br>Field Goal Attempts=%{x}<br>Field Goals Made=%{y}<extra></extra>",
         "legendgroup": "Pat Connaughton",
         "marker": {
          "color": "#00cc96",
          "symbol": "circle"
         },
         "mode": "markers",
         "name": "Pat Connaughton",
         "orientation": "v",
         "showlegend": true,
         "type": "scatter",
         "x": [
          4.3
         ],
         "xaxis": "x",
         "y": [
          2
         ],
         "yaxis": "y"
        },
        {
         "hovertemplate": "Player=Pat Spencer<br>Field Goal Attempts=%{x}<br>Field Goals Made=%{y}<extra></extra>",
         "legendgroup": "Pat Spencer",
         "marker": {
          "color": "#ab63fa",
          "symbol": "circle"
         },
         "mode": "markers",
         "name": "Pat Spencer",
         "orientation": "v",
         "showlegend": true,
         "type": "scatter",
         "x": [
          0.3
         ],
         "xaxis": "x",
         "y": [
          0.3
         ],
         "yaxis": "y"
        },
        {
         "hovertemplate": "Player=Patrick Baldwin Jr.<br>Field Goal Attempts=%{x}<br>Field Goals Made=%{y}<extra></extra>",
         "legendgroup": "Patrick Baldwin Jr.",
         "marker": {
          "color": "#FFA15A",
          "symbol": "circle"
         },
         "mode": "markers",
         "name": "Patrick Baldwin Jr.",
         "orientation": "v",
         "showlegend": true,
         "type": "scatter",
         "x": [
          3.3
         ],
         "xaxis": "x",
         "y": [
          1
         ],
         "yaxis": "y"
        },
        {
         "hovertemplate": "Player=Patrick Beverley<br>Field Goal Attempts=%{x}<br>Field Goals Made=%{y}<extra></extra>",
         "legendgroup": "Patrick Beverley",
         "marker": {
          "color": "#19d3f3",
          "symbol": "circle"
         },
         "mode": "markers",
         "name": "Patrick Beverley",
         "orientation": "v",
         "showlegend": true,
         "type": "scatter",
         "x": [
          5.1
         ],
         "xaxis": "x",
         "y": [
          2.1
         ],
         "yaxis": "y"
        },
        {
         "hovertemplate": "Player=Patrick Williams<br>Field Goal Attempts=%{x}<br>Field Goals Made=%{y}<extra></extra>",
         "legendgroup": "Patrick Williams",
         "marker": {
          "color": "#FF6692",
          "symbol": "circle"
         },
         "mode": "markers",
         "name": "Patrick Williams",
         "orientation": "v",
         "showlegend": true,
         "type": "scatter",
         "x": [
          8.3
         ],
         "xaxis": "x",
         "y": [
          3.7
         ],
         "yaxis": "y"
        },
        {
         "hovertemplate": "Player=Patty Mills<br>Field Goal Attempts=%{x}<br>Field Goals Made=%{y}<extra></extra>",
         "legendgroup": "Patty Mills",
         "marker": {
          "color": "#B6E880",
          "symbol": "circle"
         },
         "mode": "markers",
         "name": "Patty Mills",
         "orientation": "v",
         "showlegend": true,
         "type": "scatter",
         "x": [
          4.1
         ],
         "xaxis": "x",
         "y": [
          1.5
         ],
         "yaxis": "y"
        },
        {
         "hovertemplate": "Player=Paul George<br>Field Goal Attempts=%{x}<br>Field Goals Made=%{y}<extra></extra>",
         "legendgroup": "Paul George",
         "marker": {
          "color": "#FF97FF",
          "symbol": "circle"
         },
         "mode": "markers",
         "name": "Paul George",
         "orientation": "v",
         "showlegend": true,
         "type": "scatter",
         "x": [
          16.9
         ],
         "xaxis": "x",
         "y": [
          8
         ],
         "yaxis": "y"
        },
        {
         "hovertemplate": "Player=Paul Reed<br>Field Goal Attempts=%{x}<br>Field Goals Made=%{y}<extra></extra>",
         "legendgroup": "Paul Reed",
         "marker": {
          "color": "#FECB52",
          "symbol": "circle"
         },
         "mode": "markers",
         "name": "Paul Reed",
         "orientation": "v",
         "showlegend": true,
         "type": "scatter",
         "x": [
          5.8
         ],
         "xaxis": "x",
         "y": [
          3.1
         ],
         "yaxis": "y"
        },
        {
         "hovertemplate": "Player=Payton Pritchard<br>Field Goal Attempts=%{x}<br>Field Goals Made=%{y}<extra></extra>",
         "legendgroup": "Payton Pritchard",
         "marker": {
          "color": "#636efa",
          "symbol": "circle"
         },
         "mode": "markers",
         "name": "Payton Pritchard",
         "orientation": "v",
         "showlegend": true,
         "type": "scatter",
         "x": [
          7.1
         ],
         "xaxis": "x",
         "y": [
          3.2
         ],
         "yaxis": "y"
        },
        {
         "hovertemplate": "Player=Pete Nance<br>Field Goal Attempts=%{x}<br>Field Goals Made=%{y}<extra></extra>",
         "legendgroup": "Pete Nance",
         "marker": {
          "color": "#EF553B",
          "symbol": "circle"
         },
         "mode": "markers",
         "name": "Pete Nance",
         "orientation": "v",
         "showlegend": true,
         "type": "scatter",
         "x": [
          0.5
         ],
         "xaxis": "x",
         "y": [
          0
         ],
         "yaxis": "y"
        },
        {
         "hovertemplate": "Player=Peyton Watson<br>Field Goal Attempts=%{x}<br>Field Goals Made=%{y}<extra></extra>",
         "legendgroup": "Peyton Watson",
         "marker": {
          "color": "#00cc96",
          "symbol": "circle"
         },
         "mode": "markers",
         "name": "Peyton Watson",
         "orientation": "v",
         "showlegend": true,
         "type": "scatter",
         "x": [
          5.6
         ],
         "xaxis": "x",
         "y": [
          2.6
         ],
         "yaxis": "y"
        },
        {
         "hovertemplate": "Player=Precious Achiuwa<br>Field Goal Attempts=%{x}<br>Field Goals Made=%{y}<extra></extra>",
         "legendgroup": "Precious Achiuwa",
         "marker": {
          "color": "#ab63fa",
          "symbol": "circle"
         },
         "mode": "markers",
         "name": "Precious Achiuwa",
         "orientation": "v",
         "showlegend": true,
         "type": "scatter",
         "x": [
          6.7
         ],
         "xaxis": "x",
         "y": [
          3.4
         ],
         "yaxis": "y"
        },
        {
         "hovertemplate": "Player=Quentin Grimes<br>Field Goal Attempts=%{x}<br>Field Goals Made=%{y}<extra></extra>",
         "legendgroup": "Quentin Grimes",
         "marker": {
          "color": "#FFA15A",
          "symbol": "circle"
         },
         "mode": "markers",
         "name": "Quentin Grimes",
         "orientation": "v",
         "showlegend": true,
         "type": "scatter",
         "x": [
          6.4
         ],
         "xaxis": "x",
         "y": [
          2.4
         ],
         "yaxis": "y"
        },
        {
         "hovertemplate": "Player=Quenton Jackson<br>Field Goal Attempts=%{x}<br>Field Goals Made=%{y}<extra></extra>",
         "legendgroup": "Quenton Jackson",
         "marker": {
          "color": "#19d3f3",
          "symbol": "circle"
         },
         "mode": "markers",
         "name": "Quenton Jackson",
         "orientation": "v",
         "showlegend": true,
         "type": "scatter",
         "x": [
          0
         ],
         "xaxis": "x",
         "y": [
          0
         ],
         "yaxis": "y"
        },
        {
         "hovertemplate": "Player=R.J. Hampton<br>Field Goal Attempts=%{x}<br>Field Goals Made=%{y}<extra></extra>",
         "legendgroup": "R.J. Hampton",
         "marker": {
          "color": "#FF6692",
          "symbol": "circle"
         },
         "mode": "markers",
         "name": "R.J. Hampton",
         "orientation": "v",
         "showlegend": true,
         "type": "scatter",
         "x": [
          1.8
         ],
         "xaxis": "x",
         "y": [
          0.5
         ],
         "yaxis": "y"
        },
        {
         "hovertemplate": "Player=RJ Barrett<br>Field Goal Attempts=%{x}<br>Field Goals Made=%{y}<extra></extra>",
         "legendgroup": "RJ Barrett",
         "marker": {
          "color": "#B6E880",
          "symbol": "circle"
         },
         "mode": "markers",
         "name": "RJ Barrett",
         "orientation": "v",
         "showlegend": true,
         "type": "scatter",
         "x": [
          14.9
         ],
         "xaxis": "x",
         "y": [
          7.3
         ],
         "yaxis": "y"
        },
        {
         "hovertemplate": "Player=Rayan Rupert<br>Field Goal Attempts=%{x}<br>Field Goals Made=%{y}<extra></extra>",
         "legendgroup": "Rayan Rupert",
         "marker": {
          "color": "#FF97FF",
          "symbol": "circle"
         },
         "mode": "markers",
         "name": "Rayan Rupert",
         "orientation": "v",
         "showlegend": true,
         "type": "scatter",
         "x": [
          3.1
         ],
         "xaxis": "x",
         "y": [
          1.2
         ],
         "yaxis": "y"
        },
        {
         "hovertemplate": "Player=Reggie Bullock Jr.<br>Field Goal Attempts=%{x}<br>Field Goals Made=%{y}<extra></extra>",
         "legendgroup": "Reggie Bullock Jr.",
         "marker": {
          "color": "#FECB52",
          "symbol": "circle"
         },
         "mode": "markers",
         "name": "Reggie Bullock Jr.",
         "orientation": "v",
         "showlegend": true,
         "type": "scatter",
         "x": [
          2.1
         ],
         "xaxis": "x",
         "y": [
          0.8
         ],
         "yaxis": "y"
        },
        {
         "hovertemplate": "Player=Reggie Jackson<br>Field Goal Attempts=%{x}<br>Field Goals Made=%{y}<extra></extra>",
         "legendgroup": "Reggie Jackson",
         "marker": {
          "color": "#636efa",
          "symbol": "circle"
         },
         "mode": "markers",
         "name": "Reggie Jackson",
         "orientation": "v",
         "showlegend": true,
         "type": "scatter",
         "x": [
          9.1
         ],
         "xaxis": "x",
         "y": [
          4
         ],
         "yaxis": "y"
        },
        {
         "hovertemplate": "Player=Richaun Holmes<br>Field Goal Attempts=%{x}<br>Field Goals Made=%{y}<extra></extra>",
         "legendgroup": "Richaun Holmes",
         "marker": {
          "color": "#EF553B",
          "symbol": "circle"
         },
         "mode": "markers",
         "name": "Richaun Holmes",
         "orientation": "v",
         "showlegend": true,
         "type": "scatter",
         "x": [
          3.7
         ],
         "xaxis": "x",
         "y": [
          2.1
         ],
         "yaxis": "y"
        },
        {
         "hovertemplate": "Player=Ricky Council IV<br>Field Goal Attempts=%{x}<br>Field Goals Made=%{y}<extra></extra>",
         "legendgroup": "Ricky Council IV",
         "marker": {
          "color": "#00cc96",
          "symbol": "circle"
         },
         "mode": "markers",
         "name": "Ricky Council IV",
         "orientation": "v",
         "showlegend": true,
         "type": "scatter",
         "x": [
          3.6
         ],
         "xaxis": "x",
         "y": [
          1.7
         ],
         "yaxis": "y"
        },
        {
         "hovertemplate": "Player=Robert Covington<br>Field Goal Attempts=%{x}<br>Field Goals Made=%{y}<extra></extra>",
         "legendgroup": "Robert Covington",
         "marker": {
          "color": "#ab63fa",
          "symbol": "circle"
         },
         "mode": "markers",
         "name": "Robert Covington",
         "orientation": "v",
         "showlegend": true,
         "type": "scatter",
         "x": [
          3.4
         ],
         "xaxis": "x",
         "y": [
          1.5
         ],
         "yaxis": "y"
        },
        {
         "hovertemplate": "Player=Robert Williams III<br>Field Goal Attempts=%{x}<br>Field Goals Made=%{y}<extra></extra>",
         "legendgroup": "Robert Williams III",
         "marker": {
          "color": "#FFA15A",
          "symbol": "circle"
         },
         "mode": "markers",
         "name": "Robert Williams III",
         "orientation": "v",
         "showlegend": true,
         "type": "scatter",
         "x": [
          4.3
         ],
         "xaxis": "x",
         "y": [
          2.8
         ],
         "yaxis": "y"
        },
        {
         "hovertemplate": "Player=Robin Lopez<br>Field Goal Attempts=%{x}<br>Field Goals Made=%{y}<extra></extra>",
         "legendgroup": "Robin Lopez",
         "marker": {
          "color": "#19d3f3",
          "symbol": "circle"
         },
         "mode": "markers",
         "name": "Robin Lopez",
         "orientation": "v",
         "showlegend": true,
         "type": "scatter",
         "x": [
          1.2
         ],
         "xaxis": "x",
         "y": [
          0.4
         ],
         "yaxis": "y"
        },
        {
         "hovertemplate": "Player=Ron Harper Jr.<br>Field Goal Attempts=%{x}<br>Field Goals Made=%{y}<extra></extra>",
         "legendgroup": "Ron Harper Jr.",
         "marker": {
          "color": "#FF6692",
          "symbol": "circle"
         },
         "mode": "markers",
         "name": "Ron Harper Jr.",
         "orientation": "v",
         "showlegend": true,
         "type": "scatter",
         "x": [
          0
         ],
         "xaxis": "x",
         "y": [
          0
         ],
         "yaxis": "y"
        },
        {
         "hovertemplate": "Player=Royce O'Neale<br>Field Goal Attempts=%{x}<br>Field Goals Made=%{y}<extra></extra>",
         "legendgroup": "Royce O'Neale",
         "marker": {
          "color": "#B6E880",
          "symbol": "circle"
         },
         "mode": "markers",
         "name": "Royce O'Neale",
         "orientation": "v",
         "showlegend": true,
         "type": "scatter",
         "x": [
          6.9
         ],
         "xaxis": "x",
         "y": [
          2.7
         ],
         "yaxis": "y"
        },
        {
         "hovertemplate": "Player=Rudy Gobert<br>Field Goal Attempts=%{x}<br>Field Goals Made=%{y}<extra></extra>",
         "legendgroup": "Rudy Gobert",
         "marker": {
          "color": "#FF97FF",
          "symbol": "circle"
         },
         "mode": "markers",
         "name": "Rudy Gobert",
         "orientation": "v",
         "showlegend": true,
         "type": "scatter",
         "x": [
          8.1
         ],
         "xaxis": "x",
         "y": [
          5.3
         ],
         "yaxis": "y"
        },
        {
         "hovertemplate": "Player=Rui Hachimura<br>Field Goal Attempts=%{x}<br>Field Goals Made=%{y}<extra></extra>",
         "legendgroup": "Rui Hachimura",
         "marker": {
          "color": "#FECB52",
          "symbol": "circle"
         },
         "mode": "markers",
         "name": "Rui Hachimura",
         "orientation": "v",
         "showlegend": true,
         "type": "scatter",
         "x": [
          9.7
         ],
         "xaxis": "x",
         "y": [
          5.2
         ],
         "yaxis": "y"
        },
        {
         "hovertemplate": "Player=Russell Westbrook<br>Field Goal Attempts=%{x}<br>Field Goals Made=%{y}<extra></extra>",
         "legendgroup": "Russell Westbrook",
         "marker": {
          "color": "#636efa",
          "symbol": "circle"
         },
         "mode": "markers",
         "name": "Russell Westbrook",
         "orientation": "v",
         "showlegend": true,
         "type": "scatter",
         "x": [
          9.7
         ],
         "xaxis": "x",
         "y": [
          4.4
         ],
         "yaxis": "y"
        },
        {
         "hovertemplate": "Player=Ryan Arcidiacono<br>Field Goal Attempts=%{x}<br>Field Goals Made=%{y}<extra></extra>",
         "legendgroup": "Ryan Arcidiacono",
         "marker": {
          "color": "#EF553B",
          "symbol": "circle"
         },
         "mode": "markers",
         "name": "Ryan Arcidiacono",
         "orientation": "v",
         "showlegend": true,
         "type": "scatter",
         "x": [
          0.3
         ],
         "xaxis": "x",
         "y": [
          0
         ],
         "yaxis": "y"
        },
        {
         "hovertemplate": "Player=Ryan Rollins<br>Field Goal Attempts=%{x}<br>Field Goals Made=%{y}<extra></extra>",
         "legendgroup": "Ryan Rollins",
         "marker": {
          "color": "#00cc96",
          "symbol": "circle"
         },
         "mode": "markers",
         "name": "Ryan Rollins",
         "orientation": "v",
         "showlegend": true,
         "type": "scatter",
         "x": [
          2.5
         ],
         "xaxis": "x",
         "y": [
          1.3
         ],
         "yaxis": "y"
        },
        {
         "hovertemplate": "Player=Saben Lee<br>Field Goal Attempts=%{x}<br>Field Goals Made=%{y}<extra></extra>",
         "legendgroup": "Saben Lee",
         "marker": {
          "color": "#ab63fa",
          "symbol": "circle"
         },
         "mode": "markers",
         "name": "Saben Lee",
         "orientation": "v",
         "showlegend": true,
         "type": "scatter",
         "x": [
          2.5
         ],
         "xaxis": "x",
         "y": [
          0.9
         ],
         "yaxis": "y"
        },
        {
         "hovertemplate": "Player=Saddiq Bey<br>Field Goal Attempts=%{x}<br>Field Goals Made=%{y}<extra></extra>",
         "legendgroup": "Saddiq Bey",
         "marker": {
          "color": "#FFA15A",
          "symbol": "circle"
         },
         "mode": "markers",
         "name": "Saddiq Bey",
         "orientation": "v",
         "showlegend": true,
         "type": "scatter",
         "x": [
          11.1
         ],
         "xaxis": "x",
         "y": [
          4.6
         ],
         "yaxis": "y"
        },
        {
         "hovertemplate": "Player=Sam Hauser<br>Field Goal Attempts=%{x}<br>Field Goals Made=%{y}<extra></extra>",
         "legendgroup": "Sam Hauser",
         "marker": {
          "color": "#19d3f3",
          "symbol": "circle"
         },
         "mode": "markers",
         "name": "Sam Hauser",
         "orientation": "v",
         "showlegend": true,
         "type": "scatter",
         "x": [
          6.5
         ],
         "xaxis": "x",
         "y": [
          3
         ],
         "yaxis": "y"
        },
        {
         "hovertemplate": "Player=Sam Merrill<br>Field Goal Attempts=%{x}<br>Field Goals Made=%{y}<extra></extra>",
         "legendgroup": "Sam Merrill",
         "marker": {
          "color": "#FF6692",
          "symbol": "circle"
         },
         "mode": "markers",
         "name": "Sam Merrill",
         "orientation": "v",
         "showlegend": true,
         "type": "scatter",
         "x": [
          6.5
         ],
         "xaxis": "x",
         "y": [
          2.7
         ],
         "yaxis": "y"
        },
        {
         "hovertemplate": "Player=Sandro Mamukelashvili<br>Field Goal Attempts=%{x}<br>Field Goals Made=%{y}<extra></extra>",
         "legendgroup": "Sandro Mamukelashvili",
         "marker": {
          "color": "#B6E880",
          "symbol": "circle"
         },
         "mode": "markers",
         "name": "Sandro Mamukelashvili",
         "orientation": "v",
         "showlegend": true,
         "type": "scatter",
         "x": [
          2.3
         ],
         "xaxis": "x",
         "y": [
          1.1
         ],
         "yaxis": "y"
        },
        {
         "hovertemplate": "Player=Santi Aldama<br>Field Goal Attempts=%{x}<br>Field Goals Made=%{y}<extra></extra>",
         "legendgroup": "Santi Aldama",
         "marker": {
          "color": "#FF97FF",
          "symbol": "circle"
         },
         "mode": "markers",
         "name": "Santi Aldama",
         "orientation": "v",
         "showlegend": true,
         "type": "scatter",
         "x": [
          9.4
         ],
         "xaxis": "x",
         "y": [
          4.1
         ],
         "yaxis": "y"
        },
        {
         "hovertemplate": "Player=Sasha Vezenkov<br>Field Goal Attempts=%{x}<br>Field Goals Made=%{y}<extra></extra>",
         "legendgroup": "Sasha Vezenkov",
         "marker": {
          "color": "#FECB52",
          "symbol": "circle"
         },
         "mode": "markers",
         "name": "Sasha Vezenkov",
         "orientation": "v",
         "showlegend": true,
         "type": "scatter",
         "x": [
          4.7
         ],
         "xaxis": "x",
         "y": [
          2.1
         ],
         "yaxis": "y"
        },
        {
         "hovertemplate": "Player=Scoot Henderson<br>Field Goal Attempts=%{x}<br>Field Goals Made=%{y}<extra></extra>",
         "legendgroup": "Scoot Henderson",
         "marker": {
          "color": "#636efa",
          "symbol": "circle"
         },
         "mode": "markers",
         "name": "Scoot Henderson",
         "orientation": "v",
         "showlegend": true,
         "type": "scatter",
         "x": [
          12.3
         ],
         "xaxis": "x",
         "y": [
          4.7
         ],
         "yaxis": "y"
        },
        {
         "hovertemplate": "Player=Scottie Barnes<br>Field Goal Attempts=%{x}<br>Field Goals Made=%{y}<extra></extra>",
         "legendgroup": "Scottie Barnes",
         "marker": {
          "color": "#EF553B",
          "symbol": "circle"
         },
         "mode": "markers",
         "name": "Scottie Barnes",
         "orientation": "v",
         "showlegend": true,
         "type": "scatter",
         "x": [
          15.7
         ],
         "xaxis": "x",
         "y": [
          7.5
         ],
         "yaxis": "y"
        },
        {
         "hovertemplate": "Player=Scotty Pippen Jr.<br>Field Goal Attempts=%{x}<br>Field Goals Made=%{y}<extra></extra>",
         "legendgroup": "Scotty Pippen Jr.",
         "marker": {
          "color": "#00cc96",
          "symbol": "circle"
         },
         "mode": "markers",
         "name": "Scotty Pippen Jr.",
         "orientation": "v",
         "showlegend": true,
         "type": "scatter",
         "x": [
          8
         ],
         "xaxis": "x",
         "y": [
          3.9
         ],
         "yaxis": "y"
        },
        {
         "hovertemplate": "Player=Seth Curry<br>Field Goal Attempts=%{x}<br>Field Goals Made=%{y}<extra></extra>",
         "legendgroup": "Seth Curry",
         "marker": {
          "color": "#ab63fa",
          "symbol": "circle"
         },
         "mode": "markers",
         "name": "Seth Curry",
         "orientation": "v",
         "showlegend": true,
         "type": "scatter",
         "x": [
          4.6
         ],
         "xaxis": "x",
         "y": [
          1.8
         ],
         "yaxis": "y"
        },
        {
         "hovertemplate": "Player=Seth Lundy<br>Field Goal Attempts=%{x}<br>Field Goals Made=%{y}<extra></extra>",
         "legendgroup": "Seth Lundy",
         "marker": {
          "color": "#FFA15A",
          "symbol": "circle"
         },
         "mode": "markers",
         "name": "Seth Lundy",
         "orientation": "v",
         "showlegend": true,
         "type": "scatter",
         "x": [
          1.9
         ],
         "xaxis": "x",
         "y": [
          0.4
         ],
         "yaxis": "y"
        },
        {
         "hovertemplate": "Player=Shaedon Sharpe<br>Field Goal Attempts=%{x}<br>Field Goals Made=%{y}<extra></extra>",
         "legendgroup": "Shaedon Sharpe",
         "marker": {
          "color": "#19d3f3",
          "symbol": "circle"
         },
         "mode": "markers",
         "name": "Shaedon Sharpe",
         "orientation": "v",
         "showlegend": true,
         "type": "scatter",
         "x": [
          13.6
         ],
         "xaxis": "x",
         "y": [
          5.5
         ],
         "yaxis": "y"
        },
        {
         "hovertemplate": "Player=Shai Gilgeous-Alexander<br>Field Goal Attempts=%{x}<br>Field Goals Made=%{y}<extra></extra>",
         "legendgroup": "Shai Gilgeous-Alexander",
         "marker": {
          "color": "#FF6692",
          "symbol": "circle"
         },
         "mode": "markers",
         "name": "Shai Gilgeous-Alexander",
         "orientation": "v",
         "showlegend": true,
         "type": "scatter",
         "x": [
          19.9
         ],
         "xaxis": "x",
         "y": [
          10.7
         ],
         "yaxis": "y"
        },
        {
         "hovertemplate": "Player=Shake Milton<br>Field Goal Attempts=%{x}<br>Field Goals Made=%{y}<extra></extra>",
         "legendgroup": "Shake Milton",
         "marker": {
          "color": "#B6E880",
          "symbol": "circle"
         },
         "mode": "markers",
         "name": "Shake Milton",
         "orientation": "v",
         "showlegend": true,
         "type": "scatter",
         "x": [
          4.1
         ],
         "xaxis": "x",
         "y": [
          1.7
         ],
         "yaxis": "y"
        },
        {
         "hovertemplate": "Player=Shaquille Harrison<br>Field Goal Attempts=%{x}<br>Field Goals Made=%{y}<extra></extra>",
         "legendgroup": "Shaquille Harrison",
         "marker": {
          "color": "#FF97FF",
          "symbol": "circle"
         },
         "mode": "markers",
         "name": "Shaquille Harrison",
         "orientation": "v",
         "showlegend": true,
         "type": "scatter",
         "x": [
          0.7
         ],
         "xaxis": "x",
         "y": [
          0.3
         ],
         "yaxis": "y"
        },
        {
         "hovertemplate": "Player=Sidy Cissoko<br>Field Goal Attempts=%{x}<br>Field Goals Made=%{y}<extra></extra>",
         "legendgroup": "Sidy Cissoko",
         "marker": {
          "color": "#FECB52",
          "symbol": "circle"
         },
         "mode": "markers",
         "name": "Sidy Cissoko",
         "orientation": "v",
         "showlegend": true,
         "type": "scatter",
         "x": [
          1
         ],
         "xaxis": "x",
         "y": [
          0.2
         ],
         "yaxis": "y"
        },
        {
         "hovertemplate": "Player=Simone Fontecchio<br>Field Goal Attempts=%{x}<br>Field Goals Made=%{y}<extra></extra>",
         "legendgroup": "Simone Fontecchio",
         "marker": {
          "color": "#636efa",
          "symbol": "circle"
         },
         "mode": "markers",
         "name": "Simone Fontecchio",
         "orientation": "v",
         "showlegend": true,
         "type": "scatter",
         "x": [
          8.3
         ],
         "xaxis": "x",
         "y": [
          3.8
         ],
         "yaxis": "y"
        },
        {
         "hovertemplate": "Player=Skylar Mays<br>Field Goal Attempts=%{x}<br>Field Goals Made=%{y}<extra></extra>",
         "legendgroup": "Skylar Mays",
         "marker": {
          "color": "#EF553B",
          "symbol": "circle"
         },
         "mode": "markers",
         "name": "Skylar Mays",
         "orientation": "v",
         "showlegend": true,
         "type": "scatter",
         "x": [
          4.5
         ],
         "xaxis": "x",
         "y": [
          1.8
         ],
         "yaxis": "y"
        },
        {
         "hovertemplate": "Player=Spencer Dinwiddie<br>Field Goal Attempts=%{x}<br>Field Goals Made=%{y}<extra></extra>",
         "legendgroup": "Spencer Dinwiddie",
         "marker": {
          "color": "#00cc96",
          "symbol": "circle"
         },
         "mode": "markers",
         "name": "Spencer Dinwiddie",
         "orientation": "v",
         "showlegend": true,
         "type": "scatter",
         "x": [
          8.8
         ],
         "xaxis": "x",
         "y": [
          3.4
         ],
         "yaxis": "y"
        },
        {
         "hovertemplate": "Player=Stanley Umude<br>Field Goal Attempts=%{x}<br>Field Goals Made=%{y}<extra></extra>",
         "legendgroup": "Stanley Umude",
         "marker": {
          "color": "#ab63fa",
          "symbol": "circle"
         },
         "mode": "markers",
         "name": "Stanley Umude",
         "orientation": "v",
         "showlegend": true,
         "type": "scatter",
         "x": [
          3.5
         ],
         "xaxis": "x",
         "y": [
          1.5
         ],
         "yaxis": "y"
        },
        {
         "hovertemplate": "Player=Stephen Curry<br>Field Goal Attempts=%{x}<br>Field Goals Made=%{y}<extra></extra>",
         "legendgroup": "Stephen Curry",
         "marker": {
          "color": "#FFA15A",
          "symbol": "circle"
         },
         "mode": "markers",
         "name": "Stephen Curry",
         "orientation": "v",
         "showlegend": true,
         "type": "scatter",
         "x": [
          19.6
         ],
         "xaxis": "x",
         "y": [
          8.8
         ],
         "yaxis": "y"
        },
        {
         "hovertemplate": "Player=Svi Mykhailiuk<br>Field Goal Attempts=%{x}<br>Field Goals Made=%{y}<extra></extra>",
         "legendgroup": "Svi Mykhailiuk",
         "marker": {
          "color": "#19d3f3",
          "symbol": "circle"
         },
         "mode": "markers",
         "name": "Svi Mykhailiuk",
         "orientation": "v",
         "showlegend": true,
         "type": "scatter",
         "x": [
          2.9
         ],
         "xaxis": "x",
         "y": [
          1.1
         ],
         "yaxis": "y"
        },
        {
         "hovertemplate": "Player=T.J. McConnell<br>Field Goal Attempts=%{x}<br>Field Goals Made=%{y}<extra></extra>",
         "legendgroup": "T.J. McConnell",
         "marker": {
          "color": "#FF6692",
          "symbol": "circle"
         },
         "mode": "markers",
         "name": "T.J. McConnell",
         "orientation": "v",
         "showlegend": true,
         "type": "scatter",
         "x": [
          8
         ],
         "xaxis": "x",
         "y": [
          4.4
         ],
         "yaxis": "y"
        },
        {
         "hovertemplate": "Player=T.J. Warren<br>Field Goal Attempts=%{x}<br>Field Goals Made=%{y}<extra></extra>",
         "legendgroup": "T.J. Warren",
         "marker": {
          "color": "#B6E880",
          "symbol": "circle"
         },
         "mode": "markers",
         "name": "T.J. Warren",
         "orientation": "v",
         "showlegend": true,
         "type": "scatter",
         "x": [
          4.3
         ],
         "xaxis": "x",
         "y": [
          1.6
         ],
         "yaxis": "y"
        },
        {
         "hovertemplate": "Player=Taj Gibson<br>Field Goal Attempts=%{x}<br>Field Goals Made=%{y}<extra></extra>",
         "legendgroup": "Taj Gibson",
         "marker": {
          "color": "#FF97FF",
          "symbol": "circle"
         },
         "mode": "markers",
         "name": "Taj Gibson",
         "orientation": "v",
         "showlegend": true,
         "type": "scatter",
         "x": [
          1.5
         ],
         "xaxis": "x",
         "y": [
          0.5
         ],
         "yaxis": "y"
        },
        {
         "hovertemplate": "Player=Talen Horton-Tucker<br>Field Goal Attempts=%{x}<br>Field Goals Made=%{y}<extra></extra>",
         "legendgroup": "Talen Horton-Tucker",
         "marker": {
          "color": "#FECB52",
          "symbol": "circle"
         },
         "mode": "markers",
         "name": "Talen Horton-Tucker",
         "orientation": "v",
         "showlegend": true,
         "type": "scatter",
         "x": [
          8.6
         ],
         "xaxis": "x",
         "y": [
          3.3
         ],
         "yaxis": "y"
        },
        {
         "hovertemplate": "Player=Tari Eason<br>Field Goal Attempts=%{x}<br>Field Goals Made=%{y}<extra></extra>",
         "legendgroup": "Tari Eason",
         "marker": {
          "color": "#636efa",
          "symbol": "circle"
         },
         "mode": "markers",
         "name": "Tari Eason",
         "orientation": "v",
         "showlegend": true,
         "type": "scatter",
         "x": [
          8.6
         ],
         "xaxis": "x",
         "y": [
          4
         ],
         "yaxis": "y"
        },
        {
         "hovertemplate": "Player=Taurean Prince<br>Field Goal Attempts=%{x}<br>Field Goals Made=%{y}<extra></extra>",
         "legendgroup": "Taurean Prince",
         "marker": {
          "color": "#EF553B",
          "symbol": "circle"
         },
         "mode": "markers",
         "name": "Taurean Prince",
         "orientation": "v",
         "showlegend": true,
         "type": "scatter",
         "x": [
          7.4
         ],
         "xaxis": "x",
         "y": [
          3.3
         ],
         "yaxis": "y"
        },
        {
         "hovertemplate": "Player=Taylor Hendricks<br>Field Goal Attempts=%{x}<br>Field Goals Made=%{y}<extra></extra>",
         "legendgroup": "Taylor Hendricks",
         "marker": {
          "color": "#00cc96",
          "symbol": "circle"
         },
         "mode": "markers",
         "name": "Taylor Hendricks",
         "orientation": "v",
         "showlegend": true,
         "type": "scatter",
         "x": [
          5.9
         ],
         "xaxis": "x",
         "y": [
          2.5
         ],
         "yaxis": "y"
        },
        {
         "hovertemplate": "Player=Taze Moore<br>Field Goal Attempts=%{x}<br>Field Goals Made=%{y}<extra></extra>",
         "legendgroup": "Taze Moore",
         "marker": {
          "color": "#ab63fa",
          "symbol": "circle"
         },
         "mode": "markers",
         "name": "Taze Moore",
         "orientation": "v",
         "showlegend": true,
         "type": "scatter",
         "x": [
          1.7
         ],
         "xaxis": "x",
         "y": [
          1
         ],
         "yaxis": "y"
        },
        {
         "hovertemplate": "Player=Terance Mann<br>Field Goal Attempts=%{x}<br>Field Goals Made=%{y}<extra></extra>",
         "legendgroup": "Terance Mann",
         "marker": {
          "color": "#FFA15A",
          "symbol": "circle"
         },
         "mode": "markers",
         "name": "Terance Mann",
         "orientation": "v",
         "showlegend": true,
         "type": "scatter",
         "x": [
          6.5
         ],
         "xaxis": "x",
         "y": [
          3.2
         ],
         "yaxis": "y"
        },
        {
         "hovertemplate": "Player=Terquavion Smith<br>Field Goal Attempts=%{x}<br>Field Goals Made=%{y}<extra></extra>",
         "legendgroup": "Terquavion Smith",
         "marker": {
          "color": "#19d3f3",
          "symbol": "circle"
         },
         "mode": "markers",
         "name": "Terquavion Smith",
         "orientation": "v",
         "showlegend": true,
         "type": "scatter",
         "x": [
          3.3
         ],
         "xaxis": "x",
         "y": [
          1.3
         ],
         "yaxis": "y"
        },
        {
         "hovertemplate": "Player=Terry Rozier<br>Field Goal Attempts=%{x}<br>Field Goals Made=%{y}<extra></extra>",
         "legendgroup": "Terry Rozier",
         "marker": {
          "color": "#FF6692",
          "symbol": "circle"
         },
         "mode": "markers",
         "name": "Terry Rozier",
         "orientation": "v",
         "showlegend": true,
         "type": "scatter",
         "x": [
          16.6
         ],
         "xaxis": "x",
         "y": [
          7.4
         ],
         "yaxis": "y"
        },
        {
         "hovertemplate": "Player=Terry Taylor<br>Field Goal Attempts=%{x}<br>Field Goals Made=%{y}<extra></extra>",
         "legendgroup": "Terry Taylor",
         "marker": {
          "color": "#B6E880",
          "symbol": "circle"
         },
         "mode": "markers",
         "name": "Terry Taylor",
         "orientation": "v",
         "showlegend": true,
         "type": "scatter",
         "x": [
          1.2
         ],
         "xaxis": "x",
         "y": [
          0.6
         ],
         "yaxis": "y"
        },
        {
         "hovertemplate": "Player=Thaddeus Young<br>Field Goal Attempts=%{x}<br>Field Goals Made=%{y}<extra></extra>",
         "legendgroup": "Thaddeus Young",
         "marker": {
          "color": "#FF97FF",
          "symbol": "circle"
         },
         "mode": "markers",
         "name": "Thaddeus Young",
         "orientation": "v",
         "showlegend": true,
         "type": "scatter",
         "x": [
          3.6
         ],
         "xaxis": "x",
         "y": [
          2.2
         ],
         "yaxis": "y"
        },
        {
         "hovertemplate": "Player=Thanasis Antetokounmpo<br>Field Goal Attempts=%{x}<br>Field Goals Made=%{y}<extra></extra>",
         "legendgroup": "Thanasis Antetokounmpo",
         "marker": {
          "color": "#FECB52",
          "symbol": "circle"
         },
         "mode": "markers",
         "name": "Thanasis Antetokounmpo",
         "orientation": "v",
         "showlegend": true,
         "type": "scatter",
         "x": [
          0.9
         ],
         "xaxis": "x",
         "y": [
          0.4
         ],
         "yaxis": "y"
        },
        {
         "hovertemplate": "Player=Theo Maledon<br>Field Goal Attempts=%{x}<br>Field Goals Made=%{y}<extra></extra>",
         "legendgroup": "Theo Maledon",
         "marker": {
          "color": "#636efa",
          "symbol": "circle"
         },
         "mode": "markers",
         "name": "Theo Maledon",
         "orientation": "v",
         "showlegend": true,
         "type": "scatter",
         "x": [
          4.1
         ],
         "xaxis": "x",
         "y": [
          1.2
         ],
         "yaxis": "y"
        },
        {
         "hovertemplate": "Player=Thomas Bryant<br>Field Goal Attempts=%{x}<br>Field Goals Made=%{y}<extra></extra>",
         "legendgroup": "Thomas Bryant",
         "marker": {
          "color": "#EF553B",
          "symbol": "circle"
         },
         "mode": "markers",
         "name": "Thomas Bryant",
         "orientation": "v",
         "showlegend": true,
         "type": "scatter",
         "x": [
          3.8
         ],
         "xaxis": "x",
         "y": [
          2.1
         ],
         "yaxis": "y"
        },
        {
         "hovertemplate": "Player=Tim Hardaway Jr.<br>Field Goal Attempts=%{x}<br>Field Goals Made=%{y}<extra></extra>",
         "legendgroup": "Tim Hardaway Jr.",
         "marker": {
          "color": "#00cc96",
          "symbol": "circle"
         },
         "mode": "markers",
         "name": "Tim Hardaway Jr.",
         "orientation": "v",
         "showlegend": true,
         "type": "scatter",
         "x": [
          12.8
         ],
         "xaxis": "x",
         "y": [
          5.2
         ],
         "yaxis": "y"
        },
        {
         "hovertemplate": "Player=Tobias Harris<br>Field Goal Attempts=%{x}<br>Field Goals Made=%{y}<extra></extra>",
         "legendgroup": "Tobias Harris",
         "marker": {
          "color": "#ab63fa",
          "symbol": "circle"
         },
         "mode": "markers",
         "name": "Tobias Harris",
         "orientation": "v",
         "showlegend": true,
         "type": "scatter",
         "x": [
          13.6
         ],
         "xaxis": "x",
         "y": [
          6.7
         ],
         "yaxis": "y"
        },
        {
         "hovertemplate": "Player=Torrey Craig<br>Field Goal Attempts=%{x}<br>Field Goals Made=%{y}<extra></extra>",
         "legendgroup": "Torrey Craig",
         "marker": {
          "color": "#FFA15A",
          "symbol": "circle"
         },
         "mode": "markers",
         "name": "Torrey Craig",
         "orientation": "v",
         "showlegend": true,
         "type": "scatter",
         "x": [
          5
         ],
         "xaxis": "x",
         "y": [
          2.2
         ],
         "yaxis": "y"
        },
        {
         "hovertemplate": "Player=Tosan Evbuomwan<br>Field Goal Attempts=%{x}<br>Field Goals Made=%{y}<extra></extra>",
         "legendgroup": "Tosan Evbuomwan",
         "marker": {
          "color": "#19d3f3",
          "symbol": "circle"
         },
         "mode": "markers",
         "name": "Tosan Evbuomwan",
         "orientation": "v",
         "showlegend": true,
         "type": "scatter",
         "x": [
          4
         ],
         "xaxis": "x",
         "y": [
          1.9
         ],
         "yaxis": "y"
        },
        {
         "hovertemplate": "Player=Toumani Camara<br>Field Goal Attempts=%{x}<br>Field Goals Made=%{y}<extra></extra>",
         "legendgroup": "Toumani Camara",
         "marker": {
          "color": "#FF6692",
          "symbol": "circle"
         },
         "mode": "markers",
         "name": "Toumani Camara",
         "orientation": "v",
         "showlegend": true,
         "type": "scatter",
         "x": [
          6.3
         ],
         "xaxis": "x",
         "y": [
          2.8
         ],
         "yaxis": "y"
        },
        {
         "hovertemplate": "Player=Trae Young<br>Field Goal Attempts=%{x}<br>Field Goals Made=%{y}<extra></extra>",
         "legendgroup": "Trae Young",
         "marker": {
          "color": "#B6E880",
          "symbol": "circle"
         },
         "mode": "markers",
         "name": "Trae Young",
         "orientation": "v",
         "showlegend": true,
         "type": "scatter",
         "x": [
          19.3
         ],
         "xaxis": "x",
         "y": [
          8.2
         ],
         "yaxis": "y"
        },
        {
         "hovertemplate": "Player=Trayce Jackson-Davis<br>Field Goal Attempts=%{x}<br>Field Goals Made=%{y}<extra></extra>",
         "legendgroup": "Trayce Jackson-Davis",
         "marker": {
          "color": "#FF97FF",
          "symbol": "circle"
         },
         "mode": "markers",
         "name": "Trayce Jackson-Davis",
         "orientation": "v",
         "showlegend": true,
         "type": "scatter",
         "x": [
          4.7
         ],
         "xaxis": "x",
         "y": [
          3.3
         ],
         "yaxis": "y"
        },
        {
         "hovertemplate": "Player=Tre Jones<br>Field Goal Attempts=%{x}<br>Field Goals Made=%{y}<extra></extra>",
         "legendgroup": "Tre Jones",
         "marker": {
          "color": "#FECB52",
          "symbol": "circle"
         },
         "mode": "markers",
         "name": "Tre Jones",
         "orientation": "v",
         "showlegend": true,
         "type": "scatter",
         "x": [
          7.4
         ],
         "xaxis": "x",
         "y": [
          3.8
         ],
         "yaxis": "y"
        },
        {
         "hovertemplate": "Player=Tre Mann<br>Field Goal Attempts=%{x}<br>Field Goals Made=%{y}<extra></extra>",
         "legendgroup": "Tre Mann",
         "marker": {
          "color": "#636efa",
          "symbol": "circle"
         },
         "mode": "markers",
         "name": "Tre Mann",
         "orientation": "v",
         "showlegend": true,
         "type": "scatter",
         "x": [
          7.2
         ],
         "xaxis": "x",
         "y": [
          3.3
         ],
         "yaxis": "y"
        },
        {
         "hovertemplate": "Player=Trendon Watford<br>Field Goal Attempts=%{x}<br>Field Goals Made=%{y}<extra></extra>",
         "legendgroup": "Trendon Watford",
         "marker": {
          "color": "#EF553B",
          "symbol": "circle"
         },
         "mode": "markers",
         "name": "Trendon Watford",
         "orientation": "v",
         "showlegend": true,
         "type": "scatter",
         "x": [
          4.4
         ],
         "xaxis": "x",
         "y": [
          2.4
         ],
         "yaxis": "y"
        },
        {
         "hovertemplate": "Player=Trent Forrest<br>Field Goal Attempts=%{x}<br>Field Goals Made=%{y}<extra></extra>",
         "legendgroup": "Trent Forrest",
         "marker": {
          "color": "#00cc96",
          "symbol": "circle"
         },
         "mode": "markers",
         "name": "Trent Forrest",
         "orientation": "v",
         "showlegend": true,
         "type": "scatter",
         "x": [
          2.4
         ],
         "xaxis": "x",
         "y": [
          0.9
         ],
         "yaxis": "y"
        },
        {
         "hovertemplate": "Player=Trevelin Queen<br>Field Goal Attempts=%{x}<br>Field Goals Made=%{y}<extra></extra>",
         "legendgroup": "Trevelin Queen",
         "marker": {
          "color": "#ab63fa",
          "symbol": "circle"
         },
         "mode": "markers",
         "name": "Trevelin Queen",
         "orientation": "v",
         "showlegend": true,
         "type": "scatter",
         "x": [
          2.9
         ],
         "xaxis": "x",
         "y": [
          1.1
         ],
         "yaxis": "y"
        },
        {
         "hovertemplate": "Player=Trey Jemison<br>Field Goal Attempts=%{x}<br>Field Goals Made=%{y}<extra></extra>",
         "legendgroup": "Trey Jemison",
         "marker": {
          "color": "#FFA15A",
          "symbol": "circle"
         },
         "mode": "markers",
         "name": "Trey Jemison",
         "orientation": "v",
         "showlegend": true,
         "type": "scatter",
         "x": [
          4.6
         ],
         "xaxis": "x",
         "y": [
          2.7
         ],
         "yaxis": "y"
        },
        {
         "hovertemplate": "Player=Trey Lyles<br>Field Goal Attempts=%{x}<br>Field Goals Made=%{y}<extra></extra>",
         "legendgroup": "Trey Lyles",
         "marker": {
          "color": "#19d3f3",
          "symbol": "circle"
         },
         "mode": "markers",
         "name": "Trey Lyles",
         "orientation": "v",
         "showlegend": true,
         "type": "scatter",
         "x": [
          5.4
         ],
         "xaxis": "x",
         "y": [
          2.4
         ],
         "yaxis": "y"
        },
        {
         "hovertemplate": "Player=Trey Murphy III<br>Field Goal Attempts=%{x}<br>Field Goals Made=%{y}<extra></extra>",
         "legendgroup": "Trey Murphy III",
         "marker": {
          "color": "#FF6692",
          "symbol": "circle"
         },
         "mode": "markers",
         "name": "Trey Murphy III",
         "orientation": "v",
         "showlegend": true,
         "type": "scatter",
         "x": [
          10.7
         ],
         "xaxis": "x",
         "y": [
          4.6
         ],
         "yaxis": "y"
        },
        {
         "hovertemplate": "Player=Tristan Thompson<br>Field Goal Attempts=%{x}<br>Field Goals Made=%{y}<extra></extra>",
         "legendgroup": "Tristan Thompson",
         "marker": {
          "color": "#B6E880",
          "symbol": "circle"
         },
         "mode": "markers",
         "name": "Tristan Thompson",
         "orientation": "v",
         "showlegend": true,
         "type": "scatter",
         "x": [
          2.4
         ],
         "xaxis": "x",
         "y": [
          1.6
         ],
         "yaxis": "y"
        },
        {
         "hovertemplate": "Player=Tristan Vukcevic<br>Field Goal Attempts=%{x}<br>Field Goals Made=%{y}<extra></extra>",
         "legendgroup": "Tristan Vukcevic",
         "marker": {
          "color": "#FF97FF",
          "symbol": "circle"
         },
         "mode": "markers",
         "name": "Tristan Vukcevic",
         "orientation": "v",
         "showlegend": true,
         "type": "scatter",
         "x": [
          2
         ],
         "xaxis": "x",
         "y": [
          0.6
         ],
         "yaxis": "y"
        },
        {
         "hovertemplate": "Player=Troy Brown Jr.<br>Field Goal Attempts=%{x}<br>Field Goals Made=%{y}<extra></extra>",
         "legendgroup": "Troy Brown Jr.",
         "marker": {
          "color": "#FECB52",
          "symbol": "circle"
         },
         "mode": "markers",
         "name": "Troy Brown Jr.",
         "orientation": "v",
         "showlegend": true,
         "type": "scatter",
         "x": [
          3.5
         ],
         "xaxis": "x",
         "y": [
          1.4
         ],
         "yaxis": "y"
        },
        {
         "hovertemplate": "Player=Ty Jerome<br>Field Goal Attempts=%{x}<br>Field Goals Made=%{y}<extra></extra>",
         "legendgroup": "Ty Jerome",
         "marker": {
          "color": "#636efa",
          "symbol": "circle"
         },
         "mode": "markers",
         "name": "Ty Jerome",
         "orientation": "v",
         "showlegend": true,
         "type": "scatter",
         "x": [
          2
         ],
         "xaxis": "x",
         "y": [
          1
         ],
         "yaxis": "y"
        },
        {
         "hovertemplate": "Player=TyTy Washington Jr.<br>Field Goal Attempts=%{x}<br>Field Goals Made=%{y}<extra></extra>",
         "legendgroup": "TyTy Washington Jr.",
         "marker": {
          "color": "#EF553B",
          "symbol": "circle"
         },
         "mode": "markers",
         "name": "TyTy Washington Jr.",
         "orientation": "v",
         "showlegend": true,
         "type": "scatter",
         "x": [
          1.4
         ],
         "xaxis": "x",
         "y": [
          0.2
         ],
         "yaxis": "y"
        },
        {
         "hovertemplate": "Player=Tyler Herro<br>Field Goal Attempts=%{x}<br>Field Goals Made=%{y}<extra></extra>",
         "legendgroup": "Tyler Herro",
         "marker": {
          "color": "#00cc96",
          "symbol": "circle"
         },
         "mode": "markers",
         "name": "Tyler Herro",
         "orientation": "v",
         "showlegend": true,
         "type": "scatter",
         "x": [
          18
         ],
         "xaxis": "x",
         "y": [
          7.9
         ],
         "yaxis": "y"
        },
        {
         "hovertemplate": "Player=Tyrese Haliburton<br>Field Goal Attempts=%{x}<br>Field Goals Made=%{y}<extra></extra>",
         "legendgroup": "Tyrese Haliburton",
         "marker": {
          "color": "#ab63fa",
          "symbol": "circle"
         },
         "mode": "markers",
         "name": "Tyrese Haliburton",
         "orientation": "v",
         "showlegend": true,
         "type": "scatter",
         "x": [
          15.4
         ],
         "xaxis": "x",
         "y": [
          7.3
         ],
         "yaxis": "y"
        },
        {
         "hovertemplate": "Player=Tyrese Maxey<br>Field Goal Attempts=%{x}<br>Field Goals Made=%{y}<extra></extra>",
         "legendgroup": "Tyrese Maxey",
         "marker": {
          "color": "#FFA15A",
          "symbol": "circle"
         },
         "mode": "markers",
         "name": "Tyrese Maxey",
         "orientation": "v",
         "showlegend": true,
         "type": "scatter",
         "x": [
          20.1
         ],
         "xaxis": "x",
         "y": [
          9
         ],
         "yaxis": "y"
        },
        {
         "hovertemplate": "Player=Tyus Jones<br>Field Goal Attempts=%{x}<br>Field Goals Made=%{y}<extra></extra>",
         "legendgroup": "Tyus Jones",
         "marker": {
          "color": "#19d3f3",
          "symbol": "circle"
         },
         "mode": "markers",
         "name": "Tyus Jones",
         "orientation": "v",
         "showlegend": true,
         "type": "scatter",
         "x": [
          10.1
         ],
         "xaxis": "x",
         "y": [
          4.9
         ],
         "yaxis": "y"
        },
        {
         "hovertemplate": "Player=Udoka Azubuike<br>Field Goal Attempts=%{x}<br>Field Goals Made=%{y}<extra></extra>",
         "legendgroup": "Udoka Azubuike",
         "marker": {
          "color": "#FF6692",
          "symbol": "circle"
         },
         "mode": "markers",
         "name": "Udoka Azubuike",
         "orientation": "v",
         "showlegend": true,
         "type": "scatter",
         "x": [
          1.6
         ],
         "xaxis": "x",
         "y": [
          1.1
         ],
         "yaxis": "y"
        },
        {
         "hovertemplate": "Player=Usman Garuba<br>Field Goal Attempts=%{x}<br>Field Goals Made=%{y}<extra></extra>",
         "legendgroup": "Usman Garuba",
         "marker": {
          "color": "#B6E880",
          "symbol": "circle"
         },
         "mode": "markers",
         "name": "Usman Garuba",
         "orientation": "v",
         "showlegend": true,
         "type": "scatter",
         "x": [
          0.3
         ],
         "xaxis": "x",
         "y": [
          0
         ],
         "yaxis": "y"
        },
        {
         "hovertemplate": "Player=Vasilije Micic<br>Field Goal Attempts=%{x}<br>Field Goals Made=%{y}<extra></extra>",
         "legendgroup": "Vasilije Micic",
         "marker": {
          "color": "#FF97FF",
          "symbol": "circle"
         },
         "mode": "markers",
         "name": "Vasilije Micic",
         "orientation": "v",
         "showlegend": true,
         "type": "scatter",
         "x": [
          5.9
         ],
         "xaxis": "x",
         "y": [
          2.6
         ],
         "yaxis": "y"
        },
        {
         "hovertemplate": "Player=Victor Wembanyama<br>Field Goal Attempts=%{x}<br>Field Goals Made=%{y}<extra></extra>",
         "legendgroup": "Victor Wembanyama",
         "marker": {
          "color": "#FECB52",
          "symbol": "circle"
         },
         "mode": "markers",
         "name": "Victor Wembanyama",
         "orientation": "v",
         "showlegend": true,
         "type": "scatter",
         "x": [
          16.3
         ],
         "xaxis": "x",
         "y": [
          7.7
         ],
         "yaxis": "y"
        },
        {
         "hovertemplate": "Player=Vince Williams Jr.<br>Field Goal Attempts=%{x}<br>Field Goals Made=%{y}<extra></extra>",
         "legendgroup": "Vince Williams Jr.",
         "marker": {
          "color": "#636efa",
          "symbol": "circle"
         },
         "mode": "markers",
         "name": "Vince Williams Jr.",
         "orientation": "v",
         "showlegend": true,
         "type": "scatter",
         "x": [
          7.3
         ],
         "xaxis": "x",
         "y": [
          3.3
         ],
         "yaxis": "y"
        },
        {
         "hovertemplate": "Player=Vit Krejci<br>Field Goal Attempts=%{x}<br>Field Goals Made=%{y}<extra></extra>",
         "legendgroup": "Vit Krejci",
         "marker": {
          "color": "#EF553B",
          "symbol": "circle"
         },
         "mode": "markers",
         "name": "Vit Krejci",
         "orientation": "v",
         "showlegend": true,
         "type": "scatter",
         "x": [
          4.6
         ],
         "xaxis": "x",
         "y": [
          2.2
         ],
         "yaxis": "y"
        },
        {
         "hovertemplate": "Player=Walker Kessler<br>Field Goal Attempts=%{x}<br>Field Goals Made=%{y}<extra></extra>",
         "legendgroup": "Walker Kessler",
         "marker": {
          "color": "#00cc96",
          "symbol": "circle"
         },
         "mode": "markers",
         "name": "Walker Kessler",
         "orientation": "v",
         "showlegend": true,
         "type": "scatter",
         "x": [
          5.5
         ],
         "xaxis": "x",
         "y": [
          3.6
         ],
         "yaxis": "y"
        },
        {
         "hovertemplate": "Player=Wendell Carter Jr.<br>Field Goal Attempts=%{x}<br>Field Goals Made=%{y}<extra></extra>",
         "legendgroup": "Wendell Carter Jr.",
         "marker": {
          "color": "#ab63fa",
          "symbol": "circle"
         },
         "mode": "markers",
         "name": "Wendell Carter Jr.",
         "orientation": "v",
         "showlegend": true,
         "type": "scatter",
         "x": [
          7.8
         ],
         "xaxis": "x",
         "y": [
          4.1
         ],
         "yaxis": "y"
        },
        {
         "hovertemplate": "Player=Wendell Moore Jr.<br>Field Goal Attempts=%{x}<br>Field Goals Made=%{y}<extra></extra>",
         "legendgroup": "Wendell Moore Jr.",
         "marker": {
          "color": "#FFA15A",
          "symbol": "circle"
         },
         "mode": "markers",
         "name": "Wendell Moore Jr.",
         "orientation": "v",
         "showlegend": true,
         "type": "scatter",
         "x": [
          0.6
         ],
         "xaxis": "x",
         "y": [
          0.3
         ],
         "yaxis": "y"
        },
        {
         "hovertemplate": "Player=Wenyen Gabriel<br>Field Goal Attempts=%{x}<br>Field Goals Made=%{y}<extra></extra>",
         "legendgroup": "Wenyen Gabriel",
         "marker": {
          "color": "#19d3f3",
          "symbol": "circle"
         },
         "mode": "markers",
         "name": "Wenyen Gabriel",
         "orientation": "v",
         "showlegend": true,
         "type": "scatter",
         "x": [
          4.4
         ],
         "xaxis": "x",
         "y": [
          1.6
         ],
         "yaxis": "y"
        },
        {
         "hovertemplate": "Player=Wesley Matthews<br>Field Goal Attempts=%{x}<br>Field Goals Made=%{y}<extra></extra>",
         "legendgroup": "Wesley Matthews",
         "marker": {
          "color": "#FF6692",
          "symbol": "circle"
         },
         "mode": "markers",
         "name": "Wesley Matthews",
         "orientation": "v",
         "showlegend": true,
         "type": "scatter",
         "x": [
          2.8
         ],
         "xaxis": "x",
         "y": [
          1
         ],
         "yaxis": "y"
        },
        {
         "hovertemplate": "Player=Xavier Moon<br>Field Goal Attempts=%{x}<br>Field Goals Made=%{y}<extra></extra>",
         "legendgroup": "Xavier Moon",
         "marker": {
          "color": "#B6E880",
          "symbol": "circle"
         },
         "mode": "markers",
         "name": "Xavier Moon",
         "orientation": "v",
         "showlegend": true,
         "type": "scatter",
         "x": [
          1.6
         ],
         "xaxis": "x",
         "y": [
          0.6
         ],
         "yaxis": "y"
        },
        {
         "hovertemplate": "Player=Xavier Tillman<br>Field Goal Attempts=%{x}<br>Field Goals Made=%{y}<extra></extra>",
         "legendgroup": "Xavier Tillman",
         "marker": {
          "color": "#FF97FF",
          "symbol": "circle"
         },
         "mode": "markers",
         "name": "Xavier Tillman",
         "orientation": "v",
         "showlegend": true,
         "type": "scatter",
         "x": [
          5.3
         ],
         "xaxis": "x",
         "y": [
          2.2
         ],
         "yaxis": "y"
        },
        {
         "hovertemplate": "Player=Yuta Watanabe<br>Field Goal Attempts=%{x}<br>Field Goals Made=%{y}<extra></extra>",
         "legendgroup": "Yuta Watanabe",
         "marker": {
          "color": "#FECB52",
          "symbol": "circle"
         },
         "mode": "markers",
         "name": "Yuta Watanabe",
         "orientation": "v",
         "showlegend": true,
         "type": "scatter",
         "x": [
          3.4
         ],
         "xaxis": "x",
         "y": [
          1.2
         ],
         "yaxis": "y"
        },
        {
         "hovertemplate": "Player=Zach Collins<br>Field Goal Attempts=%{x}<br>Field Goals Made=%{y}<extra></extra>",
         "legendgroup": "Zach Collins",
         "marker": {
          "color": "#636efa",
          "symbol": "circle"
         },
         "mode": "markers",
         "name": "Zach Collins",
         "orientation": "v",
         "showlegend": true,
         "type": "scatter",
         "x": [
          8.8
         ],
         "xaxis": "x",
         "y": [
          4.2
         ],
         "yaxis": "y"
        },
        {
         "hovertemplate": "Player=Zach LaVine<br>Field Goal Attempts=%{x}<br>Field Goals Made=%{y}<extra></extra>",
         "legendgroup": "Zach LaVine",
         "marker": {
          "color": "#EF553B",
          "symbol": "circle"
         },
         "mode": "markers",
         "name": "Zach LaVine",
         "orientation": "v",
         "showlegend": true,
         "type": "scatter",
         "x": [
          15
         ],
         "xaxis": "x",
         "y": [
          6.8
         ],
         "yaxis": "y"
        },
        {
         "hovertemplate": "Player=Zavier Simpson<br>Field Goal Attempts=%{x}<br>Field Goals Made=%{y}<extra></extra>",
         "legendgroup": "Zavier Simpson",
         "marker": {
          "color": "#00cc96",
          "symbol": "circle"
         },
         "mode": "markers",
         "name": "Zavier Simpson",
         "orientation": "v",
         "showlegend": true,
         "type": "scatter",
         "x": [
          1
         ],
         "xaxis": "x",
         "y": [
          0
         ],
         "yaxis": "y"
        },
        {
         "hovertemplate": "Player=Zeke Nnaji<br>Field Goal Attempts=%{x}<br>Field Goals Made=%{y}<extra></extra>",
         "legendgroup": "Zeke Nnaji",
         "marker": {
          "color": "#ab63fa",
          "symbol": "circle"
         },
         "mode": "markers",
         "name": "Zeke Nnaji",
         "orientation": "v",
         "showlegend": true,
         "type": "scatter",
         "x": [
          2.6
         ],
         "xaxis": "x",
         "y": [
          1.2
         ],
         "yaxis": "y"
        },
        {
         "hovertemplate": "Player=Ziaire Williams<br>Field Goal Attempts=%{x}<br>Field Goals Made=%{y}<extra></extra>",
         "legendgroup": "Ziaire Williams",
         "marker": {
          "color": "#FFA15A",
          "symbol": "circle"
         },
         "mode": "markers",
         "name": "Ziaire Williams",
         "orientation": "v",
         "showlegend": true,
         "type": "scatter",
         "x": [
          7.4
         ],
         "xaxis": "x",
         "y": [
          2.9
         ],
         "yaxis": "y"
        },
        {
         "hovertemplate": "Player=Zion Williamson<br>Field Goal Attempts=%{x}<br>Field Goals Made=%{y}<extra></extra>",
         "legendgroup": "Zion Williamson",
         "marker": {
          "color": "#19d3f3",
          "symbol": "circle"
         },
         "mode": "markers",
         "name": "Zion Williamson",
         "orientation": "v",
         "showlegend": true,
         "type": "scatter",
         "x": [
          15.2
         ],
         "xaxis": "x",
         "y": [
          8.9
         ],
         "yaxis": "y"
        }
       ],
       "layout": {
        "legend": {
         "title": {
          "text": "Player"
         },
         "tracegroupgap": 0
        },
        "template": {
         "data": {
          "bar": [
           {
            "error_x": {
             "color": "#2a3f5f"
            },
            "error_y": {
             "color": "#2a3f5f"
            },
            "marker": {
             "line": {
              "color": "#E5ECF6",
              "width": 0.5
             },
             "pattern": {
              "fillmode": "overlay",
              "size": 10,
              "solidity": 0.2
             }
            },
            "type": "bar"
           }
          ],
          "barpolar": [
           {
            "marker": {
             "line": {
              "color": "#E5ECF6",
              "width": 0.5
             },
             "pattern": {
              "fillmode": "overlay",
              "size": 10,
              "solidity": 0.2
             }
            },
            "type": "barpolar"
           }
          ],
          "carpet": [
           {
            "aaxis": {
             "endlinecolor": "#2a3f5f",
             "gridcolor": "white",
             "linecolor": "white",
             "minorgridcolor": "white",
             "startlinecolor": "#2a3f5f"
            },
            "baxis": {
             "endlinecolor": "#2a3f5f",
             "gridcolor": "white",
             "linecolor": "white",
             "minorgridcolor": "white",
             "startlinecolor": "#2a3f5f"
            },
            "type": "carpet"
           }
          ],
          "choropleth": [
           {
            "colorbar": {
             "outlinewidth": 0,
             "ticks": ""
            },
            "type": "choropleth"
           }
          ],
          "contour": [
           {
            "colorbar": {
             "outlinewidth": 0,
             "ticks": ""
            },
            "colorscale": [
             [
              0,
              "#0d0887"
             ],
             [
              0.1111111111111111,
              "#46039f"
             ],
             [
              0.2222222222222222,
              "#7201a8"
             ],
             [
              0.3333333333333333,
              "#9c179e"
             ],
             [
              0.4444444444444444,
              "#bd3786"
             ],
             [
              0.5555555555555556,
              "#d8576b"
             ],
             [
              0.6666666666666666,
              "#ed7953"
             ],
             [
              0.7777777777777778,
              "#fb9f3a"
             ],
             [
              0.8888888888888888,
              "#fdca26"
             ],
             [
              1,
              "#f0f921"
             ]
            ],
            "type": "contour"
           }
          ],
          "contourcarpet": [
           {
            "colorbar": {
             "outlinewidth": 0,
             "ticks": ""
            },
            "type": "contourcarpet"
           }
          ],
          "heatmap": [
           {
            "colorbar": {
             "outlinewidth": 0,
             "ticks": ""
            },
            "colorscale": [
             [
              0,
              "#0d0887"
             ],
             [
              0.1111111111111111,
              "#46039f"
             ],
             [
              0.2222222222222222,
              "#7201a8"
             ],
             [
              0.3333333333333333,
              "#9c179e"
             ],
             [
              0.4444444444444444,
              "#bd3786"
             ],
             [
              0.5555555555555556,
              "#d8576b"
             ],
             [
              0.6666666666666666,
              "#ed7953"
             ],
             [
              0.7777777777777778,
              "#fb9f3a"
             ],
             [
              0.8888888888888888,
              "#fdca26"
             ],
             [
              1,
              "#f0f921"
             ]
            ],
            "type": "heatmap"
           }
          ],
          "heatmapgl": [
           {
            "colorbar": {
             "outlinewidth": 0,
             "ticks": ""
            },
            "colorscale": [
             [
              0,
              "#0d0887"
             ],
             [
              0.1111111111111111,
              "#46039f"
             ],
             [
              0.2222222222222222,
              "#7201a8"
             ],
             [
              0.3333333333333333,
              "#9c179e"
             ],
             [
              0.4444444444444444,
              "#bd3786"
             ],
             [
              0.5555555555555556,
              "#d8576b"
             ],
             [
              0.6666666666666666,
              "#ed7953"
             ],
             [
              0.7777777777777778,
              "#fb9f3a"
             ],
             [
              0.8888888888888888,
              "#fdca26"
             ],
             [
              1,
              "#f0f921"
             ]
            ],
            "type": "heatmapgl"
           }
          ],
          "histogram": [
           {
            "marker": {
             "pattern": {
              "fillmode": "overlay",
              "size": 10,
              "solidity": 0.2
             }
            },
            "type": "histogram"
           }
          ],
          "histogram2d": [
           {
            "colorbar": {
             "outlinewidth": 0,
             "ticks": ""
            },
            "colorscale": [
             [
              0,
              "#0d0887"
             ],
             [
              0.1111111111111111,
              "#46039f"
             ],
             [
              0.2222222222222222,
              "#7201a8"
             ],
             [
              0.3333333333333333,
              "#9c179e"
             ],
             [
              0.4444444444444444,
              "#bd3786"
             ],
             [
              0.5555555555555556,
              "#d8576b"
             ],
             [
              0.6666666666666666,
              "#ed7953"
             ],
             [
              0.7777777777777778,
              "#fb9f3a"
             ],
             [
              0.8888888888888888,
              "#fdca26"
             ],
             [
              1,
              "#f0f921"
             ]
            ],
            "type": "histogram2d"
           }
          ],
          "histogram2dcontour": [
           {
            "colorbar": {
             "outlinewidth": 0,
             "ticks": ""
            },
            "colorscale": [
             [
              0,
              "#0d0887"
             ],
             [
              0.1111111111111111,
              "#46039f"
             ],
             [
              0.2222222222222222,
              "#7201a8"
             ],
             [
              0.3333333333333333,
              "#9c179e"
             ],
             [
              0.4444444444444444,
              "#bd3786"
             ],
             [
              0.5555555555555556,
              "#d8576b"
             ],
             [
              0.6666666666666666,
              "#ed7953"
             ],
             [
              0.7777777777777778,
              "#fb9f3a"
             ],
             [
              0.8888888888888888,
              "#fdca26"
             ],
             [
              1,
              "#f0f921"
             ]
            ],
            "type": "histogram2dcontour"
           }
          ],
          "mesh3d": [
           {
            "colorbar": {
             "outlinewidth": 0,
             "ticks": ""
            },
            "type": "mesh3d"
           }
          ],
          "parcoords": [
           {
            "line": {
             "colorbar": {
              "outlinewidth": 0,
              "ticks": ""
             }
            },
            "type": "parcoords"
           }
          ],
          "pie": [
           {
            "automargin": true,
            "type": "pie"
           }
          ],
          "scatter": [
           {
            "fillpattern": {
             "fillmode": "overlay",
             "size": 10,
             "solidity": 0.2
            },
            "type": "scatter"
           }
          ],
          "scatter3d": [
           {
            "line": {
             "colorbar": {
              "outlinewidth": 0,
              "ticks": ""
             }
            },
            "marker": {
             "colorbar": {
              "outlinewidth": 0,
              "ticks": ""
             }
            },
            "type": "scatter3d"
           }
          ],
          "scattercarpet": [
           {
            "marker": {
             "colorbar": {
              "outlinewidth": 0,
              "ticks": ""
             }
            },
            "type": "scattercarpet"
           }
          ],
          "scattergeo": [
           {
            "marker": {
             "colorbar": {
              "outlinewidth": 0,
              "ticks": ""
             }
            },
            "type": "scattergeo"
           }
          ],
          "scattergl": [
           {
            "marker": {
             "colorbar": {
              "outlinewidth": 0,
              "ticks": ""
             }
            },
            "type": "scattergl"
           }
          ],
          "scattermapbox": [
           {
            "marker": {
             "colorbar": {
              "outlinewidth": 0,
              "ticks": ""
             }
            },
            "type": "scattermapbox"
           }
          ],
          "scatterpolar": [
           {
            "marker": {
             "colorbar": {
              "outlinewidth": 0,
              "ticks": ""
             }
            },
            "type": "scatterpolar"
           }
          ],
          "scatterpolargl": [
           {
            "marker": {
             "colorbar": {
              "outlinewidth": 0,
              "ticks": ""
             }
            },
            "type": "scatterpolargl"
           }
          ],
          "scatterternary": [
           {
            "marker": {
             "colorbar": {
              "outlinewidth": 0,
              "ticks": ""
             }
            },
            "type": "scatterternary"
           }
          ],
          "surface": [
           {
            "colorbar": {
             "outlinewidth": 0,
             "ticks": ""
            },
            "colorscale": [
             [
              0,
              "#0d0887"
             ],
             [
              0.1111111111111111,
              "#46039f"
             ],
             [
              0.2222222222222222,
              "#7201a8"
             ],
             [
              0.3333333333333333,
              "#9c179e"
             ],
             [
              0.4444444444444444,
              "#bd3786"
             ],
             [
              0.5555555555555556,
              "#d8576b"
             ],
             [
              0.6666666666666666,
              "#ed7953"
             ],
             [
              0.7777777777777778,
              "#fb9f3a"
             ],
             [
              0.8888888888888888,
              "#fdca26"
             ],
             [
              1,
              "#f0f921"
             ]
            ],
            "type": "surface"
           }
          ],
          "table": [
           {
            "cells": {
             "fill": {
              "color": "#EBF0F8"
             },
             "line": {
              "color": "white"
             }
            },
            "header": {
             "fill": {
              "color": "#C8D4E3"
             },
             "line": {
              "color": "white"
             }
            },
            "type": "table"
           }
          ]
         },
         "layout": {
          "annotationdefaults": {
           "arrowcolor": "#2a3f5f",
           "arrowhead": 0,
           "arrowwidth": 1
          },
          "autotypenumbers": "strict",
          "coloraxis": {
           "colorbar": {
            "outlinewidth": 0,
            "ticks": ""
           }
          },
          "colorscale": {
           "diverging": [
            [
             0,
             "#8e0152"
            ],
            [
             0.1,
             "#c51b7d"
            ],
            [
             0.2,
             "#de77ae"
            ],
            [
             0.3,
             "#f1b6da"
            ],
            [
             0.4,
             "#fde0ef"
            ],
            [
             0.5,
             "#f7f7f7"
            ],
            [
             0.6,
             "#e6f5d0"
            ],
            [
             0.7,
             "#b8e186"
            ],
            [
             0.8,
             "#7fbc41"
            ],
            [
             0.9,
             "#4d9221"
            ],
            [
             1,
             "#276419"
            ]
           ],
           "sequential": [
            [
             0,
             "#0d0887"
            ],
            [
             0.1111111111111111,
             "#46039f"
            ],
            [
             0.2222222222222222,
             "#7201a8"
            ],
            [
             0.3333333333333333,
             "#9c179e"
            ],
            [
             0.4444444444444444,
             "#bd3786"
            ],
            [
             0.5555555555555556,
             "#d8576b"
            ],
            [
             0.6666666666666666,
             "#ed7953"
            ],
            [
             0.7777777777777778,
             "#fb9f3a"
            ],
            [
             0.8888888888888888,
             "#fdca26"
            ],
            [
             1,
             "#f0f921"
            ]
           ],
           "sequentialminus": [
            [
             0,
             "#0d0887"
            ],
            [
             0.1111111111111111,
             "#46039f"
            ],
            [
             0.2222222222222222,
             "#7201a8"
            ],
            [
             0.3333333333333333,
             "#9c179e"
            ],
            [
             0.4444444444444444,
             "#bd3786"
            ],
            [
             0.5555555555555556,
             "#d8576b"
            ],
            [
             0.6666666666666666,
             "#ed7953"
            ],
            [
             0.7777777777777778,
             "#fb9f3a"
            ],
            [
             0.8888888888888888,
             "#fdca26"
            ],
            [
             1,
             "#f0f921"
            ]
           ]
          },
          "colorway": [
           "#636efa",
           "#EF553B",
           "#00cc96",
           "#ab63fa",
           "#FFA15A",
           "#19d3f3",
           "#FF6692",
           "#B6E880",
           "#FF97FF",
           "#FECB52"
          ],
          "font": {
           "color": "#2a3f5f"
          },
          "geo": {
           "bgcolor": "white",
           "lakecolor": "white",
           "landcolor": "#E5ECF6",
           "showlakes": true,
           "showland": true,
           "subunitcolor": "white"
          },
          "hoverlabel": {
           "align": "left"
          },
          "hovermode": "closest",
          "mapbox": {
           "style": "light"
          },
          "paper_bgcolor": "white",
          "plot_bgcolor": "#E5ECF6",
          "polar": {
           "angularaxis": {
            "gridcolor": "white",
            "linecolor": "white",
            "ticks": ""
           },
           "bgcolor": "#E5ECF6",
           "radialaxis": {
            "gridcolor": "white",
            "linecolor": "white",
            "ticks": ""
           }
          },
          "scene": {
           "xaxis": {
            "backgroundcolor": "#E5ECF6",
            "gridcolor": "white",
            "gridwidth": 2,
            "linecolor": "white",
            "showbackground": true,
            "ticks": "",
            "zerolinecolor": "white"
           },
           "yaxis": {
            "backgroundcolor": "#E5ECF6",
            "gridcolor": "white",
            "gridwidth": 2,
            "linecolor": "white",
            "showbackground": true,
            "ticks": "",
            "zerolinecolor": "white"
           },
           "zaxis": {
            "backgroundcolor": "#E5ECF6",
            "gridcolor": "white",
            "gridwidth": 2,
            "linecolor": "white",
            "showbackground": true,
            "ticks": "",
            "zerolinecolor": "white"
           }
          },
          "shapedefaults": {
           "line": {
            "color": "#2a3f5f"
           }
          },
          "ternary": {
           "aaxis": {
            "gridcolor": "white",
            "linecolor": "white",
            "ticks": ""
           },
           "baxis": {
            "gridcolor": "white",
            "linecolor": "white",
            "ticks": ""
           },
           "bgcolor": "#E5ECF6",
           "caxis": {
            "gridcolor": "white",
            "linecolor": "white",
            "ticks": ""
           }
          },
          "title": {
           "x": 0.05
          },
          "xaxis": {
           "automargin": true,
           "gridcolor": "white",
           "linecolor": "white",
           "ticks": "",
           "title": {
            "standoff": 15
           },
           "zerolinecolor": "white",
           "zerolinewidth": 2
          },
          "yaxis": {
           "automargin": true,
           "gridcolor": "white",
           "linecolor": "white",
           "ticks": "",
           "title": {
            "standoff": 15
           },
           "zerolinecolor": "white",
           "zerolinewidth": 2
          }
         }
        },
        "title": {
         "text": "Field Goals Made versus Field Goal Attempts"
        },
        "xaxis": {
         "anchor": "y",
         "domain": [
          0,
          1
         ],
         "title": {
          "text": "Field Goal Attempts"
         }
        },
        "yaxis": {
         "anchor": "x",
         "domain": [
          0,
          1
         ],
         "title": {
          "text": "Field Goals Made"
         }
        }
       }
      }
     },
     "metadata": {},
     "output_type": "display_data"
    }
   ],
   "source": [
    "px.scatter(df, x='FGA', y='FGM', color='PLAYER_NAME', title='Field Goals Made versus Field Goal Attempts', labels={'FGA':'Field Goal Attempts','FGM':'Field Goals Made','PLAYER_NAME':'Player'})"
   ]
  },
  {
   "cell_type": "markdown",
   "metadata": {},
   "source": [
    "Now we see the actual names of each NBA player in the plot, making the visualization more informative.\n",
    "\n",
    "We can also include a line of best fit, called a trendline. We often use the [ordinary least squares](https://en.wikipedia.org/wiki/Ordinary_least_squares) method of calculating the trendline. To add a trendline, use the parameter `trendline`."
   ]
  },
  {
   "cell_type": "code",
   "execution_count": 7,
   "metadata": {},
   "outputs": [
    {
     "data": {
      "application/vnd.plotly.v1+json": {
       "config": {
        "plotlyServerURL": "https://plot.ly"
       },
       "data": [
        {
         "customdata": [
          [
           "A.J. Lawson"
          ],
          [
           "AJ Green"
          ],
          [
           "AJ Griffin"
          ],
          [
           "Aaron Gordon"
          ],
          [
           "Aaron Holiday"
          ],
          [
           "Aaron Nesmith"
          ],
          [
           "Aaron Wiggins"
          ],
          [
           "Adam Flagler"
          ],
          [
           "Adama Sanogo"
          ],
          [
           "Admiral Schofield"
          ],
          [
           "Al Horford"
          ],
          [
           "Alec Burks"
          ],
          [
           "Aleksej Pokusevski"
          ],
          [
           "Alex Caruso"
          ],
          [
           "Alex Fudge"
          ],
          [
           "Alex Len"
          ],
          [
           "Alondes Williams"
          ],
          [
           "Alperen Sengun"
          ],
          [
           "Amari Bailey"
          ],
          [
           "Amen Thompson"
          ],
          [
           "Amir Coffey"
          ],
          [
           "Andre Drummond"
          ],
          [
           "Andre Jackson Jr."
          ],
          [
           "Andrew Funk"
          ],
          [
           "Andrew Nembhard"
          ],
          [
           "Andrew Wiggins"
          ],
          [
           "Anfernee Simons"
          ],
          [
           "Anthony Black"
          ],
          [
           "Anthony Davis"
          ],
          [
           "Anthony Edwards"
          ],
          [
           "Anthony Gill"
          ],
          [
           "Armoni Brooks"
          ],
          [
           "Ashton Hagans"
          ],
          [
           "Ausar Thompson"
          ],
          [
           "Austin Reaves"
          ],
          [
           "Ayo Dosunmu"
          ],
          [
           "Bam Adebayo"
          ],
          [
           "Ben Sheppard"
          ],
          [
           "Ben Simmons"
          ],
          [
           "Bennedict Mathurin"
          ],
          [
           "Bilal Coulibaly"
          ],
          [
           "Bismack Biyombo"
          ],
          [
           "Blake Wesley"
          ],
          [
           "Boban Marjanovic"
          ],
          [
           "Bobby Portis"
          ],
          [
           "Bogdan Bogdanovic"
          ],
          [
           "Bojan Bogdanovic"
          ],
          [
           "Bol Bol"
          ],
          [
           "Bones Hyland"
          ],
          [
           "Bradley Beal"
          ],
          [
           "Brandin Podziemski"
          ],
          [
           "Brandon Boston Jr."
          ],
          [
           "Brandon Clarke"
          ],
          [
           "Brandon Ingram"
          ],
          [
           "Brandon Miller"
          ],
          [
           "Brandon Williams"
          ],
          [
           "Braxton Key"
          ],
          [
           "Brice Sensabaugh"
          ],
          [
           "Brook Lopez"
          ],
          [
           "Bruce Brown"
          ],
          [
           "Bruno Fernando"
          ],
          [
           "Bryce McGowens"
          ],
          [
           "Buddy Boeheim"
          ],
          [
           "Buddy Hield"
          ],
          [
           "CJ McCollum"
          ],
          [
           "Cade Cunningham"
          ],
          [
           "Caleb Houstan"
          ],
          [
           "Caleb Martin"
          ],
          [
           "Cam Reddish"
          ],
          [
           "Cam Thomas"
          ],
          [
           "Cam Whitmore"
          ],
          [
           "Cameron Johnson"
          ],
          [
           "Cameron Payne"
          ],
          [
           "Caris LeVert"
          ],
          [
           "Cason Wallace"
          ],
          [
           "Cedi Osman"
          ],
          [
           "Charles Bassey"
          ],
          [
           "Charlie Brown Jr."
          ],
          [
           "Chet Holmgren"
          ],
          [
           "Chimezie Metu"
          ],
          [
           "Chris Boucher"
          ],
          [
           "Chris Duarte"
          ],
          [
           "Chris Livingston"
          ],
          [
           "Chris Paul"
          ],
          [
           "Christian Braun"
          ],
          [
           "Christian Wood"
          ],
          [
           "Chuma Okeke"
          ],
          [
           "Clint Capela"
          ],
          [
           "Coby White"
          ],
          [
           "Cody Martin"
          ],
          [
           "Cody Zeller"
          ],
          [
           "Colby Jones"
          ],
          [
           "Cole Anthony"
          ],
          [
           "Cole Swider"
          ],
          [
           "Colin Castleton"
          ],
          [
           "Collin Gillespie"
          ],
          [
           "Collin Sexton"
          ],
          [
           "Corey Kispert"
          ],
          [
           "Cory Joseph"
          ],
          [
           "Craig Porter Jr."
          ],
          [
           "D'Angelo Russell"
          ],
          [
           "D'Moi Hodge"
          ],
          [
           "D.J. Carton"
          ],
          [
           "D.J. Wilson"
          ],
          [
           "DaQuan Jeffries"
          ],
          [
           "Daishen Nix"
          ],
          [
           "Dalano Banton"
          ],
          [
           "Dalen Terry"
          ],
          [
           "Damian Jones"
          ],
          [
           "Damian Lillard"
          ],
          [
           "Daniel Gafford"
          ],
          [
           "Daniel Theis"
          ],
          [
           "Danilo Gallinari"
          ],
          [
           "Danny Green"
          ],
          [
           "Dante Exum"
          ],
          [
           "Danuel House Jr."
          ],
          [
           "Dario Saric"
          ],
          [
           "Dariq Whitehead"
          ],
          [
           "Darius Bazley"
          ],
          [
           "Darius Garland"
          ],
          [
           "David Roddy"
          ],
          [
           "Davion Mitchell"
          ],
          [
           "Davis Bertans"
          ],
          [
           "Day'Ron Sharpe"
          ],
          [
           "De'Aaron Fox"
          ],
          [
           "De'Andre Hunter"
          ],
          [
           "De'Anthony Melton"
          ],
          [
           "DeAndre Jordan"
          ],
          [
           "DeJon Jarreau"
          ],
          [
           "DeMar DeRozan"
          ],
          [
           "Dean Wade"
          ],
          [
           "Deandre Ayton"
          ],
          [
           "Dejounte Murray"
          ],
          [
           "Delon Wright"
          ],
          [
           "Deni Avdija"
          ],
          [
           "Dennis Schroder"
          ],
          [
           "Dennis Smith Jr."
          ],
          [
           "Dereck Lively II"
          ],
          [
           "Dereon Seabron"
          ],
          [
           "Derrick Jones Jr."
          ],
          [
           "Derrick Rose"
          ],
          [
           "Derrick White"
          ],
          [
           "Desmond Bane"
          ],
          [
           "Devin Booker"
          ],
          [
           "Devin Vassell"
          ],
          [
           "Devonte' Graham"
          ],
          [
           "Dexter Dennis"
          ],
          [
           "Dillon Brooks"
          ],
          [
           "Dmytro Skapintsev"
          ],
          [
           "Domantas Sabonis"
          ],
          [
           "Dominick Barlow"
          ],
          [
           "Donovan Mitchell"
          ],
          [
           "Donte DiVincenzo"
          ],
          [
           "Dorian Finney-Smith"
          ],
          [
           "Doug McDermott"
          ],
          [
           "Draymond Green"
          ],
          [
           "Drew Eubanks"
          ],
          [
           "Drew Peterson"
          ],
          [
           "Dru Smith"
          ],
          [
           "Duncan Robinson"
          ],
          [
           "Duop Reath"
          ],
          [
           "Dwight Powell"
          ],
          [
           "Dylan Windler"
          ],
          [
           "Dyson Daniels"
          ],
          [
           "E.J. Liddell"
          ],
          [
           "Emoni Bates"
          ],
          [
           "Eric Gordon"
          ],
          [
           "Eugene Omoruyi"
          ],
          [
           "Evan Fournier"
          ],
          [
           "Evan Mobley"
          ],
          [
           "Filip Petrusev"
          ],
          [
           "Frank Ntilikina"
          ],
          [
           "Franz Wagner"
          ],
          [
           "Fred VanVleet"
          ],
          [
           "Furkan Korkmaz"
          ],
          [
           "GG Jackson"
          ],
          [
           "Gabe Vincent"
          ],
          [
           "Garrett Temple"
          ],
          [
           "Garrison Mathews"
          ],
          [
           "Gary Harris"
          ],
          [
           "Gary Payton II"
          ],
          [
           "Gary Trent Jr."
          ],
          [
           "Georges Niang"
          ],
          [
           "Giannis Antetokounmpo"
          ],
          [
           "Goga Bitadze"
          ],
          [
           "Gordon Hayward"
          ],
          [
           "Gradey Dick"
          ],
          [
           "Grant Williams"
          ],
          [
           "Grayson Allen"
          ],
          [
           "Greg Brown III"
          ],
          [
           "Gui Santos"
          ],
          [
           "Hamidou Diallo"
          ],
          [
           "Harrison Barnes"
          ],
          [
           "Harry Giles III"
          ],
          [
           "Haywood Highsmith"
          ],
          [
           "Henri Drell"
          ],
          [
           "Herbert Jones"
          ],
          [
           "Hunter Tyson"
          ],
          [
           "Ibou Badji"
          ],
          [
           "Immanuel Quickley"
          ],
          [
           "Isaac Okoro"
          ],
          [
           "Isaiah Hartenstein"
          ],
          [
           "Isaiah Jackson"
          ],
          [
           "Isaiah Joe"
          ],
          [
           "Isaiah Livers"
          ],
          [
           "Isaiah Mobley"
          ],
          [
           "Isaiah Stewart"
          ],
          [
           "Isaiah Thomas"
          ],
          [
           "Ish Smith"
          ],
          [
           "Ish Wainright"
          ],
          [
           "Ivica Zubac"
          ],
          [
           "Izaiah Brockington"
          ],
          [
           "JD Davison"
          ],
          [
           "JT Thor"
          ],
          [
           "Ja Morant"
          ],
          [
           "JaVale McGee"
          ],
          [
           "Jabari Smith Jr."
          ],
          [
           "Jabari Walker"
          ],
          [
           "Jacob Gilyard"
          ],
          [
           "Jacob Toppin"
          ],
          [
           "Jaden Hardy"
          ],
          [
           "Jaden Ivey"
          ],
          [
           "Jaden McDaniels"
          ],
          [
           "Jaden Springer"
          ],
          [
           "Jae Crowder"
          ],
          [
           "Jae'Sean Tate"
          ],
          [
           "Jahmi'us Ramsey"
          ],
          [
           "Jaime Jaquez Jr."
          ],
          [
           "Jake LaRavia"
          ],
          [
           "Jakob Poeltl"
          ],
          [
           "Jalen Brunson"
          ],
          [
           "Jalen Crutcher"
          ],
          [
           "Jalen Duren"
          ],
          [
           "Jalen Green"
          ],
          [
           "Jalen Hood-Schifino"
          ],
          [
           "Jalen Johnson"
          ],
          [
           "Jalen McDaniels"
          ],
          [
           "Jalen Pickett"
          ],
          [
           "Jalen Slawson"
          ],
          [
           "Jalen Smith"
          ],
          [
           "Jalen Suggs"
          ],
          [
           "Jalen Williams"
          ],
          [
           "Jalen Wilson"
          ],
          [
           "Jamal Cain"
          ],
          [
           "Jamal Murray"
          ],
          [
           "Jamaree Bouyea"
          ],
          [
           "James Bouknight"
          ],
          [
           "James Harden"
          ],
          [
           "James Johnson"
          ],
          [
           "James Wiseman"
          ],
          [
           "Jarace Walker"
          ],
          [
           "Jared Butler"
          ],
          [
           "Jared Rhoden"
          ],
          [
           "Jaren Jackson Jr."
          ],
          [
           "Jarred Vanderbilt"
          ],
          [
           "Jarrett Allen"
          ],
          [
           "Jason Preston"
          ],
          [
           "Javon Freeman-Liberty"
          ],
          [
           "Javonte Green"
          ],
          [
           "Javonte Smart"
          ],
          [
           "Jaxson Hayes"
          ],
          [
           "Jay Huff"
          ],
          [
           "Jaylen Brown"
          ],
          [
           "Jaylen Nowell"
          ],
          [
           "Jaylin Williams"
          ],
          [
           "Jayson Tatum"
          ],
          [
           "Jeff Dowtin Jr."
          ],
          [
           "Jeff Green"
          ],
          [
           "Jerami Grant"
          ],
          [
           "Jeremiah Robinson-Earl"
          ],
          [
           "Jeremy Sochan"
          ],
          [
           "Jericho Sims"
          ],
          [
           "Jermaine Samuels Jr."
          ],
          [
           "Jerome Robinson"
          ],
          [
           "Jett Howard"
          ],
          [
           "Jevon Carter"
          ],
          [
           "Jimmy Butler"
          ],
          [
           "Jock Landale"
          ],
          [
           "Joe Harris"
          ],
          [
           "Joe Ingles"
          ],
          [
           "Joel Embiid"
          ],
          [
           "John Collins"
          ],
          [
           "John Konchar"
          ],
          [
           "Johnny Davis"
          ],
          [
           "Johnny Juzang"
          ],
          [
           "Jonas Valanciunas"
          ],
          [
           "Jonathan Isaac"
          ],
          [
           "Jonathan Kuminga"
          ],
          [
           "Jontay Porter"
          ],
          [
           "Jordan Clarkson"
          ],
          [
           "Jordan Ford"
          ],
          [
           "Jordan Goodwin"
          ],
          [
           "Jordan Hawkins"
          ],
          [
           "Jordan McLaughlin"
          ],
          [
           "Jordan Miller"
          ],
          [
           "Jordan Nwora"
          ],
          [
           "Jordan Poole"
          ],
          [
           "Jordan Walsh"
          ],
          [
           "Jose Alvarado"
          ],
          [
           "Josh Giddey"
          ],
          [
           "Josh Green"
          ],
          [
           "Josh Hart"
          ],
          [
           "Josh Minott"
          ],
          [
           "Josh Okogie"
          ],
          [
           "Josh Richardson"
          ],
          [
           "Joshua Primo"
          ],
          [
           "Jrue Holiday"
          ],
          [
           "Juan Toscano-Anderson"
          ],
          [
           "Jules Bernard"
          ],
          [
           "Julian Champagnie"
          ],
          [
           "Julian Phillips"
          ],
          [
           "Julian Strawther"
          ],
          [
           "Julius Randle"
          ],
          [
           "Justin Champagnie"
          ],
          [
           "Justin Holiday"
          ],
          [
           "Justin Jackson"
          ],
          [
           "Justin Minaya"
          ],
          [
           "Jusuf Nurkic"
          ],
          [
           "KJ Martin"
          ],
          [
           "Kaiser Gates"
          ],
          [
           "Karl-Anthony Towns"
          ],
          [
           "Kawhi Leonard"
          ],
          [
           "Keegan Murray"
          ],
          [
           "Keita Bates-Diop"
          ],
          [
           "Keldon Johnson"
          ],
          [
           "Kelly Olynyk"
          ],
          [
           "Kelly Oubre Jr."
          ],
          [
           "Kendall Brown"
          ],
          [
           "Kenneth Lofton Jr."
          ],
          [
           "Kenrich Williams"
          ],
          [
           "Kentavious Caldwell-Pope"
          ],
          [
           "Keon Ellis"
          ],
          [
           "Keon Johnson"
          ],
          [
           "Kessler Edwards"
          ],
          [
           "Kevin Durant"
          ],
          [
           "Kevin Huerter"
          ],
          [
           "Kevin Knox II"
          ],
          [
           "Kevin Love"
          ],
          [
           "Kevon Harris"
          ],
          [
           "Kevon Looney"
          ],
          [
           "Keyontae Johnson"
          ],
          [
           "Keyonte George"
          ],
          [
           "Khris Middleton"
          ],
          [
           "Killian Hayes"
          ],
          [
           "Kira Lewis Jr."
          ],
          [
           "Klay Thompson"
          ],
          [
           "Kobe Brown"
          ],
          [
           "Kobe Bufkin"
          ],
          [
           "Kobi Simmons"
          ],
          [
           "Kris Dunn"
          ],
          [
           "Kris Murray"
          ],
          [
           "Kristaps Porzingis"
          ],
          [
           "Kyle Anderson"
          ],
          [
           "Kyle Kuzma"
          ],
          [
           "Kyle Lowry"
          ],
          [
           "Kyrie Irving"
          ],
          [
           "LaMelo Ball"
          ],
          [
           "Lamar Stevens"
          ],
          [
           "Landry Shamet"
          ],
          [
           "Larry Nance Jr."
          ],
          [
           "Lauri Markkanen"
          ],
          [
           "LeBron James"
          ],
          [
           "Leaky Black"
          ],
          [
           "Leonard Miller"
          ],
          [
           "Lester Quinones"
          ],
          [
           "Lindell Wigginton"
          ],
          [
           "Lindy Waters III"
          ],
          [
           "Lonnie Walker IV"
          ],
          [
           "Luguentz Dort"
          ],
          [
           "Luka Doncic"
          ],
          [
           "Luka Garza"
          ],
          [
           "Luka Samanic"
          ],
          [
           "Luke Kennard"
          ],
          [
           "Luke Kornet"
          ],
          [
           "Malachi Flynn"
          ],
          [
           "Malaki Branham"
          ],
          [
           "Malcolm Brogdon"
          ],
          [
           "Malcolm Cazalon"
          ],
          [
           "Malik Beasley"
          ],
          [
           "Malik Monk"
          ],
          [
           "Mamadi Diakite"
          ],
          [
           "Maozinha Pereira"
          ],
          [
           "MarJon Beauchamp"
          ],
          [
           "Marcus Morris Sr."
          ],
          [
           "Marcus Sasser"
          ],
          [
           "Marcus Smart"
          ],
          [
           "Mark Williams"
          ],
          [
           "Markelle Fultz"
          ],
          [
           "Markieff Morris"
          ],
          [
           "Markquis Nowell"
          ],
          [
           "Marques Bolden"
          ],
          [
           "Marvin Bagley III"
          ],
          [
           "Mason Jones"
          ],
          [
           "Mason Plumlee"
          ],
          [
           "Matisse Thybulle"
          ],
          [
           "Matt Hurt"
          ],
          [
           "Matt Ryan"
          ],
          [
           "Max Christie"
          ],
          [
           "Max Strus"
          ],
          [
           "Maxi Kleber"
          ],
          [
           "Maxwell Lewis"
          ],
          [
           "Micah Potter"
          ],
          [
           "Michael Porter Jr."
          ],
          [
           "Mikal Bridges"
          ],
          [
           "Mike Conley"
          ],
          [
           "Mike Muscala"
          ],
          [
           "Miles Bridges"
          ],
          [
           "Miles McBride"
          ],
          [
           "Mitchell Robinson"
          ],
          [
           "Mo Bamba"
          ],
          [
           "Monte Morris"
          ],
          [
           "Moritz Wagner"
          ],
          [
           "Moses Brown"
          ],
          [
           "Moses Moody"
          ],
          [
           "Mouhamadou Gueye"
          ],
          [
           "Mouhamed Gueye"
          ],
          [
           "Moussa Diabate"
          ],
          [
           "Myles Turner"
          ],
          [
           "Naji Marshall"
          ],
          [
           "Nassir Little"
          ],
          [
           "Nate Hinton"
          ],
          [
           "Nate Williams"
          ],
          [
           "Nathan Mensah"
          ],
          [
           "Naz Reid"
          ],
          [
           "Neemias Queta"
          ],
          [
           "Nic Claxton"
          ],
          [
           "Nick Richards"
          ],
          [
           "Nick Smith Jr."
          ],
          [
           "Nickeil Alexander-Walker"
          ],
          [
           "Nicolas Batum"
          ],
          [
           "Nikola Jokic"
          ],
          [
           "Nikola Jovic"
          ],
          [
           "Nikola Vucevic"
          ],
          [
           "Noah Clowney"
          ],
          [
           "Norman Powell"
          ],
          [
           "OG Anunoby"
          ],
          [
           "Obi Toppin"
          ],
          [
           "Ochai Agbaji"
          ],
          [
           "Olivier Sarr"
          ],
          [
           "Olivier-Maxence Prosper"
          ],
          [
           "Omer Yurtseven"
          ],
          [
           "Onuralp Bitim"
          ],
          [
           "Onyeka Okongwu"
          ],
          [
           "Orlando Robinson"
          ],
          [
           "Oscar Tshiebwe"
          ],
          [
           "Oshae Brissett"
          ],
          [
           "Otto Porter Jr."
          ],
          [
           "Ousmane Dieng"
          ],
          [
           "P.J. Tucker"
          ],
          [
           "P.J. Washington"
          ],
          [
           "Paolo Banchero"
          ],
          [
           "Pascal Siakam"
          ],
          [
           "Pat Connaughton"
          ],
          [
           "Pat Spencer"
          ],
          [
           "Patrick Baldwin Jr."
          ],
          [
           "Patrick Beverley"
          ],
          [
           "Patrick Williams"
          ],
          [
           "Patty Mills"
          ],
          [
           "Paul George"
          ],
          [
           "Paul Reed"
          ],
          [
           "Payton Pritchard"
          ],
          [
           "Pete Nance"
          ],
          [
           "Peyton Watson"
          ],
          [
           "Precious Achiuwa"
          ],
          [
           "Quentin Grimes"
          ],
          [
           "Quenton Jackson"
          ],
          [
           "R.J. Hampton"
          ],
          [
           "RJ Barrett"
          ],
          [
           "Rayan Rupert"
          ],
          [
           "Reggie Bullock Jr."
          ],
          [
           "Reggie Jackson"
          ],
          [
           "Richaun Holmes"
          ],
          [
           "Ricky Council IV"
          ],
          [
           "Robert Covington"
          ],
          [
           "Robert Williams III"
          ],
          [
           "Robin Lopez"
          ],
          [
           "Ron Harper Jr."
          ],
          [
           "Royce O'Neale"
          ],
          [
           "Rudy Gobert"
          ],
          [
           "Rui Hachimura"
          ],
          [
           "Russell Westbrook"
          ],
          [
           "Ryan Arcidiacono"
          ],
          [
           "Ryan Rollins"
          ],
          [
           "Saben Lee"
          ],
          [
           "Saddiq Bey"
          ],
          [
           "Sam Hauser"
          ],
          [
           "Sam Merrill"
          ],
          [
           "Sandro Mamukelashvili"
          ],
          [
           "Santi Aldama"
          ],
          [
           "Sasha Vezenkov"
          ],
          [
           "Scoot Henderson"
          ],
          [
           "Scottie Barnes"
          ],
          [
           "Scotty Pippen Jr."
          ],
          [
           "Seth Curry"
          ],
          [
           "Seth Lundy"
          ],
          [
           "Shaedon Sharpe"
          ],
          [
           "Shai Gilgeous-Alexander"
          ],
          [
           "Shake Milton"
          ],
          [
           "Shaquille Harrison"
          ],
          [
           "Sidy Cissoko"
          ],
          [
           "Simone Fontecchio"
          ],
          [
           "Skylar Mays"
          ],
          [
           "Spencer Dinwiddie"
          ],
          [
           "Stanley Umude"
          ],
          [
           "Stephen Curry"
          ],
          [
           "Svi Mykhailiuk"
          ],
          [
           "T.J. McConnell"
          ],
          [
           "T.J. Warren"
          ],
          [
           "Taj Gibson"
          ],
          [
           "Talen Horton-Tucker"
          ],
          [
           "Tari Eason"
          ],
          [
           "Taurean Prince"
          ],
          [
           "Taylor Hendricks"
          ],
          [
           "Taze Moore"
          ],
          [
           "Terance Mann"
          ],
          [
           "Terquavion Smith"
          ],
          [
           "Terry Rozier"
          ],
          [
           "Terry Taylor"
          ],
          [
           "Thaddeus Young"
          ],
          [
           "Thanasis Antetokounmpo"
          ],
          [
           "Theo Maledon"
          ],
          [
           "Thomas Bryant"
          ],
          [
           "Tim Hardaway Jr."
          ],
          [
           "Tobias Harris"
          ],
          [
           "Torrey Craig"
          ],
          [
           "Tosan Evbuomwan"
          ],
          [
           "Toumani Camara"
          ],
          [
           "Trae Young"
          ],
          [
           "Trayce Jackson-Davis"
          ],
          [
           "Tre Jones"
          ],
          [
           "Tre Mann"
          ],
          [
           "Trendon Watford"
          ],
          [
           "Trent Forrest"
          ],
          [
           "Trevelin Queen"
          ],
          [
           "Trey Jemison"
          ],
          [
           "Trey Lyles"
          ],
          [
           "Trey Murphy III"
          ],
          [
           "Tristan Thompson"
          ],
          [
           "Tristan Vukcevic"
          ],
          [
           "Troy Brown Jr."
          ],
          [
           "Ty Jerome"
          ],
          [
           "TyTy Washington Jr."
          ],
          [
           "Tyler Herro"
          ],
          [
           "Tyrese Haliburton"
          ],
          [
           "Tyrese Maxey"
          ],
          [
           "Tyus Jones"
          ],
          [
           "Udoka Azubuike"
          ],
          [
           "Usman Garuba"
          ],
          [
           "Vasilije Micic"
          ],
          [
           "Victor Wembanyama"
          ],
          [
           "Vince Williams Jr."
          ],
          [
           "Vit Krejci"
          ],
          [
           "Walker Kessler"
          ],
          [
           "Wendell Carter Jr."
          ],
          [
           "Wendell Moore Jr."
          ],
          [
           "Wenyen Gabriel"
          ],
          [
           "Wesley Matthews"
          ],
          [
           "Xavier Moon"
          ],
          [
           "Xavier Tillman"
          ],
          [
           "Yuta Watanabe"
          ],
          [
           "Zach Collins"
          ],
          [
           "Zach LaVine"
          ],
          [
           "Zavier Simpson"
          ],
          [
           "Zeke Nnaji"
          ],
          [
           "Ziaire Williams"
          ],
          [
           "Zion Williamson"
          ]
         ],
         "hovertemplate": "Field Goal Attempts=%{x}<br>Field Goals Made=%{y}<br>Player=%{customdata[0]}<extra></extra>",
         "legendgroup": "",
         "marker": {
          "color": "#636efa",
          "symbol": "circle"
         },
         "mode": "markers",
         "name": "",
         "orientation": "v",
         "showlegend": false,
         "type": "scatter",
         "x": [
          2.7,
          3.4,
          2.5,
          9.9,
          5.4,
          8.9,
          4.3,
          3,
          1,
          1.1,
          6.4,
          9,
          3.6,
          7.6,
          1.5,
          1.8,
          1,
          15.6,
          1.5,
          7.1,
          4.4,
          6.1,
          1.8,
          0.5,
          7.8,
          10.9,
          18.2,
          3.7,
          17,
          19.9,
          2.4,
          4.6,
          3.9,
          7.6,
          11.5,
          9.3,
          14.6,
          3.7,
          4.9,
          11.2,
          6.9,
          3.3,
          3.2,
          2,
          10.9,
          14.1,
          12.5,
          3.7,
          5.9,
          13.9,
          8.2,
          3.7,
          8,
          16,
          14.7,
          1.8,
          0.9,
          6,
          9.4,
          8.8,
          3.9,
          3.7,
          4,
          10.2,
          15.3,
          18.8,
          3.6,
          8.7,
          5,
          17.8,
          9.7,
          10.8,
          6.2,
          12.1,
          5.3,
          5.3,
          2.1,
          1.3,
          11.7,
          4,
          4.3,
          3.7,
          1.1,
          7.8,
          5.8,
          5.3,
          2.5,
          8.5,
          15.3,
          7.7,
          1.5,
          2.3,
          9.6,
          2.4,
          1.1,
          2.9,
          13.3,
          9.6,
          2.5,
          4.7,
          14.2,
          2.1,
          2,
          3,
          1.1,
          1.7,
          7.7,
          2.4,
          1.9,
          17.6,
          6.5,
          4.7,
          4,
          1,
          5.6,
          3.1,
          6.1,
          2.5,
          0.3,
          14.6,
          6.6,
          4,
          5,
          4.8,
          20.8,
          11.4,
          9.7,
          2.7,
          5.6,
          16.8,
          4.3,
          12.6,
          18.7,
          3.9,
          10.5,
          11.6,
          6,
          5.4,
          2.2,
          6.5,
          6.9,
          11.6,
          18.5,
          19.4,
          15.5,
          2.8,
          4.8,
          10.6,
          0.5,
          13,
          3.4,
          19.9,
          12.1,
          7.6,
          4.5,
          7,
          3.4,
          1,
          3.7,
          10.2,
          7.3,
          1.7,
          1.4,
          4.9,
          0.8,
          2.8,
          9.4,
          3.3,
          6.7,
          11,
          0.7,
          1.8,
          15.3,
          13.5,
          2.2,
          10.4,
          6,
          1.9,
          3,
          5.5,
          4,
          11.6,
          7.8,
          18.8,
          3.6,
          8.3,
          6.8,
          7.7,
          8.9,
          1.8,
          2.2,
          1,
          9,
          2.3,
          4.9,
          2,
          7.8,
          1.2,
          1,
          13,
          7.1,
          4.8,
          4,
          6.2,
          5,
          2.2,
          8.3,
          2.5,
          3.7,
          2.4,
          7.4,
          5,
          0.5,
          2.8,
          18.9,
          2.9,
          10.8,
          6.6,
          3.7,
          1,
          6.6,
          12.4,
          8.9,
          3,
          5.3,
          3.6,
          5.9,
          9.7,
          7.6,
          7.6,
          21,
          1,
          9.3,
          16.3,
          2.1,
          12.5,
          3.5,
          1.4,
          0.6,
          6.4,
          9.6,
          14.2,
          3.7,
          3.6,
          16.7,
          3.5,
          2.9,
          11.4,
          1.1,
          4.6,
          3.4,
          4.2,
          2.5,
          17.4,
          3.9,
          10.5,
          1.5,
          5.1,
          3.7,
          0,
          2.4,
          0.8,
          18,
          6.1,
          3.1,
          19.5,
          2.9,
          4.5,
          15.7,
          2.6,
          10.5,
          1.3,
          1,
          1.5,
          1.6,
          4.9,
          13.4,
          3.3,
          2.4,
          3.5,
          22.2,
          11,
          3.8,
          3,
          4.7,
          8.9,
          4.9,
          11.8,
          4,
          14.8,
          1.2,
          5.8,
          7.1,
          2.5,
          1.1,
          5.6,
          14.9,
          1.3,
          6.1,
          10.5,
          6.6,
          8.3,
          1,
          3.6,
          8.1,
          1.5,
          10,
          1.1,
          3.3,
          5,
          1.9,
          4.8,
          18.2,
          5,
          3.3,
          0,
          1.5,
          8.5,
          2.9,
          4,
          15.5,
          17.1,
          12.3,
          3.1,
          12.6,
          6.2,
          12.7,
          0.8,
          2.5,
          3.8,
          7.7,
          3.5,
          4.8,
          1.5,
          19.1,
          8.8,
          6,
          6.5,
          1.5,
          3.1,
          1.8,
          10.7,
          11.7,
          6.7,
          2.9,
          14.5,
          1.7,
          4.1,
          6,
          4.8,
          5.3,
          13.4,
          5.5,
          18.8,
          6.5,
          19.6,
          19.2,
          5.7,
          6,
          3.8,
          16.2,
          17.8,
          1.8,
          1,
          3.7,
          1.7,
          2.2,
          8.3,
          8.2,
          23.6,
          2.9,
          2.6,
          8,
          3.2,
          3.9,
          8,
          12.7,
          0,
          9.2,
          12.4,
          1.2,
          3.2,
          3.4,
          5.6,
          6.5,
          11.9,
          7.9,
          7.6,
          2.5,
          1,
          0.3,
          8.2,
          2,
          3.1,
          4.9,
          4.3,
          4.7,
          3.7,
          10.6,
          3.4,
          0.5,
          1.8,
          13.2,
          16.3,
          8.4,
          3.2,
          17.8,
          6.4,
          4.8,
          3.5,
          4.8,
          6.9,
          2.7,
          6.4,
          2.5,
          0.5,
          1.7,
          11.9,
          5.7,
          2.9,
          1.8,
          2,
          1.1,
          10.2,
          3.2,
          8.4,
          5.7,
          5.3,
          6.4,
          4.2,
          17.8,
          5.5,
          16,
          2.5,
          10.1,
          11.5,
          6.9,
          5.5,
          1.4,
          2.1,
          2.9,
          3.7,
          6.6,
          2.2,
          2.5,
          2.7,
          2.2,
          3.4,
          1.6,
          11,
          17.3,
          15.9,
          4.3,
          0.3,
          3.3,
          5.1,
          8.3,
          4.1,
          16.9,
          5.8,
          7.1,
          0.5,
          5.6,
          6.7,
          6.4,
          0,
          1.8,
          14.9,
          3.1,
          2.1,
          9.1,
          3.7,
          3.6,
          3.4,
          4.3,
          1.2,
          0,
          6.9,
          8.1,
          9.7,
          9.7,
          0.3,
          2.5,
          2.5,
          11.1,
          6.5,
          6.5,
          2.3,
          9.4,
          4.7,
          12.3,
          15.7,
          8,
          4.6,
          1.9,
          13.6,
          19.9,
          4.1,
          0.7,
          1,
          8.3,
          4.5,
          8.8,
          3.5,
          19.6,
          2.9,
          8,
          4.3,
          1.5,
          8.6,
          8.6,
          7.4,
          5.9,
          1.7,
          6.5,
          3.3,
          16.6,
          1.2,
          3.6,
          0.9,
          4.1,
          3.8,
          12.8,
          13.6,
          5,
          4,
          6.3,
          19.3,
          4.7,
          7.4,
          7.2,
          4.4,
          2.4,
          2.9,
          4.6,
          5.4,
          10.7,
          2.4,
          2,
          3.5,
          2,
          1.4,
          18,
          15.4,
          20.1,
          10.1,
          1.6,
          0.3,
          5.9,
          16.3,
          7.3,
          4.6,
          5.5,
          7.8,
          0.6,
          4.4,
          2.8,
          1.6,
          5.3,
          3.4,
          8.8,
          15,
          1,
          2.6,
          7.4,
          15.2
         ],
         "xaxis": "x",
         "y": [
          1.3,
          1.5,
          0.7,
          5.5,
          2.4,
          4.4,
          2.5,
          0,
          1,
          0.4,
          3.2,
          3.4,
          1.4,
          3.6,
          0.3,
          1.1,
          0.3,
          8.4,
          0.4,
          3.7,
          2.2,
          3.3,
          0.9,
          0,
          3.9,
          4.9,
          7.8,
          1.7,
          9.4,
          9.2,
          1.1,
          1.5,
          1.7,
          3.7,
          5.6,
          4.6,
          7.6,
          1.5,
          2.9,
          5,
          3,
          1.8,
          1.6,
          0.9,
          5.5,
          6,
          5.6,
          2.3,
          2.2,
          6.9,
          3.7,
          1.6,
          4.5,
          7.8,
          6.4,
          0.7,
          0.4,
          2.2,
          4.6,
          4.1,
          2.3,
          1.7,
          1.4,
          4.5,
          6.9,
          8.4,
          1.4,
          3.8,
          1.9,
          7.9,
          4.5,
          4.8,
          2.7,
          4.9,
          2.7,
          2.5,
          1.5,
          0.3,
          6.2,
          1.9,
          2.2,
          1.4,
          0.5,
          3.5,
          2.6,
          2.5,
          0.9,
          4.8,
          6.8,
          2.9,
          0.6,
          0.9,
          4.2,
          1,
          0.7,
          1.3,
          6.6,
          4.6,
          0.9,
          2.4,
          6.5,
          0.7,
          0.8,
          2,
          0.4,
          0.7,
          3.2,
          1,
          1.1,
          7.5,
          4.6,
          2.5,
          1.8,
          0,
          3.1,
          1.4,
          2.9,
          0.5,
          0,
          6.5,
          2.7,
          1.8,
          1.9,
          2.8,
          9.7,
          5.3,
          3.8,
          1.7,
          1.9,
          8,
          1.8,
          7.3,
          8.7,
          1.5,
          5.3,
          5.1,
          2.6,
          4,
          0.7,
          3.2,
          3.2,
          5.4,
          8.6,
          9.5,
          7.3,
          1.1,
          2.5,
          4.6,
          0,
          7.8,
          1.7,
          9.2,
          5.3,
          3.2,
          1.9,
          3.4,
          2.1,
          1,
          1.7,
          4.7,
          3.5,
          1.2,
          0.7,
          2.1,
          0.1,
          0.9,
          4.3,
          1.6,
          2.4,
          6.5,
          0.3,
          0.2,
          7.3,
          5.6,
          0.9,
          4.5,
          2.2,
          0.9,
          1.4,
          2.5,
          2.2,
          4.9,
          3.5,
          11.5,
          2.2,
          3.8,
          2.8,
          3.4,
          4.5,
          0.8,
          1.1,
          0.5,
          4.4,
          1,
          2.2,
          1,
          3.9,
          0.5,
          0.6,
          5.6,
          3.4,
          3,
          2.7,
          2.8,
          1.7,
          0.8,
          4,
          1,
          1.5,
          0.7,
          4.9,
          2,
          0.3,
          1.1,
          8.9,
          1.7,
          4.9,
          3.2,
          1.5,
          0.6,
          2.7,
          5.3,
          4.4,
          1.2,
          2.3,
          1.7,
          2.6,
          4.7,
          2.8,
          5,
          10,
          0,
          5.8,
          7,
          0.5,
          6.4,
          1.2,
          0.6,
          0.3,
          3.9,
          4.4,
          7.7,
          1.6,
          1.5,
          7.9,
          0.8,
          1.3,
          5,
          0.4,
          2.9,
          1.3,
          2,
          1.3,
          7.6,
          2,
          6.6,
          0.5,
          2.1,
          2,
          0,
          1.7,
          0.4,
          9,
          2.4,
          1.3,
          9.2,
          1.6,
          2.1,
          7.1,
          1.3,
          4.6,
          0.9,
          0.7,
          0.5,
          0.6,
          1.9,
          6.7,
          1.6,
          0.9,
          1.5,
          11.8,
          5.8,
          1.6,
          1.1,
          2,
          5,
          2.6,
          6.3,
          1.5,
          6.1,
          0.7,
          2.2,
          2.7,
          1.2,
          0.6,
          2.6,
          6.1,
          0.5,
          2.5,
          5,
          3.2,
          3.5,
          0.5,
          1.5,
          3.6,
          0.5,
          4.9,
          0.3,
          1.4,
          2,
          0.8,
          1.8,
          8.6,
          2,
          1.5,
          0,
          0.4,
          4.4,
          1.5,
          0,
          7.9,
          9,
          5.7,
          1.4,
          5.7,
          3.4,
          5.6,
          0.5,
          0.9,
          1.8,
          3.5,
          1.6,
          1.8,
          0.6,
          10.1,
          3.9,
          2.8,
          2.9,
          1,
          1.9,
          0.6,
          4.2,
          5.7,
          2.8,
          1,
          6.2,
          0.7,
          1.4,
          2.3,
          2.2,
          2.1,
          6.8,
          2.6,
          8.7,
          2.8,
          9.7,
          8.3,
          2.6,
          2.6,
          2.2,
          7.8,
          9.5,
          0.8,
          0.6,
          1.5,
          0.7,
          0.9,
          3.5,
          3.6,
          11.6,
          1.3,
          1,
          3.6,
          2.2,
          1.6,
          3.4,
          5.6,
          0,
          4.2,
          5.5,
          0.8,
          1.4,
          1.6,
          2.5,
          2.8,
          5.1,
          5.2,
          3.5,
          0.9,
          0,
          0,
          4.8,
          0.7,
          1.9,
          1.9,
          1.5,
          2,
          1.6,
          4.4,
          1.4,
          0.1,
          1,
          6.5,
          7.1,
          3.8,
          1.1,
          8.2,
          2.9,
          2.8,
          1.8,
          1.9,
          4.1,
          1.3,
          3,
          0.8,
          0,
          0.9,
          6.1,
          2.6,
          1.4,
          0.9,
          1,
          0.5,
          4.9,
          2,
          5.2,
          3.9,
          2.1,
          2.7,
          2,
          10.3,
          2.4,
          7.7,
          1.1,
          5,
          5.7,
          3.9,
          2.3,
          0.8,
          0.7,
          1.6,
          1.6,
          4.1,
          1.1,
          1.3,
          1.2,
          0.9,
          1.4,
          0.5,
          4.8,
          8,
          8.5,
          2,
          0.3,
          1,
          2.1,
          3.7,
          1.5,
          8,
          3.1,
          3.2,
          0,
          2.6,
          3.4,
          2.4,
          0,
          0.5,
          7.3,
          1.2,
          0.8,
          4,
          2.1,
          1.7,
          1.5,
          2.8,
          0.4,
          0,
          2.7,
          5.3,
          5.2,
          4.4,
          0,
          1.3,
          0.9,
          4.6,
          3,
          2.7,
          1.1,
          4.1,
          2.1,
          4.7,
          7.5,
          3.9,
          1.8,
          0.4,
          5.5,
          10.7,
          1.7,
          0.3,
          0.2,
          3.8,
          1.8,
          3.4,
          1.5,
          8.8,
          1.1,
          4.4,
          1.6,
          0.5,
          3.3,
          4,
          3.3,
          2.5,
          1,
          3.2,
          1.3,
          7.4,
          0.6,
          2.2,
          0.4,
          1.2,
          2.1,
          5.2,
          6.7,
          2.2,
          1.9,
          2.8,
          8.2,
          3.3,
          3.8,
          3.3,
          2.4,
          0.9,
          1.1,
          2.7,
          2.4,
          4.6,
          1.6,
          0.6,
          1.4,
          1,
          0.2,
          7.9,
          7.3,
          9,
          4.9,
          1.1,
          0,
          2.6,
          7.7,
          3.3,
          2.2,
          3.6,
          4.1,
          0.3,
          1.6,
          1,
          0.6,
          2.2,
          1.2,
          4.2,
          6.8,
          0,
          1.2,
          2.9,
          8.9
         ],
         "yaxis": "y"
        },
        {
         "hovertemplate": "<b>OLS trendline</b><br>FGM = 0.482629 * FGA + -0.100709<br>R<sup>2</sup>=0.963993<br><br>Field Goal Attempts=%{x}<br>Field Goals Made=%{y} <b>(trend)</b><extra></extra>",
         "legendgroup": "",
         "marker": {
          "color": "#636efa",
          "symbol": "circle"
         },
         "mode": "lines",
         "name": "",
         "showlegend": false,
         "type": "scatter",
         "x": [
          0,
          0,
          0,
          0,
          0,
          0.3,
          0.3,
          0.3,
          0.3,
          0.3,
          0.5,
          0.5,
          0.5,
          0.5,
          0.5,
          0.5,
          0.6,
          0.6,
          0.7,
          0.7,
          0.8,
          0.8,
          0.8,
          0.9,
          0.9,
          1,
          1,
          1,
          1,
          1,
          1,
          1,
          1,
          1,
          1,
          1,
          1,
          1,
          1,
          1.1,
          1.1,
          1.1,
          1.1,
          1.1,
          1.1,
          1.1,
          1.1,
          1.2,
          1.2,
          1.2,
          1.2,
          1.2,
          1.3,
          1.3,
          1.3,
          1.4,
          1.4,
          1.4,
          1.4,
          1.5,
          1.5,
          1.5,
          1.5,
          1.5,
          1.5,
          1.5,
          1.5,
          1.5,
          1.5,
          1.6,
          1.6,
          1.6,
          1.6,
          1.7,
          1.7,
          1.7,
          1.7,
          1.7,
          1.7,
          1.8,
          1.8,
          1.8,
          1.8,
          1.8,
          1.8,
          1.8,
          1.8,
          1.8,
          1.8,
          1.9,
          1.9,
          1.9,
          1.9,
          2,
          2,
          2,
          2,
          2,
          2,
          2,
          2.1,
          2.1,
          2.1,
          2.1,
          2.1,
          2.2,
          2.2,
          2.2,
          2.2,
          2.2,
          2.2,
          2.2,
          2.3,
          2.3,
          2.3,
          2.4,
          2.4,
          2.4,
          2.4,
          2.4,
          2.4,
          2.4,
          2.4,
          2.5,
          2.5,
          2.5,
          2.5,
          2.5,
          2.5,
          2.5,
          2.5,
          2.5,
          2.5,
          2.5,
          2.5,
          2.5,
          2.5,
          2.6,
          2.6,
          2.6,
          2.7,
          2.7,
          2.7,
          2.7,
          2.8,
          2.8,
          2.8,
          2.8,
          2.9,
          2.9,
          2.9,
          2.9,
          2.9,
          2.9,
          2.9,
          2.9,
          2.9,
          2.9,
          2.9,
          3,
          3,
          3,
          3,
          3,
          3.1,
          3.1,
          3.1,
          3.1,
          3.1,
          3.1,
          3.2,
          3.2,
          3.2,
          3.2,
          3.2,
          3.3,
          3.3,
          3.3,
          3.3,
          3.3,
          3.3,
          3.3,
          3.4,
          3.4,
          3.4,
          3.4,
          3.4,
          3.4,
          3.4,
          3.4,
          3.4,
          3.5,
          3.5,
          3.5,
          3.5,
          3.5,
          3.5,
          3.5,
          3.6,
          3.6,
          3.6,
          3.6,
          3.6,
          3.6,
          3.6,
          3.6,
          3.7,
          3.7,
          3.7,
          3.7,
          3.7,
          3.7,
          3.7,
          3.7,
          3.7,
          3.7,
          3.7,
          3.7,
          3.7,
          3.7,
          3.7,
          3.8,
          3.8,
          3.8,
          3.8,
          3.9,
          3.9,
          3.9,
          3.9,
          3.9,
          4,
          4,
          4,
          4,
          4,
          4,
          4,
          4,
          4,
          4.1,
          4.1,
          4.1,
          4.1,
          4.2,
          4.2,
          4.3,
          4.3,
          4.3,
          4.3,
          4.3,
          4.3,
          4.3,
          4.4,
          4.4,
          4.4,
          4.5,
          4.5,
          4.5,
          4.6,
          4.6,
          4.6,
          4.6,
          4.6,
          4.7,
          4.7,
          4.7,
          4.7,
          4.7,
          4.7,
          4.8,
          4.8,
          4.8,
          4.8,
          4.8,
          4.8,
          4.8,
          4.8,
          4.9,
          4.9,
          4.9,
          4.9,
          4.9,
          4.9,
          5,
          5,
          5,
          5,
          5,
          5,
          5,
          5.1,
          5.1,
          5.3,
          5.3,
          5.3,
          5.3,
          5.3,
          5.3,
          5.3,
          5.4,
          5.4,
          5.4,
          5.5,
          5.5,
          5.5,
          5.5,
          5.5,
          5.6,
          5.6,
          5.6,
          5.6,
          5.6,
          5.7,
          5.7,
          5.7,
          5.8,
          5.8,
          5.8,
          5.9,
          5.9,
          5.9,
          5.9,
          6,
          6,
          6,
          6,
          6,
          6,
          6.1,
          6.1,
          6.1,
          6.1,
          6.2,
          6.2,
          6.2,
          6.3,
          6.4,
          6.4,
          6.4,
          6.4,
          6.4,
          6.4,
          6.5,
          6.5,
          6.5,
          6.5,
          6.5,
          6.5,
          6.5,
          6.5,
          6.6,
          6.6,
          6.6,
          6.6,
          6.6,
          6.7,
          6.7,
          6.7,
          6.8,
          6.9,
          6.9,
          6.9,
          6.9,
          6.9,
          7,
          7.1,
          7.1,
          7.1,
          7.1,
          7.2,
          7.3,
          7.3,
          7.4,
          7.4,
          7.4,
          7.4,
          7.6,
          7.6,
          7.6,
          7.6,
          7.6,
          7.6,
          7.7,
          7.7,
          7.7,
          7.7,
          7.8,
          7.8,
          7.8,
          7.8,
          7.8,
          7.9,
          8,
          8,
          8,
          8,
          8,
          8.1,
          8.1,
          8.2,
          8.2,
          8.2,
          8.3,
          8.3,
          8.3,
          8.3,
          8.3,
          8.3,
          8.4,
          8.4,
          8.5,
          8.5,
          8.6,
          8.6,
          8.7,
          8.8,
          8.8,
          8.8,
          8.8,
          8.9,
          8.9,
          8.9,
          8.9,
          9,
          9,
          9.1,
          9.2,
          9.3,
          9.3,
          9.4,
          9.4,
          9.4,
          9.6,
          9.6,
          9.6,
          9.7,
          9.7,
          9.7,
          9.7,
          9.7,
          9.9,
          10,
          10.1,
          10.1,
          10.2,
          10.2,
          10.2,
          10.4,
          10.5,
          10.5,
          10.5,
          10.5,
          10.6,
          10.6,
          10.7,
          10.7,
          10.8,
          10.8,
          10.9,
          10.9,
          11,
          11,
          11,
          11.1,
          11.2,
          11.4,
          11.4,
          11.5,
          11.5,
          11.6,
          11.6,
          11.6,
          11.7,
          11.7,
          11.8,
          11.9,
          11.9,
          12.1,
          12.1,
          12.3,
          12.3,
          12.4,
          12.4,
          12.5,
          12.5,
          12.6,
          12.6,
          12.7,
          12.7,
          12.8,
          13,
          13,
          13.2,
          13.3,
          13.4,
          13.4,
          13.5,
          13.6,
          13.6,
          13.9,
          14.1,
          14.2,
          14.2,
          14.5,
          14.6,
          14.6,
          14.7,
          14.8,
          14.9,
          14.9,
          15,
          15.2,
          15.3,
          15.3,
          15.3,
          15.4,
          15.5,
          15.5,
          15.6,
          15.7,
          15.7,
          15.9,
          16,
          16,
          16.2,
          16.3,
          16.3,
          16.3,
          16.6,
          16.7,
          16.8,
          16.9,
          17,
          17.1,
          17.3,
          17.4,
          17.6,
          17.8,
          17.8,
          17.8,
          17.8,
          18,
          18,
          18.2,
          18.2,
          18.5,
          18.7,
          18.8,
          18.8,
          18.8,
          18.9,
          19.1,
          19.2,
          19.3,
          19.4,
          19.5,
          19.6,
          19.6,
          19.9,
          19.9,
          19.9,
          20.1,
          20.8,
          21,
          22.2,
          23.6
         ],
         "xaxis": "x",
         "y": [
          -0.1007087921421573,
          -0.1007087921421573,
          -0.1007087921421573,
          -0.1007087921421573,
          -0.1007087921421573,
          0.04407982268999042,
          0.04407982268999042,
          0.04407982268999042,
          0.04407982268999042,
          0.04407982268999042,
          0.14060556591142223,
          0.14060556591142223,
          0.14060556591142223,
          0.14060556591142223,
          0.14060556591142223,
          0.14060556591142223,
          0.18886843752213814,
          0.18886843752213814,
          0.23713130913285405,
          0.23713130913285405,
          0.2853941807435699,
          0.2853941807435699,
          0.2853941807435699,
          0.3336570523542859,
          0.3336570523542859,
          0.38191992396500174,
          0.38191992396500174,
          0.38191992396500174,
          0.38191992396500174,
          0.38191992396500174,
          0.38191992396500174,
          0.38191992396500174,
          0.38191992396500174,
          0.38191992396500174,
          0.38191992396500174,
          0.38191992396500174,
          0.38191992396500174,
          0.38191992396500174,
          0.38191992396500174,
          0.4301827955757177,
          0.4301827955757177,
          0.4301827955757177,
          0.4301827955757177,
          0.4301827955757177,
          0.4301827955757177,
          0.4301827955757177,
          0.4301827955757177,
          0.47844566718643355,
          0.47844566718643355,
          0.47844566718643355,
          0.47844566718643355,
          0.47844566718643355,
          0.5267085387971495,
          0.5267085387971495,
          0.5267085387971495,
          0.5749714104078654,
          0.5749714104078654,
          0.5749714104078654,
          0.5749714104078654,
          0.6232342820185813,
          0.6232342820185813,
          0.6232342820185813,
          0.6232342820185813,
          0.6232342820185813,
          0.6232342820185813,
          0.6232342820185813,
          0.6232342820185813,
          0.6232342820185813,
          0.6232342820185813,
          0.6714971536292972,
          0.6714971536292972,
          0.6714971536292972,
          0.6714971536292972,
          0.719760025240013,
          0.719760025240013,
          0.719760025240013,
          0.719760025240013,
          0.719760025240013,
          0.719760025240013,
          0.768022896850729,
          0.768022896850729,
          0.768022896850729,
          0.768022896850729,
          0.768022896850729,
          0.768022896850729,
          0.768022896850729,
          0.768022896850729,
          0.768022896850729,
          0.768022896850729,
          0.8162857684614448,
          0.8162857684614448,
          0.8162857684614448,
          0.8162857684614448,
          0.8645486400721608,
          0.8645486400721608,
          0.8645486400721608,
          0.8645486400721608,
          0.8645486400721608,
          0.8645486400721608,
          0.8645486400721608,
          0.9128115116828767,
          0.9128115116828767,
          0.9128115116828767,
          0.9128115116828767,
          0.9128115116828767,
          0.9610743832935927,
          0.9610743832935927,
          0.9610743832935927,
          0.9610743832935927,
          0.9610743832935927,
          0.9610743832935927,
          0.9610743832935927,
          1.0093372549043085,
          1.0093372549043085,
          1.0093372549043085,
          1.0576001265150246,
          1.0576001265150246,
          1.0576001265150246,
          1.0576001265150246,
          1.0576001265150246,
          1.0576001265150246,
          1.0576001265150246,
          1.0576001265150246,
          1.1058629981257404,
          1.1058629981257404,
          1.1058629981257404,
          1.1058629981257404,
          1.1058629981257404,
          1.1058629981257404,
          1.1058629981257404,
          1.1058629981257404,
          1.1058629981257404,
          1.1058629981257404,
          1.1058629981257404,
          1.1058629981257404,
          1.1058629981257404,
          1.1058629981257404,
          1.1541258697364565,
          1.1541258697364565,
          1.1541258697364565,
          1.2023887413471723,
          1.2023887413471723,
          1.2023887413471723,
          1.2023887413471723,
          1.2506516129578882,
          1.2506516129578882,
          1.2506516129578882,
          1.2506516129578882,
          1.298914484568604,
          1.298914484568604,
          1.298914484568604,
          1.298914484568604,
          1.298914484568604,
          1.298914484568604,
          1.298914484568604,
          1.298914484568604,
          1.298914484568604,
          1.298914484568604,
          1.298914484568604,
          1.34717735617932,
          1.34717735617932,
          1.34717735617932,
          1.34717735617932,
          1.34717735617932,
          1.395440227790036,
          1.395440227790036,
          1.395440227790036,
          1.395440227790036,
          1.395440227790036,
          1.395440227790036,
          1.4437030994007518,
          1.4437030994007518,
          1.4437030994007518,
          1.4437030994007518,
          1.4437030994007518,
          1.4919659710114677,
          1.4919659710114677,
          1.4919659710114677,
          1.4919659710114677,
          1.4919659710114677,
          1.4919659710114677,
          1.4919659710114677,
          1.5402288426221835,
          1.5402288426221835,
          1.5402288426221835,
          1.5402288426221835,
          1.5402288426221835,
          1.5402288426221835,
          1.5402288426221835,
          1.5402288426221835,
          1.5402288426221835,
          1.5884917142328996,
          1.5884917142328996,
          1.5884917142328996,
          1.5884917142328996,
          1.5884917142328996,
          1.5884917142328996,
          1.5884917142328996,
          1.6367545858436154,
          1.6367545858436154,
          1.6367545858436154,
          1.6367545858436154,
          1.6367545858436154,
          1.6367545858436154,
          1.6367545858436154,
          1.6367545858436154,
          1.6850174574543315,
          1.6850174574543315,
          1.6850174574543315,
          1.6850174574543315,
          1.6850174574543315,
          1.6850174574543315,
          1.6850174574543315,
          1.6850174574543315,
          1.6850174574543315,
          1.6850174574543315,
          1.6850174574543315,
          1.6850174574543315,
          1.6850174574543315,
          1.6850174574543315,
          1.6850174574543315,
          1.7332803290650471,
          1.7332803290650471,
          1.7332803290650471,
          1.7332803290650471,
          1.7815432006757632,
          1.7815432006757632,
          1.7815432006757632,
          1.7815432006757632,
          1.7815432006757632,
          1.829806072286479,
          1.829806072286479,
          1.829806072286479,
          1.829806072286479,
          1.829806072286479,
          1.829806072286479,
          1.829806072286479,
          1.829806072286479,
          1.829806072286479,
          1.8780689438971947,
          1.8780689438971947,
          1.8780689438971947,
          1.8780689438971947,
          1.9263318155079108,
          1.9263318155079108,
          1.9745946871186266,
          1.9745946871186266,
          1.9745946871186266,
          1.9745946871186266,
          1.9745946871186266,
          1.9745946871186266,
          1.9745946871186266,
          2.022857558729343,
          2.022857558729343,
          2.022857558729343,
          2.0711204303400588,
          2.0711204303400588,
          2.0711204303400588,
          2.119383301950774,
          2.119383301950774,
          2.119383301950774,
          2.119383301950774,
          2.119383301950774,
          2.1676461735614905,
          2.1676461735614905,
          2.1676461735614905,
          2.1676461735614905,
          2.1676461735614905,
          2.1676461735614905,
          2.2159090451722063,
          2.2159090451722063,
          2.2159090451722063,
          2.2159090451722063,
          2.2159090451722063,
          2.2159090451722063,
          2.2159090451722063,
          2.2159090451722063,
          2.2641719167829226,
          2.2641719167829226,
          2.2641719167829226,
          2.2641719167829226,
          2.2641719167829226,
          2.2641719167829226,
          2.312434788393638,
          2.312434788393638,
          2.312434788393638,
          2.312434788393638,
          2.312434788393638,
          2.312434788393638,
          2.312434788393638,
          2.360697660004354,
          2.360697660004354,
          2.4572234032257856,
          2.4572234032257856,
          2.4572234032257856,
          2.4572234032257856,
          2.4572234032257856,
          2.4572234032257856,
          2.4572234032257856,
          2.505486274836502,
          2.505486274836502,
          2.505486274836502,
          2.5537491464472177,
          2.5537491464472177,
          2.5537491464472177,
          2.5537491464472177,
          2.5537491464472177,
          2.6020120180579336,
          2.6020120180579336,
          2.6020120180579336,
          2.6020120180579336,
          2.6020120180579336,
          2.6502748896686494,
          2.6502748896686494,
          2.6502748896686494,
          2.6985377612793653,
          2.6985377612793653,
          2.6985377612793653,
          2.7468006328900816,
          2.7468006328900816,
          2.7468006328900816,
          2.7468006328900816,
          2.7950635045007974,
          2.7950635045007974,
          2.7950635045007974,
          2.7950635045007974,
          2.7950635045007974,
          2.7950635045007974,
          2.843326376111513,
          2.843326376111513,
          2.843326376111513,
          2.843326376111513,
          2.891589247722229,
          2.891589247722229,
          2.891589247722229,
          2.939852119332945,
          2.988114990943661,
          2.988114990943661,
          2.988114990943661,
          2.988114990943661,
          2.988114990943661,
          2.988114990943661,
          3.0363778625543767,
          3.0363778625543767,
          3.0363778625543767,
          3.0363778625543767,
          3.0363778625543767,
          3.0363778625543767,
          3.0363778625543767,
          3.0363778625543767,
          3.0846407341650925,
          3.0846407341650925,
          3.0846407341650925,
          3.0846407341650925,
          3.0846407341650925,
          3.132903605775809,
          3.132903605775809,
          3.132903605775809,
          3.1811664773865242,
          3.2294293489972405,
          3.2294293489972405,
          3.2294293489972405,
          3.2294293489972405,
          3.2294293489972405,
          3.2776922206079564,
          3.325955092218672,
          3.325955092218672,
          3.325955092218672,
          3.325955092218672,
          3.374217963829388,
          3.422480835440104,
          3.422480835440104,
          3.4707437070508202,
          3.4707437070508202,
          3.4707437070508202,
          3.4707437070508202,
          3.5672694502722515,
          3.5672694502722515,
          3.5672694502722515,
          3.5672694502722515,
          3.5672694502722515,
          3.5672694502722515,
          3.615532321882968,
          3.615532321882968,
          3.615532321882968,
          3.615532321882968,
          3.6637951934936837,
          3.6637951934936837,
          3.6637951934936837,
          3.6637951934936837,
          3.6637951934936837,
          3.7120580651043995,
          3.7603209367151154,
          3.7603209367151154,
          3.7603209367151154,
          3.7603209367151154,
          3.7603209367151154,
          3.808583808325831,
          3.808583808325831,
          3.8568466799365466,
          3.8568466799365466,
          3.8568466799365466,
          3.9051095515472634,
          3.9051095515472634,
          3.9051095515472634,
          3.9051095515472634,
          3.9051095515472634,
          3.9051095515472634,
          3.9533724231579788,
          3.9533724231579788,
          4.001635294768695,
          4.001635294768695,
          4.0498981663794105,
          4.0498981663794105,
          4.098161037990127,
          4.146423909600843,
          4.146423909600843,
          4.146423909600843,
          4.146423909600843,
          4.1946867812115585,
          4.1946867812115585,
          4.1946867812115585,
          4.1946867812115585,
          4.242949652822275,
          4.242949652822275,
          4.29121252443299,
          4.339475396043706,
          4.387738267654423,
          4.387738267654423,
          4.436001139265138,
          4.436001139265138,
          4.436001139265138,
          4.53252688248657,
          4.53252688248657,
          4.53252688248657,
          4.580789754097285,
          4.580789754097285,
          4.580789754097285,
          4.580789754097285,
          4.580789754097285,
          4.677315497318718,
          4.725578368929433,
          4.77384124054015,
          4.77384124054015,
          4.822104112150865,
          4.822104112150865,
          4.822104112150865,
          4.918629855372298,
          4.966892726983013,
          4.966892726983013,
          4.966892726983013,
          4.966892726983013,
          5.015155598593728,
          5.015155598593728,
          5.063418470204445,
          5.063418470204445,
          5.111681341815161,
          5.111681341815161,
          5.159944213425877,
          5.159944213425877,
          5.208207085036593,
          5.208207085036593,
          5.208207085036593,
          5.256469956647308,
          5.304732828258024,
          5.401258571479456,
          5.401258571479456,
          5.449521443090172,
          5.449521443090172,
          5.497784314700888,
          5.497784314700888,
          5.497784314700888,
          5.546047186311603,
          5.546047186311603,
          5.59431005792232,
          5.642572929533036,
          5.642572929533036,
          5.7390986727544675,
          5.7390986727544675,
          5.8356244159759,
          5.8356244159759,
          5.8838872875866155,
          5.8838872875866155,
          5.932150159197331,
          5.932150159197331,
          5.980413030808047,
          5.980413030808047,
          6.028675902418763,
          6.028675902418763,
          6.076938774029479,
          6.173464517250911,
          6.173464517250911,
          6.269990260472342,
          6.318253132083059,
          6.366516003693775,
          6.366516003693775,
          6.41477887530449,
          6.463041746915206,
          6.463041746915206,
          6.607830361747354,
          6.704356104968785,
          6.752618976579501,
          6.752618976579501,
          6.89740759141165,
          6.945670463022365,
          6.945670463022365,
          6.9939333346330805,
          7.042196206243798,
          7.090459077854513,
          7.090459077854513,
          7.1387219494652285,
          7.23524769268666,
          7.2835105642973765,
          7.2835105642973765,
          7.2835105642973765,
          7.331773435908093,
          7.380036307518808,
          7.380036307518808,
          7.4282991791295245,
          7.47656205074024,
          7.47656205074024,
          7.5730877939616725,
          7.621350665572388,
          7.621350665572388,
          7.71787640879382,
          7.766139280404536,
          7.766139280404536,
          7.766139280404536,
          7.910927895236684,
          7.959190766847399,
          8.007453638458115,
          8.05571651006883,
          8.103979381679547,
          8.152242253290263,
          8.248767996511695,
          8.29703086812241,
          8.393556611343843,
          8.490082354565274,
          8.490082354565274,
          8.490082354565274,
          8.490082354565274,
          8.586608097786707,
          8.586608097786707,
          8.683133841008138,
          8.683133841008138,
          8.827922455840286,
          8.924448199061716,
          8.972711070672434,
          8.972711070672434,
          8.972711070672434,
          9.020973942283149,
          9.117499685504582,
          9.165762557115297,
          9.214025428726012,
          9.262288300336728,
          9.310551171947445,
          9.358814043558162,
          9.358814043558162,
          9.503602658390308,
          9.503602658390308,
          9.503602658390308,
          9.600128401611741,
          9.937968502886752,
          10.034494246108183,
          10.613648705436773,
          11.289328907986798
         ],
         "yaxis": "y"
        }
       ],
       "layout": {
        "legend": {
         "tracegroupgap": 0
        },
        "template": {
         "data": {
          "bar": [
           {
            "error_x": {
             "color": "#2a3f5f"
            },
            "error_y": {
             "color": "#2a3f5f"
            },
            "marker": {
             "line": {
              "color": "#E5ECF6",
              "width": 0.5
             },
             "pattern": {
              "fillmode": "overlay",
              "size": 10,
              "solidity": 0.2
             }
            },
            "type": "bar"
           }
          ],
          "barpolar": [
           {
            "marker": {
             "line": {
              "color": "#E5ECF6",
              "width": 0.5
             },
             "pattern": {
              "fillmode": "overlay",
              "size": 10,
              "solidity": 0.2
             }
            },
            "type": "barpolar"
           }
          ],
          "carpet": [
           {
            "aaxis": {
             "endlinecolor": "#2a3f5f",
             "gridcolor": "white",
             "linecolor": "white",
             "minorgridcolor": "white",
             "startlinecolor": "#2a3f5f"
            },
            "baxis": {
             "endlinecolor": "#2a3f5f",
             "gridcolor": "white",
             "linecolor": "white",
             "minorgridcolor": "white",
             "startlinecolor": "#2a3f5f"
            },
            "type": "carpet"
           }
          ],
          "choropleth": [
           {
            "colorbar": {
             "outlinewidth": 0,
             "ticks": ""
            },
            "type": "choropleth"
           }
          ],
          "contour": [
           {
            "colorbar": {
             "outlinewidth": 0,
             "ticks": ""
            },
            "colorscale": [
             [
              0,
              "#0d0887"
             ],
             [
              0.1111111111111111,
              "#46039f"
             ],
             [
              0.2222222222222222,
              "#7201a8"
             ],
             [
              0.3333333333333333,
              "#9c179e"
             ],
             [
              0.4444444444444444,
              "#bd3786"
             ],
             [
              0.5555555555555556,
              "#d8576b"
             ],
             [
              0.6666666666666666,
              "#ed7953"
             ],
             [
              0.7777777777777778,
              "#fb9f3a"
             ],
             [
              0.8888888888888888,
              "#fdca26"
             ],
             [
              1,
              "#f0f921"
             ]
            ],
            "type": "contour"
           }
          ],
          "contourcarpet": [
           {
            "colorbar": {
             "outlinewidth": 0,
             "ticks": ""
            },
            "type": "contourcarpet"
           }
          ],
          "heatmap": [
           {
            "colorbar": {
             "outlinewidth": 0,
             "ticks": ""
            },
            "colorscale": [
             [
              0,
              "#0d0887"
             ],
             [
              0.1111111111111111,
              "#46039f"
             ],
             [
              0.2222222222222222,
              "#7201a8"
             ],
             [
              0.3333333333333333,
              "#9c179e"
             ],
             [
              0.4444444444444444,
              "#bd3786"
             ],
             [
              0.5555555555555556,
              "#d8576b"
             ],
             [
              0.6666666666666666,
              "#ed7953"
             ],
             [
              0.7777777777777778,
              "#fb9f3a"
             ],
             [
              0.8888888888888888,
              "#fdca26"
             ],
             [
              1,
              "#f0f921"
             ]
            ],
            "type": "heatmap"
           }
          ],
          "heatmapgl": [
           {
            "colorbar": {
             "outlinewidth": 0,
             "ticks": ""
            },
            "colorscale": [
             [
              0,
              "#0d0887"
             ],
             [
              0.1111111111111111,
              "#46039f"
             ],
             [
              0.2222222222222222,
              "#7201a8"
             ],
             [
              0.3333333333333333,
              "#9c179e"
             ],
             [
              0.4444444444444444,
              "#bd3786"
             ],
             [
              0.5555555555555556,
              "#d8576b"
             ],
             [
              0.6666666666666666,
              "#ed7953"
             ],
             [
              0.7777777777777778,
              "#fb9f3a"
             ],
             [
              0.8888888888888888,
              "#fdca26"
             ],
             [
              1,
              "#f0f921"
             ]
            ],
            "type": "heatmapgl"
           }
          ],
          "histogram": [
           {
            "marker": {
             "pattern": {
              "fillmode": "overlay",
              "size": 10,
              "solidity": 0.2
             }
            },
            "type": "histogram"
           }
          ],
          "histogram2d": [
           {
            "colorbar": {
             "outlinewidth": 0,
             "ticks": ""
            },
            "colorscale": [
             [
              0,
              "#0d0887"
             ],
             [
              0.1111111111111111,
              "#46039f"
             ],
             [
              0.2222222222222222,
              "#7201a8"
             ],
             [
              0.3333333333333333,
              "#9c179e"
             ],
             [
              0.4444444444444444,
              "#bd3786"
             ],
             [
              0.5555555555555556,
              "#d8576b"
             ],
             [
              0.6666666666666666,
              "#ed7953"
             ],
             [
              0.7777777777777778,
              "#fb9f3a"
             ],
             [
              0.8888888888888888,
              "#fdca26"
             ],
             [
              1,
              "#f0f921"
             ]
            ],
            "type": "histogram2d"
           }
          ],
          "histogram2dcontour": [
           {
            "colorbar": {
             "outlinewidth": 0,
             "ticks": ""
            },
            "colorscale": [
             [
              0,
              "#0d0887"
             ],
             [
              0.1111111111111111,
              "#46039f"
             ],
             [
              0.2222222222222222,
              "#7201a8"
             ],
             [
              0.3333333333333333,
              "#9c179e"
             ],
             [
              0.4444444444444444,
              "#bd3786"
             ],
             [
              0.5555555555555556,
              "#d8576b"
             ],
             [
              0.6666666666666666,
              "#ed7953"
             ],
             [
              0.7777777777777778,
              "#fb9f3a"
             ],
             [
              0.8888888888888888,
              "#fdca26"
             ],
             [
              1,
              "#f0f921"
             ]
            ],
            "type": "histogram2dcontour"
           }
          ],
          "mesh3d": [
           {
            "colorbar": {
             "outlinewidth": 0,
             "ticks": ""
            },
            "type": "mesh3d"
           }
          ],
          "parcoords": [
           {
            "line": {
             "colorbar": {
              "outlinewidth": 0,
              "ticks": ""
             }
            },
            "type": "parcoords"
           }
          ],
          "pie": [
           {
            "automargin": true,
            "type": "pie"
           }
          ],
          "scatter": [
           {
            "fillpattern": {
             "fillmode": "overlay",
             "size": 10,
             "solidity": 0.2
            },
            "type": "scatter"
           }
          ],
          "scatter3d": [
           {
            "line": {
             "colorbar": {
              "outlinewidth": 0,
              "ticks": ""
             }
            },
            "marker": {
             "colorbar": {
              "outlinewidth": 0,
              "ticks": ""
             }
            },
            "type": "scatter3d"
           }
          ],
          "scattercarpet": [
           {
            "marker": {
             "colorbar": {
              "outlinewidth": 0,
              "ticks": ""
             }
            },
            "type": "scattercarpet"
           }
          ],
          "scattergeo": [
           {
            "marker": {
             "colorbar": {
              "outlinewidth": 0,
              "ticks": ""
             }
            },
            "type": "scattergeo"
           }
          ],
          "scattergl": [
           {
            "marker": {
             "colorbar": {
              "outlinewidth": 0,
              "ticks": ""
             }
            },
            "type": "scattergl"
           }
          ],
          "scattermapbox": [
           {
            "marker": {
             "colorbar": {
              "outlinewidth": 0,
              "ticks": ""
             }
            },
            "type": "scattermapbox"
           }
          ],
          "scatterpolar": [
           {
            "marker": {
             "colorbar": {
              "outlinewidth": 0,
              "ticks": ""
             }
            },
            "type": "scatterpolar"
           }
          ],
          "scatterpolargl": [
           {
            "marker": {
             "colorbar": {
              "outlinewidth": 0,
              "ticks": ""
             }
            },
            "type": "scatterpolargl"
           }
          ],
          "scatterternary": [
           {
            "marker": {
             "colorbar": {
              "outlinewidth": 0,
              "ticks": ""
             }
            },
            "type": "scatterternary"
           }
          ],
          "surface": [
           {
            "colorbar": {
             "outlinewidth": 0,
             "ticks": ""
            },
            "colorscale": [
             [
              0,
              "#0d0887"
             ],
             [
              0.1111111111111111,
              "#46039f"
             ],
             [
              0.2222222222222222,
              "#7201a8"
             ],
             [
              0.3333333333333333,
              "#9c179e"
             ],
             [
              0.4444444444444444,
              "#bd3786"
             ],
             [
              0.5555555555555556,
              "#d8576b"
             ],
             [
              0.6666666666666666,
              "#ed7953"
             ],
             [
              0.7777777777777778,
              "#fb9f3a"
             ],
             [
              0.8888888888888888,
              "#fdca26"
             ],
             [
              1,
              "#f0f921"
             ]
            ],
            "type": "surface"
           }
          ],
          "table": [
           {
            "cells": {
             "fill": {
              "color": "#EBF0F8"
             },
             "line": {
              "color": "white"
             }
            },
            "header": {
             "fill": {
              "color": "#C8D4E3"
             },
             "line": {
              "color": "white"
             }
            },
            "type": "table"
           }
          ]
         },
         "layout": {
          "annotationdefaults": {
           "arrowcolor": "#2a3f5f",
           "arrowhead": 0,
           "arrowwidth": 1
          },
          "autotypenumbers": "strict",
          "coloraxis": {
           "colorbar": {
            "outlinewidth": 0,
            "ticks": ""
           }
          },
          "colorscale": {
           "diverging": [
            [
             0,
             "#8e0152"
            ],
            [
             0.1,
             "#c51b7d"
            ],
            [
             0.2,
             "#de77ae"
            ],
            [
             0.3,
             "#f1b6da"
            ],
            [
             0.4,
             "#fde0ef"
            ],
            [
             0.5,
             "#f7f7f7"
            ],
            [
             0.6,
             "#e6f5d0"
            ],
            [
             0.7,
             "#b8e186"
            ],
            [
             0.8,
             "#7fbc41"
            ],
            [
             0.9,
             "#4d9221"
            ],
            [
             1,
             "#276419"
            ]
           ],
           "sequential": [
            [
             0,
             "#0d0887"
            ],
            [
             0.1111111111111111,
             "#46039f"
            ],
            [
             0.2222222222222222,
             "#7201a8"
            ],
            [
             0.3333333333333333,
             "#9c179e"
            ],
            [
             0.4444444444444444,
             "#bd3786"
            ],
            [
             0.5555555555555556,
             "#d8576b"
            ],
            [
             0.6666666666666666,
             "#ed7953"
            ],
            [
             0.7777777777777778,
             "#fb9f3a"
            ],
            [
             0.8888888888888888,
             "#fdca26"
            ],
            [
             1,
             "#f0f921"
            ]
           ],
           "sequentialminus": [
            [
             0,
             "#0d0887"
            ],
            [
             0.1111111111111111,
             "#46039f"
            ],
            [
             0.2222222222222222,
             "#7201a8"
            ],
            [
             0.3333333333333333,
             "#9c179e"
            ],
            [
             0.4444444444444444,
             "#bd3786"
            ],
            [
             0.5555555555555556,
             "#d8576b"
            ],
            [
             0.6666666666666666,
             "#ed7953"
            ],
            [
             0.7777777777777778,
             "#fb9f3a"
            ],
            [
             0.8888888888888888,
             "#fdca26"
            ],
            [
             1,
             "#f0f921"
            ]
           ]
          },
          "colorway": [
           "#636efa",
           "#EF553B",
           "#00cc96",
           "#ab63fa",
           "#FFA15A",
           "#19d3f3",
           "#FF6692",
           "#B6E880",
           "#FF97FF",
           "#FECB52"
          ],
          "font": {
           "color": "#2a3f5f"
          },
          "geo": {
           "bgcolor": "white",
           "lakecolor": "white",
           "landcolor": "#E5ECF6",
           "showlakes": true,
           "showland": true,
           "subunitcolor": "white"
          },
          "hoverlabel": {
           "align": "left"
          },
          "hovermode": "closest",
          "mapbox": {
           "style": "light"
          },
          "paper_bgcolor": "white",
          "plot_bgcolor": "#E5ECF6",
          "polar": {
           "angularaxis": {
            "gridcolor": "white",
            "linecolor": "white",
            "ticks": ""
           },
           "bgcolor": "#E5ECF6",
           "radialaxis": {
            "gridcolor": "white",
            "linecolor": "white",
            "ticks": ""
           }
          },
          "scene": {
           "xaxis": {
            "backgroundcolor": "#E5ECF6",
            "gridcolor": "white",
            "gridwidth": 2,
            "linecolor": "white",
            "showbackground": true,
            "ticks": "",
            "zerolinecolor": "white"
           },
           "yaxis": {
            "backgroundcolor": "#E5ECF6",
            "gridcolor": "white",
            "gridwidth": 2,
            "linecolor": "white",
            "showbackground": true,
            "ticks": "",
            "zerolinecolor": "white"
           },
           "zaxis": {
            "backgroundcolor": "#E5ECF6",
            "gridcolor": "white",
            "gridwidth": 2,
            "linecolor": "white",
            "showbackground": true,
            "ticks": "",
            "zerolinecolor": "white"
           }
          },
          "shapedefaults": {
           "line": {
            "color": "#2a3f5f"
           }
          },
          "ternary": {
           "aaxis": {
            "gridcolor": "white",
            "linecolor": "white",
            "ticks": ""
           },
           "baxis": {
            "gridcolor": "white",
            "linecolor": "white",
            "ticks": ""
           },
           "bgcolor": "#E5ECF6",
           "caxis": {
            "gridcolor": "white",
            "linecolor": "white",
            "ticks": ""
           }
          },
          "title": {
           "x": 0.05
          },
          "xaxis": {
           "automargin": true,
           "gridcolor": "white",
           "linecolor": "white",
           "ticks": "",
           "title": {
            "standoff": 15
           },
           "zerolinecolor": "white",
           "zerolinewidth": 2
          },
          "yaxis": {
           "automargin": true,
           "gridcolor": "white",
           "linecolor": "white",
           "ticks": "",
           "title": {
            "standoff": 15
           },
           "zerolinecolor": "white",
           "zerolinewidth": 2
          }
         }
        },
        "title": {
         "text": "Field Goals Made versus Field Goal Attempts"
        },
        "xaxis": {
         "anchor": "y",
         "domain": [
          0,
          1
         ],
         "title": {
          "text": "Field Goal Attempts"
         }
        },
        "yaxis": {
         "anchor": "x",
         "domain": [
          0,
          1
         ],
         "title": {
          "text": "Field Goals Made"
         }
        }
       }
      }
     },
     "metadata": {},
     "output_type": "display_data"
    }
   ],
   "source": [
    "px.scatter(df, x='FGA', y='FGM', hover_data=['PLAYER_NAME'], trendline='ols', title='Field Goals Made versus Field Goal Attempts', labels={'FGA':'Field Goal Attempts','FGM':'Field Goals Made','PLAYER_NAME':'Player'})"
   ]
  },
  {
   "cell_type": "markdown",
   "metadata": {},
   "source": [
    "We can also add more parameters with `color` and `size` to visualize other columns from our dataframe."
   ]
  },
  {
   "cell_type": "code",
   "execution_count": 8,
   "metadata": {},
   "outputs": [
    {
     "data": {
      "application/vnd.plotly.v1+json": {
       "config": {
        "plotlyServerURL": "https://plot.ly"
       },
       "data": [
        {
         "customdata": [
          [
           "A.J. Lawson"
          ],
          [
           "Alex Fudge"
          ],
          [
           "Brandon Williams"
          ],
          [
           "Daniel Gafford"
          ],
          [
           "Dante Exum"
          ],
          [
           "Dereck Lively II"
          ],
          [
           "Derrick Jones Jr."
          ],
          [
           "Dexter Dennis"
          ],
          [
           "Dwight Powell"
          ],
          [
           "Greg Brown III"
          ],
          [
           "Jaden Hardy"
          ],
          [
           "Josh Green"
          ],
          [
           "Kyrie Irving"
          ],
          [
           "Luka Doncic"
          ],
          [
           "Markieff Morris"
          ],
          [
           "Maxi Kleber"
          ],
          [
           "Olivier-Maxence Prosper"
          ],
          [
           "P.J. Washington"
          ],
          [
           "Tim Hardaway Jr."
          ]
         ],
         "hovertemplate": "Team=DAL<br>Field Goal Attempts=%{x}<br>Field Goals Made=%{y}<br>Field Goal Percentage=%{marker.size}<br>Player=%{customdata[0]}<extra></extra>",
         "legendgroup": "DAL",
         "marker": {
          "color": "#636efa",
          "size": [
           0.48,
           0.167,
           0.364,
           0.715,
           0.552,
           0.747,
           0.491,
           0.526,
           0.687,
           0.455,
           0.411,
           0.493,
           0.494,
           0.489,
           0.37,
           0.421,
           0.347,
           0.433,
           0.405
          ],
          "sizemode": "area",
          "sizeref": 0.0025,
          "symbol": "circle"
         },
         "mode": "markers",
         "name": "DAL",
         "orientation": "v",
         "showlegend": true,
         "type": "scatter",
         "x": [
          2.7,
          1.5,
          1.8,
          6.5,
          5.6,
          5.4,
          6.5,
          4.8,
          1.7,
          1.8,
          6.6,
          6.6,
          19.6,
          23.6,
          2.5,
          3.4,
          2.1,
          11,
          12.8
         ],
         "xaxis": "x",
         "y": [
          1.3,
          0.3,
          0.7,
          4.6,
          3.1,
          4,
          3.2,
          2.5,
          1.2,
          0.8,
          2.7,
          3.2,
          9.7,
          11.6,
          0.9,
          1.4,
          0.7,
          4.8,
          5.2
         ],
         "yaxis": "y"
        },
        {
         "customdata": [
          [
           "AJ Green"
          ],
          [
           "Andre Jackson Jr."
          ],
          [
           "Bobby Portis"
          ],
          [
           "Brook Lopez"
          ],
          [
           "Chris Livingston"
          ],
          [
           "Damian Lillard"
          ],
          [
           "Danilo Gallinari"
          ],
          [
           "Giannis Antetokounmpo"
          ],
          [
           "Jae Crowder"
          ],
          [
           "Khris Middleton"
          ],
          [
           "Lindell Wigginton"
          ],
          [
           "Malik Beasley"
          ],
          [
           "MarJon Beauchamp"
          ],
          [
           "Pat Connaughton"
          ],
          [
           "Patrick Beverley"
          ],
          [
           "Robin Lopez"
          ],
          [
           "Ryan Rollins"
          ],
          [
           "Thanasis Antetokounmpo"
          ],
          [
           "TyTy Washington Jr."
          ]
         ],
         "hovertemplate": "Team=MIL<br>Field Goal Attempts=%{x}<br>Field Goals Made=%{y}<br>Field Goal Percentage=%{marker.size}<br>Player=%{customdata[0]}<extra></extra>",
         "legendgroup": "MIL",
         "marker": {
          "color": "#EF553B",
          "size": [
           0.427,
           0.528,
           0.501,
           0.484,
           0.444,
           0.426,
           0.439,
           0.614,
           0.443,
           0.489,
           0.4,
           0.454,
           0.478,
           0.458,
           0.408,
           0.368,
           0.52,
           0.5,
           0.143
          ],
          "sizemode": "area",
          "sizeref": 0.0025,
          "symbol": "circle"
         },
         "mode": "markers",
         "name": "MIL",
         "orientation": "v",
         "showlegend": true,
         "type": "scatter",
         "x": [
          3.4,
          1.8,
          10.9,
          9.4,
          1.1,
          17.6,
          4,
          18.8,
          5.3,
          11.7,
          1.7,
          9.2,
          3.4,
          4.3,
          5.1,
          1.2,
          2.5,
          0.9,
          1.4
         ],
         "xaxis": "x",
         "y": [
          1.5,
          0.9,
          5.5,
          4.6,
          0.5,
          7.5,
          1.8,
          11.5,
          2.3,
          5.7,
          0.7,
          4.2,
          1.6,
          2,
          2.1,
          0.4,
          1.3,
          0.4,
          0.2
         ],
         "yaxis": "y"
        },
        {
         "customdata": [
          [
           "AJ Griffin"
          ],
          [
           "Bogdan Bogdanovic"
          ],
          [
           "Bruno Fernando"
          ],
          [
           "Clint Capela"
          ],
          [
           "De'Andre Hunter"
          ],
          [
           "Dejounte Murray"
          ],
          [
           "Dylan Windler"
          ],
          [
           "Garrison Mathews"
          ],
          [
           "Jalen Johnson"
          ],
          [
           "Kobe Bufkin"
          ],
          [
           "Mouhamed Gueye"
          ],
          [
           "Onyeka Okongwu"
          ],
          [
           "Saddiq Bey"
          ],
          [
           "Seth Lundy"
          ],
          [
           "Trae Young"
          ],
          [
           "Trent Forrest"
          ],
          [
           "Vit Krejci"
          ],
          [
           "Wesley Matthews"
          ]
         ],
         "hovertemplate": "Team=ATL<br>Field Goal Attempts=%{x}<br>Field Goals Made=%{y}<br>Field Goal Percentage=%{marker.size}<br>Player=%{customdata[0]}<extra></extra>",
         "legendgroup": "ATL",
         "marker": {
          "color": "#00cc96",
          "size": [
           0.289,
           0.428,
           0.59,
           0.567,
           0.468,
           0.463,
           0.478,
           0.457,
           0.513,
           0.351,
           0,
           0.611,
           0.416,
           0.235,
           0.426,
           0.365,
           0.484,
           0.355
          ],
          "sizemode": "area",
          "sizeref": 0.0025,
          "symbol": "circle"
         },
         "mode": "markers",
         "name": "ATL",
         "orientation": "v",
         "showlegend": true,
         "type": "scatter",
         "x": [
          2.5,
          14.1,
          3.9,
          8.5,
          11.4,
          18.7,
          1.4,
          3,
          12.5,
          4.1,
          0.5,
          6.6,
          11.1,
          1.9,
          19.3,
          2.4,
          4.6,
          2.8
         ],
         "xaxis": "x",
         "y": [
          0.7,
          6,
          2.3,
          4.8,
          5.3,
          8.7,
          0.7,
          1.4,
          6.4,
          1.4,
          0,
          4.1,
          4.6,
          0.4,
          8.2,
          0.9,
          2.2,
          1
         ],
         "yaxis": "y"
        },
        {
         "customdata": [
          [
           "Aaron Gordon"
          ],
          [
           "Braxton Key"
          ],
          [
           "Christian Braun"
          ],
          [
           "Collin Gillespie"
          ],
          [
           "DeAndre Jordan"
          ],
          [
           "Hunter Tyson"
          ],
          [
           "Jalen Pickett"
          ],
          [
           "Jamal Murray"
          ],
          [
           "Jay Huff"
          ],
          [
           "Julian Strawther"
          ],
          [
           "Justin Holiday"
          ],
          [
           "Kentavious Caldwell-Pope"
          ],
          [
           "Michael Porter Jr."
          ],
          [
           "Nikola Jokic"
          ],
          [
           "Peyton Watson"
          ],
          [
           "Reggie Jackson"
          ],
          [
           "Zeke Nnaji"
          ]
         ],
         "hovertemplate": "Team=DEN<br>Field Goal Attempts=%{x}<br>Field Goals Made=%{y}<br>Field Goal Percentage=%{marker.size}<br>Player=%{customdata[0]}<extra></extra>",
         "legendgroup": "DEN",
         "marker": {
          "color": "#ab63fa",
          "size": [
           0.551,
           0.412,
           0.458,
           0.464,
           0.624,
           0.412,
           0.424,
           0.475,
           0.538,
           0.373,
           0.458,
           0.455,
           0.492,
           0.579,
           0.462,
           0.439,
           0.449
          ],
          "sizemode": "area",
          "sizeref": 0.0025,
          "symbol": "circle"
         },
         "mode": "markers",
         "name": "DEN",
         "orientation": "v",
         "showlegend": true,
         "type": "scatter",
         "x": [
          9.9,
          0.9,
          5.8,
          2.9,
          2.7,
          1.2,
          1.4,
          16.7,
          0.8,
          4.8,
          3.3,
          7.7,
          13.2,
          17.8,
          5.6,
          9.1,
          2.6
         ],
         "xaxis": "x",
         "y": [
          5.5,
          0.4,
          2.6,
          1.3,
          1.7,
          0.5,
          0.6,
          7.9,
          0.4,
          1.8,
          1.5,
          3.5,
          6.5,
          10.3,
          2.6,
          4,
          1.2
         ],
         "yaxis": "y"
        },
        {
         "customdata": [
          [
           "Aaron Holiday"
          ],
          [
           "Alperen Sengun"
          ],
          [
           "Amen Thompson"
          ],
          [
           "Boban Marjanovic"
          ],
          [
           "Cam Whitmore"
          ],
          [
           "Dillon Brooks"
          ],
          [
           "Fred VanVleet"
          ],
          [
           "Jabari Smith Jr."
          ],
          [
           "Jae'Sean Tate"
          ],
          [
           "Jalen Green"
          ],
          [
           "Jeff Green"
          ],
          [
           "Jermaine Samuels Jr."
          ],
          [
           "Jock Landale"
          ],
          [
           "Nate Hinton"
          ],
          [
           "Nate Williams"
          ],
          [
           "Reggie Bullock Jr."
          ],
          [
           "Tari Eason"
          ]
         ],
         "hovertemplate": "Team=HOU<br>Field Goal Attempts=%{x}<br>Field Goals Made=%{y}<br>Field Goal Percentage=%{marker.size}<br>Player=%{customdata[0]}<extra></extra>",
         "legendgroup": "HOU",
         "marker": {
          "color": "#FFA15A",
          "size": [
           0.445,
           0.537,
           0.527,
           0.458,
           0.463,
           0.429,
           0.413,
           0.453,
           0.472,
           0.427,
           0.462,
           0.727,
           0.484,
           0.5,
           0.5,
           0.405,
           0.466
          ],
          "sizemode": "area",
          "sizeref": 0.0025,
          "symbol": "circle"
         },
         "mode": "markers",
         "name": "HOU",
         "orientation": "v",
         "showlegend": true,
         "type": "scatter",
         "x": [
          5.4,
          15.6,
          7.1,
          2,
          9.7,
          10.6,
          13.5,
          10.8,
          3.6,
          16.3,
          4.5,
          1,
          3.3,
          1.8,
          2,
          2.1,
          8.6
         ],
         "xaxis": "x",
         "y": [
          2.4,
          8.4,
          3.7,
          0.9,
          4.5,
          4.6,
          5.6,
          4.9,
          1.7,
          7,
          2.1,
          0.7,
          1.6,
          0.9,
          1,
          0.8,
          4
         ],
         "yaxis": "y"
        },
        {
         "customdata": [
          [
           "Aaron Nesmith"
          ],
          [
           "Andrew Nembhard"
          ],
          [
           "Ben Sheppard"
          ],
          [
           "Bennedict Mathurin"
          ],
          [
           "Doug McDermott"
          ],
          [
           "Isaiah Jackson"
          ],
          [
           "Jalen Smith"
          ],
          [
           "James Johnson"
          ],
          [
           "Jarace Walker"
          ],
          [
           "Kendall Brown"
          ],
          [
           "Myles Turner"
          ],
          [
           "Obi Toppin"
          ],
          [
           "Oscar Tshiebwe"
          ],
          [
           "Pascal Siakam"
          ],
          [
           "Quenton Jackson"
          ],
          [
           "T.J. McConnell"
          ],
          [
           "Tyrese Haliburton"
          ]
         ],
         "hovertemplate": "Team=IND<br>Field Goal Attempts=%{x}<br>Field Goals Made=%{y}<br>Field Goal Percentage=%{marker.size}<br>Player=%{customdata[0]}<extra></extra>",
         "legendgroup": "IND",
         "marker": {
          "color": "#19d3f3",
          "size": [
           0.491,
           0.5,
           0.413,
           0.446,
           0.432,
           0.667,
           0.599,
           0.333,
           0.396,
           0.6,
           0.517,
           0.57,
           0.5,
           0.535,
           0,
           0.549,
           0.476
          ],
          "sizemode": "area",
          "sizeref": 0.0025,
          "symbol": "circle"
         },
         "mode": "markers",
         "name": "IND",
         "orientation": "v",
         "showlegend": true,
         "type": "scatter",
         "x": [
          8.9,
          7.8,
          3.7,
          11.2,
          4.5,
          4,
          6.4,
          1.1,
          3.4,
          0.8,
          11.9,
          6.9,
          2.5,
          15.9,
          0,
          8,
          15.4
         ],
         "xaxis": "x",
         "y": [
          4.4,
          3.9,
          1.5,
          5,
          1.9,
          2.7,
          3.9,
          0.4,
          1.3,
          0.5,
          6.1,
          3.9,
          1.3,
          8.5,
          0,
          4.4,
          7.3
         ],
         "yaxis": "y"
        },
        {
         "customdata": [
          [
           "Aaron Wiggins"
          ],
          [
           "Adam Flagler"
          ],
          [
           "Bismack Biyombo"
          ],
          [
           "Cason Wallace"
          ],
          [
           "Chet Holmgren"
          ],
          [
           "Gordon Hayward"
          ],
          [
           "Isaiah Joe"
          ],
          [
           "Jalen Williams"
          ],
          [
           "Jaylin Williams"
          ],
          [
           "Josh Giddey"
          ],
          [
           "Kenrich Williams"
          ],
          [
           "Keyontae Johnson"
          ],
          [
           "Lindy Waters III"
          ],
          [
           "Luguentz Dort"
          ],
          [
           "Mike Muscala"
          ],
          [
           "Olivier Sarr"
          ],
          [
           "Ousmane Dieng"
          ],
          [
           "Shai Gilgeous-Alexander"
          ]
         ],
         "hovertemplate": "Team=OKC<br>Field Goal Attempts=%{x}<br>Field Goals Made=%{y}<br>Field Goal Percentage=%{marker.size}<br>Player=%{customdata[0]}<extra></extra>",
         "legendgroup": "OKC",
         "marker": {
          "color": "#FF6692",
          "size": [
           0.577,
           0,
           0.553,
           0.501,
           0.533,
           0.453,
           0.457,
           0.54,
           0.403,
           0.476,
           0.462,
           0.313,
           0.406,
           0.437,
           0.356,
           0.579,
           0.413,
           0.539
          ],
          "sizemode": "area",
          "sizeref": 0.0025,
          "symbol": "circle"
         },
         "mode": "markers",
         "name": "OKC",
         "orientation": "v",
         "showlegend": true,
         "type": "scatter",
         "x": [
          4.3,
          3,
          3.3,
          5.3,
          11.7,
          8.3,
          6.2,
          14.2,
          3.1,
          10.5,
          3.8,
          1.8,
          2.2,
          8.2,
          3.2,
          1.4,
          3.4,
          19.9
         ],
         "xaxis": "x",
         "y": [
          2.5,
          0,
          1.8,
          2.7,
          6.2,
          3.8,
          2.8,
          7.7,
          1.3,
          5,
          1.8,
          0.6,
          0.9,
          3.6,
          1.1,
          0.8,
          1.4,
          10.7
         ],
         "yaxis": "y"
        },
        {
         "customdata": [
          [
           "Adama Sanogo"
          ],
          [
           "Alex Caruso"
          ],
          [
           "Andre Drummond"
          ],
          [
           "Andrew Funk"
          ],
          [
           "Ayo Dosunmu"
          ],
          [
           "Coby White"
          ],
          [
           "Dalen Terry"
          ],
          [
           "DeMar DeRozan"
          ],
          [
           "Henri Drell"
          ],
          [
           "Javonte Green"
          ],
          [
           "Jevon Carter"
          ],
          [
           "Julian Phillips"
          ],
          [
           "Nikola Vucevic"
          ],
          [
           "Onuralp Bitim"
          ],
          [
           "Patrick Williams"
          ],
          [
           "Terry Taylor"
          ],
          [
           "Torrey Craig"
          ],
          [
           "Zach LaVine"
          ]
         ],
         "hovertemplate": "Team=CHI<br>Field Goal Attempts=%{x}<br>Field Goals Made=%{y}<br>Field Goal Percentage=%{marker.size}<br>Player=%{customdata[0]}<extra></extra>",
         "legendgroup": "CHI",
         "marker": {
          "color": "#B6E880",
          "size": [
           1,
           0.471,
           0.551,
           0,
           0.499,
           0.446,
           0.415,
           0.475,
           0.5,
           0.545,
           0.385,
           0.416,
           0.482,
           0.424,
           0.443,
           0.514,
           0.435,
           0.452
          ],
          "sizemode": "area",
          "sizeref": 0.0025,
          "symbol": "circle"
         },
         "mode": "markers",
         "name": "CHI",
         "orientation": "v",
         "showlegend": true,
         "type": "scatter",
         "x": [
          1,
          7.6,
          6.1,
          0.5,
          9.3,
          15.3,
          2.4,
          16.8,
          2,
          3.7,
          4.9,
          1.9,
          16,
          3.7,
          8.3,
          1.2,
          5,
          15
         ],
         "xaxis": "x",
         "y": [
          1,
          3.6,
          3.3,
          0,
          4.6,
          6.8,
          1,
          8,
          1,
          2,
          1.9,
          0.8,
          7.7,
          1.6,
          3.7,
          0.6,
          2.2,
          6.8
         ],
         "yaxis": "y"
        },
        {
         "customdata": [
          [
           "Admiral Schofield"
          ],
          [
           "Anthony Black"
          ],
          [
           "Caleb Houstan"
          ],
          [
           "Chuma Okeke"
          ],
          [
           "Cole Anthony"
          ],
          [
           "Franz Wagner"
          ],
          [
           "Gary Harris"
          ],
          [
           "Goga Bitadze"
          ],
          [
           "Jalen Suggs"
          ],
          [
           "Jett Howard"
          ],
          [
           "Joe Ingles"
          ],
          [
           "Jonathan Isaac"
          ],
          [
           "Kevon Harris"
          ],
          [
           "Markelle Fultz"
          ],
          [
           "Moritz Wagner"
          ],
          [
           "Paolo Banchero"
          ],
          [
           "Trevelin Queen"
          ],
          [
           "Wendell Carter Jr."
          ]
         ],
         "hovertemplate": "Team=ORL<br>Field Goal Attempts=%{x}<br>Field Goals Made=%{y}<br>Field Goal Percentage=%{marker.size}<br>Player=%{customdata[0]}<extra></extra>",
         "legendgroup": "ORL",
         "marker": {
          "color": "#FF97FF",
          "size": [
           0.375,
           0.459,
           0.395,
           0.358,
           0.437,
           0.479,
           0.456,
           0.611,
           0.463,
           0.348,
           0.43,
           0.522,
           0.667,
           0.466,
           0.599,
           0.463,
           0.368,
           0.523
          ],
          "sizemode": "area",
          "sizeref": 0.0025,
          "symbol": "circle"
         },
         "mode": "markers",
         "name": "ORL",
         "orientation": "v",
         "showlegend": true,
         "type": "scatter",
         "x": [
          1.1,
          3.7,
          3.6,
          2.5,
          9.6,
          15.3,
          5.5,
          3.6,
          9.6,
          1.6,
          3.5,
          4.9,
          1.5,
          7.6,
          6.9,
          17.3,
          2.9,
          7.8
         ],
         "xaxis": "x",
         "y": [
          0.4,
          1.7,
          1.4,
          0.9,
          4.2,
          7.3,
          2.5,
          2.2,
          4.4,
          0.6,
          1.5,
          2.6,
          1,
          3.5,
          4.1,
          8,
          1.1,
          4.1
         ],
         "yaxis": "y"
        },
        {
         "customdata": [
          [
           "Al Horford"
          ],
          [
           "Derrick White"
          ],
          [
           "Drew Peterson"
          ],
          [
           "JD Davison"
          ],
          [
           "Jaden Springer"
          ],
          [
           "Jaylen Brown"
          ],
          [
           "Jayson Tatum"
          ],
          [
           "Jordan Walsh"
          ],
          [
           "Jrue Holiday"
          ],
          [
           "Kristaps Porzingis"
          ],
          [
           "Luke Kornet"
          ],
          [
           "Neemias Queta"
          ],
          [
           "Oshae Brissett"
          ],
          [
           "Payton Pritchard"
          ],
          [
           "Sam Hauser"
          ],
          [
           "Svi Mykhailiuk"
          ],
          [
           "Xavier Tillman"
          ]
         ],
         "hovertemplate": "Team=BOS<br>Field Goal Attempts=%{x}<br>Field Goals Made=%{y}<br>Field Goal Percentage=%{marker.size}<br>Player=%{customdata[0]}<extra></extra>",
         "legendgroup": "BOS",
         "marker": {
          "color": "#FECB52",
          "size": [
           0.505,
           0.466,
           1,
           0.667,
           0.382,
           0.502,
           0.474,
           0.375,
           0.485,
           0.509,
           0.686,
           0.614,
           0.454,
           0.448,
           0.459,
           0.371,
           0.42
          ],
          "sizemode": "area",
          "sizeref": 0.0025,
          "symbol": "circle"
         },
         "mode": "markers",
         "name": "BOS",
         "orientation": "v",
         "showlegend": true,
         "type": "scatter",
         "x": [
          6.4,
          11.6,
          1,
          0.5,
          3,
          18,
          19.5,
          1.3,
          10,
          13.4,
          3.2,
          3.2,
          2.7,
          7.1,
          6.5,
          2.9,
          5.3
         ],
         "xaxis": "x",
         "y": [
          3.2,
          5.4,
          1,
          0.3,
          1.2,
          9,
          9.2,
          0.5,
          4.9,
          6.8,
          2.2,
          2,
          1.2,
          3.2,
          3,
          1.1,
          2.2
         ],
         "yaxis": "y"
        },
        {
         "customdata": [
          [
           "Alec Burks"
          ],
          [
           "Bojan Bogdanovic"
          ],
          [
           "Charlie Brown Jr."
          ],
          [
           "DaQuan Jeffries"
          ],
          [
           "Dmytro Skapintsev"
          ],
          [
           "Donte DiVincenzo"
          ],
          [
           "Isaiah Hartenstein"
          ],
          [
           "Jacob Toppin"
          ],
          [
           "Jalen Brunson"
          ],
          [
           "Jericho Sims"
          ],
          [
           "Josh Hart"
          ],
          [
           "Julius Randle"
          ],
          [
           "Mamadi Diakite"
          ],
          [
           "Miles McBride"
          ],
          [
           "Mitchell Robinson"
          ],
          [
           "OG Anunoby"
          ],
          [
           "Precious Achiuwa"
          ],
          [
           "Ryan Arcidiacono"
          ],
          [
           "Shake Milton"
          ]
         ],
         "hovertemplate": "Team=NYK<br>Field Goal Attempts=%{x}<br>Field Goals Made=%{y}<br>Field Goal Percentage=%{marker.size}<br>Player=%{customdata[0]}<extra></extra>",
         "legendgroup": "NYK",
         "marker": {
          "color": "#636efa",
          "size": [
           0.373,
           0.449,
           0.2,
           0.353,
           0,
           0.438,
           0.634,
           0.556,
           0.478,
           0.704,
           0.418,
           0.472,
           0.667,
           0.454,
           0.582,
           0.492,
           0.51,
           0,
           0.405
          ],
          "sizemode": "area",
          "sizeref": 0.0025,
          "symbol": "circle"
         },
         "mode": "markers",
         "name": "NYK",
         "orientation": "v",
         "showlegend": true,
         "type": "scatter",
         "x": [
          9,
          12.5,
          1.3,
          1.1,
          0.5,
          12.1,
          4.8,
          1,
          21,
          1.3,
          8.3,
          18.2,
          1.2,
          6.4,
          4.8,
          11.5,
          6.7,
          0.3,
          4.1
         ],
         "xaxis": "x",
         "y": [
          3.4,
          5.6,
          0.3,
          0.4,
          0,
          5.3,
          3,
          0.6,
          10,
          0.9,
          3.5,
          8.6,
          0.8,
          2.9,
          2.8,
          5.7,
          3.4,
          0,
          1.7
         ],
         "yaxis": "y"
        },
        {
         "customdata": [
          [
           "Aleksej Pokusevski"
          ],
          [
           "Amari Bailey"
          ],
          [
           "Brandon Miller"
          ],
          [
           "Bryce McGowens"
          ],
          [
           "Cody Martin"
          ],
          [
           "Davis Bertans"
          ],
          [
           "Frank Ntilikina"
          ],
          [
           "Grant Williams"
          ],
          [
           "Ish Smith"
          ],
          [
           "JT Thor"
          ],
          [
           "James Bouknight"
          ],
          [
           "LaMelo Ball"
          ],
          [
           "Leaky Black"
          ],
          [
           "Mark Williams"
          ],
          [
           "Marques Bolden"
          ],
          [
           "Miles Bridges"
          ],
          [
           "Nathan Mensah"
          ],
          [
           "Nick Richards"
          ],
          [
           "Nick Smith Jr."
          ],
          [
           "Seth Curry"
          ],
          [
           "Tre Mann"
          ],
          [
           "Vasilije Micic"
          ]
         ],
         "hovertemplate": "Team=CHA<br>Field Goal Attempts=%{x}<br>Field Goals Made=%{y}<br>Field Goal Percentage=%{marker.size}<br>Player=%{customdata[0]}<extra></extra>",
         "legendgroup": "CHA",
         "marker": {
          "color": "#EF553B",
          "size": [
           0.394,
           0.25,
           0.435,
           0.449,
           0.381,
           0.38,
           0.111,
           0.445,
           0.418,
           0.381,
           0.439,
           0.433,
           0.436,
           0.649,
           0,
           0.462,
           0.429,
           0.688,
           0.392,
           0.392,
           0.46,
           0.439
          ],
          "sizemode": "area",
          "sizeref": 0.0025,
          "symbol": "circle"
         },
         "mode": "markers",
         "name": "CHA",
         "orientation": "v",
         "showlegend": true,
         "type": "scatter",
         "x": [
          3.6,
          1.5,
          14.7,
          3.7,
          7.7,
          5,
          1.8,
          7.7,
          3.7,
          2.8,
          2.9,
          19.2,
          1.8,
          7.9,
          0.3,
          17.8,
          1.1,
          5.7,
          5.3,
          4.6,
          7.2,
          5.9
         ],
         "xaxis": "x",
         "y": [
          1.4,
          0.4,
          6.4,
          1.7,
          2.9,
          1.9,
          0.2,
          3.4,
          1.5,
          1.1,
          1.3,
          8.3,
          0.8,
          5.2,
          0,
          8.2,
          0.5,
          3.9,
          2.1,
          1.8,
          3.3,
          2.6
         ],
         "yaxis": "y"
        },
        {
         "customdata": [
          [
           "Alex Len"
          ],
          [
           "Chris Duarte"
          ],
          [
           "Colby Jones"
          ],
          [
           "Davion Mitchell"
          ],
          [
           "De'Aaron Fox"
          ],
          [
           "Domantas Sabonis"
          ],
          [
           "Filip Petrusev"
          ],
          [
           "Harrison Barnes"
          ],
          [
           "JaVale McGee"
          ],
          [
           "Jalen Slawson"
          ],
          [
           "Jordan Ford"
          ],
          [
           "Juan Toscano-Anderson"
          ],
          [
           "Keegan Murray"
          ],
          [
           "Keon Ellis"
          ],
          [
           "Kessler Edwards"
          ],
          [
           "Kevin Huerter"
          ],
          [
           "Malik Monk"
          ],
          [
           "Mason Jones"
          ],
          [
           "Sasha Vezenkov"
          ],
          [
           "Trey Lyles"
          ]
         ],
         "hovertemplate": "Team=SAC<br>Field Goal Attempts=%{x}<br>Field Goals Made=%{y}<br>Field Goal Percentage=%{marker.size}<br>Player=%{customdata[0]}<extra></extra>",
         "legendgroup": "SAC",
         "marker": {
          "color": "#00cc96",
          "size": [
           0.616,
           0.388,
           0.37,
           0.462,
           0.465,
           0.602,
           0.5,
           0.483,
           0.605,
           0.6,
           0.571,
           0.25,
           0.463,
           0.457,
           0.425,
           0.443,
           0.443,
           0.333,
           0.452,
           0.448
          ],
          "sizemode": "area",
          "sizeref": 0.0025,
          "symbol": "circle"
         },
         "mode": "markers",
         "name": "SAC",
         "orientation": "v",
         "showlegend": true,
         "type": "scatter",
         "x": [
          1.8,
          3.7,
          2.3,
          4,
          20.8,
          13,
          0.7,
          9,
          2.9,
          0.6,
          1.2,
          1.1,
          12.3,
          3.5,
          1.5,
          8.8,
          12.4,
          2,
          4.7,
          5.4
         ],
         "xaxis": "x",
         "y": [
          1.1,
          1.4,
          0.9,
          1.8,
          9.7,
          7.8,
          0.3,
          4.4,
          1.7,
          0.3,
          0.7,
          0.3,
          5.7,
          1.6,
          0.6,
          3.9,
          5.5,
          0.7,
          2.1,
          2.4
         ],
         "yaxis": "y"
        },
        {
         "customdata": [
          [
           "Alondes Williams"
          ],
          [
           "Bam Adebayo"
          ],
          [
           "Caleb Martin"
          ],
          [
           "Cole Swider"
          ],
          [
           "Delon Wright"
          ],
          [
           "Dru Smith"
          ],
          [
           "Duncan Robinson"
          ],
          [
           "Haywood Highsmith"
          ],
          [
           "Jaime Jaquez Jr."
          ],
          [
           "Jamal Cain"
          ],
          [
           "Jimmy Butler"
          ],
          [
           "Josh Richardson"
          ],
          [
           "Kevin Love"
          ],
          [
           "Nikola Jovic"
          ],
          [
           "Orlando Robinson"
          ],
          [
           "Patty Mills"
          ],
          [
           "R.J. Hampton"
          ],
          [
           "Terry Rozier"
          ],
          [
           "Thomas Bryant"
          ],
          [
           "Tyler Herro"
          ]
         ],
         "hovertemplate": "Team=MIA<br>Field Goal Attempts=%{x}<br>Field Goals Made=%{y}<br>Field Goal Percentage=%{marker.size}<br>Player=%{customdata[0]}<extra></extra>",
         "legendgroup": "MIA",
         "marker": {
          "color": "#ab63fa",
          "size": [
           0.25,
           0.521,
           0.437,
           0.417,
           0.376,
           0.455,
           0.456,
           0.454,
           0.488,
           0.43,
           0.5,
           0.444,
           0.443,
           0.438,
           0.5,
           0.355,
           0.286,
           0.443,
           0.561,
           0.437
          ],
          "sizemode": "area",
          "sizeref": 0.0025,
          "symbol": "circle"
         },
         "mode": "markers",
         "name": "MIA",
         "orientation": "v",
         "showlegend": true,
         "type": "scatter",
         "x": [
          1,
          14.6,
          8.7,
          2.4,
          3.9,
          3.7,
          10.2,
          4.9,
          9.7,
          3.6,
          13.4,
          8.1,
          6.5,
          5.5,
          2.2,
          4.1,
          1.8,
          16.6,
          3.8,
          18
         ],
         "xaxis": "x",
         "y": [
          0.3,
          7.6,
          3.8,
          1,
          1.5,
          1.7,
          4.7,
          2.2,
          4.7,
          1.5,
          6.7,
          3.6,
          2.9,
          2.4,
          1.1,
          1.5,
          0.5,
          7.4,
          2.1,
          7.9
         ],
         "yaxis": "y"
        },
        {
         "customdata": [
          [
           "Amir Coffey"
          ],
          [
           "Bones Hyland"
          ],
          [
           "Brandon Boston Jr."
          ],
          [
           "Daniel Theis"
          ],
          [
           "Ivica Zubac"
          ],
          [
           "James Harden"
          ],
          [
           "Jordan Miller"
          ],
          [
           "Joshua Primo"
          ],
          [
           "Kawhi Leonard"
          ],
          [
           "Kobe Brown"
          ],
          [
           "Mason Plumlee"
          ],
          [
           "Moussa Diabate"
          ],
          [
           "Norman Powell"
          ],
          [
           "P.J. Tucker"
          ],
          [
           "Paul George"
          ],
          [
           "Russell Westbrook"
          ],
          [
           "Terance Mann"
          ],
          [
           "Xavier Moon"
          ]
         ],
         "hovertemplate": "Team=LAC<br>Field Goal Attempts=%{x}<br>Field Goals Made=%{y}<br>Field Goal Percentage=%{marker.size}<br>Player=%{customdata[0]}<extra></extra>",
         "legendgroup": "LAC",
         "marker": {
          "color": "#FFA15A",
          "size": [
           0.504,
           0.365,
           0.423,
           0.527,
           0.66,
           0.435,
           0.556,
           0.333,
           0.525,
           0.4,
           0.615,
           0.526,
           0.495,
           0.333,
           0.471,
           0.451,
           0.489,
           0.357
          ],
          "sizemode": "area",
          "sizeref": 0.0025,
          "symbol": "circle"
         },
         "mode": "markers",
         "name": "LAC",
         "orientation": "v",
         "showlegend": true,
         "type": "scatter",
         "x": [
          4.4,
          5.9,
          3.7,
          4.7,
          7.4,
          11.4,
          1.1,
          1.5,
          17.1,
          1.7,
          3.1,
          1.7,
          10.1,
          1.6,
          16.9,
          9.7,
          6.5,
          1.6
         ],
         "xaxis": "x",
         "y": [
          2.2,
          2.2,
          1.6,
          2.5,
          4.9,
          5,
          0.6,
          0.5,
          9,
          0.7,
          1.9,
          0.9,
          5,
          0.5,
          8,
          4.4,
          3.2,
          0.6
         ],
         "yaxis": "y"
        },
        {
         "customdata": [
          [
           "Andrew Wiggins"
          ],
          [
           "Brandin Podziemski"
          ],
          [
           "Chris Paul"
          ],
          [
           "Cory Joseph"
          ],
          [
           "Dario Saric"
          ],
          [
           "Draymond Green"
          ],
          [
           "Gary Payton II"
          ],
          [
           "Gui Santos"
          ],
          [
           "Jerome Robinson"
          ],
          [
           "Jonathan Kuminga"
          ],
          [
           "Kevon Looney"
          ],
          [
           "Klay Thompson"
          ],
          [
           "Lester Quinones"
          ],
          [
           "Moses Moody"
          ],
          [
           "Pat Spencer"
          ],
          [
           "Stephen Curry"
          ],
          [
           "Trayce Jackson-Davis"
          ],
          [
           "Usman Garuba"
          ]
         ],
         "hovertemplate": "Team=GSW<br>Field Goal Attempts=%{x}<br>Field Goals Made=%{y}<br>Field Goal Percentage=%{marker.size}<br>Player=%{customdata[0]}<extra></extra>",
         "legendgroup": "GSW",
         "marker": {
          "color": "#19d3f3",
          "size": [
           0.451,
           0.445,
           0.444,
           0.359,
           0.465,
           0.496,
           0.541,
           0.5,
           0.31,
           0.529,
           0.607,
           0.425,
           0.39,
           0.465,
           1,
           0.449,
           0.705,
           0
          ],
          "sizemode": "area",
          "sizeref": 0.0025,
          "symbol": "circle"
         },
         "mode": "markers",
         "name": "GSW",
         "orientation": "v",
         "showlegend": true,
         "type": "scatter",
         "x": [
          10.9,
          8.2,
          7.8,
          2.5,
          6.1,
          7,
          4,
          2.2,
          1.5,
          11.8,
          3.1,
          14.5,
          3.7,
          6.4,
          0.3,
          19.6,
          4.7,
          0.3
         ],
         "xaxis": "x",
         "y": [
          4.9,
          3.7,
          3.5,
          0.9,
          2.9,
          3.4,
          2.2,
          1.1,
          0.5,
          6.3,
          1.9,
          6.2,
          1.5,
          3,
          0.3,
          8.8,
          3.3,
          0
         ],
         "yaxis": "y"
        },
        {
         "customdata": [
          [
           "Anfernee Simons"
          ],
          [
           "Ashton Hagans"
          ],
          [
           "Dalano Banton"
          ],
          [
           "Deandre Ayton"
          ],
          [
           "Duop Reath"
          ],
          [
           "Ibou Badji"
          ],
          [
           "Jabari Walker"
          ],
          [
           "Jerami Grant"
          ],
          [
           "Justin Minaya"
          ],
          [
           "Kris Murray"
          ],
          [
           "Malcolm Brogdon"
          ],
          [
           "Matisse Thybulle"
          ],
          [
           "Moses Brown"
          ],
          [
           "Rayan Rupert"
          ],
          [
           "Robert Williams III"
          ],
          [
           "Scoot Henderson"
          ],
          [
           "Shaedon Sharpe"
          ],
          [
           "Taze Moore"
          ],
          [
           "Toumani Camara"
          ]
         ],
         "hovertemplate": "Team=POR<br>Field Goal Attempts=%{x}<br>Field Goals Made=%{y}<br>Field Goal Percentage=%{marker.size}<br>Player=%{customdata[0]}<extra></extra>",
         "legendgroup": "POR",
         "marker": {
          "color": "#FF6692",
          "size": [
           0.43,
           0.429,
           0.415,
           0.58,
           0.476,
           0.65,
           0.475,
           0.451,
           0.293,
           0.404,
           0.44,
           0.397,
           0.471,
           0.385,
           0.654,
           0.38,
           0.406,
           0.6,
           0.45
          ],
          "sizemode": "area",
          "sizeref": 0.0025,
          "symbol": "circle"
         },
         "mode": "markers",
         "name": "POR",
         "orientation": "v",
         "showlegend": true,
         "type": "scatter",
         "x": [
          18.2,
          3.9,
          7.7,
          12.6,
          7.3,
          1,
          6.6,
          15.7,
          1.5,
          5.3,
          12.7,
          4.9,
          2.7,
          3.1,
          4.3,
          12.3,
          13.6,
          1.7,
          6.3
         ],
         "xaxis": "x",
         "y": [
          7.8,
          1.7,
          3.2,
          7.3,
          3.5,
          0.6,
          3.2,
          7.1,
          0.4,
          2.1,
          5.6,
          1.9,
          1.3,
          1.2,
          2.8,
          4.7,
          5.5,
          1,
          2.8
         ],
         "yaxis": "y"
        },
        {
         "customdata": [
          [
           "Anthony Davis"
          ],
          [
           "Austin Reaves"
          ],
          [
           "Cam Reddish"
          ],
          [
           "Christian Wood"
          ],
          [
           "Colin Castleton"
          ],
          [
           "D'Angelo Russell"
          ],
          [
           "D'Moi Hodge"
          ],
          [
           "Gabe Vincent"
          ],
          [
           "Harry Giles III"
          ],
          [
           "Jalen Hood-Schifino"
          ],
          [
           "Jarred Vanderbilt"
          ],
          [
           "Jaxson Hayes"
          ],
          [
           "LeBron James"
          ],
          [
           "Max Christie"
          ],
          [
           "Maxwell Lewis"
          ],
          [
           "Rui Hachimura"
          ],
          [
           "Skylar Mays"
          ],
          [
           "Spencer Dinwiddie"
          ],
          [
           "Taurean Prince"
          ]
         ],
         "hovertemplate": "Team=LAL<br>Field Goal Attempts=%{x}<br>Field Goals Made=%{y}<br>Field Goal Percentage=%{marker.size}<br>Player=%{customdata[0]}<extra></extra>",
         "legendgroup": "LAL",
         "marker": {
          "color": "#B6E880",
          "size": [
           0.555,
           0.488,
           0.39,
           0.466,
           0.636,
           0.459,
           0.333,
           0.361,
           0.46,
           0.222,
           0.518,
           0.707,
           0.533,
           0.431,
           0.2,
           0.535,
           0.399,
           0.388,
           0.441
          ],
          "sizemode": "area",
          "sizeref": 0.0025,
          "symbol": "circle"
         },
         "mode": "markers",
         "name": "LAL",
         "orientation": "v",
         "showlegend": true,
         "type": "scatter",
         "x": [
          17,
          11.5,
          5,
          5.3,
          1.1,
          14.2,
          2.1,
          6,
          2.3,
          2.1,
          3.9,
          2.4,
          17.8,
          3.7,
          0.5,
          9.7,
          4.5,
          8.8,
          7.4
         ],
         "xaxis": "x",
         "y": [
          9.4,
          5.6,
          1.9,
          2.5,
          0.7,
          6.5,
          0.7,
          2.2,
          1,
          0.5,
          2,
          1.7,
          9.5,
          1.6,
          0.1,
          5.2,
          1.8,
          3.4,
          3.3
         ],
         "yaxis": "y"
        },
        {
         "customdata": [
          [
           "Anthony Edwards"
          ],
          [
           "Daishen Nix"
          ],
          [
           "Jaden McDaniels"
          ],
          [
           "Jordan McLaughlin"
          ],
          [
           "Josh Minott"
          ],
          [
           "Justin Jackson"
          ],
          [
           "Karl-Anthony Towns"
          ],
          [
           "Kyle Anderson"
          ],
          [
           "Leonard Miller"
          ],
          [
           "Luka Garza"
          ],
          [
           "Mike Conley"
          ],
          [
           "Monte Morris"
          ],
          [
           "Naz Reid"
          ],
          [
           "Nickeil Alexander-Walker"
          ],
          [
           "Rudy Gobert"
          ],
          [
           "T.J. Warren"
          ],
          [
           "Wendell Moore Jr."
          ]
         ],
         "hovertemplate": "Team=MIN<br>Field Goal Attempts=%{x}<br>Field Goals Made=%{y}<br>Field Goal Percentage=%{marker.size}<br>Player=%{customdata[0]}<extra></extra>",
         "legendgroup": "MIN",
         "marker": {
          "color": "#FF97FF",
          "size": [
           0.463,
           0.4,
           0.491,
           0.475,
           0.444,
           0,
           0.506,
           0.469,
           0.636,
           0.439,
           0.455,
           0.397,
           0.477,
           0.43,
           0.657,
           0.382,
           0.455
          ],
          "sizemode": "area",
          "sizeref": 0.0025,
          "symbol": "circle"
         },
         "mode": "markers",
         "name": "MIN",
         "orientation": "v",
         "showlegend": true,
         "type": "scatter",
         "x": [
          19.9,
          1.7,
          8.9,
          2.5,
          1,
          0,
          15.5,
          5.5,
          1,
          2.9,
          8.4,
          4.8,
          10.2,
          6.4,
          8.1,
          4.3,
          0.6
         ],
         "xaxis": "x",
         "y": [
          9.2,
          0.7,
          4.4,
          1.2,
          0.5,
          0,
          7.9,
          2.6,
          0.6,
          1.3,
          3.8,
          1.9,
          4.9,
          2.7,
          5.3,
          1.6,
          0.3
         ],
         "yaxis": "y"
        },
        {
         "customdata": [
          [
           "Anthony Gill"
          ],
          [
           "Bilal Coulibaly"
          ],
          [
           "Corey Kispert"
          ],
          [
           "Deni Avdija"
          ],
          [
           "Eugene Omoruyi"
          ],
          [
           "Hamidou Diallo"
          ],
          [
           "Isaiah Livers"
          ],
          [
           "Jared Butler"
          ],
          [
           "Johnny Davis"
          ],
          [
           "Jordan Poole"
          ],
          [
           "Jules Bernard"
          ],
          [
           "Justin Champagnie"
          ],
          [
           "Kyle Kuzma"
          ],
          [
           "Landry Shamet"
          ],
          [
           "Marvin Bagley III"
          ],
          [
           "Patrick Baldwin Jr."
          ],
          [
           "Richaun Holmes"
          ],
          [
           "Tristan Vukcevic"
          ],
          [
           "Tyus Jones"
          ]
         ],
         "hovertemplate": "Team=WAS<br>Field Goal Attempts=%{x}<br>Field Goals Made=%{y}<br>Field Goal Percentage=%{marker.size}<br>Player=%{customdata[0]}<extra></extra>",
         "legendgroup": "WAS",
         "marker": {
          "color": "#FECB52",
          "size": [
           0.481,
           0.435,
           0.482,
           0.506,
           0.492,
           0.5,
           0.345,
           0.482,
           0.364,
           0.411,
           0.42,
           0.4,
           0.463,
           0.431,
           0.588,
           0.314,
           0.558,
           0.3,
           0.489
          ],
          "sizemode": "area",
          "sizeref": 0.0025,
          "symbol": "circle"
         },
         "mode": "markers",
         "name": "WAS",
         "orientation": "v",
         "showlegend": true,
         "type": "scatter",
         "x": [
          2.4,
          6.9,
          9.6,
          10.5,
          3.3,
          1,
          5,
          4.2,
          3,
          14.9,
          3.3,
          5,
          18.8,
          6,
          8.2,
          3.3,
          3.7,
          2,
          10.1
         ],
         "xaxis": "x",
         "y": [
          1.1,
          3,
          4.6,
          5.3,
          1.6,
          0.5,
          1.7,
          2,
          1.1,
          6.1,
          1.4,
          2,
          8.7,
          2.6,
          4.8,
          1,
          2.1,
          0.6,
          4.9
         ],
         "yaxis": "y"
        },
        {
         "customdata": [
          [
           "Armoni Brooks"
          ],
          [
           "Ben Simmons"
          ],
          [
           "Cam Thomas"
          ],
          [
           "Cameron Johnson"
          ],
          [
           "Dariq Whitehead"
          ],
          [
           "Day'Ron Sharpe"
          ],
          [
           "Dennis Schroder"
          ],
          [
           "Dennis Smith Jr."
          ],
          [
           "Dorian Finney-Smith"
          ],
          [
           "Jacob Gilyard"
          ],
          [
           "Jalen Wilson"
          ],
          [
           "Keita Bates-Diop"
          ],
          [
           "Keon Johnson"
          ],
          [
           "Lonnie Walker IV"
          ],
          [
           "Mikal Bridges"
          ],
          [
           "Nic Claxton"
          ],
          [
           "Noah Clowney"
          ],
          [
           "Trendon Watford"
          ]
         ],
         "hovertemplate": "Team=BKN<br>Field Goal Attempts=%{x}<br>Field Goals Made=%{y}<br>Field Goal Percentage=%{marker.size}<br>Player=%{customdata[0]}<extra></extra>",
         "legendgroup": "BKN",
         "marker": {
          "color": "#636efa",
          "size": [
           0.326,
           0.581,
           0.443,
           0.448,
           0.2,
           0.584,
           0.438,
           0.435,
           0.42,
           0.411,
           0.429,
           0.434,
           0.368,
           0.429,
           0.437,
           0.628,
           0.45,
           0.538
          ],
          "sizemode": "area",
          "sizeref": 0.0025,
          "symbol": "circle"
         },
         "mode": "markers",
         "name": "BKN",
         "orientation": "v",
         "showlegend": true,
         "type": "scatter",
         "x": [
          4.6,
          4.9,
          17.8,
          10.8,
          2.5,
          4.8,
          11.6,
          6,
          7.6,
          3.7,
          3.7,
          3.1,
          4.8,
          8.3,
          16.3,
          8.4,
          2.5,
          4.4
         ],
         "xaxis": "x",
         "y": [
          1.5,
          2.9,
          7.9,
          4.8,
          0.5,
          2.8,
          5.1,
          2.6,
          3.2,
          1.5,
          1.6,
          1.4,
          1.8,
          3.5,
          7.1,
          5.2,
          1.1,
          2.4
         ],
         "yaxis": "y"
        },
        {
         "customdata": [
          [
           "Ausar Thompson"
          ],
          [
           "Buddy Boeheim"
          ],
          [
           "Cade Cunningham"
          ],
          [
           "Chimezie Metu"
          ],
          [
           "Evan Fournier"
          ],
          [
           "Isaiah Stewart"
          ],
          [
           "Jaden Ivey"
          ],
          [
           "Jalen Duren"
          ],
          [
           "James Wiseman"
          ],
          [
           "Jared Rhoden"
          ],
          [
           "Joe Harris"
          ],
          [
           "Kevin Knox II"
          ],
          [
           "Killian Hayes"
          ],
          [
           "Malachi Flynn"
          ],
          [
           "Malcolm Cazalon"
          ],
          [
           "Marcus Sasser"
          ],
          [
           "Quentin Grimes"
          ],
          [
           "Simone Fontecchio"
          ],
          [
           "Stanley Umude"
          ],
          [
           "Taj Gibson"
          ],
          [
           "Tosan Evbuomwan"
          ],
          [
           "Troy Brown Jr."
          ]
         ],
         "hovertemplate": "Team=DET<br>Field Goal Attempts=%{x}<br>Field Goals Made=%{y}<br>Field Goal Percentage=%{marker.size}<br>Player=%{customdata[0]}<extra></extra>",
         "legendgroup": "DET",
         "marker": {
          "color": "#EF553B",
          "size": [
           0.483,
           0.35,
           0.446,
           0.488,
           0.351,
           0.487,
           0.431,
           0.629,
           0.639,
           0.52,
           0.359,
           0.462,
           0.413,
           0.41,
           0,
           0.432,
           0.372,
           0.46,
           0.44,
           0.32,
           0.464,
           0.392
          ],
          "sizemode": "area",
          "sizeref": 0.0025,
          "symbol": "circle"
         },
         "mode": "markers",
         "name": "DET",
         "orientation": "v",
         "showlegend": true,
         "type": "scatter",
         "x": [
          7.6,
          4,
          18.8,
          4,
          6.7,
          8.3,
          12.4,
          9.3,
          4.6,
          2.5,
          2.4,
          6,
          6.7,
          3.9,
          0,
          6.5,
          6.4,
          8.3,
          3.5,
          1.5,
          4,
          3.5
         ],
         "xaxis": "x",
         "y": [
          3.7,
          1.4,
          8.4,
          1.9,
          2.4,
          4,
          5.3,
          5.8,
          2.9,
          1.3,
          0.9,
          2.8,
          2.8,
          1.6,
          0,
          2.8,
          2.4,
          3.8,
          1.5,
          0.5,
          1.9,
          1.4
         ],
         "yaxis": "y"
        },
        {
         "customdata": [
          [
           "Blake Wesley"
          ],
          [
           "Cedi Osman"
          ],
          [
           "Charles Bassey"
          ],
          [
           "Devin Vassell"
          ],
          [
           "Devonte' Graham"
          ],
          [
           "Dominick Barlow"
          ],
          [
           "Jamaree Bouyea"
          ],
          [
           "Jeremy Sochan"
          ],
          [
           "Julian Champagnie"
          ],
          [
           "Keldon Johnson"
          ],
          [
           "Malaki Branham"
          ],
          [
           "Sandro Mamukelashvili"
          ],
          [
           "Sidy Cissoko"
          ],
          [
           "Tre Jones"
          ],
          [
           "Victor Wembanyama"
          ],
          [
           "Zach Collins"
          ]
         ],
         "hovertemplate": "Team=SAS<br>Field Goal Attempts=%{x}<br>Field Goals Made=%{y}<br>Field Goal Percentage=%{marker.size}<br>Player=%{customdata[0]}<extra></extra>",
         "legendgroup": "SAS",
         "marker": {
          "color": "#00cc96",
          "size": [
           0.483,
           0.477,
           0.725,
           0.472,
           0.4,
           0.496,
           0.238,
           0.438,
           0.396,
           0.456,
           0.428,
           0.483,
           0.167,
           0.512,
           0.468,
           0.479
          ],
          "sizemode": "area",
          "sizeref": 0.0025,
          "symbol": "circle"
         },
         "mode": "markers",
         "name": "SAS",
         "orientation": "v",
         "showlegend": true,
         "type": "scatter",
         "x": [
          3.2,
          5.3,
          2.1,
          15.5,
          2.8,
          3.4,
          3.5,
          10.5,
          5,
          12.6,
          8,
          2.3,
          1,
          7.4,
          16.3,
          8.8
         ],
         "xaxis": "x",
         "y": [
          1.6,
          2.5,
          1.5,
          7.3,
          1.1,
          1.7,
          0.8,
          4.6,
          2,
          5.7,
          3.4,
          1.1,
          0.2,
          3.8,
          7.7,
          4.2
         ],
         "yaxis": "y"
        },
        {
         "customdata": [
          [
           "Bol Bol"
          ],
          [
           "Bradley Beal"
          ],
          [
           "David Roddy"
          ],
          [
           "Devin Booker"
          ],
          [
           "Drew Eubanks"
          ],
          [
           "Eric Gordon"
          ],
          [
           "Grayson Allen"
          ],
          [
           "Isaiah Thomas"
          ],
          [
           "Ish Wainright"
          ],
          [
           "Josh Okogie"
          ],
          [
           "Jusuf Nurkic"
          ],
          [
           "Kevin Durant"
          ],
          [
           "Nassir Little"
          ],
          [
           "Royce O'Neale"
          ],
          [
           "Saben Lee"
          ],
          [
           "Thaddeus Young"
          ],
          [
           "Theo Maledon"
          ],
          [
           "Udoka Azubuike"
          ]
         ],
         "hovertemplate": "Team=PHX<br>Field Goal Attempts=%{x}<br>Field Goals Made=%{y}<br>Field Goal Percentage=%{marker.size}<br>Player=%{customdata[0]}<extra></extra>",
         "legendgroup": "PHX",
         "marker": {
          "color": "#ab63fa",
          "size": [
           0.619,
           0.498,
           0.404,
           0.492,
           0.623,
           0.451,
           0.505,
           0.4,
           0.292,
           0.414,
           0.515,
           0.53,
           0.466,
           0.398,
           0.34,
           0.612,
           0.286,
           0.727
          ],
          "sizemode": "area",
          "sizeref": 0.0025,
          "symbol": "circle"
         },
         "mode": "markers",
         "name": "PHX",
         "orientation": "v",
         "showlegend": true,
         "type": "scatter",
         "x": [
          3.7,
          13.9,
          6.6,
          19.4,
          3.4,
          9.4,
          8.9,
          2.5,
          2.4,
          3.6,
          8.5,
          19.1,
          2.9,
          6.9,
          2.5,
          3.6,
          4.1,
          1.6
         ],
         "xaxis": "x",
         "y": [
          2.3,
          6.9,
          2.7,
          9.5,
          2.1,
          4.3,
          4.5,
          1,
          0.7,
          1.5,
          4.4,
          10.1,
          1.4,
          2.7,
          0.9,
          2.2,
          1.2,
          1.1
         ],
         "yaxis": "y"
        },
        {
         "customdata": [
          [
           "Brandon Clarke"
          ],
          [
           "DeJon Jarreau"
          ],
          [
           "Derrick Rose"
          ],
          [
           "Desmond Bane"
          ],
          [
           "GG Jackson"
          ],
          [
           "Ja Morant"
          ],
          [
           "Jake LaRavia"
          ],
          [
           "Jaren Jackson Jr."
          ],
          [
           "Jaylen Nowell"
          ],
          [
           "John Konchar"
          ],
          [
           "Jordan Goodwin"
          ],
          [
           "Lamar Stevens"
          ],
          [
           "Luke Kennard"
          ],
          [
           "Maozinha Pereira"
          ],
          [
           "Marcus Smart"
          ],
          [
           "Matt Hurt"
          ],
          [
           "Santi Aldama"
          ],
          [
           "Scotty Pippen Jr."
          ],
          [
           "Shaquille Harrison"
          ],
          [
           "Trey Jemison"
          ],
          [
           "Vince Williams Jr."
          ],
          [
           "Wenyen Gabriel"
          ],
          [
           "Yuta Watanabe"
          ],
          [
           "Zavier Simpson"
          ],
          [
           "Ziaire Williams"
          ]
         ],
         "hovertemplate": "Team=MEM<br>Field Goal Attempts=%{x}<br>Field Goals Made=%{y}<br>Field Goal Percentage=%{marker.size}<br>Player=%{customdata[0]}<extra></extra>",
         "legendgroup": "MEM",
         "marker": {
          "color": "#FFA15A",
          "size": [
           0.563,
           0.34,
           0.461,
           0.464,
           0.429,
           0.471,
           0.367,
           0.44,
           0.4,
           0.423,
           0.371,
           0.466,
           0.448,
           0.438,
           0.43,
           0.353,
           0.435,
           0.49,
           0.5,
           0.59,
           0.446,
           0.364,
           0.353,
           0,
           0.397
          ],
          "sizemode": "area",
          "sizeref": 0.0025,
          "symbol": "circle"
         },
         "mode": "markers",
         "name": "MEM",
         "orientation": "v",
         "showlegend": true,
         "type": "scatter",
         "x": [
          8,
          5.6,
          6.9,
          18.5,
          10.4,
          18.9,
          7.6,
          17.4,
          6.1,
          3.8,
          5.8,
          5.7,
          8,
          3.2,
          11.9,
          4.3,
          9.4,
          8,
          0.7,
          4.6,
          7.3,
          4.4,
          3.4,
          1,
          7.4
         ],
         "xaxis": "x",
         "y": [
          4.5,
          1.9,
          3.2,
          8.6,
          4.5,
          8.9,
          2.8,
          7.6,
          2.4,
          1.6,
          2.2,
          2.6,
          3.6,
          1.4,
          5.1,
          1.5,
          4.1,
          3.9,
          0.3,
          2.7,
          3.3,
          1.6,
          1.2,
          0,
          2.9
         ],
         "yaxis": "y"
        },
        {
         "customdata": [
          [
           "Brandon Ingram"
          ],
          [
           "CJ McCollum"
          ],
          [
           "Cody Zeller"
          ],
          [
           "Dereon Seabron"
          ],
          [
           "Dyson Daniels"
          ],
          [
           "E.J. Liddell"
          ],
          [
           "Herbert Jones"
          ],
          [
           "Izaiah Brockington"
          ],
          [
           "Jalen Crutcher"
          ],
          [
           "Jeremiah Robinson-Earl"
          ],
          [
           "Jonas Valanciunas"
          ],
          [
           "Jordan Hawkins"
          ],
          [
           "Jose Alvarado"
          ],
          [
           "Kaiser Gates"
          ],
          [
           "Larry Nance Jr."
          ],
          [
           "Matt Ryan"
          ],
          [
           "Naji Marshall"
          ],
          [
           "Trey Murphy III"
          ],
          [
           "Zion Williamson"
          ]
         ],
         "hovertemplate": "Team=NOP<br>Field Goal Attempts=%{x}<br>Field Goals Made=%{y}<br>Field Goal Percentage=%{marker.size}<br>Player=%{customdata[0]}<extra></extra>",
         "legendgroup": "NOP",
         "marker": {
          "color": "#19d3f3",
          "size": [
           0.49,
           0.455,
           0.417,
           0.308,
           0.436,
           0.167,
           0.505,
           0.4,
           0,
           0.488,
           0.559,
           0.383,
           0.408,
           0,
           0.589,
           0.438,
           0.461,
           0.432,
           0.585
          ],
          "sizemode": "area",
          "sizeref": 0.0025,
          "symbol": "circle"
         },
         "mode": "markers",
         "name": "NOP",
         "orientation": "v",
         "showlegend": true,
         "type": "scatter",
         "x": [
          16,
          15.3,
          1.5,
          2.2,
          4.9,
          0.8,
          7.8,
          5,
          1,
          2.6,
          8.9,
          7.1,
          6.1,
          4,
          3.8,
          4.7,
          5.7,
          10.7,
          15.2
         ],
         "xaxis": "x",
         "y": [
          7.8,
          6.9,
          0.6,
          0.7,
          2.1,
          0.1,
          3.9,
          2,
          0,
          1.3,
          5,
          2.7,
          2.5,
          0,
          2.2,
          2,
          2.6,
          4.6,
          8.9
         ],
         "yaxis": "y"
        },
        {
         "customdata": [
          [
           "Brice Sensabaugh"
          ],
          [
           "Collin Sexton"
          ],
          [
           "Darius Bazley"
          ],
          [
           "Jason Preston"
          ],
          [
           "John Collins"
          ],
          [
           "Johnny Juzang"
          ],
          [
           "Jordan Clarkson"
          ],
          [
           "Kenneth Lofton Jr."
          ],
          [
           "Keyonte George"
          ],
          [
           "Kira Lewis Jr."
          ],
          [
           "Kris Dunn"
          ],
          [
           "Lauri Markkanen"
          ],
          [
           "Luka Samanic"
          ],
          [
           "Micah Potter"
          ],
          [
           "Omer Yurtseven"
          ],
          [
           "Talen Horton-Tucker"
          ],
          [
           "Taylor Hendricks"
          ],
          [
           "Walker Kessler"
          ]
         ],
         "hovertemplate": "Team=UTA<br>Field Goal Attempts=%{x}<br>Field Goals Made=%{y}<br>Field Goal Percentage=%{marker.size}<br>Player=%{customdata[0]}<extra></extra>",
         "legendgroup": "UTA",
         "marker": {
          "color": "#FF6692",
          "size": [
           0.376,
           0.494,
           0,
           0.333,
           0.532,
           0.424,
           0.413,
           0.349,
           0.389,
           0.347,
           0.469,
           0.48,
           0.368,
           0.571,
           0.542,
           0.389,
           0.433,
           0.651
          ],
          "sizemode": "area",
          "sizeref": 0.0025,
          "symbol": "circle"
         },
         "mode": "markers",
         "name": "UTA",
         "orientation": "v",
         "showlegend": true,
         "type": "scatter",
         "x": [
          6,
          13.3,
          0.3,
          1.5,
          11,
          4.7,
          14.8,
          2.5,
          10.7,
          2.9,
          4.8,
          16.2,
          2.6,
          1.8,
          2.9,
          8.6,
          5.9,
          5.5
         ],
         "xaxis": "x",
         "y": [
          2.2,
          6.6,
          0,
          0.5,
          5.8,
          2,
          6.1,
          0.9,
          4.2,
          1,
          2.2,
          7.8,
          1,
          1,
          1.6,
          3.3,
          2.5,
          3.6
         ],
         "yaxis": "y"
        },
        {
         "customdata": [
          [
           "Bruce Brown"
          ],
          [
           "Chris Boucher"
          ],
          [
           "D.J. Carton"
          ],
          [
           "Garrett Temple"
          ],
          [
           "Gary Trent Jr."
          ],
          [
           "Gradey Dick"
          ],
          [
           "Immanuel Quickley"
          ],
          [
           "Jahmi'us Ramsey"
          ],
          [
           "Jakob Poeltl"
          ],
          [
           "Jalen McDaniels"
          ],
          [
           "Javon Freeman-Liberty"
          ],
          [
           "Jontay Porter"
          ],
          [
           "Jordan Nwora"
          ],
          [
           "Kelly Olynyk"
          ],
          [
           "Kobi Simmons"
          ],
          [
           "Markquis Nowell"
          ],
          [
           "Mouhamadou Gueye"
          ],
          [
           "Ochai Agbaji"
          ],
          [
           "Otto Porter Jr."
          ],
          [
           "RJ Barrett"
          ],
          [
           "Ron Harper Jr."
          ],
          [
           "Scottie Barnes"
          ]
         ],
         "hovertemplate": "Team=TOR<br>Field Goal Attempts=%{x}<br>Field Goals Made=%{y}<br>Field Goal Percentage=%{marker.size}<br>Player=%{customdata[0]}<extra></extra>",
         "legendgroup": "TOR",
         "marker": {
          "color": "#B6E880",
          "size": [
           0.471,
           0.507,
           0.375,
           0.462,
           0.426,
           0.422,
           0.432,
           0.439,
           0.656,
           0.353,
           0.423,
           0.385,
           0.457,
           0.549,
           0.389,
           0,
           0.3,
           0.414,
           0.424,
           0.488,
           0,
           0.475
          ],
          "sizemode": "area",
          "sizeref": 0.0025,
          "symbol": "circle"
         },
         "mode": "markers",
         "name": "TOR",
         "orientation": "v",
         "showlegend": true,
         "type": "scatter",
         "x": [
          8.8,
          4.3,
          2,
          1.9,
          11.6,
          6.8,
          13,
          5.9,
          7.6,
          3.5,
          5.1,
          4,
          5.6,
          6.2,
          6,
          1,
          2.5,
          5.5,
          2.2,
          14.9,
          0,
          15.7
         ],
         "xaxis": "x",
         "y": [
          4.1,
          2.2,
          0.8,
          0.9,
          4.9,
          2.8,
          5.6,
          2.6,
          5,
          1.2,
          2.1,
          1.5,
          2.6,
          3.4,
          2.3,
          0,
          0.8,
          2.3,
          0.9,
          7.3,
          0,
          7.5
         ],
         "yaxis": "y"
        },
        {
         "customdata": [
          [
           "Buddy Hield"
          ],
          [
           "Cameron Payne"
          ],
          [
           "D.J. Wilson"
          ],
          [
           "Danny Green"
          ],
          [
           "Danuel House Jr."
          ],
          [
           "De'Anthony Melton"
          ],
          [
           "Furkan Korkmaz"
          ],
          [
           "Javonte Smart"
          ],
          [
           "Jeff Dowtin Jr."
          ],
          [
           "Joel Embiid"
          ],
          [
           "KJ Martin"
          ],
          [
           "Kelly Oubre Jr."
          ],
          [
           "Kyle Lowry"
          ],
          [
           "Mo Bamba"
          ],
          [
           "Nicolas Batum"
          ],
          [
           "Paul Reed"
          ],
          [
           "Ricky Council IV"
          ],
          [
           "Robert Covington"
          ],
          [
           "Terquavion Smith"
          ],
          [
           "Tobias Harris"
          ],
          [
           "Tyrese Maxey"
          ]
         ],
         "hovertemplate": "Team=PHI<br>Field Goal Attempts=%{x}<br>Field Goals Made=%{y}<br>Field Goal Percentage=%{marker.size}<br>Player=%{customdata[0]}<extra></extra>",
         "legendgroup": "PHI",
         "marker": {
          "color": "#FF97FF",
          "size": [
           0.443,
           0.44,
           0.667,
           0,
           0.448,
           0.391,
           0.395,
           0,
           0.55,
           0.533,
           0.528,
           0.437,
           0.428,
           0.5,
           0.471,
           0.531,
           0.48,
           0.439,
           0.4,
           0.488,
           0.445
          ],
          "sizemode": "area",
          "sizeref": 0.0025,
          "symbol": "circle"
         },
         "mode": "markers",
         "name": "PHI",
         "orientation": "v",
         "showlegend": true,
         "type": "scatter",
         "x": [
          10.2,
          6.2,
          3,
          1,
          3.1,
          9.7,
          2.2,
          0,
          2.9,
          22.2,
          2.9,
          12.7,
          6.5,
          3.5,
          4.2,
          5.8,
          3.6,
          3.4,
          3.3,
          13.6,
          20.1
         ],
         "xaxis": "x",
         "y": [
          4.5,
          2.7,
          2,
          0,
          1.4,
          3.8,
          0.9,
          0,
          1.6,
          11.8,
          1.5,
          5.6,
          2.8,
          1.8,
          2,
          3.1,
          1.7,
          1.5,
          1.3,
          6.7,
          9
         ],
         "yaxis": "y"
        },
        {
         "customdata": [
          [
           "Caris LeVert"
          ],
          [
           "Craig Porter Jr."
          ],
          [
           "Damian Jones"
          ],
          [
           "Darius Garland"
          ],
          [
           "Dean Wade"
          ],
          [
           "Donovan Mitchell"
          ],
          [
           "Emoni Bates"
          ],
          [
           "Evan Mobley"
          ],
          [
           "Georges Niang"
          ],
          [
           "Isaac Okoro"
          ],
          [
           "Isaiah Mobley"
          ],
          [
           "Jarrett Allen"
          ],
          [
           "Marcus Morris Sr."
          ],
          [
           "Max Strus"
          ],
          [
           "Pete Nance"
          ],
          [
           "Sam Merrill"
          ],
          [
           "Tristan Thompson"
          ],
          [
           "Ty Jerome"
          ]
         ],
         "hovertemplate": "Team=CLE<br>Field Goal Attempts=%{x}<br>Field Goals Made=%{y}<br>Field Goal Percentage=%{marker.size}<br>Player=%{customdata[0]}<extra></extra>",
         "legendgroup": "CLE",
         "marker": {
          "color": "#FECB52",
          "size": [
           0.409,
           0.509,
           0.6,
           0.447,
           0.414,
           0.463,
           0.324,
           0.588,
           0.453,
           0.486,
           0.385,
           0.63,
           0.439,
           0.42,
           0,
           0.408,
           0.636,
           0.5
          ],
          "sizemode": "area",
          "sizeref": 0.0025,
          "symbol": "circle"
         },
         "mode": "markers",
         "name": "CLE",
         "orientation": "v",
         "showlegend": true,
         "type": "scatter",
         "x": [
          12.1,
          4.7,
          1.9,
          14.6,
          4.3,
          19.9,
          2.8,
          11,
          7.8,
          7.1,
          2.2,
          10.5,
          5.6,
          10.6,
          0.5,
          6.5,
          2.4,
          2
         ],
         "xaxis": "x",
         "y": [
          4.9,
          2.4,
          1.1,
          6.5,
          1.8,
          9.2,
          0.9,
          6.5,
          3.5,
          3.4,
          0.8,
          6.6,
          2.5,
          4.4,
          0,
          2.7,
          1.6,
          1
         ],
         "yaxis": "y"
        }
       ],
       "layout": {
        "legend": {
         "itemsizing": "constant",
         "title": {
          "text": "Team"
         },
         "tracegroupgap": 0
        },
        "template": {
         "data": {
          "bar": [
           {
            "error_x": {
             "color": "#2a3f5f"
            },
            "error_y": {
             "color": "#2a3f5f"
            },
            "marker": {
             "line": {
              "color": "#E5ECF6",
              "width": 0.5
             },
             "pattern": {
              "fillmode": "overlay",
              "size": 10,
              "solidity": 0.2
             }
            },
            "type": "bar"
           }
          ],
          "barpolar": [
           {
            "marker": {
             "line": {
              "color": "#E5ECF6",
              "width": 0.5
             },
             "pattern": {
              "fillmode": "overlay",
              "size": 10,
              "solidity": 0.2
             }
            },
            "type": "barpolar"
           }
          ],
          "carpet": [
           {
            "aaxis": {
             "endlinecolor": "#2a3f5f",
             "gridcolor": "white",
             "linecolor": "white",
             "minorgridcolor": "white",
             "startlinecolor": "#2a3f5f"
            },
            "baxis": {
             "endlinecolor": "#2a3f5f",
             "gridcolor": "white",
             "linecolor": "white",
             "minorgridcolor": "white",
             "startlinecolor": "#2a3f5f"
            },
            "type": "carpet"
           }
          ],
          "choropleth": [
           {
            "colorbar": {
             "outlinewidth": 0,
             "ticks": ""
            },
            "type": "choropleth"
           }
          ],
          "contour": [
           {
            "colorbar": {
             "outlinewidth": 0,
             "ticks": ""
            },
            "colorscale": [
             [
              0,
              "#0d0887"
             ],
             [
              0.1111111111111111,
              "#46039f"
             ],
             [
              0.2222222222222222,
              "#7201a8"
             ],
             [
              0.3333333333333333,
              "#9c179e"
             ],
             [
              0.4444444444444444,
              "#bd3786"
             ],
             [
              0.5555555555555556,
              "#d8576b"
             ],
             [
              0.6666666666666666,
              "#ed7953"
             ],
             [
              0.7777777777777778,
              "#fb9f3a"
             ],
             [
              0.8888888888888888,
              "#fdca26"
             ],
             [
              1,
              "#f0f921"
             ]
            ],
            "type": "contour"
           }
          ],
          "contourcarpet": [
           {
            "colorbar": {
             "outlinewidth": 0,
             "ticks": ""
            },
            "type": "contourcarpet"
           }
          ],
          "heatmap": [
           {
            "colorbar": {
             "outlinewidth": 0,
             "ticks": ""
            },
            "colorscale": [
             [
              0,
              "#0d0887"
             ],
             [
              0.1111111111111111,
              "#46039f"
             ],
             [
              0.2222222222222222,
              "#7201a8"
             ],
             [
              0.3333333333333333,
              "#9c179e"
             ],
             [
              0.4444444444444444,
              "#bd3786"
             ],
             [
              0.5555555555555556,
              "#d8576b"
             ],
             [
              0.6666666666666666,
              "#ed7953"
             ],
             [
              0.7777777777777778,
              "#fb9f3a"
             ],
             [
              0.8888888888888888,
              "#fdca26"
             ],
             [
              1,
              "#f0f921"
             ]
            ],
            "type": "heatmap"
           }
          ],
          "heatmapgl": [
           {
            "colorbar": {
             "outlinewidth": 0,
             "ticks": ""
            },
            "colorscale": [
             [
              0,
              "#0d0887"
             ],
             [
              0.1111111111111111,
              "#46039f"
             ],
             [
              0.2222222222222222,
              "#7201a8"
             ],
             [
              0.3333333333333333,
              "#9c179e"
             ],
             [
              0.4444444444444444,
              "#bd3786"
             ],
             [
              0.5555555555555556,
              "#d8576b"
             ],
             [
              0.6666666666666666,
              "#ed7953"
             ],
             [
              0.7777777777777778,
              "#fb9f3a"
             ],
             [
              0.8888888888888888,
              "#fdca26"
             ],
             [
              1,
              "#f0f921"
             ]
            ],
            "type": "heatmapgl"
           }
          ],
          "histogram": [
           {
            "marker": {
             "pattern": {
              "fillmode": "overlay",
              "size": 10,
              "solidity": 0.2
             }
            },
            "type": "histogram"
           }
          ],
          "histogram2d": [
           {
            "colorbar": {
             "outlinewidth": 0,
             "ticks": ""
            },
            "colorscale": [
             [
              0,
              "#0d0887"
             ],
             [
              0.1111111111111111,
              "#46039f"
             ],
             [
              0.2222222222222222,
              "#7201a8"
             ],
             [
              0.3333333333333333,
              "#9c179e"
             ],
             [
              0.4444444444444444,
              "#bd3786"
             ],
             [
              0.5555555555555556,
              "#d8576b"
             ],
             [
              0.6666666666666666,
              "#ed7953"
             ],
             [
              0.7777777777777778,
              "#fb9f3a"
             ],
             [
              0.8888888888888888,
              "#fdca26"
             ],
             [
              1,
              "#f0f921"
             ]
            ],
            "type": "histogram2d"
           }
          ],
          "histogram2dcontour": [
           {
            "colorbar": {
             "outlinewidth": 0,
             "ticks": ""
            },
            "colorscale": [
             [
              0,
              "#0d0887"
             ],
             [
              0.1111111111111111,
              "#46039f"
             ],
             [
              0.2222222222222222,
              "#7201a8"
             ],
             [
              0.3333333333333333,
              "#9c179e"
             ],
             [
              0.4444444444444444,
              "#bd3786"
             ],
             [
              0.5555555555555556,
              "#d8576b"
             ],
             [
              0.6666666666666666,
              "#ed7953"
             ],
             [
              0.7777777777777778,
              "#fb9f3a"
             ],
             [
              0.8888888888888888,
              "#fdca26"
             ],
             [
              1,
              "#f0f921"
             ]
            ],
            "type": "histogram2dcontour"
           }
          ],
          "mesh3d": [
           {
            "colorbar": {
             "outlinewidth": 0,
             "ticks": ""
            },
            "type": "mesh3d"
           }
          ],
          "parcoords": [
           {
            "line": {
             "colorbar": {
              "outlinewidth": 0,
              "ticks": ""
             }
            },
            "type": "parcoords"
           }
          ],
          "pie": [
           {
            "automargin": true,
            "type": "pie"
           }
          ],
          "scatter": [
           {
            "fillpattern": {
             "fillmode": "overlay",
             "size": 10,
             "solidity": 0.2
            },
            "type": "scatter"
           }
          ],
          "scatter3d": [
           {
            "line": {
             "colorbar": {
              "outlinewidth": 0,
              "ticks": ""
             }
            },
            "marker": {
             "colorbar": {
              "outlinewidth": 0,
              "ticks": ""
             }
            },
            "type": "scatter3d"
           }
          ],
          "scattercarpet": [
           {
            "marker": {
             "colorbar": {
              "outlinewidth": 0,
              "ticks": ""
             }
            },
            "type": "scattercarpet"
           }
          ],
          "scattergeo": [
           {
            "marker": {
             "colorbar": {
              "outlinewidth": 0,
              "ticks": ""
             }
            },
            "type": "scattergeo"
           }
          ],
          "scattergl": [
           {
            "marker": {
             "colorbar": {
              "outlinewidth": 0,
              "ticks": ""
             }
            },
            "type": "scattergl"
           }
          ],
          "scattermapbox": [
           {
            "marker": {
             "colorbar": {
              "outlinewidth": 0,
              "ticks": ""
             }
            },
            "type": "scattermapbox"
           }
          ],
          "scatterpolar": [
           {
            "marker": {
             "colorbar": {
              "outlinewidth": 0,
              "ticks": ""
             }
            },
            "type": "scatterpolar"
           }
          ],
          "scatterpolargl": [
           {
            "marker": {
             "colorbar": {
              "outlinewidth": 0,
              "ticks": ""
             }
            },
            "type": "scatterpolargl"
           }
          ],
          "scatterternary": [
           {
            "marker": {
             "colorbar": {
              "outlinewidth": 0,
              "ticks": ""
             }
            },
            "type": "scatterternary"
           }
          ],
          "surface": [
           {
            "colorbar": {
             "outlinewidth": 0,
             "ticks": ""
            },
            "colorscale": [
             [
              0,
              "#0d0887"
             ],
             [
              0.1111111111111111,
              "#46039f"
             ],
             [
              0.2222222222222222,
              "#7201a8"
             ],
             [
              0.3333333333333333,
              "#9c179e"
             ],
             [
              0.4444444444444444,
              "#bd3786"
             ],
             [
              0.5555555555555556,
              "#d8576b"
             ],
             [
              0.6666666666666666,
              "#ed7953"
             ],
             [
              0.7777777777777778,
              "#fb9f3a"
             ],
             [
              0.8888888888888888,
              "#fdca26"
             ],
             [
              1,
              "#f0f921"
             ]
            ],
            "type": "surface"
           }
          ],
          "table": [
           {
            "cells": {
             "fill": {
              "color": "#EBF0F8"
             },
             "line": {
              "color": "white"
             }
            },
            "header": {
             "fill": {
              "color": "#C8D4E3"
             },
             "line": {
              "color": "white"
             }
            },
            "type": "table"
           }
          ]
         },
         "layout": {
          "annotationdefaults": {
           "arrowcolor": "#2a3f5f",
           "arrowhead": 0,
           "arrowwidth": 1
          },
          "autotypenumbers": "strict",
          "coloraxis": {
           "colorbar": {
            "outlinewidth": 0,
            "ticks": ""
           }
          },
          "colorscale": {
           "diverging": [
            [
             0,
             "#8e0152"
            ],
            [
             0.1,
             "#c51b7d"
            ],
            [
             0.2,
             "#de77ae"
            ],
            [
             0.3,
             "#f1b6da"
            ],
            [
             0.4,
             "#fde0ef"
            ],
            [
             0.5,
             "#f7f7f7"
            ],
            [
             0.6,
             "#e6f5d0"
            ],
            [
             0.7,
             "#b8e186"
            ],
            [
             0.8,
             "#7fbc41"
            ],
            [
             0.9,
             "#4d9221"
            ],
            [
             1,
             "#276419"
            ]
           ],
           "sequential": [
            [
             0,
             "#0d0887"
            ],
            [
             0.1111111111111111,
             "#46039f"
            ],
            [
             0.2222222222222222,
             "#7201a8"
            ],
            [
             0.3333333333333333,
             "#9c179e"
            ],
            [
             0.4444444444444444,
             "#bd3786"
            ],
            [
             0.5555555555555556,
             "#d8576b"
            ],
            [
             0.6666666666666666,
             "#ed7953"
            ],
            [
             0.7777777777777778,
             "#fb9f3a"
            ],
            [
             0.8888888888888888,
             "#fdca26"
            ],
            [
             1,
             "#f0f921"
            ]
           ],
           "sequentialminus": [
            [
             0,
             "#0d0887"
            ],
            [
             0.1111111111111111,
             "#46039f"
            ],
            [
             0.2222222222222222,
             "#7201a8"
            ],
            [
             0.3333333333333333,
             "#9c179e"
            ],
            [
             0.4444444444444444,
             "#bd3786"
            ],
            [
             0.5555555555555556,
             "#d8576b"
            ],
            [
             0.6666666666666666,
             "#ed7953"
            ],
            [
             0.7777777777777778,
             "#fb9f3a"
            ],
            [
             0.8888888888888888,
             "#fdca26"
            ],
            [
             1,
             "#f0f921"
            ]
           ]
          },
          "colorway": [
           "#636efa",
           "#EF553B",
           "#00cc96",
           "#ab63fa",
           "#FFA15A",
           "#19d3f3",
           "#FF6692",
           "#B6E880",
           "#FF97FF",
           "#FECB52"
          ],
          "font": {
           "color": "#2a3f5f"
          },
          "geo": {
           "bgcolor": "white",
           "lakecolor": "white",
           "landcolor": "#E5ECF6",
           "showlakes": true,
           "showland": true,
           "subunitcolor": "white"
          },
          "hoverlabel": {
           "align": "left"
          },
          "hovermode": "closest",
          "mapbox": {
           "style": "light"
          },
          "paper_bgcolor": "white",
          "plot_bgcolor": "#E5ECF6",
          "polar": {
           "angularaxis": {
            "gridcolor": "white",
            "linecolor": "white",
            "ticks": ""
           },
           "bgcolor": "#E5ECF6",
           "radialaxis": {
            "gridcolor": "white",
            "linecolor": "white",
            "ticks": ""
           }
          },
          "scene": {
           "xaxis": {
            "backgroundcolor": "#E5ECF6",
            "gridcolor": "white",
            "gridwidth": 2,
            "linecolor": "white",
            "showbackground": true,
            "ticks": "",
            "zerolinecolor": "white"
           },
           "yaxis": {
            "backgroundcolor": "#E5ECF6",
            "gridcolor": "white",
            "gridwidth": 2,
            "linecolor": "white",
            "showbackground": true,
            "ticks": "",
            "zerolinecolor": "white"
           },
           "zaxis": {
            "backgroundcolor": "#E5ECF6",
            "gridcolor": "white",
            "gridwidth": 2,
            "linecolor": "white",
            "showbackground": true,
            "ticks": "",
            "zerolinecolor": "white"
           }
          },
          "shapedefaults": {
           "line": {
            "color": "#2a3f5f"
           }
          },
          "ternary": {
           "aaxis": {
            "gridcolor": "white",
            "linecolor": "white",
            "ticks": ""
           },
           "baxis": {
            "gridcolor": "white",
            "linecolor": "white",
            "ticks": ""
           },
           "bgcolor": "#E5ECF6",
           "caxis": {
            "gridcolor": "white",
            "linecolor": "white",
            "ticks": ""
           }
          },
          "title": {
           "x": 0.05
          },
          "xaxis": {
           "automargin": true,
           "gridcolor": "white",
           "linecolor": "white",
           "ticks": "",
           "title": {
            "standoff": 15
           },
           "zerolinecolor": "white",
           "zerolinewidth": 2
          },
          "yaxis": {
           "automargin": true,
           "gridcolor": "white",
           "linecolor": "white",
           "ticks": "",
           "title": {
            "standoff": 15
           },
           "zerolinecolor": "white",
           "zerolinewidth": 2
          }
         }
        },
        "title": {
         "text": "Field Goals Made versus Field Goal Attempts"
        },
        "xaxis": {
         "anchor": "y",
         "domain": [
          0,
          1
         ],
         "title": {
          "text": "Field Goal Attempts"
         }
        },
        "yaxis": {
         "anchor": "x",
         "domain": [
          0,
          1
         ],
         "title": {
          "text": "Field Goals Made"
         }
        }
       }
      }
     },
     "metadata": {},
     "output_type": "display_data"
    }
   ],
   "source": [
    "labels = {'FGA':'Field Goal Attempts', 'FGM':'Field Goals Made', 'PLAYER_NAME':'Player', 'TEAM_ABBREVIATION':'Team', 'FG_PCT':'Field Goal Percentage'}\n",
    "title = 'Field Goals Made versus Field Goal Attempts'\n",
    "px.scatter(df, x='FGA', y='FGM', color='TEAM_ABBREVIATION', size='FG_PCT', hover_data=['PLAYER_NAME'], title=title, labels=labels)"
   ]
  },
  {
   "cell_type": "markdown",
   "metadata": {},
   "source": [
    "## Exercise\n",
    "\n",
    "Create a scatter plot using your `df` dataframe. Use the parameters `AGE` and `PTS` and add a trendline. Make sure to include an appropriate title and labels.\n",
    "\n",
    "Compare this trendline to the previous plot comparing `Field Goal Attempts` and `Field Goals Made`. Do these variables have a stronger correlation then the previous plots variables?"
   ]
  },
  {
   "cell_type": "code",
   "execution_count": null,
   "metadata": {},
   "outputs": [],
   "source": [
    "# Write your code in this cell.\n",
    "\n",
    "\n"
   ]
  },
  {
   "cell_type": "markdown",
   "metadata": {},
   "source": [
    "## Other Visualizations\n",
    "\n",
    "Plotly has functions to create many different types of visualizations, listed on the [Plotly Express](https://plotly.com/python/plotly-express/) page. Let's try a pie chart.\n",
    "\n",
    "Note: `.tail()` is the opposite of `.head()`, it will return the last 5 rows in our dataframe instead of the first 5."
   ]
  },
  {
   "cell_type": "code",
   "execution_count": null,
   "metadata": {},
   "outputs": [],
   "source": [
    "df"
   ]
  },
  {
   "cell_type": "code",
   "execution_count": null,
   "metadata": {},
   "outputs": [],
   "source": [
    "px.pie(df, values='PTS', names='TEAM_ABBREVIATION', title='Points Scored by each NBA Team', labels={'value': 'Points Scored', 'variable': 'Team'})"
   ]
  },
  {
   "cell_type": "markdown",
   "metadata": {},
   "source": [
    "In the [next notebook](03-mini-basketball-data.ipynb) we will use your own data using the mini-basketball or a regular basketball hoop to filter and visualize data."
   ]
  }
 ],
 "metadata": {
  "kernelspec": {
   "display_name": "Python 3",
   "language": "python",
   "name": "python3"
  },
  "language_info": {
   "codemirror_mode": {
    "name": "ipython",
    "version": 3
   },
   "file_extension": ".py",
   "mimetype": "text/x-python",
   "name": "python",
   "nbconvert_exporter": "python",
   "pygments_lexer": "ipython3",
   "version": "3.10.12"
  }
 },
 "nbformat": 4,
 "nbformat_minor": 2
}
