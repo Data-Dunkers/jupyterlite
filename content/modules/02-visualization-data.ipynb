{
 "cells": [
  {
   "cell_type": "markdown",
   "metadata": {},
   "source": [
    "![Data Dunkers Banner](https://github.com/PS43Foundation/data-dunkers/blob/main/docs/top-banner.jpg?raw=true)\n",
    "\n",
    "<a href=\"https://hub.callysto.ca/jupyter/hub/user-redirect/git-pull?repo=https%3A%2F%2Fgithub.com%2FData-Dunkers%2Fdata-dunkers-modules&branch=main&subPath=6-hour-module/02-visualization-data.ipynb&depth=1\" target=\"_parent\"><img src=\"https://raw.githubusercontent.com/callysto/curriculum-notebooks/master/open-in-callysto-button.svg?sanitize=true\" width=\"123\" height=\"24\" alt=\"Open in Callysto\"/></a>"
   ]
  },
  {
   "cell_type": "markdown",
   "metadata": {},
   "source": [
    "# Visualizing Data\n",
    "\n",
    "In this notebook, we'll visualize data using the [Plotly Express](https://plotly.com/python/plotly-express/) library, imported as `px`."
   ]
  },
  {
   "cell_type": "markdown",
   "metadata": {},
   "source": [
    "## Bar Graphs\n",
    "\n",
    "We will start with the same dataset from our last notebook and create a bar graph."
   ]
  },
  {
   "cell_type": "code",
   "execution_count": null,
   "metadata": {},
   "outputs": [],
   "source": [
    "import piplite\n",
    "await piplite.install(['pandas', 'plotly', 'nbformat'])\n",
    "\n",
    "import pandas as pd\n",
    "import plotly.express as px\n",
    "\n",
    "nba_df = pd.read_csv('data/player_stats_2023_24.csv')\n",
    "\n",
    "px.bar(nba_df, x='PLAYER_NAME', y='PTS')"
   ]
  },
  {
   "cell_type": "markdown",
   "metadata": {},
   "source": [
    "We can also adjust different parameters in our graph to make it visually more pleasing or correct. This can be in the form of adding accurate x and y label names and adding a title to our plot.\n",
    "\n",
    "We can also store the name of our plot in a variable. In this case, let's call the variable `bar_graph_nba`. We can use `.show()` to display our plot."
   ]
  },
  {
   "cell_type": "code",
   "execution_count": null,
   "metadata": {},
   "outputs": [],
   "source": [
    "# Adjusting x and y variable names\n",
    "bar_graph_nba = px.bar(nba_df, x='PLAYER_NAME', y='PTS', labels={\n",
    "                     \"PLAYER_NAME\": \"Player Name\",\n",
    "                     \"PTS\": \"Points Scored\"}, title=\"Points Scored by Player in the NBA 2023-24\")\n",
    "\n",
    "bar_graph_nba.show()"
   ]
  },
  {
   "cell_type": "markdown",
   "metadata": {},
   "source": [
    "If we prefer a horizontal bar graph we can use `orientation='h'` and switch the `x` and `y` columns.\n",
    "\n",
    "Note: We'll be using `nba_df.head()` to display the first 5 entries of our dataframe to make the plot appear visually better."
   ]
  },
  {
   "cell_type": "code",
   "execution_count": null,
   "metadata": {},
   "outputs": [],
   "source": [
    "px.bar(nba_df.head(), x='PTS', y='PLAYER_NAME', labels={\"PLAYER_NAME\": \"Player Name\",\"PTS\": \"Points Scored\"}, title=\"Points Scored by Player in the NBA 2023-24\", orientation='h')"
   ]
  },
  {
   "cell_type": "code",
   "execution_count": null,
   "metadata": {},
   "outputs": [],
   "source": [
    "nba_df.columns"
   ]
  },
  {
   "cell_type": "markdown",
   "metadata": {},
   "source": [
    "If we want to include multiple columns from our dataset, we can put them in a list using `[]` brackets."
   ]
  },
  {
   "cell_type": "code",
   "execution_count": null,
   "metadata": {},
   "outputs": [],
   "source": [
    "px.bar(nba_df, x='PLAYER_NAME', y=['PTS', 'REB'], labels={\"PLAYER_NAME\": \"Player Name\",\"value\": \"Points and Rebounds\"}, title=\"Points and Rebounds by Player in the NBA 2023-24\")"
   ]
  },
  {
   "cell_type": "markdown",
   "metadata": {},
   "source": [
    "By default, it will stack the bars, we can use `barmode='group'` to put them side by side.\n",
    "\n",
    "Note: We'll be using `nba_df.head(15)` to display the first 15 entries of our dataframe to make the plot appear visually better."
   ]
  },
  {
   "cell_type": "code",
   "execution_count": null,
   "metadata": {},
   "outputs": [],
   "source": [
    "px.bar(nba_df.head(15), x='PLAYER_NAME', y=['PTS', 'REB'], labels={\"PLAYER_NAME\": \"Player Name\",\"value\": \"Points and Rebounds\"}, title=\"Points and Rebounds by Player in the NBA 2023-24\", barmode='group')"
   ]
  },
  {
   "cell_type": "markdown",
   "metadata": {},
   "source": [
    "## Exercise\n",
    "\n",
    "---\n",
    "\n",
    "Create a bar-graph using your `nba_df` dataframe, displaying the name of the NBA player on the x-axis and the number of assists they have on the y-axis. Add an appropriate title and appropriate labels to your plot. Additionally, use a new parameter called `color` in your bar graph and set it the variable `TEAM_ABBREIVATION`."
   ]
  },
  {
   "cell_type": "code",
   "execution_count": null,
   "metadata": {},
   "outputs": [],
   "source": [
    "# Write your code in this cell.\n",
    "\n",
    "\n"
   ]
  },
  {
   "cell_type": "markdown",
   "metadata": {},
   "source": [
    "## Scatter Plots\n",
    "\n",
    "Another way to visualize your data is using a scatter plot."
   ]
  },
  {
   "cell_type": "code",
   "execution_count": null,
   "metadata": {},
   "outputs": [],
   "source": [
    "nba_df.columns"
   ]
  },
  {
   "cell_type": "code",
   "execution_count": null,
   "metadata": {},
   "outputs": [],
   "source": [
    "px.scatter(nba_df, x='FGA', y='FGM', title='Field Goal Attempts vs. Field Goal Made', labels={'FGA': 'Field Goal Attempts', 'FGM': 'Field Goal Made', 'PLAYER_NAME': 'Player'})"
   ]
  },
  {
   "cell_type": "markdown",
   "metadata": {},
   "source": [
    "Looking at the plot, we see the number of Field Goal Attempts made by a player and the number of Field Goals they actually made. To add more *context* to this plot, we can use the `hover_data` parameter."
   ]
  },
  {
   "cell_type": "code",
   "execution_count": null,
   "metadata": {},
   "outputs": [],
   "source": [
    "px.scatter(nba_df, x='FGA', y='FGM', title='Field Goal Attempts vs. Field Goal Made', labels={'FGA': 'Field Goal Attempts', 'FGM': 'Field Goal Made', 'PLAYER_NAME': 'Player'}, hover_data=['PLAYER_NAME'])"
   ]
  },
  {
   "cell_type": "markdown",
   "metadata": {},
   "source": [
    "Now we see the actual names of each NBA player in the plot, making the visualization more informative.\n",
    "\n",
    "We can also include a line of best fit, called a trendline. We often use the [ordinary least squares](https://en.wikipedia.org/wiki/Ordinary_least_squares) method of calculating the trendline. To add a trendline, use the parameter `trendline`."
   ]
  },
  {
   "cell_type": "code",
   "execution_count": null,
   "metadata": {},
   "outputs": [],
   "source": [
    "px.scatter(nba_df, x='FGA', y='FGM', title='Field Goal Attempts vs. Field Goal Made', labels={'FGA': 'Field Goal Attempts', 'FGM': 'Field Goal Made', 'PLAYER_NAME': 'Player'}, hover_data=['PLAYER_NAME'], trendline='ols')"
   ]
  },
  {
   "cell_type": "markdown",
   "metadata": {},
   "source": [
    "We can also add more parameters such as `color` and `size` to visualize other columns from our dataframe."
   ]
  },
  {
   "cell_type": "code",
   "execution_count": null,
   "metadata": {},
   "outputs": [],
   "source": [
    "px.scatter(nba_df, x='FGA', y='FGM', color='TEAM_ABBREVIATION', size='FG_PCT', title='Field Goal Attempts vs. Field Goal Made', \n",
    "           labels={'FGA': 'Field Goal Attempts', 'FGM': 'Field Goal Made', 'PLAYER_NAME': 'Player', 'TEAM_ABBREVIATION': 'Team', 'FG_PCT': 'Field Goal Percentage'}, hover_data=['PLAYER_NAME'])"
   ]
  },
  {
   "cell_type": "code",
   "execution_count": null,
   "metadata": {},
   "outputs": [],
   "source": [
    "nba_df"
   ]
  },
  {
   "cell_type": "markdown",
   "metadata": {},
   "source": [
    "## Exercise\n",
    "\n",
    "---\n",
    "\n",
    "Create a scatter plot using your `nba_df` dataframe. Use the parameters `AGE` and `PTS` and add a trendline. Make sure to include an appropriate title and labels.\n",
    "\n",
    "Compare this trendline to the previous plot comparing `Field Goal Attempts` and `Field Goals Made`. Do these variables have a stronger correlation then the previous plots variables?"
   ]
  },
  {
   "cell_type": "code",
   "execution_count": null,
   "metadata": {},
   "outputs": [],
   "source": [
    "# Write your code in this cell.\n",
    "\n",
    "\n"
   ]
  },
  {
   "cell_type": "markdown",
   "metadata": {},
   "source": [
    "## Other Visualizations\n",
    "\n",
    "Plotly has functions to create many different types of visualizations, listed on the [Plotly Express](https://plotly.com/python/plotly-express/) page. Let's try a pie chart.\n",
    "\n",
    "Note: `.tail()` is the opposite of `.head()`, where we get the last 5 rows in our dataframe instead of the first 5."
   ]
  },
  {
   "cell_type": "code",
   "execution_count": null,
   "metadata": {},
   "outputs": [],
   "source": [
    "nba_df"
   ]
  },
  {
   "cell_type": "code",
   "execution_count": null,
   "metadata": {},
   "outputs": [],
   "source": [
    "px.pie(nba_df, values='PTS', names='TEAM_ABBREVIATION', title='Points Scored by each NBA Team', labels={'value': 'Points Scored', 'variable': 'Team'})"
   ]
  },
  {
   "cell_type": "markdown",
   "metadata": {},
   "source": [
    "In the [next notebook](03-mini-basketball-data.ipynb) we will use your own data using the mini-basketball or a regular basketball hoop to filter and visualize data."
   ]
  }
 ],
 "metadata": {
  "kernelspec": {
   "display_name": "Python 3",
   "language": "python",
   "name": "python3"
  },
  "language_info": {
   "codemirror_mode": {
    "name": "ipython",
    "version": 3
   },
   "file_extension": ".py",
   "mimetype": "text/x-python",
   "name": "python",
   "nbconvert_exporter": "python",
   "pygments_lexer": "ipython3",
   "version": "3.10.8"
  }
 },
 "nbformat": 4,
 "nbformat_minor": 2
}
