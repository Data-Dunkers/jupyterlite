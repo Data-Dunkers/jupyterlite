{
 "cells": [
  {
   "cell_type": "markdown",
   "metadata": {},
   "source": [
    "![Data Dunkers Banner](https://github.com/PS43Foundation/data-dunkers/blob/main/docs/top-banner.jpg?raw=true)\n",
    "\n",
    "<a href=\"https://hub.callysto.ca/jupyter/hub/user-redirect/git-pull?repo=https%3A%2F%2Fgithub.com%2FData-Dunkers%2Fdata-dunkers-modules&branch=main&subPath=6-hour-module/01-getting-the-data.ipynb&depth=1\" target=\"_parent\"><img src=\"https://raw.githubusercontent.com/callysto/curriculum-notebooks/master/open-in-callysto-button.svg?sanitize=true\" width=\"123\" height=\"24\" alt=\"Open in Callysto\"/></a>"
   ]
  },
  {
   "cell_type": "markdown",
   "metadata": {},
   "source": [
    "# Introduction to Gathering Data\n",
    "\n",
    "This notebook is designed to introduce you to gathering and understanding the significance of data analysis and how data can be sourced from various formats.\n",
    "\n",
    "We will use [Python](https://www.python.org/) as our programming language in [Jupyter notebooks](https://jupyter.org/) since that is how data science is usually done in the real world. We also use Python because it has great [code libraries](https://www.geeksforgeeks.org/libraries-in-python/) for data science, such as [pandas](https://pandas.pydata.org/) and [Plotly](https://plotly.com/python/).\n",
    "\n",
    "To run code in a Jupyter notebook, click on a code cell such as the one below then click the `▶Run` button at the top of the window near the stop `(◼)` button."
   ]
  },
  {
   "cell_type": "markdown",
   "metadata": {},
   "source": [
    "## Importing Data"
   ]
  },
  {
   "cell_type": "markdown",
   "metadata": {},
   "source": [
    "We will be using the pandas library to work with datasets in a format similar to spreadsheets or tables. \n",
    "\n",
    "`▶Run` the code cell below to import the `pandas` library using the short form `pd`. Our starter dataset was obtained using the `nba_api`, and it contains basic information on NBA players regarding their stats such as points, assists, and rebounds.  "
   ]
  },
  {
   "cell_type": "code",
   "execution_count": null,
   "metadata": {},
   "outputs": [],
   "source": [
    "# piplite is a library that makes it possible to utilize Python libraries in JupyterLite\n",
    "import piplite\n",
    "await piplite.install(['pandas'])\n",
    "\n",
    "# we import pandas as pd, which means we reference pd in our code instead of pandas for convenience\n",
    "import pandas as pd \n",
    "\n",
    "# we read in the data\n",
    "nba_df = pd.read_csv(\"data/player_stats_2023_24.csv\")\n",
    "nba_df"
   ]
  },
  {
   "cell_type": "markdown",
   "metadata": {},
   "source": [
    "Note: Since our `player_stats_2023_24.csv` dataset is in the `data` folder, we have to ensure that we first navigate to the `data` folder in our file path to access our CSV file successfully."
   ]
  },
  {
   "cell_type": "markdown",
   "metadata": {},
   "source": [
    "## Importing Data - Excel Format"
   ]
  },
  {
   "cell_type": "markdown",
   "metadata": {},
   "source": [
    "Similarly, we can import data from **Excel**, generally in a `.xlsx` format in Pandas."
   ]
  },
  {
   "cell_type": "code",
   "execution_count": null,
   "metadata": {},
   "outputs": [],
   "source": [
    "# reading Excel data, we use pd.read_excel\n",
    "nba_df_excel = pd.read_excel(\"data/player_stats_2023_24.xlsx\")\n",
    "\n",
    "# we can also display a dataset using display()\n",
    "display(nba_df_excel)"
   ]
  },
  {
   "cell_type": "markdown",
   "metadata": {},
   "source": [
    "There are quite a few columns in that data table. Let's list just the columns."
   ]
  },
  {
   "cell_type": "code",
   "execution_count": null,
   "metadata": {},
   "outputs": [],
   "source": [
    "nba_df.columns"
   ]
  },
  {
   "cell_type": "markdown",
   "metadata": {},
   "source": [
    "Wow! In our dataframe, we have different columns that contain different data, such as `PLAYER_NAME`, `TEAM_ABBREVIATION`, `AGE`, and various statistics like `PTS`, `REB`, `AST`, etc.\n",
    "\n",
    "In data science, it is considered good practice to remove columns that you do not plan to use in order to streamline our data analysis process. This process, is known as **data-cleaning**, and it allows us to focus only on the relevant information, making our analysis more efficient and meaningful."
   ]
  },
  {
   "cell_type": "markdown",
   "metadata": {},
   "source": [
    "In our case, let's narrow our focus to a few columns."
   ]
  },
  {
   "cell_type": "code",
   "execution_count": null,
   "metadata": {},
   "outputs": [],
   "source": [
    "columns_to_remove = [\n",
    "    'NBA_FANTASY_PTS', 'DD2', 'TD3', 'WNBA_FANTASY_PTS', 'GP_RANK',\n",
    "    'W_RANK', 'L_RANK', 'W_PCT_RANK', 'MIN_RANK', 'FGM_RANK', 'FGA_RANK',\n",
    "    'FG_PCT_RANK', 'FG3M_RANK', 'FG3A_RANK', 'FG3_PCT_RANK', 'FTM_RANK',\n",
    "    'FTA_RANK', 'FT_PCT_RANK', 'OREB_RANK', 'DREB_RANK', 'REB_RANK',\n",
    "    'AST_RANK', 'TOV_RANK', 'STL_RANK', 'BLK_RANK', 'BLKA_RANK', 'PF_RANK',\n",
    "    'PFD_RANK', 'PTS_RANK', 'PLUS_MINUS_RANK', 'NBA_FANTASY_PTS_RANK',\n",
    "    'DD2_RANK', 'TD3_RANK', 'WNBA_FANTASY_PTS_RANK'\n",
    "]\n",
    "\n",
    "# note, we use .drop() to remove the columns and pass in the columns we want to remove\n",
    "nba_df = nba_df.drop(columns=columns_to_remove)\n",
    "print(\"Removed Columns!\")"
   ]
  },
  {
   "cell_type": "markdown",
   "metadata": {},
   "source": [
    "Let's view our dataframe after it's been cleaned. We can use `.head()` to view only the first 5 rows in our dataframe."
   ]
  },
  {
   "cell_type": "code",
   "execution_count": null,
   "metadata": {},
   "outputs": [],
   "source": [
    "nba_df.head()"
   ]
  },
  {
   "cell_type": "markdown",
   "metadata": {},
   "source": [
    "Nice! In case you are not familiar with what each of these columns represent in the game of basketball, there is a table below that explains each column:"
   ]
  },
  {
   "cell_type": "markdown",
   "metadata": {},
   "source": [
    "| Column Name        | Description                                              |\n",
    "|--------------------|----------------------------------------------------------|\n",
    "| PLAYER_ID          | Unique ID for a player                        |\n",
    "| PLAYER_NAME        | Player's full name                                       |\n",
    "| NICKNAME           | Player's nickname (if applicable)                        |\n",
    "| TEAM_ID            | Unique ID for the player's team                  |\n",
    "| TEAM_ABBREVIATION  | Abbreviation of the player's team                        |\n",
    "| AGE                | Player's age                                             |\n",
    "| GP                 | Games played                                             |\n",
    "| W                  | Wins                                                     |\n",
    "| L                  | Losses                                                   |\n",
    "| W_PCT              | Winning percentage                                       |\n",
    "| MIN                | Minutes played                                           |\n",
    "| FGM                | Field goals made                                         |\n",
    "| FGA                | Field goals attempted                                    |\n",
    "| FG_PCT             | Field goal percentage                                    |\n",
    "| FG3M               | Three-point field goals made                             |\n",
    "| FG3A               | Three-point field goals attempted                        |\n",
    "| FG3_PCT            | Three-point field goal percentage                        |\n",
    "| FTM                | Free throws made                                         |\n",
    "| FTA                | Free throws attempted                                    |\n",
    "| FT_PCT             | Free throw percentage                                    |\n",
    "| OREB               | Offensive rebounds                                       |\n",
    "| DREB               | Defensive rebounds                                       |\n",
    "| REB                | Total rebounds                                           |\n",
    "| AST                | Assists                                                  |\n",
    "| TOV                | Turnovers                                                |\n",
    "| STL                | Steals                                                   |\n",
    "| BLK                | Blocks                                                   |\n",
    "| BLKA               | Blocked attempts against                                  |\n",
    "| PF                 | Personal fouls                                           |\n",
    "| PFD                | Personal fouls drawn                                     |\n",
    "| PTS                | Points scored                                            |\n",
    "| PLUS_MINUS         | Plus/minus rating (player's team points scored vs. opponent's team points scored while player is on the court) |"
   ]
  },
  {
   "cell_type": "markdown",
   "metadata": {},
   "source": [
    "## Selecting Data"
   ]
  },
  {
   "cell_type": "markdown",
   "metadata": {},
   "source": [
    "We can select and display just one column."
   ]
  },
  {
   "cell_type": "code",
   "execution_count": null,
   "metadata": {},
   "outputs": [],
   "source": [
    "nba_df[['PLAYER_NAME']]"
   ]
  },
  {
   "cell_type": "markdown",
   "metadata": {},
   "source": [
    "Or multiple columns."
   ]
  },
  {
   "cell_type": "code",
   "execution_count": null,
   "metadata": {},
   "outputs": [],
   "source": [
    "nba_df[['PLAYER_NAME', 'TEAM_ABBREVIATION']]"
   ]
  },
  {
   "cell_type": "markdown",
   "metadata": {},
   "source": [
    "## Exercise\n",
    "\n",
    "---\n",
    "\n",
    "In the cell below, display the columns for *Steals*, *Plus-Minus*, and *Offensive Rebounds*."
   ]
  },
  {
   "cell_type": "code",
   "execution_count": null,
   "metadata": {},
   "outputs": [],
   "source": [
    "# Write your code in this cell.\n",
    "\n",
    "\n"
   ]
  },
  {
   "cell_type": "markdown",
   "metadata": {},
   "source": [
    "## Filtering Data\n",
    "\n",
    "We can filter the data to only display conditional rows. For example, we can filter for players who are averaging more than *20* points per games in the 2023-2024 season."
   ]
  },
  {
   "cell_type": "code",
   "execution_count": null,
   "metadata": {},
   "outputs": [],
   "source": [
    "# reset_index() will reset the index to 0, 1, 2, 3, etc so that our dataframe starts indexing from 0 again\n",
    "nba_df[nba_df['PTS'] > 20].reset_index(drop=True)"
   ]
  },
  {
   "cell_type": "markdown",
   "metadata": {},
   "source": [
    "Looking at the output of our data, it looks like we have **49** players in the 2023-2024 season who are averaging more than *20* points per game.\n",
    "\n",
    "Note: In Python, we start indexing at `0` not `1`. This is why we have 49 total players despite the last index being at 48. "
   ]
  },
  {
   "cell_type": "markdown",
   "metadata": {},
   "source": [
    "We can also find players who played for a particular organization. "
   ]
  },
  {
   "cell_type": "code",
   "execution_count": null,
   "metadata": {},
   "outputs": [],
   "source": [
    "nba_df[nba_df['TEAM_ABBREVIATION'] == 'LAL'].reset_index(drop=True)"
   ]
  },
  {
   "cell_type": "markdown",
   "metadata": {},
   "source": [
    "We can also combine multiple conditions."
   ]
  },
  {
   "cell_type": "code",
   "execution_count": null,
   "metadata": {},
   "outputs": [],
   "source": [
    "nba_df[(nba_df['REB'] > 10) & (nba_df['PTS'] < 25)].reset_index(drop=True)"
   ]
  },
  {
   "cell_type": "markdown",
   "metadata": {},
   "source": [
    "These are the symbols we use for comparison operations in Python:"
   ]
  },
  {
   "cell_type": "markdown",
   "metadata": {},
   "source": [
    "| Symbol | Meaning                   |\n",
    "|--------|---------------------------|\n",
    "| >      | greater than              |\n",
    "| <      | less than                 |\n",
    "| ==     | is equal to               |\n",
    "| !=     | not equal to              |\n",
    "| >=     | greater than or equal to |\n",
    "| <=     | less than or equal to    |\n",
    "| &      | and                       |\n",
    "| \\|     | or                        |\n"
   ]
  },
  {
   "cell_type": "markdown",
   "metadata": {},
   "source": [
    "## Exercise\n",
    "\n",
    "---\n",
    "\n",
    "In the cell below, display the rows about player(s) who play for the **Phoenix Suns** organization (if you do not know the Phoenix Suns abbreviation, search it up!) and is averaging greater than or equal to 16.5 points and less than 7 rebounds per game. "
   ]
  },
  {
   "cell_type": "code",
   "execution_count": null,
   "metadata": {},
   "outputs": [],
   "source": [
    "# Write your code in this cell.\n",
    "\n",
    "\n"
   ]
  },
  {
   "cell_type": "markdown",
   "metadata": {},
   "source": [
    "## Sorting Data\n"
   ]
  },
  {
   "cell_type": "markdown",
   "metadata": {},
   "source": [
    "We can also sort the data by the values in a column."
   ]
  },
  {
   "cell_type": "code",
   "execution_count": null,
   "metadata": {},
   "outputs": [],
   "source": [
    "nba_df.sort_values('PTS')"
   ]
  },
  {
   "cell_type": "markdown",
   "metadata": {},
   "source": [
    "The default is to sort `ascending`, but we can instead sort in descending order.\n"
   ]
  },
  {
   "cell_type": "code",
   "execution_count": null,
   "metadata": {},
   "outputs": [],
   "source": [
    "nba_df.sort_values('PF', ascending=False)"
   ]
  },
  {
   "cell_type": "markdown",
   "metadata": {},
   "source": [
    "Or we can sort by two columns, for example first by Blocks Per Game and then by Steals Per Game. \n",
    "\n",
    "Note: the combination of Blocks and Steals per game is known as **Stocks** in the NBA!"
   ]
  },
  {
   "cell_type": "code",
   "execution_count": null,
   "metadata": {},
   "outputs": [],
   "source": [
    "nba_df.sort_values(['BLK', 'STL'])"
   ]
  },
  {
   "cell_type": "markdown",
   "metadata": {},
   "source": [
    "## Exercise\n",
    "\n",
    "---\n",
    "\n",
    "In the code cell below, find players who have played more than *50* games, and then sort their performance by **Wins** and **Points**."
   ]
  },
  {
   "cell_type": "code",
   "execution_count": null,
   "metadata": {},
   "outputs": [],
   "source": [
    "# Write your code in this cell.\n",
    "\n",
    "\n"
   ]
  },
  {
   "cell_type": "markdown",
   "metadata": {},
   "source": [
    "## Adding Columns"
   ]
  },
  {
   "cell_type": "markdown",
   "metadata": {},
   "source": [
    "We can also add new columns to our `nba_df` dataframe. Adding a column uses the following syntax:"
   ]
  },
  {
   "cell_type": "code",
   "execution_count": null,
   "metadata": {},
   "outputs": [],
   "source": [
    "values = 0\n",
    "\n",
    "nba_df['Column_Name'] = values\n",
    "nba_df"
   ]
  },
  {
   "cell_type": "markdown",
   "metadata": {},
   "source": [
    "where `Column_Name` is the name of the new column you want to add, and `values` is the values that you would like to assign to every row in the new column."
   ]
  },
  {
   "cell_type": "markdown",
   "metadata": {},
   "source": [
    "We can also delete columns easily using `del`."
   ]
  },
  {
   "cell_type": "code",
   "execution_count": null,
   "metadata": {},
   "outputs": [],
   "source": [
    "del nba_df['Column_Name']\n",
    "nba_df"
   ]
  },
  {
   "cell_type": "markdown",
   "metadata": {},
   "source": [
    "We can also try adding values using a `list`."
   ]
  },
  {
   "cell_type": "code",
   "execution_count": null,
   "metadata": {},
   "outputs": [],
   "source": [
    "new_column_values = [1, 2, 3, 4, 5]\n",
    "nba_df['New_Column_2'] = new_column_values"
   ]
  },
  {
   "cell_type": "markdown",
   "metadata": {},
   "source": [
    "Unfortunately, we get a `ValueError` when we run the cell above. \n",
    "\n",
    "```python\n",
    "ValueError: Length of values (5) does not match length of index (566)\n",
    "```\n",
    "\n",
    "It appears that this error is telling us that we can't add our list `new_column_values` which is of length **5** to our dataframe because we have 566 rows in our nba_df dataframe. If we wanted to add this column, our list would have to contain 566 values. "
   ]
  },
  {
   "cell_type": "markdown",
   "metadata": {},
   "source": [
    "## Exercise\n",
    "\n",
    "---\n",
    "\n",
    "In the code cell below, sort the dataframe by **Plus-Minus** in *descending* order, and find player's who are averaging more than 30 points per game. \n",
    "\n",
    "Afterwards, add a column called `My_Favorite_Player` as a list, where you identify one player as your \"favorite\" player (indicated with a **YES**), and label the other players with a **NO**."
   ]
  },
  {
   "cell_type": "code",
   "execution_count": null,
   "metadata": {},
   "outputs": [],
   "source": [
    "# Write your code in this cell.\n",
    "\n",
    "\n"
   ]
  },
  {
   "cell_type": "markdown",
   "metadata": {},
   "source": [
    "## Getting Data - Google Forms\n",
    "\n",
    "Throughout this series of notebook, you'll be mainly pulling in your data through the use of Google Forms. Specifically, you will be tasked with documenting data related to making shots on your mini-basketball hoop or regular basketball hoop."
   ]
  },
  {
   "cell_type": "markdown",
   "metadata": {},
   "source": [
    "To record your own data, create a **Google Form** via **Google Drive**.\n",
    "\n",
    "Once you have created your own Google Form, add two questions:\n",
    "\n",
    "1. Distance of Shot (metres)\n",
    "2. Shot Made?"
   ]
  },
  {
   "cell_type": "markdown",
   "metadata": {},
   "source": [
    "Using these metrics, take a few shots and then record whether you made the shot and how far you shot the basketball from the hoop.\n",
    "\n",
    "After recording some data, link an Excel sheet to your Google Form using the **View in Sheets** icon in the **Responses** tab. It should look like this:"
   ]
  },
  {
   "cell_type": "markdown",
   "metadata": {},
   "source": [
    "<p align=\"center\">\n",
    "  <img src=\"images/viewinsheets.png\" alt=\"View in Sheets\">\n",
    "</p>"
   ]
  },
  {
   "cell_type": "markdown",
   "metadata": {},
   "source": [
    "Open the spreadsheet and then download your `CSV` file. You can download your spreadsheet by going from `File` --> `Download` --> `.csv`.\n",
    "\n",
    "Afterwards, you can drag your `.csv` file to the left-hand bar in your JupyterLite environment and read it using pandas `.read_csv()` function. \n",
    "\n",
    "It is highly recommended to rename your `.csv` file to make reading your spreadsheet an easier task."
   ]
  },
  {
   "cell_type": "markdown",
   "metadata": {},
   "source": [
    "## Exercise\n",
    "\n",
    "---\n",
    "\n",
    "In the code cell below, read your dataframe using Pandas and name your dataframe **my_shot_data**. Display your dataframe using `display()`."
   ]
  },
  {
   "cell_type": "code",
   "execution_count": null,
   "metadata": {},
   "outputs": [],
   "source": [
    "# Write your code in this cell.\n",
    "\n",
    "\n"
   ]
  },
  {
   "cell_type": "markdown",
   "metadata": {},
   "source": [
    "In the [next notebook](02-visualization-data.ipynb), we will be visualizing data through **Plotly**."
   ]
  }
 ],
 "metadata": {
  "kernelspec": {
   "display_name": "Python 3",
   "language": "python",
   "name": "python3"
  },
  "language_info": {
   "codemirror_mode": {
    "name": "ipython",
    "version": 3
   },
   "file_extension": ".py",
   "mimetype": "text/x-python",
   "name": "python",
   "nbconvert_exporter": "python",
   "pygments_lexer": "ipython3",
   "version": "3.10.8"
  }
 },
 "nbformat": 4,
 "nbformat_minor": 2
}
