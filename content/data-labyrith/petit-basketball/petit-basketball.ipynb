{
 "cells": [
  {
   "cell_type": "markdown",
   "metadata": {},
   "source": [
    "![Data Dunkers Banner](https://github.com/Data-Dunkers/data-dunkers.github.io/blob/main/images/top-banner.jpg?raw=true)\n",
    "\n",
    "<a href=\"https://hub.callysto.ca/jupyter/hub/user-redirect/git-pull?repo=https%3A%2F%2Fgithub.com%2FData-Dunkers%2Fjupyterlite&branch=main&subPath=content/data-labyrith/petit-basketball/petit-basketball.ipynb&depth=1\" target=\"_parent\"><img src=\"./images/bouton-callysto.svg\" width=\"123\" height=\"24\" alt=\"Ouvrir dans Callysto\"/></a>"
   ]
  },
  {
   "cell_type": "markdown",
   "metadata": {},
   "source": [
    "# Petit labyrinthe de basketball\n",
    "\n",
    "Bienvenue a le petit labyrinthe de basketball des [Data Dunkers](https://datadunkers.ca). Ce labyrinthe utilise un cahier Jupyter et des données de la WNBA pour naviguer à travers les défis de la science des données.\n",
    "\n",
    "Vous recevrez un mot-clé pour initier ce labyrinthe. Saisissez votre mot-clé entre les '' dans la cellule de code ci-dessous (par exemple, clé = 'abc'), puis cliquez sur le bouton `▶` pour commencer."
   ]
  },
  {
   "cell_type": "code",
   "execution_count": null,
   "metadata": {},
   "outputs": [],
   "source": [
    "clé = ''\n",
    "\n",
    "import piplite, pyodide, pyodide_http\n",
    "await piplite.install(['nbformat','plotly','requests','statsmodels','pillow'])\n",
    "pyodide_http.patch_all()\n",
    "import requests\n",
    "import pandas as pd\n",
    "import plotly.express as px\n",
    "from IPython import get_ipython\n",
    "def vérifier(query):\n",
    "    try:\n",
    "        r = requests.get('https://script.google.com/macros/s/AKfycbzlKK-NaCbHgvsjZT7cyycEiRWEW1sjfmIERlKORKy7eoAMMvRyXFUOpP-lvgLpLCQA/exec?room=petit-basketball&lang=fr&query='+str(query))\n",
    "        response = r.json()\n",
    "        get_ipython().run_cell_magic('markdown', '', response['markdown'])\n",
    "        get_ipython().payload_manager.write_payload({'source':'set_next_input', 'text':response['code'], 'replace':False})\n",
    "    except:\n",
    "        print('Assurez-vous que vous avez introduit la clé correctement.')\n",
    "        get_ipython().payload_manager.write_payload({'source':'set_next_input', 'text':\"check('')\", 'replace':False})\n",
    "vérifier(clé)"
   ]
  }
 ],
 "metadata": {
  "kernelspec": {
   "display_name": "Python 3",
   "language": "python",
   "name": "python3"
  },
  "language_info": {
   "codemirror_mode": {
    "name": "ipython",
    "version": 3
   },
   "file_extension": ".py",
   "mimetype": "text/x-python",
   "name": "python",
   "nbconvert_exporter": "python",
   "pygments_lexer": "ipython3",
   "version": "3.13.1"
  },
  "orig_nbformat": 4
 },
 "nbformat": 4,
 "nbformat_minor": 2
}
